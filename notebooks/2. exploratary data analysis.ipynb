{
 "cells": [
  {
   "cell_type": "markdown",
   "metadata": {},
   "source": [
    "# Exploratary data analysis "
   ]
  },
  {
   "cell_type": "code",
   "execution_count": 1,
   "metadata": {},
   "outputs": [],
   "source": [
    "from pyspark.sql import functions as F\n",
    "from pyspark.sql import SparkSession\n",
    "from pyspark.sql.functions import *\n",
    "import matplotlib.pyplot as plt\n",
    "import pandas as pd\n",
    "import numpy as np\n",
    "import seaborn as sbs\n",
    "import geopandas as gpd\n",
    "import folium "
   ]
  },
  {
   "cell_type": "code",
   "execution_count": 2,
   "metadata": {},
   "outputs": [
    {
     "name": "stderr",
     "output_type": "stream",
     "text": [
      "24/08/28 12:37:42 WARN Utils: Your hostname, Hanshis-Laptop.local resolves to a loopback address: 127.0.0.1; using 100.94.176.147 instead (on interface en0)\n",
      "24/08/28 12:37:42 WARN Utils: Set SPARK_LOCAL_IP if you need to bind to another address\n",
      "Setting default log level to \"WARN\".\n",
      "To adjust logging level use sc.setLogLevel(newLevel). For SparkR, use setLogLevel(newLevel).\n",
      "24/08/28 12:37:42 WARN NativeCodeLoader: Unable to load native-hadoop library for your platform... using builtin-java classes where applicable\n",
      "24/08/28 12:37:42 WARN Utils: Service 'SparkUI' could not bind on port 4040. Attempting port 4041.\n"
     ]
    }
   ],
   "source": [
    "from pyspark.sql import SparkSession\n",
    "\n",
    "# Create a spark session with increased memory allocation\n",
    "spark = (\n",
    "    SparkSession.builder.appName(\"ADS Project1\")\n",
    "    .config(\"spark.sql.repl.eagerEval.enabled\", True) \n",
    "    .config(\"spark.sql.parquet.cacheMetadata\", \"true\")\n",
    "    .config(\"spark.sql.session.timeZone\", \"Etc/UTC\")\n",
    "    .config(\"spark.driver.memory\", \"8g\")  # Set the driver memory to 8GB\n",
    "    .config(\"spark.executor.memory\", \"8g\")  # Set the executor memory to 8GB\n",
    "    .getOrCreate()\n",
    ")"
   ]
  },
  {
   "cell_type": "code",
   "execution_count": 3,
   "metadata": {},
   "outputs": [],
   "source": [
    "spark.conf.set(\"spark.sql.parquet.compression.codec\",\"gzip\")"
   ]
  },
  {
   "cell_type": "code",
   "execution_count": 4,
   "metadata": {},
   "outputs": [],
   "source": [
    "# Load the data\n",
    "df = spark.read.parquet(\"../data/curated/tlc_data/first_cleaned.parquet/\")"
   ]
  },
  {
   "cell_type": "markdown",
   "metadata": {},
   "source": [
    "## Summary Statistics "
   ]
  },
  {
   "cell_type": "code",
   "execution_count": 5,
   "metadata": {},
   "outputs": [
    {
     "name": "stderr",
     "output_type": "stream",
     "text": [
      "24/08/28 12:37:55 WARN SparkStringUtils: Truncated the string representation of a plan since it was too large. This behavior can be adjusted by setting 'spark.sql.debug.maxToStringFields'.\n",
      "Java HotSpot(TM) 64-Bit Server VM warning: CodeCache is full. Compiler has been disabled.\n",
      "Java HotSpot(TM) 64-Bit Server VM warning: Try increasing the code cache size using -XX:ReservedCodeCacheSize=\n",
      "[Stage 1:=======>                                                   (1 + 7) / 8]\r"
     ]
    },
    {
     "name": "stdout",
     "output_type": "stream",
     "text": [
      "CodeCache: size=131072Kb used=29786Kb max_used=29858Kb free=101285Kb\n",
      " bounds [0x00000001069e8000, 0x0000000108758000, 0x000000010e9e8000]\n",
      " total_blobs=10823 nmethods=9850 adapters=884\n",
      " compilation: disabled (not enough contiguous free space left)\n"
     ]
    },
    {
     "name": "stderr",
     "output_type": "stream",
     "text": [
      "                                                                                \r"
     ]
    },
    {
     "name": "stdout",
     "output_type": "stream",
     "text": [
      "+-------+------------------+------------------+------------------+------------------+-------------------+------------------+-----------------+------------------+-------------+-------------+------------------+------------------+------------------+------------------+-----------------+------------------+---------------------+--------------------+------------------+---------+------------------+------------------+------------------+------------------+-----------------+------------------+------------------+------------------+\n",
      "|summary|      DOLocationID|      PULocationID|       pickup_hour|      dropoff_hour|           VendorID|   passenger_count|    trip_distance|        RatecodeID|    PUBorough|    DOBorough|      payment_type|       fare_amount|             extra|           mta_tax|       tip_amount|      tolls_amount|improvement_surcharge|congestion_surcharge|      total_amount|ehail_fee|     trip_duration|  Number of Events|               CIG|               WND|              VIS|               TMP|               DEW|               SLP|\n",
      "+-------+------------------+------------------+------------------+------------------+-------------------+------------------+-----------------+------------------+-------------+-------------+------------------+------------------+------------------+------------------+-----------------+------------------+---------------------+--------------------+------------------+---------+------------------+------------------+------------------+------------------+-----------------+------------------+------------------+------------------+\n",
      "|  count|          22554628|          22554628|          22554628|          22554628|           22554628|          22554628|         22554628|          22554628|     22478351|     22365315|          22554628|          22554628|          22554628|          22554628|         22554628|          22554628|             22554628|            22554628|          22554628| 22554628|          22554628|          22554628|          22554628|          22432879|         22554628|          22554628|          22554628|          22554628|\n",
      "|   mean|164.39788211093529|165.46274671433287|14.187142035771993|14.273081648697554| 1.7622945942624282|1.3608308680595398|3.475262399803617|2.1749110648156114|         NULL|         NULL|1.1788040574200558|19.705753135010717|1.5655102132475882|0.4966535315944913|3.678329016113437|0.6205309234065609|   0.9976090272914234|   2.324887435518777|28.983029432766767|      0.0|16.823080877237256|2.2938508229885235| 9910.962020211551|109.91656936118865|1632.760375392493|12.827676306679214|12.168501324917015|3270.6358703071783|\n",
      "| stddev| 69.40152066538698|63.333192587470265| 5.669529539914285| 5.766377054051869|0.42567775823339127|0.8400831033006445|4.452541060424213|10.389470733644568|         NULL|         NULL|0.4477800231109897|17.323215964098207| 1.833840121368862|0.0417280888236388|4.014610269254886|2.2762082466275593|  0.04856905657798353|  0.6380567598423156|22.198888347445045|      0.0|13.327911465182524| 5.049375440265857|11905.508551603545|  308.429909452196|5890.425517253865| 59.26604248258921|  99.6693561656547|3895.3664689574834|\n",
      "|    min|                 1|                 1|                 0|                 0|                  1|                 1|              0.5|                 1|        Bronx|        Bronx|                 1|               3.0|               0.0|               0.0|              0.0|               0.0|                  0.0|                 0.0|               3.0|      0.0|             -52.0|                 0|              61.0|               1.5|             40.2|              -8.3|             -19.4|             982.1|\n",
      "|    25%|               114|               132|                11|                11|                  2|                 1|              1.1|                 1|         NULL|         NULL|                 1|               9.3|               0.0|               0.5|             1.23|               0.0|                  1.0|                 2.5|             16.32|      0.0|               8.0|                 0|             396.0|               2.1|            965.6|               5.0|              -3.9|            1012.2|\n",
      "|    50%|               162|               162|                15|                15|                  2|                 1|              1.8|                 1|         NULL|         NULL|                 1|              13.5|               1.0|               0.5|             2.98|               0.0|                  1.0|                 2.5|              21.3|      0.0|              13.0|                 0|            1829.0|               3.1|           1609.3|               8.9|               3.3|            1019.0|\n",
      "|    75%|               234|               234|                19|                19|                  2|                 1|             3.35|                 1|         NULL|         NULL|                 1|              21.9|               2.5|               0.5|              4.5|               0.0|                  1.0|                 2.5|              30.7|      0.0|              21.0|                 2|           22000.0|               4.6|           1609.3|              13.9|               8.0|            9999.9|\n",
      "|    max|               265|               265|                23|                23|                  2|                 6|             50.0|                99|Staten Island|Staten Island|                 4|           2320.11|             51.68|             35.84|           999.99|           1702.88|                  1.0|                 2.5|           2372.79|      0.0|             120.0|                53|           99999.0|             999.9|          99999.9|             999.9|             999.9|            9999.9|\n",
      "+-------+------------------+------------------+------------------+------------------+-------------------+------------------+-----------------+------------------+-------------+-------------+------------------+------------------+------------------+------------------+-----------------+------------------+---------------------+--------------------+------------------+---------+------------------+------------------+------------------+------------------+-----------------+------------------+------------------+------------------+\n",
      "\n"
     ]
    }
   ],
   "source": [
    "# summary statistics\n",
    "df.summary().show()"
   ]
  },
  {
   "cell_type": "code",
   "execution_count": 12,
   "metadata": {},
   "outputs": [
    {
     "name": "stderr",
     "output_type": "stream",
     "text": [
      "                                                                                \r"
     ]
    },
    {
     "name": "stdout",
     "output_type": "stream",
     "text": [
      "Remaining rows after dropping missing values: 22218712 out of 22554628\n",
      "Percentage of rows remaining: 98.51%\n"
     ]
    }
   ],
   "source": [
    "# Drop rows with any missing values\n",
    "clean_df = df.dropna()\n",
    "\n",
    "# Check the number of remaining rows\n",
    "remaining_rows = clean_df.count()\n",
    "total_rows = df.count()\n",
    "\n",
    "print(f\"Remaining rows after dropping missing values: {remaining_rows} out of {total_rows}\")\n",
    "# print percentage of rows remaining\n",
    "print(f\"Percentage of rows remaining: {remaining_rows/total_rows*100:.2f}%\")\n"
   ]
  },
  {
   "cell_type": "code",
   "execution_count": null,
   "metadata": {},
   "outputs": [],
   "source": []
  },
  {
   "cell_type": "markdown",
   "metadata": {},
   "source": [
    "## Distribution Analysis "
   ]
  },
  {
   "cell_type": "markdown",
   "metadata": {},
   "source": []
  },
  {
   "cell_type": "markdown",
   "metadata": {},
   "source": [
    "## Categorical Data Analysis"
   ]
  },
  {
   "cell_type": "code",
   "execution_count": null,
   "metadata": {},
   "outputs": [],
   "source": []
  },
  {
   "cell_type": "markdown",
   "metadata": {},
   "source": [
    "## Correlation Analysis "
   ]
  },
  {
   "cell_type": "markdown",
   "metadata": {},
   "source": []
  },
  {
   "cell_type": "markdown",
   "metadata": {},
   "source": [
    "## Bivariate Analysis"
   ]
  },
  {
   "cell_type": "code",
   "execution_count": null,
   "metadata": {},
   "outputs": [],
   "source": []
  }
 ],
 "metadata": {
  "kernelspec": {
   "display_name": "Python 3",
   "language": "python",
   "name": "python3"
  },
  "language_info": {
   "codemirror_mode": {
    "name": "ipython",
    "version": 3
   },
   "file_extension": ".py",
   "mimetype": "text/x-python",
   "name": "python",
   "nbconvert_exporter": "python",
   "pygments_lexer": "ipython3",
   "version": "3.12.1"
  }
 },
 "nbformat": 4,
 "nbformat_minor": 2
}
