{
 "cells": [
  {
   "cell_type": "markdown",
   "metadata": {},
   "source": [
    "# Exploratary data analysis "
   ]
  },
  {
   "cell_type": "code",
   "execution_count": 9,
   "metadata": {},
   "outputs": [],
   "source": [
    "from pyspark.sql import functions as F\n",
    "from pyspark.sql import SparkSession\n",
    "from pyspark.sql.functions import *\n",
    "import matplotlib.pyplot as plt\n",
    "import pandas as pd\n",
    "import numpy as np\n",
    "import seaborn as sbs\n",
    "import geopandas as gpd\n",
    "import folium "
   ]
  },
  {
   "cell_type": "code",
   "execution_count": 10,
   "metadata": {},
   "outputs": [],
   "source": [
    "from pyspark.sql import SparkSession\n",
    "\n",
    "# Create a spark session with increased memory allocation\n",
    "spark = (\n",
    "    SparkSession.builder.appName(\"ADS Project1\")\n",
    "    .config(\"spark.sql.repl.eagerEval.enabled\", True) \n",
    "    .config(\"spark.sql.parquet.cacheMetadata\", \"true\")\n",
    "    .config(\"spark.sql.session.timeZone\", \"Etc/UTC\")\n",
    "    .config(\"spark.driver.memory\", \"8g\")  # Set the driver memory to 8GB\n",
    "    .config(\"spark.executor.memory\", \"8g\")  # Set the executor memory to 8GB\n",
    "    .getOrCreate()\n",
    ")"
   ]
  },
  {
   "cell_type": "code",
   "execution_count": 11,
   "metadata": {},
   "outputs": [],
   "source": [
    "spark.conf.set(\"spark.sql.parquet.compression.codec\",\"gzip\")"
   ]
  },
  {
   "cell_type": "code",
   "execution_count": 12,
   "metadata": {},
   "outputs": [],
   "source": [
    "# Load the data\n",
    "df = spark.read.parquet(\"../data/curated/tlc_data/first_cleaned.parquet/\")"
   ]
  },
  {
   "cell_type": "markdown",
   "metadata": {},
   "source": [
    "## Summary Statistics "
   ]
  },
  {
   "cell_type": "code",
   "execution_count": 13,
   "metadata": {},
   "outputs": [
    {
     "name": "stdout",
     "output_type": "stream",
     "text": [
      "+------------+------------+-----------+-----------+------------+------------+--------+---------------+-------------+----------+---------+---------+------------+-----------+-----+-------+----------+------------+---------------------+--------------------+------------+---------+-------------+----------------+---+---+---+---+---+---+\n",
      "|DOLocationID|PULocationID|pickup_date|pickup_hour|dropoff_date|dropoff_hour|VendorID|passenger_count|trip_distance|RatecodeID|PUBorough|DOBorough|payment_type|fare_amount|extra|mta_tax|tip_amount|tolls_amount|improvement_surcharge|congestion_surcharge|total_amount|ehail_fee|trip_duration|Number of Events|CIG|WND|VIS|TMP|DEW|SLP|\n",
      "+------------+------------+-----------+-----------+------------+------------+--------+---------------+-------------+----------+---------+---------+------------+-----------+-----+-------+----------+------------+---------------------+--------------------+------------+---------+-------------+----------------+---+---+---+---+---+---+\n",
      "+------------+------------+-----------+-----------+------------+------------+--------+---------------+-------------+----------+---------+---------+------------+-----------+-----+-------+----------+------------+---------------------+--------------------+------------+---------+-------------+----------------+---+---+---+---+---+---+\n",
      "\n"
     ]
    }
   ],
   "source": [
    "# show 5 rows of the data\n",
    "df.show(5)"
   ]
  },
  {
   "cell_type": "code",
   "execution_count": 14,
   "metadata": {},
   "outputs": [
    {
     "name": "stdout",
     "output_type": "stream",
     "text": [
      "+-------+------------+------------+-----------+------------+--------+---------------+-------------+----------+---------+---------+------------+-----------+-----+-------+----------+------------+---------------------+--------------------+------------+---------+-------------+----------------+----+----+----+----+----+----+\n",
      "|summary|DOLocationID|PULocationID|pickup_hour|dropoff_hour|VendorID|passenger_count|trip_distance|RatecodeID|PUBorough|DOBorough|payment_type|fare_amount|extra|mta_tax|tip_amount|tolls_amount|improvement_surcharge|congestion_surcharge|total_amount|ehail_fee|trip_duration|Number of Events| CIG| WND| VIS| TMP| DEW| SLP|\n",
      "+-------+------------+------------+-----------+------------+--------+---------------+-------------+----------+---------+---------+------------+-----------+-----+-------+----------+------------+---------------------+--------------------+------------+---------+-------------+----------------+----+----+----+----+----+----+\n",
      "|  count|           0|           0|          0|           0|       0|              0|            0|         0|        0|        0|           0|          0|    0|      0|         0|           0|                    0|                   0|           0|        0|            0|               0|   0|   0|   0|   0|   0|   0|\n",
      "|   mean|        NULL|        NULL|       NULL|        NULL|    NULL|           NULL|         NULL|      NULL|     NULL|     NULL|        NULL|       NULL| NULL|   NULL|      NULL|        NULL|                 NULL|                NULL|        NULL|     NULL|         NULL|            NULL|NULL|NULL|NULL|NULL|NULL|NULL|\n",
      "| stddev|        NULL|        NULL|       NULL|        NULL|    NULL|           NULL|         NULL|      NULL|     NULL|     NULL|        NULL|       NULL| NULL|   NULL|      NULL|        NULL|                 NULL|                NULL|        NULL|     NULL|         NULL|            NULL|NULL|NULL|NULL|NULL|NULL|NULL|\n",
      "|    min|        NULL|        NULL|       NULL|        NULL|    NULL|           NULL|         NULL|      NULL|     NULL|     NULL|        NULL|       NULL| NULL|   NULL|      NULL|        NULL|                 NULL|                NULL|        NULL|     NULL|         NULL|            NULL|NULL|NULL|NULL|NULL|NULL|NULL|\n",
      "|    25%|        NULL|        NULL|       NULL|        NULL|    NULL|           NULL|         NULL|      NULL|     NULL|     NULL|        NULL|       NULL| NULL|   NULL|      NULL|        NULL|                 NULL|                NULL|        NULL|     NULL|         NULL|            NULL|NULL|NULL|NULL|NULL|NULL|NULL|\n",
      "|    50%|        NULL|        NULL|       NULL|        NULL|    NULL|           NULL|         NULL|      NULL|     NULL|     NULL|        NULL|       NULL| NULL|   NULL|      NULL|        NULL|                 NULL|                NULL|        NULL|     NULL|         NULL|            NULL|NULL|NULL|NULL|NULL|NULL|NULL|\n",
      "|    75%|        NULL|        NULL|       NULL|        NULL|    NULL|           NULL|         NULL|      NULL|     NULL|     NULL|        NULL|       NULL| NULL|   NULL|      NULL|        NULL|                 NULL|                NULL|        NULL|     NULL|         NULL|            NULL|NULL|NULL|NULL|NULL|NULL|NULL|\n",
      "|    max|        NULL|        NULL|       NULL|        NULL|    NULL|           NULL|         NULL|      NULL|     NULL|     NULL|        NULL|       NULL| NULL|   NULL|      NULL|        NULL|                 NULL|                NULL|        NULL|     NULL|         NULL|            NULL|NULL|NULL|NULL|NULL|NULL|NULL|\n",
      "+-------+------------+------------+-----------+------------+--------+---------------+-------------+----------+---------+---------+------------+-----------+-----+-------+----------+------------+---------------------+--------------------+------------+---------+-------------+----------------+----+----+----+----+----+----+\n",
      "\n"
     ]
    }
   ],
   "source": [
    "# summary statistics\n",
    "df.summary().show()"
   ]
  },
  {
   "cell_type": "markdown",
   "metadata": {},
   "source": [
    "## Distribution Analysis "
   ]
  },
  {
   "cell_type": "markdown",
   "metadata": {},
   "source": []
  },
  {
   "cell_type": "markdown",
   "metadata": {},
   "source": [
    "## Categorical Data Analysis"
   ]
  },
  {
   "cell_type": "code",
   "execution_count": null,
   "metadata": {},
   "outputs": [],
   "source": []
  },
  {
   "cell_type": "markdown",
   "metadata": {},
   "source": [
    "## Correlation Analysis "
   ]
  },
  {
   "cell_type": "markdown",
   "metadata": {},
   "source": []
  },
  {
   "cell_type": "markdown",
   "metadata": {},
   "source": [
    "## Bivariate Analysis"
   ]
  },
  {
   "cell_type": "code",
   "execution_count": null,
   "metadata": {},
   "outputs": [],
   "source": []
  }
 ],
 "metadata": {
  "kernelspec": {
   "display_name": "Python 3",
   "language": "python",
   "name": "python3"
  },
  "language_info": {
   "codemirror_mode": {
    "name": "ipython",
    "version": 3
   },
   "file_extension": ".py",
   "mimetype": "text/x-python",
   "name": "python",
   "nbconvert_exporter": "python",
   "pygments_lexer": "ipython3",
   "version": "3.12.1"
  }
 },
 "nbformat": 4,
 "nbformat_minor": 2
}
