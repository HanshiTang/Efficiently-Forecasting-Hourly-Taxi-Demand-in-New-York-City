{
 "cells": [
  {
   "cell_type": "markdown",
   "metadata": {},
   "source": [
    "# Exploratary data analysis "
   ]
  },
  {
   "cell_type": "code",
   "execution_count": 1,
   "metadata": {},
   "outputs": [],
   "source": [
    "from pyspark.sql import functions as F\n",
    "from pyspark.sql import SparkSession\n",
    "from pyspark.sql.functions import *\n",
    "import matplotlib.pyplot as plt\n",
    "import pandas as pd\n",
    "import numpy as np\n",
    "import seaborn as sbs\n",
    "import geopandas as gpd\n",
    "import folium "
   ]
  },
  {
   "cell_type": "code",
   "execution_count": 2,
   "metadata": {},
   "outputs": [
    {
     "name": "stderr",
     "output_type": "stream",
     "text": [
      "24/08/28 02:12:42 WARN Utils: Your hostname, Hanshis-Laptop.local resolves to a loopback address: 127.0.0.1; using 100.94.176.147 instead (on interface en0)\n",
      "24/08/28 02:12:42 WARN Utils: Set SPARK_LOCAL_IP if you need to bind to another address\n",
      "Setting default log level to \"WARN\".\n",
      "To adjust logging level use sc.setLogLevel(newLevel). For SparkR, use setLogLevel(newLevel).\n",
      "24/08/28 02:12:42 WARN NativeCodeLoader: Unable to load native-hadoop library for your platform... using builtin-java classes where applicable\n"
     ]
    }
   ],
   "source": [
    "from pyspark.sql import SparkSession\n",
    "\n",
    "# Create a spark session with increased memory allocation\n",
    "spark = (\n",
    "    SparkSession.builder.appName(\"ADS Project1\")\n",
    "    .config(\"spark.sql.repl.eagerEval.enabled\", True) \n",
    "    .config(\"spark.sql.parquet.cacheMetadata\", \"true\")\n",
    "    .config(\"spark.sql.session.timeZone\", \"Etc/UTC\")\n",
    "    .config(\"spark.driver.memory\", \"8g\")  # Set the driver memory to 8GB\n",
    "    .config(\"spark.executor.memory\", \"8g\")  # Set the executor memory to 8GB\n",
    "    .getOrCreate()\n",
    ")"
   ]
  },
  {
   "cell_type": "code",
   "execution_count": 3,
   "metadata": {},
   "outputs": [],
   "source": [
    "spark.conf.set(\"spark.sql.parquet.compression.codec\",\"gzip\")"
   ]
  },
  {
   "cell_type": "code",
   "execution_count": 4,
   "metadata": {},
   "outputs": [],
   "source": [
    "# Load the data\n",
    "df = spark.read.parquet(\"../data/curated/tlc_data/first_cleaned.parquet/\")"
   ]
  },
  {
   "cell_type": "markdown",
   "metadata": {},
   "source": [
    "## Summary Statistics "
   ]
  },
  {
   "cell_type": "code",
   "execution_count": 8,
   "metadata": {},
   "outputs": [
    {
     "name": "stdout",
     "output_type": "stream",
     "text": [
      "+-----------+-----------+------------+------------+--------+---------------+-------------+----------+------------+---------+------------+---------+------------+-----------+-----+-------+----------+------------+---------------------+--------------------+------------+---------+-------------+----------------+-------+---+------+---+----+------+\n",
      "|pickup_date|pickup_hour|dropoff_date|dropoff_hour|VendorID|passenger_count|trip_distance|RatecodeID|PULocationID|PUBorough|DOLocationID|DOBorough|payment_type|fare_amount|extra|mta_tax|tip_amount|tolls_amount|improvement_surcharge|congestion_surcharge|total_amount|ehail_fee|trip_duration|Number of Events|    CIG|WND|   VIS|TMP| DEW|   SLP|\n",
      "+-----------+-----------+------------+------------+--------+---------------+-------------+----------+------------+---------+------------+---------+------------+-----------+-----+-------+----------+------------+---------------------+--------------------+------------+---------+-------------+----------------+-------+---+------+---+----+------+\n",
      "| 2023-12-01|          0|  2023-12-01|           0|       2|              1|         1.54|         1|         249|Manhattan|         148|Manhattan|           1|       13.5|  1.0|    0.5|      4.62|         0.0|                  1.0|                 2.5|       23.12|      0.0|         13.0|              36|22000.0|4.1|1609.3|9.4|-2.8|1020.1|\n",
      "| 2023-12-01|          0|  2023-12-01|           0|       2|              1|         2.96|         1|         107|Manhattan|         140|Manhattan|           1|       14.2|  1.0|    0.5|      3.84|         0.0|                  1.0|                 2.5|       23.04|      0.0|         10.0|              36|22000.0|4.1|1609.3|9.4|-2.8|1020.1|\n",
      "| 2023-12-01|          0|  2023-12-01|           0|       2|              4|         0.59|         1|          79|Manhattan|         107|Manhattan|           1|        5.8|  1.0|    0.5|      2.16|         0.0|                  1.0|                 2.5|       12.96|      0.0|          4.0|              36|22000.0|4.1|1609.3|9.4|-2.8|1020.1|\n",
      "| 2023-12-01|          0|  2023-12-01|           0|       2|              1|         1.77|         1|         233|Manhattan|          79|Manhattan|           1|       10.0|  1.0|    0.5|       1.0|         0.0|                  1.0|                 2.5|        16.0|      0.0|          7.0|              36|22000.0|4.1|1609.3|9.4|-2.8|1020.1|\n",
      "| 2023-12-01|          0|  2023-12-01|           0|       1|              1|          6.1|         1|          88|Manhattan|         230|Manhattan|           1|       28.2|  3.5|    0.5|      6.65|         0.0|                  1.0|                 2.5|       39.85|      0.0|         20.0|              36|22000.0|4.1|1609.3|9.4|-2.8|1020.1|\n",
      "+-----------+-----------+------------+------------+--------+---------------+-------------+----------+------------+---------+------------+---------+------------+-----------+-----+-------+----------+------------+---------------------+--------------------+------------+---------+-------------+----------------+-------+---+------+---+----+------+\n",
      "only showing top 5 rows\n",
      "\n"
     ]
    }
   ],
   "source": [
    "# show 5 rows of the data\n",
    "df.show(5)"
   ]
  },
  {
   "cell_type": "code",
   "execution_count": 6,
   "metadata": {},
   "outputs": [
    {
     "name": "stderr",
     "output_type": "stream",
     "text": [
      "24/08/28 02:15:33 WARN SparkStringUtils: Truncated the string representation of a plan since it was too large. This behavior can be adjusted by setting 'spark.sql.debug.maxToStringFields'.\n",
      "Java HotSpot(TM) 64-Bit Server VM warning: CodeCache is full. Compiler has been disabled.\n",
      "Java HotSpot(TM) 64-Bit Server VM warning: Try increasing the code cache size using -XX:ReservedCodeCacheSize=\n",
      "[Stage 1:=======>                                                   (1 + 7) / 8]\r"
     ]
    },
    {
     "name": "stdout",
     "output_type": "stream",
     "text": [
      "CodeCache: size=131072Kb used=28692Kb max_used=30939Kb free=102379Kb\n",
      " bounds [0x00000001071e8000, 0x0000000109048000, 0x000000010f1e8000]\n",
      " total_blobs=10524 nmethods=9551 adapters=884\n",
      " compilation: disabled (not enough contiguous free space left)\n"
     ]
    },
    {
     "name": "stderr",
     "output_type": "stream",
     "text": [
      "                                                                                \r"
     ]
    },
    {
     "name": "stdout",
     "output_type": "stream",
     "text": [
      "+-------+------------------+-----------------+------------------+------------------+------------------+------------------+------------------+-------------+------------------+-------------+------------------+------------------+-----------------+--------------------+-----------------+-----------------+---------------------+--------------------+------------------+---------+-----------------+-----------------+------------------+-----------------+------------------+------------------+------------------+-----------------+\n",
      "|summary|       pickup_hour|     dropoff_hour|          VendorID|   passenger_count|     trip_distance|        RatecodeID|      PULocationID|    PUBorough|      DOLocationID|    DOBorough|      payment_type|       fare_amount|            extra|             mta_tax|       tip_amount|     tolls_amount|improvement_surcharge|congestion_surcharge|      total_amount|ehail_fee|    trip_duration| Number of Events|               CIG|              WND|               VIS|               TMP|               DEW|              SLP|\n",
      "+-------+------------------+-----------------+------------------+------------------+------------------+------------------+------------------+-------------+------------------+-------------+------------------+------------------+-----------------+--------------------+-----------------+-----------------+---------------------+--------------------+------------------+---------+-----------------+-----------------+------------------+-----------------+------------------+------------------+------------------+-----------------+\n",
      "|  count|          22554660|         22554660|          22554660|          22554660|          22554660|          22554660|          22554660|     22478382|          22554660|     22365346|          22554660|          22554660|         22554660|            22554660|         22554660|         22554660|             22554660|            22554660|          22554660| 22554660|         22554660|         22554660|          22542936|         19657629|          22542936|          22542936|          22542936|         22542936|\n",
      "|   mean|14.187154494902606|14.27306649712299|1.7622949315130443| 1.360831331529715|3.4752617946782207|2.1749093978805267|165.46275062448294|         NULL|164.39787968428698|         NULL|1.1788038480739678|19.705749358226015|1.565509410915528| 0.49665353634237885|3.678329279627509|0.620530043012449|   0.9976090306836777|  2.3248875731223615|28.983025036474338|      0.0| 16.8230771822763|2.293847568529076| 9909.504118097128|112.7537273777463|1632.7725432295754|12.827101350101143|12.171966025153518| 3271.81191221513|\n",
      "| stddev| 5.669535170845655|5.766395573426758|0.4256775504257256|0.8400843094071659| 4.452538859692092|10.389463457732345|  63.3332004062271|         NULL|  69.4015472138868|         NULL|0.4477797879135899|17.323208641852364|1.833838944174057|0.041728059412614066|4.014608482078593|2.276206751917341|  0.04856902220717206|  0.6380565280322137|22.198877850866655|      0.0|13.32790734059818|5.049372597523267|11906.222336791714|311.7852639522829| 5891.952843545912|59.281327746537706| 99.69498749835483|3896.034115103797|\n",
      "|    min|                 0|                0|                 1|                 1|               0.5|                 1|                 1|        Bronx|                 1|        Bronx|                 1|               3.0|              0.0|                 0.0|              0.0|              0.0|                  0.0|                 0.0|               3.0|      0.0|            -52.0|                0|              61.0|              1.5|              40.2|              -8.3|             -19.4|            982.1|\n",
      "|    25%|                11|               11|                 2|                 1|               1.1|                 1|               132|         NULL|               114|         NULL|                 1|               9.3|              0.0|                 0.5|             1.23|              0.0|                  1.0|                 2.5|             16.32|      0.0|              8.0|                0|             396.0|              2.1|             965.6|               5.0|              -3.9|           1012.2|\n",
      "|    50%|                15|               15|                 2|                 1|               1.8|                 1|               162|         NULL|               162|         NULL|                 1|              13.5|              1.0|                 0.5|             2.98|              0.0|                  1.0|                 2.5|              21.3|      0.0|             13.0|                0|            1829.0|              3.1|            1609.3|               8.9|               3.3|           1019.0|\n",
      "|    75%|                19|               19|                 2|                 1|              3.35|                 1|               234|         NULL|               234|         NULL|                 1|              21.9|              2.5|                 0.5|              4.5|              0.0|                  1.0|                 2.5|              30.7|      0.0|             21.0|                2|           22000.0|              4.6|            1609.3|              13.9|               8.0|           9999.9|\n",
      "|    max|                23|               23|                 2|                 6|              50.0|                99|               265|Staten Island|               265|Staten Island|                 4|           2320.11|            51.68|               35.84|           999.99|          1702.88|                  1.0|                 2.5|           2372.79|      0.0|            120.0|               53|           99999.0|            999.9|           99999.9|             999.9|             999.9|           9999.9|\n",
      "+-------+------------------+-----------------+------------------+------------------+------------------+------------------+------------------+-------------+------------------+-------------+------------------+------------------+-----------------+--------------------+-----------------+-----------------+---------------------+--------------------+------------------+---------+-----------------+-----------------+------------------+-----------------+------------------+------------------+------------------+-----------------+\n",
      "\n"
     ]
    }
   ],
   "source": [
    "# summary statistics\n",
    "df.summary().show()"
   ]
  },
  {
   "cell_type": "markdown",
   "metadata": {},
   "source": [
    "## Distribution Analysis "
   ]
  },
  {
   "cell_type": "markdown",
   "metadata": {},
   "source": []
  },
  {
   "cell_type": "markdown",
   "metadata": {},
   "source": [
    "## Categorical Data Analysis"
   ]
  },
  {
   "cell_type": "code",
   "execution_count": null,
   "metadata": {},
   "outputs": [],
   "source": []
  },
  {
   "cell_type": "markdown",
   "metadata": {},
   "source": [
    "## Correlation Analysis "
   ]
  },
  {
   "cell_type": "markdown",
   "metadata": {},
   "source": []
  },
  {
   "cell_type": "markdown",
   "metadata": {},
   "source": [
    "## Bivariate Analysis"
   ]
  },
  {
   "cell_type": "code",
   "execution_count": null,
   "metadata": {},
   "outputs": [],
   "source": []
  }
 ],
 "metadata": {
  "kernelspec": {
   "display_name": "Python 3",
   "language": "python",
   "name": "python3"
  },
  "language_info": {
   "codemirror_mode": {
    "name": "ipython",
    "version": 3
   },
   "file_extension": ".py",
   "mimetype": "text/x-python",
   "name": "python",
   "nbconvert_exporter": "python",
   "pygments_lexer": "ipython3",
   "version": "3.12.1"
  }
 },
 "nbformat": 4,
 "nbformat_minor": 2
}
