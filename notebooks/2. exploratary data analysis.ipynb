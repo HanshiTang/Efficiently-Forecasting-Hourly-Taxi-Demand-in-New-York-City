{
 "cells": [
  {
   "cell_type": "markdown",
   "metadata": {},
   "source": [
    "# Exploratary data analysis "
   ]
  },
  {
   "cell_type": "code",
   "execution_count": 17,
   "metadata": {},
   "outputs": [],
   "source": [
    "from pyspark.sql import functions as F\n",
    "from pyspark.sql import SparkSession\n",
    "from pyspark.sql.functions import *\n",
    "import matplotlib.pyplot as plt\n",
    "import pandas as pd\n",
    "import numpy as np\n",
    "import seaborn as sbs\n",
    "import geopandas as gpd\n",
    "import folium "
   ]
  },
  {
   "cell_type": "code",
   "execution_count": 18,
   "metadata": {},
   "outputs": [],
   "source": [
    "from pyspark.sql import SparkSession\n",
    "\n",
    "# Create a spark session with increased memory allocation\n",
    "spark = (\n",
    "    SparkSession.builder.appName(\"ADS Project1\")\n",
    "    .config(\"spark.sql.repl.eagerEval.enabled\", True) \n",
    "    .config(\"spark.sql.parquet.cacheMetadata\", \"true\")\n",
    "    .config(\"spark.sql.session.timeZone\", \"Etc/UTC\")\n",
    "    .config(\"spark.driver.memory\", \"8g\")  # Set the driver memory to 8GB\n",
    "    .config(\"spark.executor.memory\", \"8g\")  # Set the executor memory to 8GB\n",
    "    .getOrCreate()\n",
    ")"
   ]
  },
  {
   "cell_type": "code",
   "execution_count": 19,
   "metadata": {},
   "outputs": [],
   "source": [
    "spark.conf.set(\"spark.sql.parquet.compression.codec\",\"gzip\")"
   ]
  },
  {
   "cell_type": "code",
   "execution_count": 20,
   "metadata": {},
   "outputs": [],
   "source": [
    "# Load the data\n",
    "df = spark.read.parquet(\"../data/curated/tlc_data/first_cleaned.parquet/\")"
   ]
  },
  {
   "cell_type": "markdown",
   "metadata": {},
   "source": [
    "## Summary Statistics "
   ]
  },
  {
   "cell_type": "code",
   "execution_count": 21,
   "metadata": {},
   "outputs": [
    {
     "name": "stderr",
     "output_type": "stream",
     "text": [
      "[Stage 34:===================================================>      (8 + 1) / 9]\r"
     ]
    },
    {
     "name": "stdout",
     "output_type": "stream",
     "text": [
      "Remaining rows after dropping missing values: 22215110 out of 22550483\n",
      "Percentage of rows remaining: 98.51%\n"
     ]
    },
    {
     "name": "stderr",
     "output_type": "stream",
     "text": [
      "                                                                                \r"
     ]
    }
   ],
   "source": [
    "# Drop rows with any missing values\n",
    "clean_df = df.dropna()\n",
    "\n",
    "# Check the number of remaining rows\n",
    "remaining_rows = clean_df.count()\n",
    "total_rows = df.count()\n",
    "\n",
    "print(f\"Remaining rows after dropping missing values: {remaining_rows} out of {total_rows}\")\n",
    "# print percentage of rows remaining\n",
    "print(f\"Percentage of rows remaining: {remaining_rows/total_rows*100:.2f}%\")\n"
   ]
  },
  {
   "cell_type": "code",
   "execution_count": 22,
   "metadata": {},
   "outputs": [
    {
     "name": "stderr",
     "output_type": "stream",
     "text": [
      "[Stage 42:>                                                         (0 + 1) / 1]\r"
     ]
    },
    {
     "name": "stdout",
     "output_type": "stream",
     "text": [
      "+-------+------------------+-----------------+------------------+------------------+------------------+------------------+------------------+------------------+------------------+-------------+-------------+-------------------+------------------+------------------+-------------------+------------------+------------------+---------------------+------------------+--------------------+---------+------------------+------------------+------------------+------------------+------------------+------------------+------------------+------------------+-----------------+\n",
      "|summary|      DOLocationID|     PULocationID|       pickup_hour|      dropoff_hour|          VendorID|   passenger_count|     trip_distance|     trip_duration|        RatecodeID|    PUBorough|    DOBorough|       payment_type|       fare_amount|             extra|            mta_tax|        tip_amount|      tolls_amount|improvement_surcharge|      total_amount|congestion_surcharge|ehail_fee| hourly_trip_count|  daily_trip_count|               CIG|               WND|               VIS|               TMP|               DEW|               SLP| Number of Events|\n",
      "+-------+------------------+-----------------+------------------+------------------+------------------+------------------+------------------+------------------+------------------+-------------+-------------+-------------------+------------------+------------------+-------------------+------------------+------------------+---------------------+------------------+--------------------+---------+------------------+------------------+------------------+------------------+------------------+------------------+------------------+------------------+-----------------+\n",
      "|  count|          22215110|         22215110|          22215110|          22215110|          22215110|          22215110|          22215110|          22215110|          22215110|     22215110|     22215110|           22215110|          22215110|          22215110|           22215110|          22215110|          22215110|             22215110|          22215110|            22215110| 22215110|          22215110|          22215110|          22215110|          22215110|          22215110|          22215110|          22215110|          22215110|         22215110|\n",
      "|   mean|163.62507234940543| 165.300893626005|14.263565429115589|14.350151676043918| 1.764496687164727|1.3595778278838142| 3.419304286135356|16.762147115184213| 2.179143114753877|         NULL|         NULL| 1.1781900697318177|19.418078516829613|1.5597639777610843| 0.4974127357460756|3.6504034146145456|0.5980271589894901|    0.997578639043426| 28.65045935805036|   2.333962908578891|      0.0| 5109.633991954125| 94382.88299688815| 9879.538508024492|109.91035074595861|1631.3504862110801|12.812465434577792|12.186459923028016| 3279.082007750466|2.260381154988654|\n",
      "| stddev| 69.04923970851173|63.20714457018062| 5.590914000782134| 5.689744074154023|0.4243129865834227|0.8389633984157158|4.3225512322143285|13.247522308908737|10.451930548771163|         NULL|         NULL|0.44674241499118417|16.339227583360664| 1.833413259252824|0.03697305140274385|3.9035718543355484| 2.183838270848374|  0.04887537960341441|21.169943117218818|  0.6225141753700644|      0.0|1591.0830048572755|13205.873012259739|11902.838917634548|308.42181367248605|5888.6983065872355|59.248226016477574|  99.8407314275547|3900.2039618158765|4.895822605581775|\n",
      "|    min|                 1|                1|                 0|                 0|                 1|                 1|               0.5|               1.0|                 1|        Bronx|        Bronx|                  1|               3.0|               0.0|                0.0|               0.0|               0.0|                  0.0|               4.0|                 0.0|      0.0|               108|             38951|              61.0|               1.5|              40.2|              -8.3|             -19.4|             982.1|                0|\n",
      "|    25%|               114|              132|                11|                11|                 2|                 1|               1.1|               8.0|                 1|         NULL|         NULL|                  1|               9.3|               0.0|                0.5|              1.25|               0.0|                  1.0|             16.32|                 2.5|      0.0|              4406|             87202|             396.0|               2.1|             965.6|               5.0|              -3.9|            1012.2|                0|\n",
      "|    50%|               162|              162|                15|                15|                 2|                 1|              1.78|              13.0|                 1|         NULL|         NULL|                  1|              13.5|               1.0|                0.5|              2.98|               0.0|                  1.0|             21.12|                 2.5|      0.0|              5311|             95606|            1829.0|               3.1|            1609.3|               8.9|               3.3|            1019.1|                1|\n",
      "|    75%|               234|              233|                19|                19|                 2|                 1|               3.3|              21.0|                 1|         NULL|         NULL|                  1|              21.9|               2.5|                0.5|               4.5|               0.0|                  1.0|              30.6|                 2.5|      0.0|              6142|            103305|           22000.0|               4.6|            1609.3|              13.9|               8.0|            9999.9|                2|\n",
      "|    max|               263|              263|                23|                23|                 2|                 6|              49.4|             120.0|                99|Staten Island|Staten Island|                  4|           2320.11|             51.68|              35.84|            999.99|           1702.88|                  1.0|           2372.79|                 2.5|      0.0|              9376|            123379|           99999.0|             999.9|           99999.9|             999.9|             999.9|            9999.9|               53|\n",
      "+-------+------------------+-----------------+------------------+------------------+------------------+------------------+------------------+------------------+------------------+-------------+-------------+-------------------+------------------+------------------+-------------------+------------------+------------------+---------------------+------------------+--------------------+---------+------------------+------------------+------------------+------------------+------------------+------------------+------------------+------------------+-----------------+\n",
      "\n"
     ]
    },
    {
     "name": "stderr",
     "output_type": "stream",
     "text": [
      "                                                                                \r"
     ]
    }
   ],
   "source": [
    "# summary statistics\n",
    "clean_df.summary().show()"
   ]
  },
  {
   "cell_type": "code",
   "execution_count": 23,
   "metadata": {},
   "outputs": [
    {
     "name": "stderr",
     "output_type": "stream",
     "text": [
      "                                                                                \r"
     ]
    },
    {
     "data": {
      "image/png": "[encoded data removed]",
      "text/plain": [
       "<Figure size 1000x600 with 1 Axes>"
      ]
     },
     "metadata": {},
     "output_type": "display_data"
    }
   ],
   "source": [
    "# Generate percentiles\n",
    "percentiles = np.arange(0, 1.01, 0.01).tolist()  # Convert NumPy array to list\n",
    "\n",
    "# Calculate approximate quantiles for trip_distance\n",
    "percentile_trip_distance = clean_df.approxQuantile(\"trip_distance\", percentiles, 0.01)\n",
    "\n",
    "# Plotting the results\n",
    "plt.figure(figsize=(10, 6))\n",
    "plt.plot(percentiles, percentile_trip_distance, marker='o')\n",
    "plt.xlabel('Percentile')\n",
    "plt.ylabel('Trip Distance')\n",
    "plt.title('Percentile Distribution of Trip Distance')\n",
    "plt.grid(True)\n",
    "plt.show()\n"
   ]
  },
  {
   "cell_type": "code",
   "execution_count": null,
   "metadata": {},
   "outputs": [],
   "source": []
  },
  {
   "cell_type": "markdown",
   "metadata": {},
   "source": [
    "## Distribution Analysis "
   ]
  },
  {
   "cell_type": "markdown",
   "metadata": {},
   "source": []
  },
  {
   "cell_type": "markdown",
   "metadata": {},
   "source": [
    "## Categorical Data Analysis"
   ]
  },
  {
   "cell_type": "code",
   "execution_count": null,
   "metadata": {},
   "outputs": [],
   "source": []
  },
  {
   "cell_type": "markdown",
   "metadata": {},
   "source": [
    "## Correlation Analysis "
   ]
  },
  {
   "cell_type": "markdown",
   "metadata": {},
   "source": []
  },
  {
   "cell_type": "markdown",
   "metadata": {},
   "source": [
    "## Bivariate Analysis"
   ]
  },
  {
   "cell_type": "code",
   "execution_count": null,
   "metadata": {},
   "outputs": [],
   "source": []
  }
 ],
 "metadata": {
  "kernelspec": {
   "display_name": "Python 3",
   "language": "python",
   "name": "python3"
  },
  "language_info": {
   "codemirror_mode": {
    "name": "ipython",
    "version": 3
   },
   "file_extension": ".py",
   "mimetype": "text/x-python",
   "name": "python",
   "nbconvert_exporter": "python",
   "pygments_lexer": "ipython3",
   "version": "3.12.1"
  }
 },
 "nbformat": 4,
 "nbformat_minor": 2
}
