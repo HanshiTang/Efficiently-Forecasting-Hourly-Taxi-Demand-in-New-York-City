{
 "cells": [
  {
   "cell_type": "markdown",
   "metadata": {},
   "source": [
    "# Pre-processing_final_2\n",
    "This notebook merges 3 preprocessed datasets and prepares for EDA_daily"
   ]
  },
  {
   "cell_type": "code",
   "execution_count": 1,
   "metadata": {},
   "outputs": [],
   "source": [
    "from pyspark.sql import functions as F\n",
    "from pyspark.sql import SparkSession\n",
    "from pyspark.sql.functions import *\n",
    "from pyspark.sql.window import Window\n",
    "import matplotlib.pyplot as plt\n",
    "import pandas as pd\n",
    "import numpy as np\n",
    "import seaborn as sbs\n",
    "import geopandas as gpd\n",
    "import folium "
   ]
  },
  {
   "cell_type": "code",
   "execution_count": 2,
   "metadata": {},
   "outputs": [
    {
     "name": "stderr",
     "output_type": "stream",
     "text": [
      "24/08/30 15:46:45 WARN Utils: Your hostname, Hanshis-Laptop.local resolves to a loopback address: 127.0.0.1; using 100.94.176.147 instead (on interface en0)\n",
      "24/08/30 15:46:45 WARN Utils: Set SPARK_LOCAL_IP if you need to bind to another address\n",
      "Setting default log level to \"WARN\".\n",
      "To adjust logging level use sc.setLogLevel(newLevel). For SparkR, use setLogLevel(newLevel).\n",
      "24/08/30 15:46:45 WARN NativeCodeLoader: Unable to load native-hadoop library for your platform... using builtin-java classes where applicable\n",
      "24/08/30 15:46:46 WARN Utils: Service 'SparkUI' could not bind on port 4040. Attempting port 4041.\n"
     ]
    }
   ],
   "source": [
    "from pyspark.sql import SparkSession\n",
    "\n",
    "# Create a spark session with increased memory allocation\n",
    "spark = (\n",
    "    SparkSession.builder.appName(\"ADS Project1\")\n",
    "    .config(\"spark.sql.repl.eagerEval.enabled\", True) \n",
    "    .config(\"spark.sql.parquet.cacheMetadata\", \"true\")\n",
    "    .config(\"spark.sql.session.timeZone\", \"Etc/UTC\")\n",
    "    .config(\"spark.driver.memory\", \"8g\")  # Set the driver memory to 8GB\n",
    "    .config(\"spark.executor.memory\", \"8g\")  # Set the executor memory to 8GB\n",
    "    .getOrCreate()\n",
    ")"
   ]
  },
  {
   "cell_type": "markdown",
   "metadata": {},
   "source": [
    "## Datasets"
   ]
  },
  {
   "cell_type": "code",
   "execution_count": 3,
   "metadata": {},
   "outputs": [],
   "source": [
    "# read the data from preprocessed tlc data\n",
    "tdf = spark.read.parquet(\"../data/raw/tlc_df.parquet\") "
   ]
  },
  {
   "cell_type": "code",
   "execution_count": 4,
   "metadata": {},
   "outputs": [],
   "source": [
    "# read the preprocessed weather data\n",
    "wdf = spark.read.csv(\"../data/raw/NYC_weather_raw.csv\", header=True, inferSchema=True)"
   ]
  },
  {
   "cell_type": "code",
   "execution_count": 5,
   "metadata": {},
   "outputs": [],
   "source": [
    "# read the preprocessed event data\n",
    "edf = spark.read.parquet(\"../data/raw/NYC_Permitted_Event_Information_Historical.parquet\") "
   ]
  },
  {
   "cell_type": "markdown",
   "metadata": {},
   "source": [
    "## Aggregation"
   ]
  },
  {
   "cell_type": "code",
   "execution_count": 6,
   "metadata": {},
   "outputs": [],
   "source": [
    "# Load the zones DataFrame\n",
    "zones = spark.read.csv(\"../data/landing/external/taxi_zones.csv\", header=True, inferSchema=True)"
   ]
  },
  {
   "cell_type": "code",
   "execution_count": 7,
   "metadata": {},
   "outputs": [],
   "source": [
    "# Join the tdf DataFrame with zones to get the borough for PULocationID\n",
    "tdf = tdf.join(zones.select('LocationID', 'borough').withColumnRenamed('borough', 'PUBorough'),\n",
    "               tdf['PULocationID'] == zones['LocationID'], 'left').drop('LocationID')\n",
    "\n",
    "# Join the tdf DataFrame with zones to get the borough for DOLocationID\n",
    "tdf = tdf.join(zones.select('LocationID', 'borough').withColumnRenamed('borough', 'DOBorough'),\n",
    "               tdf['DOLocationID'] == zones['LocationID'], 'left').drop('LocationID')"
   ]
  },
  {
   "cell_type": "code",
   "execution_count": 8,
   "metadata": {},
   "outputs": [],
   "source": [
    "# Aggregating the data for daily analysis\n",
    "tdf_daily_agg = tdf.groupBy(['pickup_date', \"PUBorough\"]).agg({\n",
    "    '*': 'count',\n",
    "}).withColumnRenamed('count(1)', 'daily_trip_count')"
   ]
  },
  {
   "cell_type": "code",
   "execution_count": 9,
   "metadata": {},
   "outputs": [],
   "source": [
    "# Convert DATE to Date format if it's not already\n",
    "wdf = wdf.withColumn('date', col('DATE').cast('date'))\n",
    "\n",
    "# Aggregate weather data by date (averaging the values across the day)\n",
    "wdf_daily_agg = wdf.groupBy('date').agg(\n",
    "    avg(\"CIG\").alias(\"avg_CIG\"),\n",
    "    avg(\"WND\").alias(\"avg_WND\"),\n",
    "    avg(\"VIS\").alias(\"avg_VIS\"),\n",
    "    avg(\"TMP\").alias(\"avg_TMP\"),\n",
    "    avg(\"DEW\").alias(\"avg_DEW\"),\n",
    "    avg(\"SLP\").alias(\"avg_SLP\")\n",
    ")"
   ]
  },
  {
   "cell_type": "code",
   "execution_count": 10,
   "metadata": {},
   "outputs": [],
   "source": [
    "# Aggregate the number of events per date and borough\n",
    "edf_daily = edf.groupBy('Start Date', 'Event Borough').agg(count('Event ID').alias('Number of Events'))"
   ]
  },
  {
   "cell_type": "markdown",
   "metadata": {},
   "source": [
    "## Merge"
   ]
  },
  {
   "cell_type": "code",
   "execution_count": 11,
   "metadata": {},
   "outputs": [],
   "source": [
    "# Rename the date columns for consistency\n",
    "tdf_daily_agg = tdf_daily_agg.withColumnRenamed(\"pickup_date\", \"date\")\n",
    "edf_daily = edf_daily.withColumnRenamed(\"Start Date\", \"date\")"
   ]
  },
  {
   "cell_type": "code",
   "execution_count": 12,
   "metadata": {},
   "outputs": [],
   "source": [
    "# Merge tdf_daily_agg with edf_daily on date and PUBorough\n",
    "tdf_edf_daily = tdf_daily_agg.join(\n",
    "    edf_daily.withColumnRenamed(\"Event Borough\", \"PUBorough\"),\n",
    "    on=[\"date\", \"PUBorough\"], \n",
    "    how=\"left\"\n",
    ")\n",
    "\n",
    "# Merge the result with wdf_daily_agg on date only (since weather data is borough-independent)\n",
    "final_daily_df = tdf_edf_daily.join(\n",
    "    wdf_daily_agg,\n",
    "    on=\"date\",\n",
    "    how=\"left\"\n",
    ")"
   ]
  },
  {
   "cell_type": "markdown",
   "metadata": {},
   "source": [
    "## Preprocessing"
   ]
  },
  {
   "cell_type": "code",
   "execution_count": 13,
   "metadata": {},
   "outputs": [],
   "source": [
    "# Impute missing values in Number of Events column with 0\n",
    "final_df = final_daily_df.fillna(0, subset=['Number of Events'])"
   ]
  },
  {
   "cell_type": "code",
   "execution_count": 14,
   "metadata": {},
   "outputs": [],
   "source": [
    "# Define a window specification with partitioning by date and PUBorough\n",
    "window_spec = Window.partitionBy(\"date\", \"PUBorough\").orderBy(\"date\").rowsBetween(-sys.maxsize, 0)"
   ]
  },
  {
   "cell_type": "code",
   "execution_count": 15,
   "metadata": {},
   "outputs": [],
   "source": [
    "# Apply forward fill to the missing weather columns for daily analysis\n",
    "final_df = final_df.withColumn(\"avg_CIG\", last(col(\"avg_CIG\"), ignorenulls=True).over(window_spec))\n",
    "final_df = final_df.withColumn(\"avg_WND\", last(col(\"avg_WND\"), ignorenulls=True).over(window_spec))\n",
    "final_df = final_df.withColumn(\"avg_VIS\", last(col(\"avg_VIS\"), ignorenulls=True).over(window_spec))\n",
    "final_df = final_df.withColumn(\"avg_TMP\", last(col(\"avg_TMP\"), ignorenulls=True).over(window_spec))\n",
    "final_df = final_df.withColumn(\"avg_DEW\", last(col(\"avg_DEW\"), ignorenulls=True).over(window_spec))\n",
    "final_df = final_df.withColumn(\"avg_SLP\", last(col(\"avg_SLP\"), ignorenulls=True).over(window_spec))"
   ]
  },
  {
   "cell_type": "code",
   "execution_count": 16,
   "metadata": {},
   "outputs": [],
   "source": [
    "# Only keep rows within the date range of the taxi data\n",
    "final_df = final_df.filter(col(\"date\").between(\"2023-07-01\", \"2023-12-31\"))"
   ]
  },
  {
   "cell_type": "code",
   "execution_count": 17,
   "metadata": {},
   "outputs": [
    {
     "name": "stdout",
     "output_type": "stream",
     "text": [
      "root\n",
      " |-- date: date (nullable = true)\n",
      " |-- PUBorough: string (nullable = true)\n",
      " |-- daily_trip_count: long (nullable = false)\n",
      " |-- Number of Events: long (nullable = true)\n",
      " |-- avg_CIG: double (nullable = true)\n",
      " |-- avg_WND: double (nullable = true)\n",
      " |-- avg_VIS: double (nullable = true)\n",
      " |-- avg_TMP: double (nullable = true)\n",
      " |-- avg_DEW: double (nullable = true)\n",
      " |-- avg_SLP: double (nullable = true)\n",
      "\n"
     ]
    }
   ],
   "source": [
    "# check schema\n",
    "final_df.printSchema()"
   ]
  },
  {
   "cell_type": "code",
   "execution_count": null,
   "metadata": {},
   "outputs": [],
   "source": [
    "# save the merged data and overwrite the previous one\n",
    "final_df.write.parquet(\"../data/curated/tlc_data/second_cleaned.parquet\")"
   ]
  }
 ],
 "metadata": {
  "kernelspec": {
   "display_name": "Python 3",
   "language": "python",
   "name": "python3"
  },
  "language_info": {
   "codemirror_mode": {
    "name": "ipython",
    "version": 3
   },
   "file_extension": ".py",
   "mimetype": "text/x-python",
   "name": "python",
   "nbconvert_exporter": "python",
   "pygments_lexer": "ipython3",
   "version": "3.12.1"
  }
 },
 "nbformat": 4,
 "nbformat_minor": 2
}
