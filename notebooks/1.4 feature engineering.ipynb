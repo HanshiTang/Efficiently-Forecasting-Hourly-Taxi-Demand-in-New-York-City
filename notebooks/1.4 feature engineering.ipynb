{
 "cells": [
  {
   "cell_type": "markdown",
   "metadata": {},
   "source": [
    "# Feature Engineering"
   ]
  },
  {
   "cell_type": "code",
   "execution_count": 1,
   "metadata": {},
   "outputs": [],
   "source": [
    "from pyspark.sql import functions as F\n",
    "from pyspark.sql import SparkSession\n",
    "from pyspark.sql.functions import *\n",
    "import matplotlib.pyplot as plt\n",
    "import pandas as pd\n",
    "import numpy as np\n",
    "import seaborn as sbs\n",
    "import geopandas as gpd\n",
    "import folium\n",
    "import sklearn"
   ]
  },
  {
   "cell_type": "code",
   "execution_count": 2,
   "metadata": {},
   "outputs": [
    {
     "name": "stderr",
     "output_type": "stream",
     "text": [
      "24/08/27 16:16:51 WARN Utils: Your hostname, Hanshis-Laptop.local resolves to a loopback address: 127.0.0.1; using 10.12.200.32 instead (on interface en0)\n",
      "24/08/27 16:16:51 WARN Utils: Set SPARK_LOCAL_IP if you need to bind to another address\n",
      "Setting default log level to \"WARN\".\n",
      "To adjust logging level use sc.setLogLevel(newLevel). For SparkR, use setLogLevel(newLevel).\n",
      "24/08/27 16:16:51 WARN NativeCodeLoader: Unable to load native-hadoop library for your platform... using builtin-java classes where applicable\n",
      "24/08/27 16:16:52 WARN Utils: Service 'SparkUI' could not bind on port 4040. Attempting port 4041.\n",
      "24/08/27 16:16:52 WARN Utils: Service 'SparkUI' could not bind on port 4041. Attempting port 4042.\n"
     ]
    }
   ],
   "source": [
    "from pyspark.sql import SparkSession\n",
    "\n",
    "# Create a spark session with increased memory allocation\n",
    "spark = (\n",
    "    SparkSession.builder.appName(\"ADS Project1\")\n",
    "    .config(\"spark.sql.repl.eagerEval.enabled\", True) \n",
    "    .config(\"spark.sql.parquet.cacheMetadata\", \"true\")\n",
    "    .config(\"spark.sql.session.timeZone\", \"Etc/UTC\")\n",
    "    .config(\"spark.driver.memory\", \"8g\")  # Set the driver memory to 8GB\n",
    "    .config(\"spark.executor.memory\", \"8g\")  # Set the executor memory to 8GB\n",
    "    .getOrCreate()\n",
    ")\n"
   ]
  },
  {
   "cell_type": "code",
   "execution_count": 11,
   "metadata": {},
   "outputs": [],
   "source": [
    "# Read the parquet file\n",
    "df = spark.read.parquet(\"../data/raw/tlc_data/combined.parquet\")"
   ]
  },
  {
   "cell_type": "code",
   "execution_count": 12,
   "metadata": {},
   "outputs": [
    {
     "name": "stdout",
     "output_type": "stream",
     "text": [
      "root\n",
      " |-- VendorID: integer (nullable = true)\n",
      " |-- pickup_datetime: timestamp_ntz (nullable = true)\n",
      " |-- dropoff_datetime: timestamp_ntz (nullable = true)\n",
      " |-- passenger_count: long (nullable = true)\n",
      " |-- trip_distance: double (nullable = true)\n",
      " |-- RatecodeID: long (nullable = true)\n",
      " |-- store_and_fwd_flag: boolean (nullable = true)\n",
      " |-- PULocationID: integer (nullable = true)\n",
      " |-- DOLocationID: integer (nullable = true)\n",
      " |-- payment_type: long (nullable = true)\n",
      " |-- fare_amount: double (nullable = true)\n",
      " |-- extra: double (nullable = true)\n",
      " |-- mta_tax: double (nullable = true)\n",
      " |-- tip_amount: double (nullable = true)\n",
      " |-- tolls_amount: double (nullable = true)\n",
      " |-- improvement_surcharge: double (nullable = true)\n",
      " |-- total_amount: double (nullable = true)\n",
      " |-- congestion_surcharge: double (nullable = true)\n",
      " |-- ehail_fee: double (nullable = true)\n",
      " |-- trip_duration: double (nullable = true)\n",
      "\n"
     ]
    }
   ],
   "source": [
    "# Show the schema\n",
    "df.printSchema()"
   ]
  },
  {
   "cell_type": "code",
   "execution_count": 15,
   "metadata": {},
   "outputs": [
    {
     "name": "stdout",
     "output_type": "stream",
     "text": [
      "+-------------------+-------------------+---------------+-------------+------------------+------------+------------+-----------+-----+-------+----------+------------+---------------------+------------+--------------------+---------+-------------+------------+----------+-----------+---------------+-----------------+-------------------+\n",
      "|    pickup_datetime|   dropoff_datetime|passenger_count|trip_distance|store_and_fwd_flag|PULocationID|DOLocationID|fare_amount|extra|mta_tax|tip_amount|tolls_amount|improvement_surcharge|total_amount|congestion_surcharge|ehail_fee|trip_duration|pickup_month|pickup_day|pickup_hour|VendorID_onehot|RatecodeID_onehot|payment_type_onehot|\n",
      "+-------------------+-------------------+---------------+-------------+------------------+------------+------------+-----------+-----+-------+----------+------------+---------------------+------------+--------------------+---------+-------------+------------+----------+-----------+---------------+-----------------+-------------------+\n",
      "|2023-12-01 00:13:57|2023-12-01 00:23:38|              1|         1.75|             false|          68|          50|       12.1|  1.0|    0.5|       0.0|         0.0|                  1.0|        17.1|                 2.5|      0.0|         10.0|          12|         1|          0|  (1,[0],[1.0])|    (6,[0],[1.0])|      (3,[1],[1.0])|\n",
      "|2023-12-01 00:32:25|2023-12-01 00:48:09|              1|          3.6|             false|          48|          43|       17.7|  3.5|    0.5|      4.55|         0.0|                  1.0|       27.25|                 2.5|      0.0|         16.0|          12|         1|          0|      (1,[],[])|    (6,[0],[1.0])|      (3,[0],[1.0])|\n",
      "|2023-12-01 00:01:46|2023-12-01 00:30:48|              1|        10.28|             false|         170|          95|       44.3|  1.0|    0.5|     11.25|        6.94|                  1.0|       67.49|                 2.5|      0.0|         29.0|          12|         1|          0|  (1,[0],[1.0])|    (6,[0],[1.0])|      (3,[0],[1.0])|\n",
      "|2023-12-01 00:08:12|2023-12-01 00:21:54|              1|         2.66|             false|         163|         158|       14.9|  1.0|    0.5|      3.98|         0.0|                  1.0|       23.88|                 2.5|      0.0|         14.0|          12|         1|          0|  (1,[0],[1.0])|    (6,[0],[1.0])|      (3,[0],[1.0])|\n",
      "|2023-12-01 00:18:34|2023-12-01 00:42:30|              1|        15.43|             false|         132|         150|       59.0|  1.0|    0.5|       0.0|         0.0|                  1.0|       63.25|                 0.0|      0.0|         24.0|          12|         1|          0|  (1,[0],[1.0])|    (6,[0],[1.0])|      (3,[1],[1.0])|\n",
      "|2023-12-01 00:51:35|2023-12-01 01:00:54|              1|         2.11|             false|          79|         162|       12.1|  1.0|    0.5|      3.42|         0.0|                  1.0|       20.52|                 2.5|      0.0|          9.0|          12|         1|          0|  (1,[0],[1.0])|    (6,[0],[1.0])|      (3,[0],[1.0])|\n",
      "|2023-12-01 00:19:36|2023-12-01 00:29:40|              1|          2.7|             false|         142|         236|       14.2|  1.0|    0.5|      3.84|         0.0|                  1.0|       23.04|                 2.5|      0.0|         10.0|          12|         1|          0|  (1,[0],[1.0])|    (6,[0],[1.0])|      (3,[0],[1.0])|\n",
      "|2023-12-01 00:11:07|2023-12-01 00:19:14|              1|         1.83|             false|          79|         170|       10.7|  1.0|    0.5|      3.14|         0.0|                  1.0|       18.84|                 2.5|      0.0|          8.0|          12|         1|          0|  (1,[0],[1.0])|    (6,[0],[1.0])|      (3,[0],[1.0])|\n",
      "|2023-12-01 00:16:36|2023-12-01 00:19:59|              1|         1.13|             false|         236|         237|        6.5|  1.0|    0.5|      2.88|         0.0|                  1.0|       14.38|                 2.5|      0.0|          3.0|          12|         1|          0|  (1,[0],[1.0])|    (6,[0],[1.0])|      (3,[0],[1.0])|\n",
      "|2023-12-01 00:26:53|2023-12-01 00:33:00|              2|         0.67|             false|         161|         233|        7.2|  1.0|    0.5|       0.0|         0.0|                  1.0|        12.2|                 2.5|      0.0|          6.0|          12|         1|          0|  (1,[0],[1.0])|    (6,[0],[1.0])|      (3,[1],[1.0])|\n",
      "|2023-12-01 00:04:19|2023-12-01 00:10:03|              1|         0.89|             false|          68|         234|        7.2|  1.0|    0.5|       2.0|         0.0|                  1.0|        14.2|                 2.5|      0.0|          6.0|          12|         1|          0|  (1,[0],[1.0])|    (6,[0],[1.0])|      (3,[0],[1.0])|\n",
      "|2023-12-01 00:19:04|2023-12-01 00:46:04|              2|          3.0|             false|          48|         231|       25.4|  3.5|    0.5|      6.05|         0.0|                  1.0|       36.45|                 2.5|      0.0|         27.0|          12|         1|          0|      (1,[],[])|    (6,[0],[1.0])|      (3,[0],[1.0])|\n",
      "|2023-12-01 00:10:48|2023-12-01 00:37:43|              1|        15.71|             false|         132|         112|       59.0|  1.0|    0.5|      12.3|         0.0|                  1.0|       75.55|                 0.0|      0.0|         27.0|          12|         1|          0|  (1,[0],[1.0])|    (6,[0],[1.0])|      (3,[0],[1.0])|\n",
      "|2023-12-01 01:34:29|2023-12-01 01:47:38|              4|          2.5|             false|         158|         164|       14.9|  3.5|    0.5|       0.0|         0.0|                  1.0|        19.9|                 2.5|      0.0|         13.0|          12|         1|          1|      (1,[],[])|    (6,[0],[1.0])|      (3,[0],[1.0])|\n",
      "|2023-12-01 01:13:14|2023-12-01 01:18:06|              2|          0.8|             false|         237|         162|        7.2|  1.0|    0.5|       0.0|         0.0|                  1.0|        12.2|                 2.5|      0.0|          5.0|          12|         1|          1|  (1,[0],[1.0])|    (6,[0],[1.0])|      (3,[1],[1.0])|\n",
      "|2023-12-01 01:18:29|2023-12-01 01:28:02|              1|         1.79|             false|         114|          68|       11.4|  1.0|    0.5|      3.28|         0.0|                  1.0|       19.68|                 2.5|      0.0|         10.0|          12|         1|          1|  (1,[0],[1.0])|    (6,[0],[1.0])|      (3,[0],[1.0])|\n",
      "|2023-12-01 01:49:58|2023-12-01 02:09:45|              1|          4.8|             false|          43|         231|       24.0|  3.5|    0.5|       5.8|         0.0|                  1.0|        34.8|                 2.5|      0.0|         20.0|          12|         1|          1|      (1,[],[])|    (6,[0],[1.0])|      (3,[0],[1.0])|\n",
      "|2023-12-01 01:29:41|2023-12-01 01:35:43|              2|          1.0|             false|         148|         231|        7.9|  3.5|    0.5|       0.0|         0.0|                  1.0|        12.9|                 2.5|      0.0|          6.0|          12|         1|          1|      (1,[],[])|    (6,[0],[1.0])|      (3,[1],[1.0])|\n",
      "|2023-12-01 01:16:30|2023-12-01 01:21:41|              1|         1.21|             false|         114|         107|        7.9|  1.0|    0.5|      3.87|         0.0|                  1.0|       16.77|                 2.5|      0.0|          5.0|          12|         1|          1|  (1,[0],[1.0])|    (6,[0],[1.0])|      (3,[0],[1.0])|\n",
      "|2023-12-01 01:13:03|2023-12-01 01:20:54|              5|         1.32|             false|         164|          48|        9.3|  1.0|    0.5|      2.86|         0.0|                  1.0|       17.16|                 2.5|      0.0|          8.0|          12|         1|          1|  (1,[0],[1.0])|    (6,[0],[1.0])|      (3,[0],[1.0])|\n",
      "+-------------------+-------------------+---------------+-------------+------------------+------------+------------+-----------+-----+-------+----------+------------+---------------------+------------+--------------------+---------+-------------+------------+----------+-----------+---------------+-----------------+-------------------+\n",
      "only showing top 20 rows\n",
      "\n"
     ]
    }
   ],
   "source": [
    "from pyspark.ml.feature import StringIndexer, OneHotEncoder\n",
    "from pyspark.ml import Pipeline\n",
    "\n",
    "# Define the columns to be one-hot encoded\n",
    "columns_to_encode = ['VendorID', 'RatecodeID', 'payment_type']\n",
    "\n",
    "# StringIndexer for converting categorical string columns to indexed numeric columns\n",
    "indexers = [StringIndexer(inputCol=column, outputCol=column + \"_index\") for column in columns_to_encode]\n",
    "\n",
    "# OneHotEncoder for converting indexed numeric columns to one-hot encoded vectors\n",
    "encoders = [OneHotEncoder(inputCol=column + \"_index\", outputCol=column + \"_onehot\") for column in columns_to_encode]\n",
    "\n",
    "# Creating a pipeline to apply indexers and encoders sequentially\n",
    "pipeline = Pipeline(stages=indexers + encoders)\n",
    "\n",
    "# Fit and transform the dataframe\n",
    "df_encoded = pipeline.fit(df).transform(df)\n",
    "\n",
    "# Drop the original and indexed columns after encoding\n",
    "columns_to_drop = columns_to_encode + [column + \"_index\" for column in columns_to_encode]\n",
    "df_final = df_encoded.drop(*columns_to_drop)\n",
    "\n",
    "# Show the resulting DataFrame\n",
    "df_final.show()"
   ]
  }
 ],
 "metadata": {
  "kernelspec": {
   "display_name": "Python 3",
   "language": "python",
   "name": "python3"
  },
  "language_info": {
   "codemirror_mode": {
    "name": "ipython",
    "version": 3
   },
   "file_extension": ".py",
   "mimetype": "text/x-python",
   "name": "python",
   "nbconvert_exporter": "python",
   "pygments_lexer": "ipython3",
   "version": "3.12.1"
  }
 },
 "nbformat": 4,
 "nbformat_minor": 2
}
