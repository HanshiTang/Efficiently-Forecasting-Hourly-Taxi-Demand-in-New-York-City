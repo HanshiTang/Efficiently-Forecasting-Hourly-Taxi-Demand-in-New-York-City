{
 "cells": [
  {
   "cell_type": "code",
   "execution_count": null,
   "id": "ff8809d7",
   "metadata": {},
   "outputs": [],
   "source": [
    "# This is Proj1"
   ]
  },
  {
   "cell_type": "code",
   "execution_count": 1,
   "id": "91eccb13-0e7a-43bf-bb7f-c012a1da3f75",
   "metadata": {
    "editable": true,
    "slideshow": {
     "slide_type": ""
    },
    "tags": []
   },
   "outputs": [
    {
     "name": "stderr",
     "output_type": "stream",
     "text": [
      "24/08/11 00:43:05 WARN Utils: Your hostname, Hanshis-Laptop.local resolves to a loopback address: 127.0.0.1; using 100.94.176.147 instead (on interface en0)\n",
      "24/08/11 00:43:05 WARN Utils: Set SPARK_LOCAL_IP if you need to bind to another address\n",
      "Setting default log level to \"WARN\".\n",
      "To adjust logging level use sc.setLogLevel(newLevel). For SparkR, use setLogLevel(newLevel).\n",
      "24/08/11 00:43:05 WARN NativeCodeLoader: Unable to load native-hadoop library for your platform... using builtin-java classes where applicable\n"
     ]
    }
   ],
   "source": [
    "from pyspark.sql import SparkSession\n",
    "\n",
    "# Create a spark session (which will run spark jobs)\n",
    "spark = (\n",
    "    SparkSession.builder.appName(\"ADS Project1\")\n",
    "    .config(\"spark.sql.repl.eagerEval.enabled\", True) \n",
    "    .config(\"spark.sql.parquet.cacheMetadata\", \"true\")\n",
    "    .config(\"spark.sql.session.timeZone\", \"Etc/UTC\")\n",
    "    .getOrCreate()\n",
    ")"
   ]
  },
  {
   "cell_type": "code",
   "execution_count": 3,
   "id": "09910138-5d11-4f1a-9519-9ef381080689",
   "metadata": {},
   "outputs": [],
   "source": [
    "spark.conf.set(\"spark.sql.parquet.compression.codec\",\"gzip\")"
   ]
  },
  {
   "cell_type": "code",
   "execution_count": 4,
   "id": "73848e61",
   "metadata": {},
   "outputs": [],
   "source": [
    "from pyspark.sql import functions as F\n",
    "from pyspark.sql import SparkSession\n",
    "from pyspark.sql.functions import *\n",
    "import matplotlib.pyplot as plt\n",
    "import pandas as pd\n",
    "import numpy as np\n",
    "import seaborn as sbs\n",
    "import geopandas as gpd\n",
    "import folium"
   ]
  },
  {
   "cell_type": "code",
   "execution_count": 11,
   "id": "ff1e1c32",
   "metadata": {},
   "outputs": [],
   "source": [
    "import os\n",
    "base_dir = '../project-1-individual-HanshiTang/'"
   ]
  },
  {
   "cell_type": "code",
   "execution_count": 12,
   "id": "d23f50eb",
   "metadata": {},
   "outputs": [],
   "source": [
    "data_folders = [\n",
    "'data/raw/external',\n",
    "'data/raw/tlc_data/2019',\n",
    "'data/raw/tlc_data/2021',\n",
    "'data/curate/tlc_data/first_clean',\n",
    "'data/curate/tlc_data/final_data'\n",
    "]"
   ]
  },
  {
   "cell_type": "code",
   "execution_count": 13,
   "id": "fdc6837f",
   "metadata": {},
   "outputs": [
    {
     "name": "stdout",
     "output_type": "stream",
     "text": [
      "Created folder: ../project-1-individual-HanshiTang/data/raw/external\n",
      "Created folder: ../project-1-individual-HanshiTang/data/raw/tlc_data/2019\n",
      "Created folder: ../project-1-individual-HanshiTang/data/raw/tlc_data/2021\n",
      "Created folder: ../project-1-individual-HanshiTang/data/curate/tlc_data/first_clean\n",
      "Created folder: ../project-1-individual-HanshiTang/data/curate/tlc_data/final_data\n",
      "Created folder: ../project-1-individual-HanshiTang/notebooks\n"
     ]
    }
   ],
   "source": [
    "for folder in data_folders:\n",
    "    path = os.path.join(base_dir, folder)\n",
    "    if not os.path.exists(path):\n",
    "        os.makedirs(path)\n",
    "        print(f'Created folder: {path}')\n",
    "# 创建 notebooks 文件夹\n",
    "notebooks_folder = os.path.join(base_dir, 'notebooks')\n",
    "if not os.path.exists(notebooks_folder):\n",
    "    os.makedirs(notebooks_folder)\n",
    "    print(f'Created folder: {notebooks_folder}')"
   ]
  },
  {
   "cell_type": "code",
   "execution_count": null,
   "id": "9080070e",
   "metadata": {},
   "outputs": [],
   "source": [
    "import requests\n",
    "import os\n",
    "\n",
    "URL_TEMPLATE = \"https://d37ci6vzurychx.cloudfront.net/trip-data/yellow_tripdata_\"\n",
    "YEAR = ['2019', '2021']\n",
    "MONTH = range(1, 13)\n",
    "output_relative_dir = '../project/data/raw/tlc_data/'\n",
    "\n",
    "for year in YEAR:\n",
    "    for month in MONTH:\n",
    "        print(f'Starting download for {year}-{str(month).zfill(2)}')\n",
    "        month_str = str(month).zfill(2)\n",
    "        url = f'{URL_TEMPLATE}{year}-{month_str}.parquet'\n",
    "        output_dir = f\"{output_relative_dir}/{year}/{year}-{month_str}.parquet\"\n",
    "        \n",
    "        response = requests.get(url, verify=True)\n",
    "        with open(output_dir, 'wb') as file:\n",
    "            file.write(response.content)\n",
    "            \n",
    "        print(f'Finished download for {year}-{month_str}')\n"
   ]
  },
  {
   "cell_type": "code",
   "execution_count": 5,
   "id": "fa07b9e8",
   "metadata": {},
   "outputs": [],
   "source": [
    "# 读取2019年的Parquet文件\n",
    "df_2019 = spark.read.parquet('../data/raw/tlc_data/2019/*.parquet')\n"
   ]
  },
  {
   "cell_type": "code",
   "execution_count": 6,
   "id": "4249ad1b-40b8-4815-94a9-4d5947b9dd6f",
   "metadata": {},
   "outputs": [],
   "source": [
    "path = \"../data/raw/tlc_data/\"\n",
    "df_2019_1 = spark.read.parquet(path + \"/2019/2019-01.parquet\") "
   ]
  },
  {
   "cell_type": "code",
   "execution_count": 7,
   "id": "d6dd3388-105d-4999-a746-01b44eb776d1",
   "metadata": {},
   "outputs": [
    {
     "name": "stdout",
     "output_type": "stream",
     "text": [
      "+--------+--------------------+---------------------+---------------+-------------+----------+------------------+------------+------------+------------+-----------+-----+-------+----------+------------+---------------------+------------+--------------------+-----------+\n",
      "|VendorID|tpep_pickup_datetime|tpep_dropoff_datetime|passenger_count|trip_distance|RatecodeID|store_and_fwd_flag|PULocationID|DOLocationID|payment_type|fare_amount|extra|mta_tax|tip_amount|tolls_amount|improvement_surcharge|total_amount|congestion_surcharge|airport_fee|\n",
      "+--------+--------------------+---------------------+---------------+-------------+----------+------------------+------------+------------+------------+-----------+-----+-------+----------+------------+---------------------+------------+--------------------+-----------+\n",
      "|       1| 2019-01-01 00:46:40|  2019-01-01 00:53:20|            1.0|          1.5|       1.0|                 N|         151|         239|           1|        7.0|  0.5|    0.5|      1.65|         0.0|                  0.3|        9.95|                NULL|       NULL|\n",
      "|       1| 2019-01-01 00:59:47|  2019-01-01 01:18:59|            1.0|          2.6|       1.0|                 N|         239|         246|           1|       14.0|  0.5|    0.5|       1.0|         0.0|                  0.3|        16.3|                NULL|       NULL|\n",
      "|       2| 2018-12-21 13:48:30|  2018-12-21 13:52:40|            3.0|          0.0|       1.0|                 N|         236|         236|           1|        4.5|  0.5|    0.5|       0.0|         0.0|                  0.3|         5.8|                NULL|       NULL|\n",
      "|       2| 2018-11-28 15:52:25|  2018-11-28 15:55:45|            5.0|          0.0|       1.0|                 N|         193|         193|           2|        3.5|  0.5|    0.5|       0.0|         0.0|                  0.3|        7.55|                NULL|       NULL|\n",
      "|       2| 2018-11-28 15:56:57|  2018-11-28 15:58:33|            5.0|          0.0|       2.0|                 N|         193|         193|           2|       52.0|  0.0|    0.5|       0.0|         0.0|                  0.3|       55.55|                NULL|       NULL|\n",
      "|       2| 2018-11-28 16:25:49|  2018-11-28 16:28:26|            5.0|          0.0|       1.0|                 N|         193|         193|           2|        3.5|  0.5|    0.5|       0.0|        5.76|                  0.3|       13.31|                NULL|       NULL|\n",
      "|       2| 2018-11-28 16:29:37|  2018-11-28 16:33:43|            5.0|          0.0|       2.0|                 N|         193|         193|           2|       52.0|  0.0|    0.5|       0.0|         0.0|                  0.3|       55.55|                NULL|       NULL|\n",
      "|       1| 2019-01-01 00:21:28|  2019-01-01 00:28:37|            1.0|          1.3|       1.0|                 N|         163|         229|           1|        6.5|  0.5|    0.5|      1.25|         0.0|                  0.3|        9.05|                NULL|       NULL|\n",
      "|       1| 2019-01-01 00:32:01|  2019-01-01 00:45:39|            1.0|          3.7|       1.0|                 N|         229|           7|           1|       13.5|  0.5|    0.5|       3.7|         0.0|                  0.3|        18.5|                NULL|       NULL|\n",
      "|       1| 2019-01-01 00:57:32|  2019-01-01 01:09:32|            2.0|          2.1|       1.0|                 N|         141|         234|           1|       10.0|  0.5|    0.5|       1.7|         0.0|                  0.3|        13.0|                NULL|       NULL|\n",
      "+--------+--------------------+---------------------+---------------+-------------+----------+------------------+------------+------------+------------+-----------+-----+-------+----------+------------+---------------------+------------+--------------------+-----------+\n",
      "only showing top 10 rows\n",
      "\n"
     ]
    }
   ],
   "source": [
    "# 显示数据 \n",
    "df_2019_1.show(10)"
   ]
  },
  {
   "cell_type": "code",
   "execution_count": 8,
   "id": "c1c88869-10c8-4ac3-b035-1150781e97f7",
   "metadata": {},
   "outputs": [
    {
     "name": "stdout",
     "output_type": "stream",
     "text": [
      "root\n",
      " |-- VendorID: long (nullable = true)\n",
      " |-- tpep_pickup_datetime: timestamp_ntz (nullable = true)\n",
      " |-- tpep_dropoff_datetime: timestamp_ntz (nullable = true)\n",
      " |-- passenger_count: double (nullable = true)\n",
      " |-- trip_distance: double (nullable = true)\n",
      " |-- RatecodeID: double (nullable = true)\n",
      " |-- store_and_fwd_flag: string (nullable = true)\n",
      " |-- PULocationID: long (nullable = true)\n",
      " |-- DOLocationID: long (nullable = true)\n",
      " |-- payment_type: long (nullable = true)\n",
      " |-- fare_amount: double (nullable = true)\n",
      " |-- extra: double (nullable = true)\n",
      " |-- mta_tax: double (nullable = true)\n",
      " |-- tip_amount: double (nullable = true)\n",
      " |-- tolls_amount: double (nullable = true)\n",
      " |-- improvement_surcharge: double (nullable = true)\n",
      " |-- total_amount: double (nullable = true)\n",
      " |-- congestion_surcharge: double (nullable = true)\n",
      " |-- airport_fee: integer (nullable = true)\n",
      "\n"
     ]
    }
   ],
   "source": [
    "df_2019_1.printSchema()"
   ]
  },
  {
   "cell_type": "code",
   "execution_count": 17,
   "id": "66fede74-c3f7-48d7-89b2-d60bdca98a02",
   "metadata": {},
   "outputs": [
    {
     "name": "stdout",
     "output_type": "stream",
     "text": [
      "+--------+--------------------+---------------------+---------------+-------------+----------+------------------+------------+------------+------------+-----------+-----+-------+----------+------------+---------------------+------------+--------------------+-----------+\n",
      "|VendorID|tpep_pickup_datetime|tpep_dropoff_datetime|passenger_count|trip_distance|RatecodeID|store_and_fwd_flag|PULocationID|DOLocationID|payment_type|fare_amount|extra|mta_tax|tip_amount|tolls_amount|improvement_surcharge|total_amount|congestion_surcharge|airport_fee|\n",
      "+--------+--------------------+---------------------+---------------+-------------+----------+------------------+------------+------------+------------+-----------+-----+-------+----------+------------+---------------------+------------+--------------------+-----------+\n",
      "|       1| 2019-01-01 00:19:55|  2019-01-01 00:57:56|            1.0|         12.3|       1.0|                 N|         138|          50|           1|       38.0|  0.5|    0.5|       4.0|        5.76|                  0.3|       49.06|                NULL|       NULL|\n",
      "|       2| 2019-01-01 00:08:20|  2019-01-01 00:41:51|            2.0|        19.13|       2.0|                 N|         132|         238|           1|       52.0|  0.0|    0.5|     11.71|        5.76|                  0.3|       70.27|                NULL|       NULL|\n",
      "|       1| 2019-01-01 00:41:07|  2019-01-01 01:51:53|            1.0|         11.2|       1.0|                 N|         141|          83|           2|       46.5|  0.5|    0.5|       0.0|         0.0|                  0.3|        47.8|                NULL|       NULL|\n",
      "|       2| 2019-01-01 00:35:25|  2019-01-01 01:14:21|            1.0|        18.15|       2.0|                 N|         132|         224|           1|       52.0|  0.0|    0.5|     11.71|        5.76|                  0.3|       70.27|                NULL|       NULL|\n",
      "|       1| 2019-01-01 00:04:06|  2019-01-01 00:38:55|            4.0|         18.1|       2.0|                 N|         132|         224|           1|       52.0|  0.0|    0.5|       5.0|         0.0|                  0.3|        57.8|                NULL|       NULL|\n",
      "+--------+--------------------+---------------------+---------------+-------------+----------+------------------+------------+------------+------------+-----------+-----+-------+----------+------------+---------------------+------------+--------------------+-----------+\n",
      "only showing top 5 rows\n",
      "\n"
     ]
    }
   ],
   "source": [
    "# 过滤数据\n",
    "df_2019_filtered = df_2019_1.filter(df_2019_1[\"trip_distance\"] > 10) \n",
    "df_2019_filtered.show(5)"
   ]
  },
  {
   "cell_type": "code",
   "execution_count": 18,
   "id": "b03c25bc-aea4-414c-90b9-705e57c3401e",
   "metadata": {},
   "outputs": [
    {
     "data": {
      "text/html": [
       "<table border='1'>\n",
       "<tr><th>(passenger_count &gt; 3)</th></tr>\n",
       "<tr><td>false</td></tr>\n",
       "<tr><td>false</td></tr>\n",
       "<tr><td>false</td></tr>\n",
       "<tr><td>false</td></tr>\n",
       "<tr><td>true</td></tr>\n",
       "<tr><td>false</td></tr>\n",
       "<tr><td>false</td></tr>\n",
       "<tr><td>true</td></tr>\n",
       "<tr><td>false</td></tr>\n",
       "<tr><td>false</td></tr>\n",
       "</table>\n"
      ],
      "text/plain": [
       "+---------------------+\n",
       "|(passenger_count > 3)|\n",
       "+---------------------+\n",
       "|                false|\n",
       "|                false|\n",
       "|                false|\n",
       "|                false|\n",
       "|                 true|\n",
       "|                false|\n",
       "|                false|\n",
       "|                 true|\n",
       "|                false|\n",
       "|                false|\n",
       "+---------------------+"
      ]
     },
     "execution_count": 18,
     "metadata": {},
     "output_type": "execute_result"
    }
   ],
   "source": [
    "df_2019_filtered.select(F.col('passenger_count') > 3).limit(10)"
   ]
  },
  {
   "cell_type": "code",
   "execution_count": 19,
   "id": "47057f92-bcc9-4d00-b229-307a993c5c2f",
   "metadata": {},
   "outputs": [
    {
     "data": {
      "text/html": [
       "<table border='1'>\n",
       "<tr><th>VendorID</th><th>tpep_pickup_datetime</th><th>tpep_dropoff_datetime</th><th>passenger_count</th><th>trip_distance</th><th>RatecodeID</th><th>store_and_fwd_flag</th><th>PULocationID</th><th>DOLocationID</th><th>payment_type</th><th>fare_amount</th><th>extra</th><th>mta_tax</th><th>tip_amount</th><th>tolls_amount</th><th>improvement_surcharge</th><th>total_amount</th><th>congestion_surcharge</th><th>airport_fee</th></tr>\n",
       "<tr><td>1</td><td>2019-01-01 00:04:06</td><td>2019-01-01 00:38:55</td><td>4.0</td><td>18.1</td><td>2.0</td><td>N</td><td>132</td><td>224</td><td>1</td><td>52.0</td><td>0.0</td><td>0.5</td><td>5.0</td><td>0.0</td><td>0.3</td><td>57.8</td><td>NULL</td><td>NULL</td></tr>\n",
       "<tr><td>2</td><td>2019-01-01 00:11:27</td><td>2019-01-01 00:46:29</td><td>5.0</td><td>21.42</td><td>2.0</td><td>N</td><td>132</td><td>87</td><td>1</td><td>52.0</td><td>0.0</td><td>0.5</td><td>11.71</td><td>5.76</td><td>0.3</td><td>70.27</td><td>NULL</td><td>NULL</td></tr>\n",
       "<tr><td>2</td><td>2019-01-01 00:51:30</td><td>2019-01-01 01:26:34</td><td>6.0</td><td>16.71</td><td>1.0</td><td>N</td><td>262</td><td>16</td><td>1</td><td>47.0</td><td>0.5</td><td>0.5</td><td>0.0</td><td>0.0</td><td>0.3</td><td>48.3</td><td>NULL</td><td>NULL</td></tr>\n",
       "<tr><td>1</td><td>2019-01-01 00:36:29</td><td>2019-01-01 01:22:12</td><td>4.0</td><td>12.0</td><td>1.0</td><td>N</td><td>264</td><td>264</td><td>2</td><td>40.5</td><td>0.0</td><td>0.5</td><td>0.0</td><td>0.0</td><td>0.3</td><td>41.3</td><td>NULL</td><td>NULL</td></tr>\n",
       "<tr><td>1</td><td>2019-01-01 00:20:16</td><td>2019-01-01 00:57:35</td><td>4.0</td><td>16.6</td><td>1.0</td><td>N</td><td>132</td><td>133</td><td>1</td><td>48.0</td><td>0.5</td><td>0.5</td><td>7.0</td><td>0.0</td><td>0.3</td><td>56.3</td><td>NULL</td><td>NULL</td></tr>\n",
       "<tr><td>2</td><td>2019-01-01 00:50:03</td><td>2019-01-01 01:19:35</td><td>5.0</td><td>20.11</td><td>1.0</td><td>N</td><td>132</td><td>51</td><td>2</td><td>53.5</td><td>0.5</td><td>0.5</td><td>0.0</td><td>5.76</td><td>0.3</td><td>60.56</td><td>NULL</td><td>NULL</td></tr>\n",
       "<tr><td>2</td><td>2019-01-01 00:28:07</td><td>2019-01-01 00:53:21</td><td>5.0</td><td>10.65</td><td>1.0</td><td>N</td><td>79</td><td>243</td><td>2</td><td>31.5</td><td>0.5</td><td>0.5</td><td>0.0</td><td>0.0</td><td>0.3</td><td>32.8</td><td>NULL</td><td>NULL</td></tr>\n",
       "<tr><td>2</td><td>2019-01-01 00:45:48</td><td>2019-01-01 01:32:26</td><td>6.0</td><td>14.25</td><td>1.0</td><td>N</td><td>186</td><td>123</td><td>1</td><td>46.5</td><td>0.5</td><td>0.5</td><td>9.56</td><td>0.0</td><td>0.3</td><td>57.36</td><td>NULL</td><td>NULL</td></tr>\n",
       "<tr><td>2</td><td>2019-01-01 00:49:11</td><td>2019-01-01 01:39:31</td><td>4.0</td><td>13.4</td><td>1.0</td><td>N</td><td>229</td><td>165</td><td>1</td><td>46.0</td><td>0.5</td><td>0.5</td><td>9.46</td><td>0.0</td><td>0.3</td><td>56.76</td><td>NULL</td><td>NULL</td></tr>\n",
       "<tr><td>2</td><td>2019-01-01 00:40:48</td><td>2019-01-01 01:21:23</td><td>5.0</td><td>18.54</td><td>1.0</td><td>N</td><td>25</td><td>200</td><td>1</td><td>52.5</td><td>0.5</td><td>0.5</td><td>0.0</td><td>0.0</td><td>0.3</td><td>53.8</td><td>NULL</td><td>NULL</td></tr>\n",
       "</table>\n"
      ],
      "text/plain": [
       "+--------+--------------------+---------------------+---------------+-------------+----------+------------------+------------+------------+------------+-----------+-----+-------+----------+------------+---------------------+------------+--------------------+-----------+\n",
       "|VendorID|tpep_pickup_datetime|tpep_dropoff_datetime|passenger_count|trip_distance|RatecodeID|store_and_fwd_flag|PULocationID|DOLocationID|payment_type|fare_amount|extra|mta_tax|tip_amount|tolls_amount|improvement_surcharge|total_amount|congestion_surcharge|airport_fee|\n",
       "+--------+--------------------+---------------------+---------------+-------------+----------+------------------+------------+------------+------------+-----------+-----+-------+----------+------------+---------------------+------------+--------------------+-----------+\n",
       "|       1| 2019-01-01 00:04:06|  2019-01-01 00:38:55|            4.0|         18.1|       2.0|                 N|         132|         224|           1|       52.0|  0.0|    0.5|       5.0|         0.0|                  0.3|        57.8|                NULL|       NULL|\n",
       "|       2| 2019-01-01 00:11:27|  2019-01-01 00:46:29|            5.0|        21.42|       2.0|                 N|         132|          87|           1|       52.0|  0.0|    0.5|     11.71|        5.76|                  0.3|       70.27|                NULL|       NULL|\n",
       "|       2| 2019-01-01 00:51:30|  2019-01-01 01:26:34|            6.0|        16.71|       1.0|                 N|         262|          16|           1|       47.0|  0.5|    0.5|       0.0|         0.0|                  0.3|        48.3|                NULL|       NULL|\n",
       "|       1| 2019-01-01 00:36:29|  2019-01-01 01:22:12|            4.0|         12.0|       1.0|                 N|         264|         264|           2|       40.5|  0.0|    0.5|       0.0|         0.0|                  0.3|        41.3|                NULL|       NULL|\n",
       "|       1| 2019-01-01 00:20:16|  2019-01-01 00:57:35|            4.0|         16.6|       1.0|                 N|         132|         133|           1|       48.0|  0.5|    0.5|       7.0|         0.0|                  0.3|        56.3|                NULL|       NULL|\n",
       "|       2| 2019-01-01 00:50:03|  2019-01-01 01:19:35|            5.0|        20.11|       1.0|                 N|         132|          51|           2|       53.5|  0.5|    0.5|       0.0|        5.76|                  0.3|       60.56|                NULL|       NULL|\n",
       "|       2| 2019-01-01 00:28:07|  2019-01-01 00:53:21|            5.0|        10.65|       1.0|                 N|          79|         243|           2|       31.5|  0.5|    0.5|       0.0|         0.0|                  0.3|        32.8|                NULL|       NULL|\n",
       "|       2| 2019-01-01 00:45:48|  2019-01-01 01:32:26|            6.0|        14.25|       1.0|                 N|         186|         123|           1|       46.5|  0.5|    0.5|      9.56|         0.0|                  0.3|       57.36|                NULL|       NULL|\n",
       "|       2| 2019-01-01 00:49:11|  2019-01-01 01:39:31|            4.0|         13.4|       1.0|                 N|         229|         165|           1|       46.0|  0.5|    0.5|      9.46|         0.0|                  0.3|       56.76|                NULL|       NULL|\n",
       "|       2| 2019-01-01 00:40:48|  2019-01-01 01:21:23|            5.0|        18.54|       1.0|                 N|          25|         200|           1|       52.5|  0.5|    0.5|       0.0|         0.0|                  0.3|        53.8|                NULL|       NULL|\n",
       "+--------+--------------------+---------------------+---------------+-------------+----------+------------------+------------+------------+------------+-----------+-----+-------+----------+------------+---------------------+------------+--------------------+-----------+"
      ]
     },
     "execution_count": 19,
     "metadata": {},
     "output_type": "execute_result"
    }
   ],
   "source": [
    "df_2019_filtered.where(F.col('passenger_count') > 3).limit(10)"
   ]
  },
  {
   "cell_type": "code",
   "execution_count": 21,
   "id": "43c908bb-1adb-48aa-9417-992c3c6ce43f",
   "metadata": {},
   "outputs": [
    {
     "name": "stdout",
     "output_type": "stream",
     "text": [
      "+--------+--------------------+---------------------+---------------+-------------+----------+------------------+------------+------------+------------+-----------+-----+-------+----------+------------+---------------------+------------+--------------------+-----------+\n",
      "|VendorID|tpep_pickup_datetime|tpep_dropoff_datetime|passenger_count|trip_distance|RatecodeID|store_and_fwd_flag|PULocationID|DOLocationID|payment_type|fare_amount|extra|mta_tax|tip_amount|tolls_amount|improvement_surcharge|total_amount|congestion_surcharge|airport_fee|\n",
      "+--------+--------------------+---------------------+---------------+-------------+----------+------------------+------------+------------+------------+-----------+-----+-------+----------+------------+---------------------+------------+--------------------+-----------+\n",
      "|       1| 2019-01-01 00:46:40|  2019-01-01 00:53:20|            1.0|          1.5|       1.0|                 N|         151|         239|           1|        7.0|  0.5|    0.5|      1.65|         0.0|                  0.3|        9.95|                NULL|       NULL|\n",
      "|       1| 2019-01-01 00:59:47|  2019-01-01 01:18:59|            1.0|          2.6|       1.0|                 N|         239|         246|           1|       14.0|  0.5|    0.5|       1.0|         0.0|                  0.3|        16.3|                NULL|       NULL|\n",
      "|       2| 2018-12-21 13:48:30|  2018-12-21 13:52:40|            3.0|          0.0|       1.0|                 N|         236|         236|           1|        4.5|  0.5|    0.5|       0.0|         0.0|                  0.3|         5.8|                NULL|       NULL|\n",
      "|       2| 2018-11-28 15:52:25|  2018-11-28 15:55:45|            5.0|          0.0|       1.0|                 N|         193|         193|           2|        3.5|  0.5|    0.5|       0.0|         0.0|                  0.3|        7.55|                NULL|       NULL|\n",
      "|       2| 2018-11-28 15:56:57|  2018-11-28 15:58:33|            5.0|          0.0|       2.0|                 N|         193|         193|           2|       52.0|  0.0|    0.5|       0.0|         0.0|                  0.3|       55.55|                NULL|       NULL|\n",
      "|       2| 2018-11-28 16:25:49|  2018-11-28 16:28:26|            5.0|          0.0|       1.0|                 N|         193|         193|           2|        3.5|  0.5|    0.5|       0.0|        5.76|                  0.3|       13.31|                NULL|       NULL|\n",
      "|       2| 2018-11-28 16:29:37|  2018-11-28 16:33:43|            5.0|          0.0|       2.0|                 N|         193|         193|           2|       52.0|  0.0|    0.5|       0.0|         0.0|                  0.3|       55.55|                NULL|       NULL|\n",
      "|       1| 2019-01-01 00:21:28|  2019-01-01 00:28:37|            1.0|          1.3|       1.0|                 N|         163|         229|           1|        6.5|  0.5|    0.5|      1.25|         0.0|                  0.3|        9.05|                NULL|       NULL|\n",
      "|       1| 2019-01-01 00:32:01|  2019-01-01 00:45:39|            1.0|          3.7|       1.0|                 N|         229|           7|           1|       13.5|  0.5|    0.5|       3.7|         0.0|                  0.3|        18.5|                NULL|       NULL|\n",
      "|       1| 2019-01-01 00:57:32|  2019-01-01 01:09:32|            2.0|          2.1|       1.0|                 N|         141|         234|           1|       10.0|  0.5|    0.5|       1.7|         0.0|                  0.3|        13.0|                NULL|       NULL|\n",
      "+--------+--------------------+---------------------+---------------+-------------+----------+------------------+------------+------------+------------+-----------+-----+-------+----------+------------+---------------------+------------+--------------------+-----------+\n",
      "only showing top 10 rows\n",
      "\n"
     ]
    }
   ],
   "source": [
    "# 合并2019年和2021年的数据\n",
    " df_all = df_2019_1.union(df_2021_1)\n",
    " df_all.show(10)"
   ]
  },
  {
   "cell_type": "markdown",
   "id": "7ce1b9b8-0392-4528-baf6-f10cc9dfa7a0",
   "metadata": {},
   "source": [
    "## Add new column ##"
   ]
  },
  {
   "cell_type": "code",
   "execution_count": 27,
   "id": "b84b5ad6-117e-4332-b55f-6217ca4a492f",
   "metadata": {},
   "outputs": [
    {
     "name": "stdout",
     "output_type": "stream",
     "text": [
      "+--------+--------------------+---------------------+---------------+-------------+-----------+------------------+------------+------------+------------+-----------+-----+-------+----------+------------+---------------------+------------+--------------------+-----------+\n",
      "|VendorID|tpep_pickup_datetime|tpep_dropoff_datetime|passenger_count|trip_distance|Rate_codeID|store_and_fwd_flag|PULocationID|DOLocationID|payment_type|fare_amount|extra|mta_tax|tip_amount|tolls_amount|improvement_surcharge|total_amount|congestion_surcharge|airport_fee|\n",
      "+--------+--------------------+---------------------+---------------+-------------+-----------+------------------+------------+------------+------------+-----------+-----+-------+----------+------------+---------------------+------------+--------------------+-----------+\n",
      "|       1| 2019-01-01 00:46:40|  2019-01-01 00:53:20|            1.0|          1.5|        1.0|                 N|         151|         239|           1|        7.0|  0.5|    0.5|      1.65|         0.0|                  0.3|        9.95|                NULL|       NULL|\n",
      "|       1| 2019-01-01 00:59:47|  2019-01-01 01:18:59|            1.0|          2.6|        1.0|                 N|         239|         246|           1|       14.0|  0.5|    0.5|       1.0|         0.0|                  0.3|        16.3|                NULL|       NULL|\n",
      "|       2| 2018-12-21 13:48:30|  2018-12-21 13:52:40|            3.0|          0.0|        1.0|                 N|         236|         236|           1|        4.5|  0.5|    0.5|       0.0|         0.0|                  0.3|         5.8|                NULL|       NULL|\n",
      "|       2| 2018-11-28 15:52:25|  2018-11-28 15:55:45|            5.0|          0.0|        1.0|                 N|         193|         193|           2|        3.5|  0.5|    0.5|       0.0|         0.0|                  0.3|        7.55|                NULL|       NULL|\n",
      "|       2| 2018-11-28 15:56:57|  2018-11-28 15:58:33|            5.0|          0.0|        2.0|                 N|         193|         193|           2|       52.0|  0.0|    0.5|       0.0|         0.0|                  0.3|       55.55|                NULL|       NULL|\n",
      "+--------+--------------------+---------------------+---------------+-------------+-----------+------------------+------------+------------+------------+-----------+-----+-------+----------+------------+---------------------+------------+--------------------+-----------+\n",
      "only showing top 5 rows\n",
      "\n"
     ]
    }
   ],
   "source": [
    "df_renamed = df_all.withColumnRenamed(\"RatecodeID\", \"Rate_codeID\") \n",
    "df_renamed.show(5)"
   ]
  },
  {
   "cell_type": "code",
   "execution_count": null,
   "id": "5eb6d70f-f7e8-4392-897f-1917e780eb5a",
   "metadata": {},
   "outputs": [],
   "source": [
    "df_dropped = df_all.drop(\"passenger_count_plus_10\")\n",
    "df_dropped.show(5) "
   ]
  },
  {
   "cell_type": "code",
   "execution_count": 29,
   "id": "b35bc5a6-aeef-4221-b835-2a70703d3230",
   "metadata": {},
   "outputs": [
    {
     "name": "stderr",
     "output_type": "stream",
     "text": [
      "[Stage 24:====================================================>   (13 + 1) / 14]\r"
     ]
    },
    {
     "name": "stdout",
     "output_type": "stream",
     "text": [
      "+--------+----------+--------------------+\n",
      "|VendorID|max(extra)|avg(passenger_count)|\n",
      "+--------+----------+--------------------+\n",
      "|       5|       0.0|                NULL|\n",
      "|       1|    535.38|   1.192631892580005|\n",
      "|       2|      8.25|  1.7661998605113918|\n",
      "|       4|      18.5|  1.0244848547960896|\n",
      "|       6|      6.69|                NULL|\n",
      "+--------+----------+--------------------+\n",
      "\n"
     ]
    },
    {
     "name": "stderr",
     "output_type": "stream",
     "text": [
      "                                                                                \r"
     ]
    }
   ],
   "source": [
    "df_all.groupBy(\"VendorID\").agg({\"passenger_count\": \"avg\", \"extra\": \"max\"}).show()"
   ]
  },
  {
   "cell_type": "markdown",
   "id": "c846386e-10d3-4aba-8ace-57ed6cce8350",
   "metadata": {},
   "source": [
    "## Sampling Data"
   ]
  },
  {
   "cell_type": "code",
   "execution_count": 30,
   "id": "a0c28f8a-36dd-4021-aa29-be02f27faf05",
   "metadata": {},
   "outputs": [],
   "source": [
    "SAMPLE_SIZE = 0.01"
   ]
  },
  {
   "cell_type": "code",
   "execution_count": 31,
   "id": "7458b738-1eb7-4c1d-a7af-6aa9d1f59543",
   "metadata": {},
   "outputs": [
    {
     "name": "stderr",
     "output_type": "stream",
     "text": [
      "Java HotSpot(TM) 64-Bit Server VM warning: CodeCache is full. Compiler has been disabled.\n",
      "Java HotSpot(TM) 64-Bit Server VM warning: Try increasing the code cache size using -XX:ReservedCodeCacheSize=\n",
      "[Stage 27:================================================>       (12 + 2) / 14]\r"
     ]
    },
    {
     "name": "stdout",
     "output_type": "stream",
     "text": [
      "CodeCache: size=131072Kb used=35360Kb max_used=35395Kb free=95711Kb\n",
      " bounds [0x0000000105fe0000, 0x0000000108320000, 0x000000010dfe0000]\n",
      " total_blobs=12835 nmethods=11818 adapters=928\n",
      " compilation: disabled (not enough contiguous free space left)\n"
     ]
    },
    {
     "name": "stderr",
     "output_type": "stream",
     "text": [
      "                                                                                \r"
     ]
    },
    {
     "data": {
      "text/html": [
       "<div>\n",
       "<style scoped>\n",
       "    .dataframe tbody tr th:only-of-type {\n",
       "        vertical-align: middle;\n",
       "    }\n",
       "\n",
       "    .dataframe tbody tr th {\n",
       "        vertical-align: top;\n",
       "    }\n",
       "\n",
       "    .dataframe thead th {\n",
       "        text-align: right;\n",
       "    }\n",
       "</style>\n",
       "<table border=\"1\" class=\"dataframe\">\n",
       "  <thead>\n",
       "    <tr style=\"text-align: right;\">\n",
       "      <th></th>\n",
       "      <th>VendorID</th>\n",
       "      <th>tpep_pickup_datetime</th>\n",
       "      <th>tpep_dropoff_datetime</th>\n",
       "      <th>passenger_count</th>\n",
       "      <th>trip_distance</th>\n",
       "      <th>RatecodeID</th>\n",
       "      <th>store_and_fwd_flag</th>\n",
       "      <th>PULocationID</th>\n",
       "      <th>DOLocationID</th>\n",
       "      <th>payment_type</th>\n",
       "      <th>fare_amount</th>\n",
       "      <th>extra</th>\n",
       "      <th>mta_tax</th>\n",
       "      <th>tip_amount</th>\n",
       "      <th>tolls_amount</th>\n",
       "      <th>improvement_surcharge</th>\n",
       "      <th>total_amount</th>\n",
       "      <th>congestion_surcharge</th>\n",
       "      <th>airport_fee</th>\n",
       "    </tr>\n",
       "  </thead>\n",
       "  <tbody>\n",
       "    <tr>\n",
       "      <th>0</th>\n",
       "      <td>2</td>\n",
       "      <td>2018-12-21 13:48:30</td>\n",
       "      <td>2018-12-21 13:52:40</td>\n",
       "      <td>3.0</td>\n",
       "      <td>0.00</td>\n",
       "      <td>1.0</td>\n",
       "      <td>N</td>\n",
       "      <td>236</td>\n",
       "      <td>236</td>\n",
       "      <td>1</td>\n",
       "      <td>4.50</td>\n",
       "      <td>0.50</td>\n",
       "      <td>0.5</td>\n",
       "      <td>0.00</td>\n",
       "      <td>0.0</td>\n",
       "      <td>0.3</td>\n",
       "      <td>5.80</td>\n",
       "      <td>NaN</td>\n",
       "      <td>NaN</td>\n",
       "    </tr>\n",
       "    <tr>\n",
       "      <th>1</th>\n",
       "      <td>2</td>\n",
       "      <td>2019-01-01 00:17:31</td>\n",
       "      <td>2019-01-01 00:24:23</td>\n",
       "      <td>2.0</td>\n",
       "      <td>0.95</td>\n",
       "      <td>1.0</td>\n",
       "      <td>N</td>\n",
       "      <td>246</td>\n",
       "      <td>68</td>\n",
       "      <td>1</td>\n",
       "      <td>6.50</td>\n",
       "      <td>0.50</td>\n",
       "      <td>0.5</td>\n",
       "      <td>0.00</td>\n",
       "      <td>0.0</td>\n",
       "      <td>0.3</td>\n",
       "      <td>7.80</td>\n",
       "      <td>NaN</td>\n",
       "      <td>NaN</td>\n",
       "    </tr>\n",
       "    <tr>\n",
       "      <th>2</th>\n",
       "      <td>2</td>\n",
       "      <td>2019-01-01 00:01:07</td>\n",
       "      <td>2019-01-01 00:10:50</td>\n",
       "      <td>1.0</td>\n",
       "      <td>1.93</td>\n",
       "      <td>1.0</td>\n",
       "      <td>N</td>\n",
       "      <td>137</td>\n",
       "      <td>229</td>\n",
       "      <td>1</td>\n",
       "      <td>8.50</td>\n",
       "      <td>0.50</td>\n",
       "      <td>0.5</td>\n",
       "      <td>1.96</td>\n",
       "      <td>0.0</td>\n",
       "      <td>0.3</td>\n",
       "      <td>11.76</td>\n",
       "      <td>NaN</td>\n",
       "      <td>NaN</td>\n",
       "    </tr>\n",
       "    <tr>\n",
       "      <th>3</th>\n",
       "      <td>1</td>\n",
       "      <td>2019-01-01 00:58:45</td>\n",
       "      <td>2019-01-01 01:12:23</td>\n",
       "      <td>2.0</td>\n",
       "      <td>2.60</td>\n",
       "      <td>1.0</td>\n",
       "      <td>N</td>\n",
       "      <td>151</td>\n",
       "      <td>142</td>\n",
       "      <td>1</td>\n",
       "      <td>12.00</td>\n",
       "      <td>0.50</td>\n",
       "      <td>0.5</td>\n",
       "      <td>2.65</td>\n",
       "      <td>0.0</td>\n",
       "      <td>0.3</td>\n",
       "      <td>15.95</td>\n",
       "      <td>NaN</td>\n",
       "      <td>NaN</td>\n",
       "    </tr>\n",
       "    <tr>\n",
       "      <th>4</th>\n",
       "      <td>1</td>\n",
       "      <td>2019-01-01 00:21:03</td>\n",
       "      <td>2019-01-01 00:26:27</td>\n",
       "      <td>1.0</td>\n",
       "      <td>0.20</td>\n",
       "      <td>1.0</td>\n",
       "      <td>N</td>\n",
       "      <td>90</td>\n",
       "      <td>68</td>\n",
       "      <td>1</td>\n",
       "      <td>5.00</td>\n",
       "      <td>0.50</td>\n",
       "      <td>0.5</td>\n",
       "      <td>1.00</td>\n",
       "      <td>0.0</td>\n",
       "      <td>0.3</td>\n",
       "      <td>7.30</td>\n",
       "      <td>NaN</td>\n",
       "      <td>NaN</td>\n",
       "    </tr>\n",
       "    <tr>\n",
       "      <th>...</th>\n",
       "      <td>...</td>\n",
       "      <td>...</td>\n",
       "      <td>...</td>\n",
       "      <td>...</td>\n",
       "      <td>...</td>\n",
       "      <td>...</td>\n",
       "      <td>...</td>\n",
       "      <td>...</td>\n",
       "      <td>...</td>\n",
       "      <td>...</td>\n",
       "      <td>...</td>\n",
       "      <td>...</td>\n",
       "      <td>...</td>\n",
       "      <td>...</td>\n",
       "      <td>...</td>\n",
       "      <td>...</td>\n",
       "      <td>...</td>\n",
       "      <td>...</td>\n",
       "      <td>...</td>\n",
       "    </tr>\n",
       "    <tr>\n",
       "      <th>90595</th>\n",
       "      <td>2</td>\n",
       "      <td>2021-01-31 14:10:00</td>\n",
       "      <td>2021-01-31 14:25:00</td>\n",
       "      <td>NaN</td>\n",
       "      <td>2.45</td>\n",
       "      <td>NaN</td>\n",
       "      <td>None</td>\n",
       "      <td>18</td>\n",
       "      <td>254</td>\n",
       "      <td>0</td>\n",
       "      <td>21.95</td>\n",
       "      <td>2.75</td>\n",
       "      <td>0.5</td>\n",
       "      <td>0.00</td>\n",
       "      <td>0.0</td>\n",
       "      <td>0.3</td>\n",
       "      <td>25.50</td>\n",
       "      <td>NaN</td>\n",
       "      <td>NaN</td>\n",
       "    </tr>\n",
       "    <tr>\n",
       "      <th>90596</th>\n",
       "      <td>2</td>\n",
       "      <td>2021-01-31 14:24:08</td>\n",
       "      <td>2021-01-31 14:40:13</td>\n",
       "      <td>NaN</td>\n",
       "      <td>6.83</td>\n",
       "      <td>NaN</td>\n",
       "      <td>None</td>\n",
       "      <td>81</td>\n",
       "      <td>213</td>\n",
       "      <td>0</td>\n",
       "      <td>28.52</td>\n",
       "      <td>2.75</td>\n",
       "      <td>0.5</td>\n",
       "      <td>0.00</td>\n",
       "      <td>0.0</td>\n",
       "      <td>0.3</td>\n",
       "      <td>32.07</td>\n",
       "      <td>NaN</td>\n",
       "      <td>NaN</td>\n",
       "    </tr>\n",
       "    <tr>\n",
       "      <th>90597</th>\n",
       "      <td>1</td>\n",
       "      <td>2021-01-31 15:45:52</td>\n",
       "      <td>2021-01-31 16:00:53</td>\n",
       "      <td>NaN</td>\n",
       "      <td>0.00</td>\n",
       "      <td>NaN</td>\n",
       "      <td>None</td>\n",
       "      <td>90</td>\n",
       "      <td>236</td>\n",
       "      <td>0</td>\n",
       "      <td>11.70</td>\n",
       "      <td>0.00</td>\n",
       "      <td>0.5</td>\n",
       "      <td>2.25</td>\n",
       "      <td>0.0</td>\n",
       "      <td>0.3</td>\n",
       "      <td>19.25</td>\n",
       "      <td>NaN</td>\n",
       "      <td>NaN</td>\n",
       "    </tr>\n",
       "    <tr>\n",
       "      <th>90598</th>\n",
       "      <td>2</td>\n",
       "      <td>2021-01-31 18:05:00</td>\n",
       "      <td>2021-01-31 18:38:00</td>\n",
       "      <td>NaN</td>\n",
       "      <td>5.89</td>\n",
       "      <td>NaN</td>\n",
       "      <td>None</td>\n",
       "      <td>181</td>\n",
       "      <td>91</td>\n",
       "      <td>0</td>\n",
       "      <td>28.95</td>\n",
       "      <td>2.75</td>\n",
       "      <td>0.5</td>\n",
       "      <td>0.00</td>\n",
       "      <td>0.0</td>\n",
       "      <td>0.3</td>\n",
       "      <td>32.50</td>\n",
       "      <td>NaN</td>\n",
       "      <td>NaN</td>\n",
       "    </tr>\n",
       "    <tr>\n",
       "      <th>90599</th>\n",
       "      <td>2</td>\n",
       "      <td>2021-01-31 19:20:00</td>\n",
       "      <td>2021-01-31 19:45:00</td>\n",
       "      <td>NaN</td>\n",
       "      <td>5.69</td>\n",
       "      <td>NaN</td>\n",
       "      <td>None</td>\n",
       "      <td>188</td>\n",
       "      <td>231</td>\n",
       "      <td>0</td>\n",
       "      <td>39.70</td>\n",
       "      <td>0.00</td>\n",
       "      <td>0.5</td>\n",
       "      <td>0.00</td>\n",
       "      <td>0.0</td>\n",
       "      <td>0.3</td>\n",
       "      <td>43.00</td>\n",
       "      <td>NaN</td>\n",
       "      <td>NaN</td>\n",
       "    </tr>\n",
       "  </tbody>\n",
       "</table>\n",
       "<p>90600 rows × 19 columns</p>\n",
       "</div>"
      ],
      "text/plain": [
       "       VendorID tpep_pickup_datetime tpep_dropoff_datetime  passenger_count  \\\n",
       "0             2  2018-12-21 13:48:30   2018-12-21 13:52:40              3.0   \n",
       "1             2  2019-01-01 00:17:31   2019-01-01 00:24:23              2.0   \n",
       "2             2  2019-01-01 00:01:07   2019-01-01 00:10:50              1.0   \n",
       "3             1  2019-01-01 00:58:45   2019-01-01 01:12:23              2.0   \n",
       "4             1  2019-01-01 00:21:03   2019-01-01 00:26:27              1.0   \n",
       "...         ...                  ...                   ...              ...   \n",
       "90595         2  2021-01-31 14:10:00   2021-01-31 14:25:00              NaN   \n",
       "90596         2  2021-01-31 14:24:08   2021-01-31 14:40:13              NaN   \n",
       "90597         1  2021-01-31 15:45:52   2021-01-31 16:00:53              NaN   \n",
       "90598         2  2021-01-31 18:05:00   2021-01-31 18:38:00              NaN   \n",
       "90599         2  2021-01-31 19:20:00   2021-01-31 19:45:00              NaN   \n",
       "\n",
       "       trip_distance  RatecodeID store_and_fwd_flag  PULocationID  \\\n",
       "0               0.00         1.0                  N           236   \n",
       "1               0.95         1.0                  N           246   \n",
       "2               1.93         1.0                  N           137   \n",
       "3               2.60         1.0                  N           151   \n",
       "4               0.20         1.0                  N            90   \n",
       "...              ...         ...                ...           ...   \n",
       "90595           2.45         NaN               None            18   \n",
       "90596           6.83         NaN               None            81   \n",
       "90597           0.00         NaN               None            90   \n",
       "90598           5.89         NaN               None           181   \n",
       "90599           5.69         NaN               None           188   \n",
       "\n",
       "       DOLocationID  payment_type  fare_amount  extra  mta_tax  tip_amount  \\\n",
       "0               236             1         4.50   0.50      0.5        0.00   \n",
       "1                68             1         6.50   0.50      0.5        0.00   \n",
       "2               229             1         8.50   0.50      0.5        1.96   \n",
       "3               142             1        12.00   0.50      0.5        2.65   \n",
       "4                68             1         5.00   0.50      0.5        1.00   \n",
       "...             ...           ...          ...    ...      ...         ...   \n",
       "90595           254             0        21.95   2.75      0.5        0.00   \n",
       "90596           213             0        28.52   2.75      0.5        0.00   \n",
       "90597           236             0        11.70   0.00      0.5        2.25   \n",
       "90598            91             0        28.95   2.75      0.5        0.00   \n",
       "90599           231             0        39.70   0.00      0.5        0.00   \n",
       "\n",
       "       tolls_amount  improvement_surcharge  total_amount  \\\n",
       "0               0.0                    0.3          5.80   \n",
       "1               0.0                    0.3          7.80   \n",
       "2               0.0                    0.3         11.76   \n",
       "3               0.0                    0.3         15.95   \n",
       "4               0.0                    0.3          7.30   \n",
       "...             ...                    ...           ...   \n",
       "90595           0.0                    0.3         25.50   \n",
       "90596           0.0                    0.3         32.07   \n",
       "90597           0.0                    0.3         19.25   \n",
       "90598           0.0                    0.3         32.50   \n",
       "90599           0.0                    0.3         43.00   \n",
       "\n",
       "       congestion_surcharge  airport_fee  \n",
       "0                       NaN          NaN  \n",
       "1                       NaN          NaN  \n",
       "2                       NaN          NaN  \n",
       "3                       NaN          NaN  \n",
       "4                       NaN          NaN  \n",
       "...                     ...          ...  \n",
       "90595                   NaN          NaN  \n",
       "90596                   NaN          NaN  \n",
       "90597                   NaN          NaN  \n",
       "90598                   NaN          NaN  \n",
       "90599                   NaN          NaN  \n",
       "\n",
       "[90600 rows x 19 columns]"
      ]
     },
     "execution_count": 31,
     "metadata": {},
     "output_type": "execute_result"
    }
   ],
   "source": [
    "df = df_all.sample(SAMPLE_SIZE, seed = 20020223).toPandas() \n",
    "df"
   ]
  },
  {
   "cell_type": "markdown",
   "id": "7b6038a7-c67f-40f6-949e-81302dcf517b",
   "metadata": {},
   "source": [
    "## Pre-Processing"
   ]
  },
  {
   "cell_type": "code",
   "execution_count": 36,
   "id": "5f6b4c5a-8fe4-4524-a8ba-4301a1fd809d",
   "metadata": {},
   "outputs": [
    {
     "name": "stdout",
     "output_type": "stream",
     "text": [
      "+--------+--------------------+---------------------+---------------+-------------+----------+------------------+------------+------------+------------+-----------+-----+-------+----------+------------+---------------------+------------+--------------------+-----------+\n",
      "|VendorID|tpep_pickup_datetime|tpep_dropoff_datetime|passenger_count|trip_distance|RatecodeID|store_and_fwd_flag|PULocationID|DOLocationID|payment_type|fare_amount|extra|mta_tax|tip_amount|tolls_amount|improvement_surcharge|total_amount|congestion_surcharge|airport_fee|\n",
      "+--------+--------------------+---------------------+---------------+-------------+----------+------------------+------------+------------+------------+-----------+-----+-------+----------+------------+---------------------+------------+--------------------+-----------+\n",
      "|       1| 2019-01-01 00:46:40|  2019-01-01 00:53:20|            1.0|          1.5|       1.0|                 N|         151|         239|           1|        7.0|  0.5|    0.5|      1.65|         0.0|                  0.3|        9.95|                NULL|       NULL|\n",
      "|       1| 2019-01-01 00:59:47|  2019-01-01 01:18:59|            1.0|          2.6|       1.0|                 N|         239|         246|           1|       14.0|  0.5|    0.5|       1.0|         0.0|                  0.3|        16.3|                NULL|       NULL|\n",
      "|       2| 2018-12-21 13:48:30|  2018-12-21 13:52:40|            3.0|          0.0|       1.0|                 N|         236|         236|           1|        4.5|  0.5|    0.5|       0.0|         0.0|                  0.3|         5.8|                NULL|       NULL|\n",
      "|       2| 2018-11-28 15:52:25|  2018-11-28 15:55:45|            5.0|          0.0|       1.0|                 N|         193|         193|           2|        3.5|  0.5|    0.5|       0.0|         0.0|                  0.3|        7.55|                NULL|       NULL|\n",
      "|       2| 2018-11-28 15:56:57|  2018-11-28 15:58:33|            5.0|          0.0|       2.0|                 N|         193|         193|           2|       52.0|  0.0|    0.5|       0.0|         0.0|                  0.3|       55.55|                NULL|       NULL|\n",
      "+--------+--------------------+---------------------+---------------+-------------+----------+------------------+------------+------------+------------+-----------+-----+-------+----------+------------+---------------------+------------+--------------------+-----------+\n",
      "only showing top 5 rows\n",
      "\n"
     ]
    }
   ],
   "source": [
    "df_2019_1.show(5)"
   ]
  },
  {
   "cell_type": "code",
   "execution_count": 49,
   "id": "0db2c9d0-0c60-4537-978e-e3e5b8f56f53",
   "metadata": {
    "scrolled": true
   },
   "outputs": [
    {
     "name": "stdout",
     "output_type": "stream",
     "text": [
      "root\n",
      " |-- VendorID: long (nullable = true)\n",
      " |-- tpep_pickup_datetime: timestamp_ntz (nullable = true)\n",
      " |-- tpep_dropoff_datetime: timestamp_ntz (nullable = true)\n",
      " |-- passenger_count: integer (nullable = true)\n",
      " |-- trip_distance: double (nullable = false)\n",
      " |-- RatecodeID: double (nullable = true)\n",
      " |-- store_and_fwd_flag: string (nullable = true)\n",
      " |-- PULocationID: long (nullable = true)\n",
      " |-- DOLocationID: long (nullable = true)\n",
      " |-- payment_type: long (nullable = true)\n",
      " |-- fare_amount: double (nullable = true)\n",
      " |-- extra: double (nullable = true)\n",
      " |-- mta_tax: double (nullable = true)\n",
      " |-- tip_amount: double (nullable = true)\n",
      " |-- tolls_amount: double (nullable = true)\n",
      " |-- improvement_surcharge: double (nullable = true)\n",
      " |-- total_amount: double (nullable = true)\n",
      " |-- congestion_surcharge: double (nullable = true)\n",
      " |-- airport_fee: integer (nullable = true)\n",
      "\n"
     ]
    },
    {
     "name": "stderr",
     "output_type": "stream",
     "text": [
      "                                                                                \r"
     ]
    },
    {
     "name": "stdout",
     "output_type": "stream",
     "text": [
      "数据总量: 0\n"
     ]
    },
    {
     "name": "stderr",
     "output_type": "stream",
     "text": [
      "[Stage 39:==================================================>       (7 + 1) / 8]\r"
     ]
    },
    {
     "name": "stdout",
     "output_type": "stream",
     "text": [
      "+-------+--------+---------------+-------------+----------+------------------+------------+------------+------------+-----------+-----+-------+----------+------------+---------------------+------------+--------------------+-----------+\n",
      "|summary|VendorID|passenger_count|trip_distance|RatecodeID|store_and_fwd_flag|PULocationID|DOLocationID|payment_type|fare_amount|extra|mta_tax|tip_amount|tolls_amount|improvement_surcharge|total_amount|congestion_surcharge|airport_fee|\n",
      "+-------+--------+---------------+-------------+----------+------------------+------------+------------+------------+-----------+-----+-------+----------+------------+---------------------+------------+--------------------+-----------+\n",
      "|  count|       0|              0|            0|         0|                 0|           0|           0|           0|          0|    0|      0|         0|           0|                    0|           0|                   0|          0|\n",
      "|   mean|    NULL|           NULL|         NULL|      NULL|              NULL|        NULL|        NULL|        NULL|       NULL| NULL|   NULL|      NULL|        NULL|                 NULL|        NULL|                NULL|       NULL|\n",
      "| stddev|    NULL|           NULL|         NULL|      NULL|              NULL|        NULL|        NULL|        NULL|       NULL| NULL|   NULL|      NULL|        NULL|                 NULL|        NULL|                NULL|       NULL|\n",
      "|    min|    NULL|           NULL|         NULL|      NULL|              NULL|        NULL|        NULL|        NULL|       NULL| NULL|   NULL|      NULL|        NULL|                 NULL|        NULL|                NULL|       NULL|\n",
      "|    max|    NULL|           NULL|         NULL|      NULL|              NULL|        NULL|        NULL|        NULL|       NULL| NULL|   NULL|      NULL|        NULL|                 NULL|        NULL|                NULL|       NULL|\n",
      "+-------+--------+---------------+-------------+----------+------------------+------------+------------+------------+-----------+-----+-------+----------+------------+---------------------+------------+--------------------+-----------+\n",
      "\n"
     ]
    },
    {
     "name": "stderr",
     "output_type": "stream",
     "text": [
      "                                                                                \r"
     ]
    }
   ],
   "source": [
    "df_2019_1.printSchema() \n",
    "print(f\"数据总量: {df_2019_1.count()}\") \n",
    "df_2019_1.describe().show()"
   ]
  },
  {
   "cell_type": "markdown",
   "id": "3e2369b2-defd-423c-9c54-cdf5c5cb9361",
   "metadata": {},
   "source": [
    "## handling missing data "
   ]
  },
  {
   "cell_type": "code",
   "execution_count": 37,
   "id": "990ad4d4-8c9d-4d8a-bfbc-747b164a6302",
   "metadata": {},
   "outputs": [],
   "source": [
    "df_2019_1 = df_2019_1.dropna()\n",
    "df_2019_1 = df_2019_1.fillna({'passenger_count': 1, 'trip_distance': 0.0})"
   ]
  },
  {
   "cell_type": "markdown",
   "id": "a49b3b1f-db6d-42a5-a063-deabffcc8b30",
   "metadata": {},
   "source": [
    "## Datatype Conversion"
   ]
  },
  {
   "cell_type": "code",
   "execution_count": 40,
   "id": "f578ffea-2115-465e-9c51-a9eefa992043",
   "metadata": {},
   "outputs": [],
   "source": [
    "df_2019_1 = df_2019_1.withColumn(\"passenger_count\", col(\"passenger_count\").cast(\"integer\"))\n",
    "df_2019_1 = df_2019_1.withColumn(\"tpep_pickup_datetime\", col(\"tpep_pickup_datetime\")) \n",
    "df_2019_1 = df_2019_1.withColumn(\"tpep_dropoff_datetime\", col(\"tpep_dropoff_datetime\"))  "
   ]
  },
  {
   "cell_type": "markdown",
   "id": "3ec5e7d3-3f5b-422c-8e53-b38cf95b8160",
   "metadata": {},
   "source": [
    "## Handling duplicates"
   ]
  },
  {
   "cell_type": "code",
   "execution_count": 41,
   "id": "37f891ca-ea3f-40dd-bbd4-42b8e0a6c35e",
   "metadata": {},
   "outputs": [],
   "source": [
    "df_2019_1 = df_2019_1.dropDuplicates()"
   ]
  },
  {
   "cell_type": "markdown",
   "id": "26834f0e-080e-4cd1-990e-8b7e102092bf",
   "metadata": {},
   "source": [
    "## Anomaly "
   ]
  },
  {
   "cell_type": "code",
   "execution_count": 47,
   "id": "a03cd7d4-30c6-44fa-b443-c043554c6146",
   "metadata": {},
   "outputs": [],
   "source": [
    "trip_distance_min = 0\n",
    "trip_distance_max = 100\n",
    "df_2019_1 = df_2019_1.filter((df_2019_1[\"trip_distance\"] > trip_distance_min) & (df_2019_1[\"trip_distance\"] > trip_distance_max))"
   ]
  },
  {
   "cell_type": "markdown",
   "id": "2e3608cc-7b11-4820-8910-16713df7aa5b",
   "metadata": {},
   "source": [
    "## Standardization "
   ]
  },
  {
   "cell_type": "code",
   "execution_count": null,
   "id": "c96b028e-bae4-47a3-a2db-f4d6917f9f46",
   "metadata": {},
   "outputs": [],
   "source": [
    "from pyspark.ml.feature import StandardScaler, VectorAssembler\n",
    "assembler = VectorAssembler(inputCols=[\"trip_distance\", \"trip_duration\"], outputCol= \"features\")\n",
    "df_features = assembler.transform(df_2019_1)\n",
    "scaler = StandardScaler(inputCol=\"features\", outputCol=\"scaled_features\") \n",
    "scaler_model = scaler.fit(df_features)\n",
    "df_scaled = scaler_model.transform(df_features)"
   ]
  },
  {
   "cell_type": "code",
   "execution_count": null,
   "id": "69a44bc6-cd84-4d0f-9a65-61d405d79394",
   "metadata": {},
   "outputs": [],
   "source": []
  }
 ],
 "metadata": {
  "kernelspec": {
   "display_name": "Python 3 (ipykernel)",
   "language": "python",
   "name": "python3"
  },
  "language_info": {
   "codemirror_mode": {
    "name": "ipython",
    "version": 3
   },
   "file_extension": ".py",
   "mimetype": "text/x-python",
   "name": "python",
   "nbconvert_exporter": "python",
   "pygments_lexer": "ipython3",
   "version": "3.12.1"
  }
 },
 "nbformat": 4,
 "nbformat_minor": 5
}
