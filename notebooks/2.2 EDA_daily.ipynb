{
 "cells": [
  {
   "cell_type": "code",
   "execution_count": null,
   "metadata": {},
   "outputs": [],
   "source": [
    "import matplotlib.pyplot as plt\n",
    "import pandas as pd\n",
    "import numpy as np\n",
    "import seaborn as sbs\n",
    "import geopandas as gpd\n",
    "import folium \n",
    "from folium.plugins import HeatMap\n"
   ]
  },
  {
   "cell_type": "code",
   "execution_count": null,
   "metadata": {},
   "outputs": [],
   "source": [
    "# import data\n",
    "data = pd.read_csv('../data/curated/tlc_data/first_cleaned.csv')"
   ]
  },
  {
   "cell_type": "code",
   "execution_count": null,
   "metadata": {},
   "outputs": [],
   "source": [
    "# Calculate correlations for hourly trip count\n",
    "temp_hourly_corr = clean_df['TMP'].corr(clean_df['hourly_trip_count'])\n",
    "vis_hourly_corr = clean_df['VIS'].corr(clean_df['hourly_trip_count'])\n",
    "events_hourly_corr = np.log1p(clean_df['Number of Events']).corr(clean_df['hourly_trip_count'])\n",
    "\n",
    "# Calculate correlations for daily trip count\n",
    "temp_daily_corr = clean_df['TMP'].corr(clean_df['daily_trip_count'])\n",
    "vis_daily_corr = clean_df['VIS'].corr(clean_df['daily_trip_count'])\n",
    "events_daily_corr = clean_df['Number of Events'].corr(clean_df['daily_trip_count'])\n",
    "\n",
    "# Create a DataFrame to hold the correlation results\n",
    "correlation_matrix = pd.DataFrame({\n",
    "    'Correlation': ['temp_hourly_corr', 'vis_hourly_corr', 'events_hourly_corr', \n",
    "                    'temp_daily_corr', 'vis_daily_corr', 'events_daily_corr'],\n",
    "    'Value': [temp_hourly_corr, vis_hourly_corr, events_hourly_corr, \n",
    "              temp_daily_corr, vis_daily_corr, events_daily_corr]\n",
    "})\n",
    "\n",
    "# Display the correlation matrix\n",
    "print(correlation_matrix)\n"
   ]
  },
  {
   "cell_type": "markdown",
   "metadata": {},
   "source": [
    "### Daily demand"
   ]
  },
  {
   "cell_type": "code",
   "execution_count": null,
   "metadata": {},
   "outputs": [],
   "source": [
    "# Group by 'pickup_date' and 'PUBorough' to get the sum of trips and average weather data\n",
    "daily_demand = clean_df.groupby(['pickup_date', 'PUBorough']).agg({\n",
    "    'daily_trip_count': 'sum',\n",
    "    'TMP': 'mean',\n",
    "    'VIS': 'mean',\n",
    "    'Number of Events': 'sum'\n",
    "}).reset_index()\n",
    "\n",
    "# Rename the columns to match the desired output\n",
    "daily_demand.rename(columns={\n",
    "    'daily_trip_count': 'total_daily_trips',\n",
    "    'TMP': 'avg_temperature',\n",
    "    'VIS': 'avg_visibility',\n",
    "    'Number of Events': 'total_events'\n",
    "}, inplace=True)\n",
    "\n",
    "# Round the average temperature and visibility to 1 decimal place\n",
    "daily_demand['avg_temperature'] = daily_demand['avg_temperature'].round(1)\n",
    "daily_demand['avg_visibility'] = daily_demand['avg_visibility'].round(1)\n",
    "\n",
    "# Show the first 5 rows of the aggregated result\n",
    "print(daily_demand.head(5))\n"
   ]
  },
  {
   "cell_type": "markdown",
   "metadata": {},
   "source": [
    "### Daily Trips by borough"
   ]
  },
  {
   "cell_type": "code",
   "execution_count": null,
   "metadata": {},
   "outputs": [],
   "source": [
    "# Aggregate the number of daily trips by PUBorough\n",
    "agg_data_daily = clean_df.groupby('PUBorough').agg({\n",
    "    'daily_trip_count': 'sum'\n",
    "}).reset_index()\n",
    "\n",
    "# Rename the columns to match the expected output\n",
    "agg_data_daily.rename(columns={'PUBorough': 'borough', 'daily_trip_count': 'total_daily_trips'}, inplace=True)\n",
    "\n",
    "# Display the first 5 rows of the aggregated data\n",
    "print(agg_data_daily.head())\n",
    "\n",
    "# Create a bar chart with a log scale\n",
    "fig, ax = plt.subplots(figsize=(10, 6))\n",
    "\n",
    "# Create the bar plot using Seaborn\n",
    "sbs.barplot(x='borough', y='total_daily_trips', data=agg_data_daily, ax=ax)\n",
    "\n",
    "# Set the y-axis to a logarithmic scale\n",
    "ax.set_yscale('log')\n",
    "\n",
    "# Set the title of the plot\n",
    "ax.set_title('Total Daily Trips by Borough')\n",
    "\n",
    "# Rotate the x-axis labels for better readability\n",
    "plt.xticks(rotation=45)\n",
    "\n",
    "# Show the plot\n",
    "plt.show()\n"
   ]
  },
  {
   "cell_type": "code",
   "execution_count": null,
   "metadata": {},
   "outputs": [],
   "source": [
    "# save the plot\n",
    "fig.savefig(\"../plots/total_daily_trips_by_borough.png\")"
   ]
  },
  {
   "cell_type": "markdown",
   "metadata": {},
   "source": [
    "### Pickups for each day of week"
   ]
  },
  {
   "cell_type": "code",
   "execution_count": null,
   "metadata": {},
   "outputs": [],
   "source": [
    "# Plot number of pick ups per day of the week\n",
    "# Group by 'Day of Week' and count the number of trips\n",
    "trips_per_day_df = clean_df.groupby('Day of Week').agg({'daily_trip_count': 'sum'}).reset_index()"
   ]
  },
  {
   "cell_type": "code",
   "execution_count": null,
   "metadata": {},
   "outputs": [],
   "source": [
    "# Plot the number of trips per day of the week\n",
    "plt.figure(figsize=(12, 6))\n",
    "sbs.barplot(x='Day of Week', y='daily_trip_count', data=trips_per_day_df, order=days_order)\n",
    "plt.title('Number of Trips Per Day of the Week')\n",
    "plt.xlabel('Day of Week')\n",
    "plt.ylabel('Number of Trips')\n",
    "plt.grid(True)\n",
    "plt.tight_layout()"
   ]
  },
  {
   "cell_type": "code",
   "execution_count": null,
   "metadata": {},
   "outputs": [],
   "source": [
    "# save the plot\n",
    "plt.savefig('../plots/number_of_trips_per_day_of_week.png')"
   ]
  }
 ],
 "metadata": {
  "language_info": {
   "name": "python"
  }
 },
 "nbformat": 4,
 "nbformat_minor": 2
}
