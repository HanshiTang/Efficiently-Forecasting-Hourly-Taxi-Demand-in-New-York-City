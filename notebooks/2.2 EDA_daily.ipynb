{
 "cells": [
  {
   "cell_type": "code",
   "execution_count": null,
   "metadata": {},
   "outputs": [],
   "source": [
    "import matplotlib.pyplot as plt\n",
    "import pandas as pd\n",
    "import numpy as np\n",
    "import seaborn as sbs\n",
    "import geopandas as gpd\n",
    "import folium \n",
    "from folium.plugins import HeatMap\n"
   ]
  },
  {
   "cell_type": "code",
   "execution_count": null,
   "metadata": {},
   "outputs": [],
   "source": [
    "# import data\n",
    "data = pd.read_csv('../data/curated/tlc_data/first_cleaned.csv')"
   ]
  },
  {
   "cell_type": "markdown",
   "metadata": {},
   "source": [
    "### Daily demand"
   ]
  },
  {
   "cell_type": "code",
   "execution_count": null,
   "metadata": {},
   "outputs": [],
   "source": [
    "# Group by 'pickup_date' and 'PUBorough' to get the sum of trips and average weather data\n",
    "daily_demand = clean_df.groupby(['pickup_date', 'PUBorough']).agg({\n",
    "    'daily_trip_count': 'sum',\n",
    "    'TMP': 'mean',\n",
    "    'VIS': 'mean',\n",
    "    'Number of Events': 'sum'\n",
    "}).reset_index()\n",
    "\n",
    "# Rename the columns to match the desired output\n",
    "daily_demand.rename(columns={\n",
    "    'daily_trip_count': 'total_daily_trips',\n",
    "    'TMP': 'avg_temperature',\n",
    "    'VIS': 'avg_visibility',\n",
    "    'Number of Events': 'total_events'\n",
    "}, inplace=True)\n",
    "\n",
    "# Round the average temperature and visibility to 1 decimal place\n",
    "daily_demand['avg_temperature'] = daily_demand['avg_temperature'].round(1)\n",
    "daily_demand['avg_visibility'] = daily_demand['avg_visibility'].round(1)\n",
    "\n",
    "# Show the first 5 rows of the aggregated result\n",
    "print(daily_demand.head(5))\n"
   ]
  },
  {
   "cell_type": "markdown",
   "metadata": {},
   "source": [
    "### Daily Trips by borough"
   ]
  },
  {
   "cell_type": "code",
   "execution_count": null,
   "metadata": {},
   "outputs": [],
   "source": [
    "# Aggregate the number of daily trips by PUBorough\n",
    "agg_data_daily = clean_df.groupby('PUBorough').agg({\n",
    "    'daily_trip_count': 'sum'\n",
    "}).reset_index()\n",
    "\n",
    "# Rename the columns to match the expected output\n",
    "agg_data_daily.rename(columns={'PUBorough': 'borough', 'daily_trip_count': 'total_daily_trips'}, inplace=True)\n",
    "\n",
    "# Display the first 5 rows of the aggregated data\n",
    "print(agg_data_daily.head())\n",
    "\n",
    "# Create a bar chart with a log scale\n",
    "fig, ax = plt.subplots(figsize=(10, 6))\n",
    "\n",
    "# Create the bar plot using Seaborn\n",
    "sbs.barplot(x='borough', y='total_daily_trips', data=agg_data_daily, ax=ax)\n",
    "\n",
    "# Set the y-axis to a logarithmic scale\n",
    "ax.set_yscale('log')\n",
    "\n",
    "# Set the title of the plot\n",
    "ax.set_title('Total Daily Trips by Borough')\n",
    "\n",
    "# Rotate the x-axis labels for better readability\n",
    "plt.xticks(rotation=45)\n",
    "\n",
    "# Show the plot\n",
    "plt.show()\n"
   ]
  },
  {
   "cell_type": "code",
   "execution_count": null,
   "metadata": {},
   "outputs": [],
   "source": [
    "# save the plot\n",
    "fig.savefig(\"../plots/total_daily_trips_by_borough.png\")"
   ]
  }
 ],
 "metadata": {
  "language_info": {
   "name": "python"
  }
 },
 "nbformat": 4,
 "nbformat_minor": 2
}
