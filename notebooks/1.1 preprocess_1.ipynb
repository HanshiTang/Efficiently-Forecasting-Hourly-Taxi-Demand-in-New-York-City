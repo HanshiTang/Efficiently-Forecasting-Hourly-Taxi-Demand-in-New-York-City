{
 "cells": [
  {
   "cell_type": "markdown",
   "metadata": {},
   "source": [
    "# Preprocessing TLC data"
   ]
  },
  {
   "cell_type": "markdown",
   "metadata": {},
   "source": [
    "This notebook cleans the following datasets: \n",
    "1. Yellow taxi data from 2023-06 to 2024-05\n",
    "2. Green taxi data from 2023-06 to 2024-05\n"
   ]
  },
  {
   "cell_type": "code",
   "execution_count": 1,
   "metadata": {},
   "outputs": [],
   "source": [
    "from pyspark.sql import functions as F\n",
    "from pyspark.sql import SparkSession\n",
    "from pyspark.sql.functions import *\n",
    "import matplotlib.pyplot as plt\n",
    "import pandas as pd\n",
    "import numpy as np\n",
    "import seaborn as sbs\n",
    "import geopandas as gpd\n",
    "import folium"
   ]
  },
  {
   "cell_type": "code",
   "execution_count": 2,
   "metadata": {},
   "outputs": [
    {
     "name": "stderr",
     "output_type": "stream",
     "text": [
      "24/08/24 15:06:38 WARN Utils: Your hostname, Hanshis-Laptop.local resolves to a loopback address: 127.0.0.1; using 100.94.176.147 instead (on interface en0)\n",
      "24/08/24 15:06:38 WARN Utils: Set SPARK_LOCAL_IP if you need to bind to another address\n",
      "Setting default log level to \"WARN\".\n",
      "To adjust logging level use sc.setLogLevel(newLevel). For SparkR, use setLogLevel(newLevel).\n",
      "24/08/24 15:06:39 WARN NativeCodeLoader: Unable to load native-hadoop library for your platform... using builtin-java classes where applicable\n"
     ]
    }
   ],
   "source": [
    "from pyspark.sql import SparkSession\n",
    "\n",
    "# Create a spark session\n",
    "spark = (\n",
    "    SparkSession.builder.appName(\"ADS Project1\")\n",
    "    .config(\"spark.sql.repl.eagerEval.enabled\", True) \n",
    "    .config(\"spark.sql.parquet.cacheMetadata\", \"true\")\n",
    "    .config(\"spark.sql.session.timeZone\", \"Etc/UTC\")\n",
    "    .getOrCreate()\n",
    ")\n"
   ]
  },
  {
   "cell_type": "code",
   "execution_count": 3,
   "metadata": {},
   "outputs": [],
   "source": [
    "spark.conf.set(\"spark.sql.parquet.compression.codec\",\"gzip\")"
   ]
  },
  {
   "cell_type": "code",
   "execution_count": 4,
   "metadata": {},
   "outputs": [
    {
     "name": "stderr",
     "output_type": "stream",
     "text": [
      "                                                                                \r"
     ]
    }
   ],
   "source": [
    "# Read 2023-2024 TLC data\n",
    "df = spark.read.parquet('../data/landing/tlc_data/*.parquet')\n"
   ]
  },
  {
   "cell_type": "code",
   "execution_count": 5,
   "metadata": {},
   "outputs": [],
   "source": [
    "# Read 2023-6 to 2024-5 yellow data\n",
    "path = \"../data/landing/tlc_data\"\n",
    "ydf_2023_6 = spark.read.parquet(path + \"/Y-2023-06.parquet\")\n",
    "ydf_2023_7 = spark.read.parquet(path + \"/Y-2023-07.parquet\")\n",
    "ydf_2023_8 = spark.read.parquet(path + \"/Y-2023-08.parquet\")\n",
    "ydf_2023_9 = spark.read.parquet(path + \"/Y-2023-09.parquet\")\n",
    "ydf_2023_10 = spark.read.parquet(path + \"/Y-2023-10.parquet\")\n",
    "ydf_2023_11 = spark.read.parquet(path + \"/Y-2023-11.parquet\")\n",
    "ydf_2023_12 = spark.read.parquet(path + \"/Y-2023-12.parquet\")\n",
    "ydf_2024_1 = spark.read.parquet(path + \"/Y-2024-01.parquet\")\n",
    "ydf_2024_2 = spark.read.parquet(path + \"/Y-2024-02.parquet\")\n",
    "ydf_2024_3 = spark.read.parquet(path + \"/Y-2024-03.parquet\")\n",
    "ydf_2024_4 = spark.read.parquet(path + \"/Y-2024-04.parquet\")\n",
    "ydf_2024_5 = spark.read.parquet(path + \"/Y-2024-05.parquet\")"
   ]
  },
  {
   "cell_type": "code",
   "execution_count": 6,
   "metadata": {},
   "outputs": [],
   "source": [
    "# Read 2023-6 to 2024-5 green data\n",
    "path = \"../data/landing/tlc_data\"\n",
    "gdf_2023_6 = spark.read.parquet(path + \"/G-2023-06.parquet\")\n",
    "gdf_2023_7 = spark.read.parquet(path + \"/G-2023-07.parquet\")\n",
    "gdf_2023_8 = spark.read.parquet(path + \"/G-2023-08.parquet\")\n",
    "gdf_2023_9 = spark.read.parquet(path + \"/G-2023-09.parquet\")\n",
    "gdf_2023_10 = spark.read.parquet(path + \"/G-2023-10.parquet\")\n",
    "gdf_2023_11 = spark.read.parquet(path + \"/G-2023-11.parquet\")\n",
    "gdf_2023_12 = spark.read.parquet(path + \"/G-2023-12.parquet\")\n",
    "gdf_2024_1 = spark.read.parquet(path + \"/G-2024-01.parquet\")\n",
    "gdf_2024_2 = spark.read.parquet(path + \"/G-2024-02.parquet\")\n",
    "gdf_2024_3 = spark.read.parquet(path + \"/G-2024-03.parquet\")\n",
    "gdf_2024_4 = spark.read.parquet(path + \"/G-2024-04.parquet\")\n",
    "gdf_2024_5 = spark.read.parquet(path + \"/G-2024-05.parquet\")"
   ]
  },
  {
   "cell_type": "code",
   "execution_count": 7,
   "metadata": {},
   "outputs": [
    {
     "name": "stdout",
     "output_type": "stream",
     "text": [
      "+--------+--------------------+---------------------+---------------+-------------+----------+------------------+------------+------------+------------+-----------+-----+-------+----------+------------+---------------------+------------+--------------------+-----------+\n",
      "|VendorID|tpep_pickup_datetime|tpep_dropoff_datetime|passenger_count|trip_distance|RatecodeID|store_and_fwd_flag|PULocationID|DOLocationID|payment_type|fare_amount|extra|mta_tax|tip_amount|tolls_amount|improvement_surcharge|total_amount|congestion_surcharge|Airport_fee|\n",
      "+--------+--------------------+---------------------+---------------+-------------+----------+------------------+------------+------------+------------+-----------+-----+-------+----------+------------+---------------------+------------+--------------------+-----------+\n",
      "|       1| 2023-06-01 00:08:48|  2023-06-01 00:29:41|              1|          3.4|         1|                 N|         140|         238|           1|       21.9|  3.5|    0.5|       6.7|         0.0|                  1.0|        33.6|                 2.5|        0.0|\n",
      "|       1| 2023-06-01 00:15:04|  2023-06-01 00:25:18|              0|          3.4|         1|                 N|          50|         151|           1|       15.6|  3.5|    0.5|       3.0|         0.0|                  1.0|        23.6|                 2.5|        0.0|\n",
      "|       1| 2023-06-01 00:48:24|  2023-06-01 01:07:07|              1|         10.2|         1|                 N|         138|          97|           1|       40.8| 7.75|    0.5|      10.0|         0.0|                  1.0|       60.05|                 0.0|       1.75|\n",
      "|       2| 2023-06-01 00:54:03|  2023-06-01 01:17:29|              3|         9.83|         1|                 N|         100|         244|           1|       39.4|  1.0|    0.5|      8.88|         0.0|                  1.0|       53.28|                 2.5|        0.0|\n",
      "|       2| 2023-06-01 00:18:44|  2023-06-01 00:27:18|              1|         1.17|         1|                 N|         137|         234|           1|        9.3|  1.0|    0.5|      0.72|         0.0|                  1.0|       15.02|                 2.5|        0.0|\n",
      "|       1| 2023-06-01 00:32:36|  2023-06-01 00:45:52|              2|          3.6|         1|                 N|         249|          33|           1|       18.4|  3.5|    0.5|      4.65|         0.0|                  1.0|       28.05|                 2.5|        0.0|\n",
      "|       2| 2023-06-01 00:31:55|  2023-06-01 00:50:51|              1|         3.08|         1|                 N|         141|         226|           1|       19.8|  1.0|    0.5|       2.0|         0.0|                  1.0|        26.8|                 2.5|        0.0|\n",
      "|       1| 2023-06-01 00:55:30|  2023-06-01 01:04:17|              2|          1.1|         1|                 N|         246|          50|           1|       10.0|  3.5|    0.5|       3.0|         0.0|                  1.0|        18.0|                 2.5|        0.0|\n",
      "|       2| 2023-06-01 00:11:50|  2023-06-01 00:15:47|              1|         0.99|         1|                 N|         186|         234|           1|        6.5|  1.0|    0.5|      1.72|         0.0|                  1.0|       13.22|                 2.5|        0.0|\n",
      "|       2| 2023-06-01 00:25:03|  2023-06-01 00:27:54|              1|         0.73|         1|                 N|         142|         161|           2|        5.1|  1.0|    0.5|       0.0|         0.0|                  1.0|        10.1|                 2.5|        0.0|\n",
      "+--------+--------------------+---------------------+---------------+-------------+----------+------------------+------------+------------+------------+-----------+-----+-------+----------+------------+---------------------+------------+--------------------+-----------+\n",
      "only showing top 10 rows\n",
      "\n"
     ]
    }
   ],
   "source": [
    "# Show 2023-6 yellow data \n",
    "ydf_2023_6.show(10)"
   ]
  },
  {
   "cell_type": "code",
   "execution_count": 8,
   "metadata": {},
   "outputs": [
    {
     "name": "stdout",
     "output_type": "stream",
     "text": [
      "+--------+--------------------+---------------------+------------------+----------+------------+------------+---------------+-------------+-----------+-----+-------+----------+------------+---------+---------------------+------------+------------+---------+--------------------+\n",
      "|VendorID|lpep_pickup_datetime|lpep_dropoff_datetime|store_and_fwd_flag|RatecodeID|PULocationID|DOLocationID|passenger_count|trip_distance|fare_amount|extra|mta_tax|tip_amount|tolls_amount|ehail_fee|improvement_surcharge|total_amount|payment_type|trip_type|congestion_surcharge|\n",
      "+--------+--------------------+---------------------+------------------+----------+------------+------------+---------------+-------------+-----------+-----+-------+----------+------------+---------+---------------------+------------+------------+---------+--------------------+\n",
      "|       2| 2023-06-01 00:32:25|  2023-06-01 00:39:06|                 N|         1|          74|          42|              1|         0.84|        7.9|  1.0|    0.5|      2.08|         0.0|     NULL|                  1.0|       12.48|           1|        1|                 0.0|\n",
      "|       2| 2023-06-01 00:39:07|  2023-06-01 00:51:59|                 N|         1|          41|         229|              1|         4.05|       19.1|  1.0|    0.5|      3.65|         0.0|     NULL|                  1.0|        28.0|           1|        1|                2.75|\n",
      "|       2| 2023-06-01 00:35:59|  2023-06-01 00:57:06|                 N|         1|          97|          89|              1|         4.26|       23.3|  1.0|    0.5|      5.16|         0.0|     NULL|                  1.0|       30.96|           1|        1|                 0.0|\n",
      "|       2| 2023-06-01 00:50:29|  2023-06-01 01:00:32|                 N|         1|          75|         263|              1|         1.79|       12.1|  1.0|    0.5|      3.47|         0.0|     NULL|                  1.0|       20.82|           1|        1|                2.75|\n",
      "|       2| 2023-06-01 00:15:15|  2023-06-01 00:52:40|                 N|         1|          33|          48|              1|          6.4|       37.3|  1.0|    0.5|       0.0|         0.0|     NULL|                  1.0|       42.55|           1|        1|                2.75|\n",
      "|       2| 2023-06-01 00:45:22|  2023-06-01 00:48:16|                 N|         1|          42|         159|              1|          0.0|        4.4|  1.0|    0.5|       0.0|         0.0|     NULL|                  1.0|         6.9|           2|        1|                 0.0|\n",
      "|       2| 2023-05-31 23:00:45|  2023-05-31 23:15:21|                 N|         1|          75|         142|              1|          2.8|       17.7|  1.0|    0.5|       3.0|         0.0|     NULL|                  1.0|       25.95|           1|        1|                2.75|\n",
      "|       2| 2023-06-01 00:02:44|  2023-06-01 00:10:10|                 N|         1|          74|          75|              1|         1.67|       10.7|  1.0|    0.5|       3.3|         0.0|     NULL|                  1.0|        16.5|           1|        1|                 0.0|\n",
      "|       2| 2023-06-01 00:26:20|  2023-06-01 00:31:27|                 N|         1|          41|         152|              1|          0.9|        7.2|  1.0|    0.5|       0.0|         0.0|     NULL|                  1.0|         9.7|           2|        1|                 0.0|\n",
      "|       2| 2023-06-01 00:15:00|  2023-06-01 00:18:19|                 N|         1|          95|          95|              1|         0.74|        6.5|  1.0|    0.5|       1.8|         0.0|     NULL|                  1.0|        10.8|           1|        1|                 0.0|\n",
      "+--------+--------------------+---------------------+------------------+----------+------------+------------+---------------+-------------+-----------+-----+-------+----------+------------+---------+---------------------+------------+------------+---------+--------------------+\n",
      "only showing top 10 rows\n",
      "\n"
     ]
    }
   ],
   "source": [
    "# Show 2023-6 green data\n",
    "gdf_2023_6.show(10)"
   ]
  },
  {
   "cell_type": "markdown",
   "metadata": {},
   "source": [
    "## TLC datasets inspection"
   ]
  },
  {
   "cell_type": "code",
   "execution_count": 9,
   "metadata": {},
   "outputs": [
    {
     "data": {
      "text/plain": [
       "38916740"
      ]
     },
     "execution_count": 9,
     "metadata": {},
     "output_type": "execute_result"
    }
   ],
   "source": [
    "# Calculate the total row count for yellow taxi data from 2023-6 to 2024-5\n",
    "yellow_count = (\n",
    "    ydf_2023_6.count() + \n",
    "    ydf_2023_7.count() + \n",
    "    ydf_2023_8.count() + \n",
    "    ydf_2023_9.count() + \n",
    "    ydf_2023_10.count() + \n",
    "    ydf_2023_11.count() + \n",
    "    ydf_2023_12.count() + \n",
    "    ydf_2024_1.count() + \n",
    "    ydf_2024_2.count() + \n",
    "    ydf_2024_3.count() + \n",
    "    ydf_2024_4.count() + \n",
    "    ydf_2024_5.count()\n",
    ")\n",
    "\n",
    "# Display the total count\n",
    "yellow_count"
   ]
  },
  {
   "cell_type": "code",
   "execution_count": 10,
   "metadata": {},
   "outputs": [
    {
     "name": "stdout",
     "output_type": "stream",
     "text": [
      "CodeCache: size=131072Kb used=33751Kb max_used=33751Kb free=97320Kb\n",
      " bounds [0x000000010a1e8000, 0x000000010c318000, 0x00000001121e8000]\n",
      " total_blobs=12830 nmethods=11838 adapters=903\n",
      " compilation: disabled (not enough contiguous free space left)\n"
     ]
    },
    {
     "name": "stderr",
     "output_type": "stream",
     "text": [
      "Java HotSpot(TM) 64-Bit Server VM warning: CodeCache is full. Compiler has been disabled.\n",
      "Java HotSpot(TM) 64-Bit Server VM warning: Try increasing the code cache size using -XX:ReservedCodeCacheSize=\n"
     ]
    },
    {
     "data": {
      "text/plain": [
       "732489"
      ]
     },
     "execution_count": 10,
     "metadata": {},
     "output_type": "execute_result"
    }
   ],
   "source": [
    "# Calculate the total row count for green taxi data from 2023-6 to 2024-5\n",
    "green_count = (\n",
    "    gdf_2023_6.count() + \n",
    "    gdf_2023_7.count() + \n",
    "    gdf_2023_8.count() + \n",
    "    gdf_2023_9.count() + \n",
    "    gdf_2023_10.count() + \n",
    "    gdf_2023_11.count() + \n",
    "    gdf_2023_12.count() + \n",
    "    gdf_2024_1.count() + \n",
    "    gdf_2024_2.count() + \n",
    "    gdf_2024_3.count() + \n",
    "    gdf_2024_4.count() + \n",
    "    gdf_2024_5.count()\n",
    ")\n",
    "\n",
    "# Display the total count\n",
    "green_count"
   ]
  },
  {
   "cell_type": "code",
   "execution_count": 11,
   "metadata": {},
   "outputs": [
    {
     "data": {
      "text/plain": [
       "39649229"
      ]
     },
     "execution_count": 11,
     "metadata": {},
     "output_type": "execute_result"
    }
   ],
   "source": [
    "# Calculate the total row count for all taxi data from 2023-6 to 2024-5\n",
    "total_count = yellow_count + green_count\n",
    "total_count"
   ]
  },
  {
   "cell_type": "code",
   "execution_count": 12,
   "metadata": {},
   "outputs": [
    {
     "name": "stdout",
     "output_type": "stream",
     "text": [
      "root\n",
      " |-- VendorID: integer (nullable = true)\n",
      " |-- tpep_pickup_datetime: timestamp_ntz (nullable = true)\n",
      " |-- tpep_dropoff_datetime: timestamp_ntz (nullable = true)\n",
      " |-- passenger_count: long (nullable = true)\n",
      " |-- trip_distance: double (nullable = true)\n",
      " |-- RatecodeID: long (nullable = true)\n",
      " |-- store_and_fwd_flag: string (nullable = true)\n",
      " |-- PULocationID: integer (nullable = true)\n",
      " |-- DOLocationID: integer (nullable = true)\n",
      " |-- payment_type: long (nullable = true)\n",
      " |-- fare_amount: double (nullable = true)\n",
      " |-- extra: double (nullable = true)\n",
      " |-- mta_tax: double (nullable = true)\n",
      " |-- tip_amount: double (nullable = true)\n",
      " |-- tolls_amount: double (nullable = true)\n",
      " |-- improvement_surcharge: double (nullable = true)\n",
      " |-- total_amount: double (nullable = true)\n",
      " |-- congestion_surcharge: double (nullable = true)\n",
      " |-- Airport_fee: double (nullable = true)\n",
      "\n"
     ]
    }
   ],
   "source": [
    "# Show the schema of 2024-5 yellow data\n",
    "ydf_2024_5.printSchema()"
   ]
  },
  {
   "cell_type": "code",
   "execution_count": 13,
   "metadata": {},
   "outputs": [
    {
     "name": "stdout",
     "output_type": "stream",
     "text": [
      "root\n",
      " |-- VendorID: integer (nullable = true)\n",
      " |-- lpep_pickup_datetime: timestamp_ntz (nullable = true)\n",
      " |-- lpep_dropoff_datetime: timestamp_ntz (nullable = true)\n",
      " |-- store_and_fwd_flag: string (nullable = true)\n",
      " |-- RatecodeID: long (nullable = true)\n",
      " |-- PULocationID: integer (nullable = true)\n",
      " |-- DOLocationID: integer (nullable = true)\n",
      " |-- passenger_count: long (nullable = true)\n",
      " |-- trip_distance: double (nullable = true)\n",
      " |-- fare_amount: double (nullable = true)\n",
      " |-- extra: double (nullable = true)\n",
      " |-- mta_tax: double (nullable = true)\n",
      " |-- tip_amount: double (nullable = true)\n",
      " |-- tolls_amount: double (nullable = true)\n",
      " |-- ehail_fee: double (nullable = true)\n",
      " |-- improvement_surcharge: double (nullable = true)\n",
      " |-- total_amount: double (nullable = true)\n",
      " |-- payment_type: long (nullable = true)\n",
      " |-- trip_type: long (nullable = true)\n",
      " |-- congestion_surcharge: double (nullable = true)\n",
      "\n"
     ]
    }
   ],
   "source": [
    "# Show the schema of 2024-5 green data\n",
    "gdf_2024_5.printSchema()"
   ]
  },
  {
   "cell_type": "code",
   "execution_count": 14,
   "metadata": {},
   "outputs": [
    {
     "name": "stdout",
     "output_type": "stream",
     "text": [
      "Columns only in yellowDF: {'tpep_dropoff_datetime', 'Airport_fee', 'tpep_pickup_datetime'}\n",
      "Columns only in greenDF: {'trip_type', 'lpep_dropoff_datetime', 'ehail_fee', 'lpep_pickup_datetime'}\n"
     ]
    }
   ],
   "source": [
    "# Get columns of each DataFrame\n",
    "columns_ydf = set(ydf_2024_5.columns)\n",
    "columns_gdf = set(gdf_2024_5.columns)\n",
    "\n",
    "# Find differences in columns\n",
    "columns_only_in_df1 = columns_ydf - columns_gdf\n",
    "columns_only_in_df2 = columns_gdf - columns_ydf\n",
    "\n",
    "print(f\"Columns only in yellowDF: {columns_only_in_df1}\")\n",
    "print(f\"Columns only in greenDF: {columns_only_in_df2}\")\n"
   ]
  },
  {
   "cell_type": "markdown",
   "metadata": {},
   "source": [
    "## Data Cleaning"
   ]
  },
  {
   "cell_type": "code",
   "execution_count": 18,
   "metadata": {},
   "outputs": [],
   "source": [
    "ydfs = [ydf_2023_6, ydf_2023_7, ydf_2023_8, ydf_2023_9, ydf_2023_10, ydf_2023_11, ydf_2023_12, \n",
    "       ydf_2024_1, ydf_2024_2, ydf_2024_3, ydf_2024_4, ydf_2024_5]\n",
    "gdfs = [gdf_2023_6, gdf_2023_7, gdf_2023_8, gdf_2023_9, gdf_2023_10, gdf_2023_11, gdf_2023_12, \n",
    "       gdf_2024_1, gdf_2024_2, gdf_2024_3, gdf_2024_4, gdf_2024_5]\n"
   ]
  },
  {
   "cell_type": "code",
   "execution_count": 19,
   "metadata": {},
   "outputs": [],
   "source": [
    "# Combine all yellow taxi data and green taxi data\n",
    "from pyspark.sql import DataFrame\n",
    "\n",
    "# Combine all yellow taxi data\n",
    "yellow_combined = ydfs[0]\n",
    "for df in ydfs[1:]:\n",
    "    yellow_combined = yellow_combined.unionByName(df)\n",
    "\n",
    "# Combine all green taxi data\n",
    "green_combined = gdfs[0]\n",
    "for df in gdfs[1:]:\n",
    "    green_combined = green_combined.unionByName(df)"
   ]
  },
  {
   "cell_type": "code",
   "execution_count": 20,
   "metadata": {},
   "outputs": [],
   "source": [
    "# Drop Airport_fee and trip_type columns from the combined data\n",
    "yellow_combined = yellow_combined.drop(\"Airport_fee\")\n",
    "green_combined = green_combined.drop(\"trip_type\")"
   ]
  },
  {
   "cell_type": "code",
   "execution_count": 21,
   "metadata": {},
   "outputs": [],
   "source": [
    "# ehail fee is 0 for all yellow taxi data\n",
    "yellow_combined = yellow_combined.withColumn(\"ehail_fee\", lit(0))"
   ]
  },
  {
   "cell_type": "code",
   "execution_count": 22,
   "metadata": {},
   "outputs": [],
   "source": [
    "# Drop fare_amount less than $3 initial price \n",
    "yellow_combined = yellow_combined.filter(yellow_combined.fare_amount >= 3)\n",
    "green_combined = green_combined.filter(green_combined.fare_amount >= 3)"
   ]
  },
  {
   "cell_type": "code",
   "execution_count": 29,
   "metadata": {},
   "outputs": [],
   "source": [
    "# Passenger count should be fewer than 6 and non-negative\n",
    "yellow_combined = yellow_combined.filter(yellow_combined.passenger_count <= 6)\n",
    "green_combined = green_combined.filter(green_combined.passenger_count <= 6)\n",
    "yellow_combined = yellow_combined.filter(yellow_combined.passenger_count >= 0)\n",
    "green_combined = green_combined.filter(green_combined.passenger_count >= 0)"
   ]
  },
  {
   "cell_type": "code",
   "execution_count": 70,
   "metadata": {},
   "outputs": [],
   "source": [
    "# Drop negative trip distances\n",
    "yellow_combined = yellow_combined.filter(yellow_combined.trip_distance >= 0)\n",
    "green_combined = green_combined.filter(green_combined.trip_distance >= 0)"
   ]
  },
  {
   "cell_type": "markdown",
   "metadata": {},
   "source": [
    "### Keeping feature names consistent \n",
    "tpep: Taxicab Passenger Enhancement Program for yellow taxi <br> \n",
    "lpep: Livery Passenger Enhancement Program for green taxi"
   ]
  },
  {
   "cell_type": "code",
   "execution_count": 25,
   "metadata": {},
   "outputs": [],
   "source": [
    "# Rename datetime columns to be consistent\n",
    "from pyspark.sql.functions import col\n",
    "\n",
    "yellow_combined = yellow_combined.withColumnRenamed('tpep_pickup_datetime', 'pickup_datetime') \\\n",
    "                               .withColumnRenamed('tpep_dropoff_datetime', 'dropoff_datetime')\n",
    "\n",
    "green_combined = green_combined.withColumnRenamed('lpep_pickup_datetime', 'pickup_datetime') \\\n",
    "                             .withColumnRenamed('lpep_dropoff_datetime', 'dropoff_datetime')\n"
   ]
  },
  {
   "cell_type": "code",
   "execution_count": 26,
   "metadata": {},
   "outputs": [],
   "source": [
    "# Drop total_amount less than $3\n",
    "yellow_combined = yellow_combined.filter(yellow_combined.total_amount >= 3)\n",
    "green_combined = green_combined.filter(green_combined.total_amount >= 3)"
   ]
  },
  {
   "cell_type": "code",
   "execution_count": 27,
   "metadata": {},
   "outputs": [
    {
     "name": "stdout",
     "output_type": "stream",
     "text": [
      "root\n",
      " |-- VendorID: integer (nullable = true)\n",
      " |-- pickup_datetime: timestamp_ntz (nullable = true)\n",
      " |-- dropoff_datetime: timestamp_ntz (nullable = true)\n",
      " |-- passenger_count: long (nullable = true)\n",
      " |-- trip_distance: double (nullable = true)\n",
      " |-- RatecodeID: long (nullable = true)\n",
      " |-- store_and_fwd_flag: string (nullable = true)\n",
      " |-- PULocationID: integer (nullable = true)\n",
      " |-- DOLocationID: integer (nullable = true)\n",
      " |-- payment_type: long (nullable = true)\n",
      " |-- fare_amount: double (nullable = true)\n",
      " |-- extra: double (nullable = true)\n",
      " |-- mta_tax: double (nullable = true)\n",
      " |-- tip_amount: double (nullable = true)\n",
      " |-- tolls_amount: double (nullable = true)\n",
      " |-- improvement_surcharge: double (nullable = true)\n",
      " |-- total_amount: double (nullable = true)\n",
      " |-- congestion_surcharge: double (nullable = true)\n",
      " |-- ehail_fee: integer (nullable = false)\n",
      "\n"
     ]
    }
   ],
   "source": [
    "# schema of yellow_combined\n",
    "yellow_combined.printSchema()"
   ]
  },
  {
   "cell_type": "code",
   "execution_count": 28,
   "metadata": {},
   "outputs": [
    {
     "name": "stdout",
     "output_type": "stream",
     "text": [
      "root\n",
      " |-- VendorID: integer (nullable = true)\n",
      " |-- pickup_datetime: timestamp_ntz (nullable = true)\n",
      " |-- dropoff_datetime: timestamp_ntz (nullable = true)\n",
      " |-- store_and_fwd_flag: string (nullable = true)\n",
      " |-- RatecodeID: long (nullable = true)\n",
      " |-- PULocationID: integer (nullable = true)\n",
      " |-- DOLocationID: integer (nullable = true)\n",
      " |-- passenger_count: long (nullable = true)\n",
      " |-- trip_distance: double (nullable = true)\n",
      " |-- fare_amount: double (nullable = true)\n",
      " |-- extra: double (nullable = true)\n",
      " |-- mta_tax: double (nullable = true)\n",
      " |-- tip_amount: double (nullable = true)\n",
      " |-- tolls_amount: double (nullable = true)\n",
      " |-- ehail_fee: double (nullable = true)\n",
      " |-- improvement_surcharge: double (nullable = true)\n",
      " |-- total_amount: double (nullable = true)\n",
      " |-- payment_type: long (nullable = true)\n",
      " |-- congestion_surcharge: double (nullable = true)\n",
      "\n"
     ]
    }
   ],
   "source": [
    "# schema of green_combined\n",
    "green_combined.printSchema()"
   ]
  },
  {
   "cell_type": "code",
   "execution_count": 30,
   "metadata": {},
   "outputs": [
    {
     "name": "stdout",
     "output_type": "stream",
     "text": [
      "Columns only in yellowDF: set()\n",
      "Columns only in greenDF: set()\n"
     ]
    }
   ],
   "source": [
    "# Verify no difference in columns\n",
    "columns_ydf = set(yellow_combined.columns)\n",
    "columns_gdf = set(green_combined.columns)\n",
    "columns_only_in_df1 = columns_ydf - columns_gdf\n",
    "columns_only_in_df2 = columns_gdf - columns_ydf\n",
    "\n",
    "print(f\"Columns only in yellowDF: {columns_only_in_df1}\")\n",
    "print(f\"Columns only in greenDF: {columns_only_in_df2}\")\n"
   ]
  },
  {
   "cell_type": "markdown",
   "metadata": {},
   "source": [
    "### Outliers Detection"
   ]
  },
  {
   "cell_type": "code",
   "execution_count": 36,
   "metadata": {},
   "outputs": [],
   "source": [
    "# combine yellow and green data\n",
    "combined = yellow_combined.unionByName(green_combined)"
   ]
  },
  {
   "cell_type": "code",
   "execution_count": 41,
   "metadata": {},
   "outputs": [
    {
     "name": "stdout",
     "output_type": "stream",
     "text": [
      "root\n",
      " |-- VendorID: integer (nullable = true)\n",
      " |-- pickup_datetime: timestamp_ntz (nullable = true)\n",
      " |-- dropoff_datetime: timestamp_ntz (nullable = true)\n",
      " |-- passenger_count: long (nullable = true)\n",
      " |-- trip_distance: double (nullable = true)\n",
      " |-- RatecodeID: long (nullable = true)\n",
      " |-- store_and_fwd_flag: string (nullable = true)\n",
      " |-- PULocationID: integer (nullable = true)\n",
      " |-- DOLocationID: integer (nullable = true)\n",
      " |-- payment_type: long (nullable = true)\n",
      " |-- fare_amount: double (nullable = true)\n",
      " |-- extra: double (nullable = true)\n",
      " |-- mta_tax: double (nullable = true)\n",
      " |-- tip_amount: double (nullable = true)\n",
      " |-- tolls_amount: double (nullable = true)\n",
      " |-- improvement_surcharge: double (nullable = true)\n",
      " |-- total_amount: double (nullable = true)\n",
      " |-- congestion_surcharge: double (nullable = true)\n",
      " |-- ehail_fee: double (nullable = true)\n",
      "\n"
     ]
    }
   ],
   "source": [
    "# Show the schema of the combined data\n",
    "combined.printSchema()"
   ]
  },
  {
   "cell_type": "code",
   "execution_count": 45,
   "metadata": {},
   "outputs": [
    {
     "name": "stdout",
     "output_type": "stream",
     "text": [
      "+--------+-------------------+-------------------+---------------+-------------+----------+------------------+------------+------------+------------+-----------+-----+-------+----------+------------+---------------------+------------+--------------------+---------+\n",
      "|VendorID|    pickup_datetime|   dropoff_datetime|passenger_count|trip_distance|RatecodeID|store_and_fwd_flag|PULocationID|DOLocationID|payment_type|fare_amount|extra|mta_tax|tip_amount|tolls_amount|improvement_surcharge|total_amount|congestion_surcharge|ehail_fee|\n",
      "+--------+-------------------+-------------------+---------------+-------------+----------+------------------+------------+------------+------------+-----------+-----+-------+----------+------------+---------------------+------------+--------------------+---------+\n",
      "|       1|2023-06-01 00:08:48|2023-06-01 00:29:41|              1|          3.4|         1|                 N|         140|         238|           1|       21.9|  3.5|    0.5|       6.7|         0.0|                  1.0|        33.6|                 2.5|      0.0|\n",
      "|       1|2023-06-01 00:15:04|2023-06-01 00:25:18|              0|          3.4|         1|                 N|          50|         151|           1|       15.6|  3.5|    0.5|       3.0|         0.0|                  1.0|        23.6|                 2.5|      0.0|\n",
      "|       1|2023-06-01 00:48:24|2023-06-01 01:07:07|              1|         10.2|         1|                 N|         138|          97|           1|       40.8| 7.75|    0.5|      10.0|         0.0|                  1.0|       60.05|                 0.0|      0.0|\n",
      "|       2|2023-06-01 00:54:03|2023-06-01 01:17:29|              3|         9.83|         1|                 N|         100|         244|           1|       39.4|  1.0|    0.5|      8.88|         0.0|                  1.0|       53.28|                 2.5|      0.0|\n",
      "|       2|2023-06-01 00:18:44|2023-06-01 00:27:18|              1|         1.17|         1|                 N|         137|         234|           1|        9.3|  1.0|    0.5|      0.72|         0.0|                  1.0|       15.02|                 2.5|      0.0|\n",
      "+--------+-------------------+-------------------+---------------+-------------+----------+------------------+------------+------------+------------+-----------+-----+-------+----------+------------+---------------------+------------+--------------------+---------+\n",
      "only showing top 5 rows\n",
      "\n"
     ]
    }
   ],
   "source": [
    "# Show the first 5 rows of the combined data\n",
    "combined.show(5)"
   ]
  },
  {
   "cell_type": "code",
   "execution_count": 46,
   "metadata": {},
   "outputs": [],
   "source": [
    "# Drop rows with null values in pickup and dropoff datetime columns\n",
    "combined = combined.filter(F.col(\"dropoff_datetime\").isNotNull() & F.col(\"pickup_datetime\").isNotNull())"
   ]
  },
  {
   "cell_type": "code",
   "execution_count": 37,
   "metadata": {},
   "outputs": [
    {
     "name": "stderr",
     "output_type": "stream",
     "text": [
      "[Stage 107:=======================================>              (78 + 8) / 108]\r"
     ]
    },
    {
     "name": "stdout",
     "output_type": "stream",
     "text": [
      "+--------------------+--------------------+\n",
      "|min(pickup_datetime)|max(pickup_datetime)|\n",
      "+--------------------+--------------------+\n",
      "| 2002-12-31 16:46:07| 2024-06-01 23:54:14|\n",
      "+--------------------+--------------------+\n",
      "\n"
     ]
    },
    {
     "name": "stderr",
     "output_type": "stream",
     "text": [
      "                                                                                \r"
     ]
    }
   ],
   "source": [
    "# check minimum and maximum datetime\n",
    "combined.select(F.min(\"pickup_datetime\"), F.max(\"pickup_datetime\")).show()\n"
   ]
  },
  {
   "cell_type": "code",
   "execution_count": 52,
   "metadata": {},
   "outputs": [],
   "source": [
    "# Filter the pick up datetime to between 2023-06 to 2024-05\n",
    "combined = combined.filter(\n",
    "    (F.col(\"pickup_datetime\") >= \"2023-06-01 00:00:00\") & \n",
    "    (F.col(\"pickup_datetime\") < \"2024-06-01 00:00:00\")\n",
    ")\n",
    "# Filter the drop off datetime to between 2023-06 to 2024-05\n",
    "combined = combined.filter(\n",
    "    (F.col(\"dropoff_datetime\") >= \"2023-06-01 00:00:00\") & \n",
    "    (F.col(\"dropoff_datetime\") < \"2024-06-01 00:00:00\")\n",
    ")"
   ]
  },
  {
   "cell_type": "code",
   "execution_count": 53,
   "metadata": {},
   "outputs": [
    {
     "name": "stderr",
     "output_type": "stream",
     "text": [
      "[Stage 112:======================================>               (76 + 8) / 108]\r"
     ]
    },
    {
     "name": "stdout",
     "output_type": "stream",
     "text": [
      "+--------------------+--------------------+\n",
      "|min(pickup_datetime)|max(pickup_datetime)|\n",
      "+--------------------+--------------------+\n",
      "| 2023-06-01 00:00:00| 2024-05-31 23:58:59|\n",
      "+--------------------+--------------------+\n",
      "\n"
     ]
    },
    {
     "name": "stderr",
     "output_type": "stream",
     "text": [
      "                                                                                \r"
     ]
    }
   ],
   "source": [
    "# check minimum and maximum datetime\n",
    "combined.select(F.min(\"pickup_datetime\"), F.max(\"pickup_datetime\")).show()"
   ]
  },
  {
   "cell_type": "code",
   "execution_count": 61,
   "metadata": {},
   "outputs": [
    {
     "ename": "AnalysisException",
     "evalue": "[DATATYPE_MISMATCH.CAST_WITHOUT_SUGGESTION] Cannot resolve \"CAST(dropoff_datetime AS BIGINT)\" due to data type mismatch: cannot cast \"TIMESTAMP_NTZ\" to \"BIGINT\".;\n'Project [VendorID#40, pickup_datetime#2232, dropoff_datetime#2252, passenger_count#43L, RatecodeID#45L, store_and_fwd_flag#46, PULocationID#47, DOLocationID#48, payment_type#49L, fare_amount#50, extra#51, mta_tax#52, tip_amount#53, tolls_amount#54, improvement_surcharge#55, total_amount#56, congestion_surcharge#57, ehail_fee#2767, trip_distance_km#4032, round(((cast(dropoff_datetime#2252 as bigint) - cast(pickup_datetime#2232 as bigint)) / 60), 0) AS duration#4597]\n+- Project [VendorID#40, pickup_datetime#2232, dropoff_datetime#2252, passenger_count#43L, RatecodeID#45L, store_and_fwd_flag#46, PULocationID#47, DOLocationID#48, payment_type#49L, fare_amount#50, extra#51, mta_tax#52, tip_amount#53, tolls_amount#54, improvement_surcharge#55, total_amount#56, congestion_surcharge#57, ehail_fee#2767, trip_distance_km#4032]\n   +- Project [VendorID#40, pickup_datetime#2232, dropoff_datetime#2252, passenger_count#43L, trip_distance#44, RatecodeID#45L, store_and_fwd_flag#46, PULocationID#47, DOLocationID#48, payment_type#49L, fare_amount#50, extra#51, mta_tax#52, tip_amount#53, tolls_amount#54, improvement_surcharge#55, total_amount#56, congestion_surcharge#57, ehail_fee#2767, (trip_distance#44 * 1.60934) AS trip_distance_km#4032]\n      +- Project [VendorID#40, pickup_datetime#2232, dropoff_datetime#2252, passenger_count#43L, trip_distance#44, RatecodeID#45L, store_and_fwd_flag#46, PULocationID#47, DOLocationID#48, payment_type#49L, fare_amount#50, extra#51, mta_tax#52, tip_amount#53, tolls_amount#54, improvement_surcharge#55, total_amount#56, congestion_surcharge#57, ehail_fee#2767, (trip_distance#44 * 1.60934) AS trip_distance_km#3459]\n         +- Filter ((dropoff_datetime#2252 >= cast(2023-06-01 00:00:00 as timestamp_ntz)) AND (dropoff_datetime#2252 < cast(2024-06-01 00:00:00 as timestamp_ntz)))\n            +- Filter ((pickup_datetime#2232 >= cast(2023-06-01 00:00:00 as timestamp_ntz)) AND (pickup_datetime#2232 < cast(2024-06-01 00:00:00 as timestamp_ntz)))\n               +- Filter (isnotnull(dropoff_datetime#2252) AND isnotnull(pickup_datetime#2232))\n                  +- Filter (isnotnull(dropoff_datetime#2252) AND isnotnull(pickup_datetime#2232))\n                     +- Union false, false\n                        :- Project [VendorID#40, pickup_datetime#2232, dropoff_datetime#2252, passenger_count#43L, trip_distance#44, RatecodeID#45L, store_and_fwd_flag#46, PULocationID#47, DOLocationID#48, payment_type#49L, fare_amount#50, extra#51, mta_tax#52, tip_amount#53, tolls_amount#54, improvement_surcharge#55, total_amount#56, congestion_surcharge#57, cast(ehail_fee#2212 as double) AS ehail_fee#2767]\n                        :  +- Filter (passenger_count#43L >= cast(0 as bigint))\n                        :     +- Filter (passenger_count#43L <= cast(6 as bigint))\n                        :        +- Filter (total_amount#56 >= cast(3 as double))\n                        :           +- Project [VendorID#40, pickup_datetime#2232, tpep_dropoff_datetime#42 AS dropoff_datetime#2252, passenger_count#43L, trip_distance#44, RatecodeID#45L, store_and_fwd_flag#46, PULocationID#47, DOLocationID#48, payment_type#49L, fare_amount#50, extra#51, mta_tax#52, tip_amount#53, tolls_amount#54, improvement_surcharge#55, total_amount#56, congestion_surcharge#57, ehail_fee#2212]\n                        :              +- Project [VendorID#40, tpep_pickup_datetime#41 AS pickup_datetime#2232, tpep_dropoff_datetime#42, passenger_count#43L, trip_distance#44, RatecodeID#45L, store_and_fwd_flag#46, PULocationID#47, DOLocationID#48, payment_type#49L, fare_amount#50, extra#51, mta_tax#52, tip_amount#53, tolls_amount#54, improvement_surcharge#55, total_amount#56, congestion_surcharge#57, ehail_fee#2212]\n                        :                 +- Filter (passenger_count#43L <= cast(6 as bigint))\n                        :                    +- Filter (fare_amount#50 >= cast(3 as double))\n                        :                       +- Project [VendorID#40, tpep_pickup_datetime#41, tpep_dropoff_datetime#42, passenger_count#43L, trip_distance#44, RatecodeID#45L, store_and_fwd_flag#46, PULocationID#47, DOLocationID#48, payment_type#49L, fare_amount#50, extra#51, mta_tax#52, tip_amount#53, tolls_amount#54, improvement_surcharge#55, total_amount#56, congestion_surcharge#57, 0 AS ehail_fee#2212]\n                        :                          +- Project [VendorID#40, tpep_pickup_datetime#41, tpep_dropoff_datetime#42, passenger_count#43L, trip_distance#44, RatecodeID#45L, store_and_fwd_flag#46, PULocationID#47, DOLocationID#48, payment_type#49L, fare_amount#50, extra#51, mta_tax#52, tip_amount#53, tolls_amount#54, improvement_surcharge#55, total_amount#56, congestion_surcharge#57]\n                        :                             +- Union false, false\n                        :                                :- Relation [VendorID#40,tpep_pickup_datetime#41,tpep_dropoff_datetime#42,passenger_count#43L,trip_distance#44,RatecodeID#45L,store_and_fwd_flag#46,PULocationID#47,DOLocationID#48,payment_type#49L,fare_amount#50,extra#51,mta_tax#52,tip_amount#53,tolls_amount#54,improvement_surcharge#55,total_amount#56,congestion_surcharge#57,Airport_fee#58] parquet\n                        :                                :- Project [VendorID#78, tpep_pickup_datetime#79, tpep_dropoff_datetime#80, passenger_count#81L, trip_distance#82, RatecodeID#83L, store_and_fwd_flag#84, PULocationID#85, DOLocationID#86, payment_type#87L, fare_amount#88, extra#89, mta_tax#90, tip_amount#91, tolls_amount#92, improvement_surcharge#93, total_amount#94, congestion_surcharge#95, Airport_fee#96]\n                        :                                :  +- Relation [VendorID#78,tpep_pickup_datetime#79,tpep_dropoff_datetime#80,passenger_count#81L,trip_distance#82,RatecodeID#83L,store_and_fwd_flag#84,PULocationID#85,DOLocationID#86,payment_type#87L,fare_amount#88,extra#89,mta_tax#90,tip_amount#91,tolls_amount#92,improvement_surcharge#93,total_amount#94,congestion_surcharge#95,Airport_fee#96] parquet\n                        :                                :- Project [VendorID#116, tpep_pickup_datetime#117, tpep_dropoff_datetime#118, passenger_count#119L, trip_distance#120, RatecodeID#121L, store_and_fwd_flag#122, PULocationID#123, DOLocationID#124, payment_type#125L, fare_amount#126, extra#127, mta_tax#128, tip_amount#129, tolls_amount#130, improvement_surcharge#131, total_amount#132, congestion_surcharge#133, Airport_fee#134]\n                        :                                :  +- Relation [VendorID#116,tpep_pickup_datetime#117,tpep_dropoff_datetime#118,passenger_count#119L,trip_distance#120,RatecodeID#121L,store_and_fwd_flag#122,PULocationID#123,DOLocationID#124,payment_type#125L,fare_amount#126,extra#127,mta_tax#128,tip_amount#129,tolls_amount#130,improvement_surcharge#131,total_amount#132,congestion_surcharge#133,Airport_fee#134] parquet\n                        :                                :- Project [VendorID#154, tpep_pickup_datetime#155, tpep_dropoff_datetime#156, passenger_count#157L, trip_distance#158, RatecodeID#159L, store_and_fwd_flag#160, PULocationID#161, DOLocationID#162, payment_type#163L, fare_amount#164, extra#165, mta_tax#166, tip_amount#167, tolls_amount#168, improvement_surcharge#169, total_amount#170, congestion_surcharge#171, Airport_fee#172]\n                        :                                :  +- Relation [VendorID#154,tpep_pickup_datetime#155,tpep_dropoff_datetime#156,passenger_count#157L,trip_distance#158,RatecodeID#159L,store_and_fwd_flag#160,PULocationID#161,DOLocationID#162,payment_type#163L,fare_amount#164,extra#165,mta_tax#166,tip_amount#167,tolls_amount#168,improvement_surcharge#169,total_amount#170,congestion_surcharge#171,Airport_fee#172] parquet\n                        :                                :- Project [VendorID#192, tpep_pickup_datetime#193, tpep_dropoff_datetime#194, passenger_count#195L, trip_distance#196, RatecodeID#197L, store_and_fwd_flag#198, PULocationID#199, DOLocationID#200, payment_type#201L, fare_amount#202, extra#203, mta_tax#204, tip_amount#205, tolls_amount#206, improvement_surcharge#207, total_amount#208, congestion_surcharge#209, Airport_fee#210]\n                        :                                :  +- Relation [VendorID#192,tpep_pickup_datetime#193,tpep_dropoff_datetime#194,passenger_count#195L,trip_distance#196,RatecodeID#197L,store_and_fwd_flag#198,PULocationID#199,DOLocationID#200,payment_type#201L,fare_amount#202,extra#203,mta_tax#204,tip_amount#205,tolls_amount#206,improvement_surcharge#207,total_amount#208,congestion_surcharge#209,Airport_fee#210] parquet\n                        :                                :- Project [VendorID#230, tpep_pickup_datetime#231, tpep_dropoff_datetime#232, passenger_count#233L, trip_distance#234, RatecodeID#235L, store_and_fwd_flag#236, PULocationID#237, DOLocationID#238, payment_type#239L, fare_amount#240, extra#241, mta_tax#242, tip_amount#243, tolls_amount#244, improvement_surcharge#245, total_amount#246, congestion_surcharge#247, Airport_fee#248]\n                        :                                :  +- Relation [VendorID#230,tpep_pickup_datetime#231,tpep_dropoff_datetime#232,passenger_count#233L,trip_distance#234,RatecodeID#235L,store_and_fwd_flag#236,PULocationID#237,DOLocationID#238,payment_type#239L,fare_amount#240,extra#241,mta_tax#242,tip_amount#243,tolls_amount#244,improvement_surcharge#245,total_amount#246,congestion_surcharge#247,Airport_fee#248] parquet\n                        :                                :- Project [VendorID#268, tpep_pickup_datetime#269, tpep_dropoff_datetime#270, passenger_count#271L, trip_distance#272, RatecodeID#273L, store_and_fwd_flag#274, PULocationID#275, DOLocationID#276, payment_type#277L, fare_amount#278, extra#279, mta_tax#280, tip_amount#281, tolls_amount#282, improvement_surcharge#283, total_amount#284, congestion_surcharge#285, Airport_fee#286]\n                        :                                :  +- Relation [VendorID#268,tpep_pickup_datetime#269,tpep_dropoff_datetime#270,passenger_count#271L,trip_distance#272,RatecodeID#273L,store_and_fwd_flag#274,PULocationID#275,DOLocationID#276,payment_type#277L,fare_amount#278,extra#279,mta_tax#280,tip_amount#281,tolls_amount#282,improvement_surcharge#283,total_amount#284,congestion_surcharge#285,Airport_fee#286] parquet\n                        :                                :- Project [VendorID#306, tpep_pickup_datetime#307, tpep_dropoff_datetime#308, passenger_count#309L, trip_distance#310, RatecodeID#311L, store_and_fwd_flag#312, PULocationID#313, DOLocationID#314, payment_type#315L, fare_amount#316, extra#317, mta_tax#318, tip_amount#319, tolls_amount#320, improvement_surcharge#321, total_amount#322, congestion_surcharge#323, Airport_fee#324]\n                        :                                :  +- Relation [VendorID#306,tpep_pickup_datetime#307,tpep_dropoff_datetime#308,passenger_count#309L,trip_distance#310,RatecodeID#311L,store_and_fwd_flag#312,PULocationID#313,DOLocationID#314,payment_type#315L,fare_amount#316,extra#317,mta_tax#318,tip_amount#319,tolls_amount#320,improvement_surcharge#321,total_amount#322,congestion_surcharge#323,Airport_fee#324] parquet\n                        :                                :- Project [VendorID#344, tpep_pickup_datetime#345, tpep_dropoff_datetime#346, passenger_count#347L, trip_distance#348, RatecodeID#349L, store_and_fwd_flag#350, PULocationID#351, DOLocationID#352, payment_type#353L, fare_amount#354, extra#355, mta_tax#356, tip_amount#357, tolls_amount#358, improvement_surcharge#359, total_amount#360, congestion_surcharge#361, Airport_fee#362]\n                        :                                :  +- Relation [VendorID#344,tpep_pickup_datetime#345,tpep_dropoff_datetime#346,passenger_count#347L,trip_distance#348,RatecodeID#349L,store_and_fwd_flag#350,PULocationID#351,DOLocationID#352,payment_type#353L,fare_amount#354,extra#355,mta_tax#356,tip_amount#357,tolls_amount#358,improvement_surcharge#359,total_amount#360,congestion_surcharge#361,Airport_fee#362] parquet\n                        :                                :- Project [VendorID#382, tpep_pickup_datetime#383, tpep_dropoff_datetime#384, passenger_count#385L, trip_distance#386, RatecodeID#387L, store_and_fwd_flag#388, PULocationID#389, DOLocationID#390, payment_type#391L, fare_amount#392, extra#393, mta_tax#394, tip_amount#395, tolls_amount#396, improvement_surcharge#397, total_amount#398, congestion_surcharge#399, Airport_fee#400]\n                        :                                :  +- Relation [VendorID#382,tpep_pickup_datetime#383,tpep_dropoff_datetime#384,passenger_count#385L,trip_distance#386,RatecodeID#387L,store_and_fwd_flag#388,PULocationID#389,DOLocationID#390,payment_type#391L,fare_amount#392,extra#393,mta_tax#394,tip_amount#395,tolls_amount#396,improvement_surcharge#397,total_amount#398,congestion_surcharge#399,Airport_fee#400] parquet\n                        :                                :- Project [VendorID#420, tpep_pickup_datetime#421, tpep_dropoff_datetime#422, passenger_count#423L, trip_distance#424, RatecodeID#425L, store_and_fwd_flag#426, PULocationID#427, DOLocationID#428, payment_type#429L, fare_amount#430, extra#431, mta_tax#432, tip_amount#433, tolls_amount#434, improvement_surcharge#435, total_amount#436, congestion_surcharge#437, Airport_fee#438]\n                        :                                :  +- Relation [VendorID#420,tpep_pickup_datetime#421,tpep_dropoff_datetime#422,passenger_count#423L,trip_distance#424,RatecodeID#425L,store_and_fwd_flag#426,PULocationID#427,DOLocationID#428,payment_type#429L,fare_amount#430,extra#431,mta_tax#432,tip_amount#433,tolls_amount#434,improvement_surcharge#435,total_amount#436,congestion_surcharge#437,Airport_fee#438] parquet\n                        :                                +- Project [VendorID#458, tpep_pickup_datetime#459, tpep_dropoff_datetime#460, passenger_count#461L, trip_distance#462, RatecodeID#463L, store_and_fwd_flag#464, PULocationID#465, DOLocationID#466, payment_type#467L, fare_amount#468, extra#469, mta_tax#470, tip_amount#471, tolls_amount#472, improvement_surcharge#473, total_amount#474, congestion_surcharge#475, Airport_fee#476]\n                        :                                   +- Relation [VendorID#458,tpep_pickup_datetime#459,tpep_dropoff_datetime#460,passenger_count#461L,trip_distance#462,RatecodeID#463L,store_and_fwd_flag#464,PULocationID#465,DOLocationID#466,payment_type#467L,fare_amount#468,extra#469,mta_tax#470,tip_amount#471,tolls_amount#472,improvement_surcharge#473,total_amount#474,congestion_surcharge#475,Airport_fee#476] parquet\n                        +- Project [VendorID#496, pickup_datetime#2272, dropoff_datetime#2292, passenger_count#503L, trip_distance#504, RatecodeID#500L, store_and_fwd_flag#499, PULocationID#501, DOLocationID#502, payment_type#513L, fare_amount#505, extra#506, mta_tax#507, tip_amount#508, tolls_amount#509, improvement_surcharge#511, total_amount#512, congestion_surcharge#515, ehail_fee#510]\n                           +- Filter (passenger_count#503L >= cast(0 as bigint))\n                              +- Filter (passenger_count#503L <= cast(6 as bigint))\n                                 +- Filter (total_amount#512 >= cast(3 as double))\n                                    +- Project [VendorID#496, pickup_datetime#2272, lpep_dropoff_datetime#498 AS dropoff_datetime#2292, store_and_fwd_flag#499, RatecodeID#500L, PULocationID#501, DOLocationID#502, passenger_count#503L, trip_distance#504, fare_amount#505, extra#506, mta_tax#507, tip_amount#508, tolls_amount#509, ehail_fee#510, improvement_surcharge#511, total_amount#512, payment_type#513L, congestion_surcharge#515]\n                                       +- Project [VendorID#496, lpep_pickup_datetime#497 AS pickup_datetime#2272, lpep_dropoff_datetime#498, store_and_fwd_flag#499, RatecodeID#500L, PULocationID#501, DOLocationID#502, passenger_count#503L, trip_distance#504, fare_amount#505, extra#506, mta_tax#507, tip_amount#508, tolls_amount#509, ehail_fee#510, improvement_surcharge#511, total_amount#512, payment_type#513L, congestion_surcharge#515]\n                                          +- Filter (passenger_count#503L <= cast(6 as bigint))\n                                             +- Filter (fare_amount#505 >= cast(3 as double))\n                                                +- Project [VendorID#496, lpep_pickup_datetime#497, lpep_dropoff_datetime#498, store_and_fwd_flag#499, RatecodeID#500L, PULocationID#501, DOLocationID#502, passenger_count#503L, trip_distance#504, fare_amount#505, extra#506, mta_tax#507, tip_amount#508, tolls_amount#509, ehail_fee#510, improvement_surcharge#511, total_amount#512, payment_type#513L, congestion_surcharge#515]\n                                                   +- Union false, false\n                                                      :- Relation [VendorID#496,lpep_pickup_datetime#497,lpep_dropoff_datetime#498,store_and_fwd_flag#499,RatecodeID#500L,PULocationID#501,DOLocationID#502,passenger_count#503L,trip_distance#504,fare_amount#505,extra#506,mta_tax#507,tip_amount#508,tolls_amount#509,ehail_fee#510,improvement_surcharge#511,total_amount#512,payment_type#513L,trip_type#514L,congestion_surcharge#515] parquet\n                                                      :- Project [VendorID#536, lpep_pickup_datetime#537, lpep_dropoff_datetime#538, store_and_fwd_flag#539, RatecodeID#540L, PULocationID#541, DOLocationID#542, passenger_count#543L, trip_distance#544, fare_amount#545, extra#546, mta_tax#547, tip_amount#548, tolls_amount#549, ehail_fee#550, improvement_surcharge#551, total_amount#552, payment_type#553L, trip_type#554L, congestion_surcharge#555]\n                                                      :  +- Relation [VendorID#536,lpep_pickup_datetime#537,lpep_dropoff_datetime#538,store_and_fwd_flag#539,RatecodeID#540L,PULocationID#541,DOLocationID#542,passenger_count#543L,trip_distance#544,fare_amount#545,extra#546,mta_tax#547,tip_amount#548,tolls_amount#549,ehail_fee#550,improvement_surcharge#551,total_amount#552,payment_type#553L,trip_type#554L,congestion_surcharge#555] parquet\n                                                      :- Project [VendorID#576, lpep_pickup_datetime#577, lpep_dropoff_datetime#578, store_and_fwd_flag#579, RatecodeID#580L, PULocationID#581, DOLocationID#582, passenger_count#583L, trip_distance#584, fare_amount#585, extra#586, mta_tax#587, tip_amount#588, tolls_amount#589, ehail_fee#590, improvement_surcharge#591, total_amount#592, payment_type#593L, trip_type#594L, congestion_surcharge#595]\n                                                      :  +- Relation [VendorID#576,lpep_pickup_datetime#577,lpep_dropoff_datetime#578,store_and_fwd_flag#579,RatecodeID#580L,PULocationID#581,DOLocationID#582,passenger_count#583L,trip_distance#584,fare_amount#585,extra#586,mta_tax#587,tip_amount#588,tolls_amount#589,ehail_fee#590,improvement_surcharge#591,total_amount#592,payment_type#593L,trip_type#594L,congestion_surcharge#595] parquet\n                                                      :- Project [VendorID#616, lpep_pickup_datetime#617, lpep_dropoff_datetime#618, store_and_fwd_flag#619, RatecodeID#620L, PULocationID#621, DOLocationID#622, passenger_count#623L, trip_distance#624, fare_amount#625, extra#626, mta_tax#627, tip_amount#628, tolls_amount#629, ehail_fee#630, improvement_surcharge#631, total_amount#632, payment_type#633L, trip_type#634L, congestion_surcharge#635]\n                                                      :  +- Relation [VendorID#616,lpep_pickup_datetime#617,lpep_dropoff_datetime#618,store_and_fwd_flag#619,RatecodeID#620L,PULocationID#621,DOLocationID#622,passenger_count#623L,trip_distance#624,fare_amount#625,extra#626,mta_tax#627,tip_amount#628,tolls_amount#629,ehail_fee#630,improvement_surcharge#631,total_amount#632,payment_type#633L,trip_type#634L,congestion_surcharge#635] parquet\n                                                      :- Project [VendorID#656, lpep_pickup_datetime#657, lpep_dropoff_datetime#658, store_and_fwd_flag#659, RatecodeID#660L, PULocationID#661, DOLocationID#662, passenger_count#663L, trip_distance#664, fare_amount#665, extra#666, mta_tax#667, tip_amount#668, tolls_amount#669, ehail_fee#670, improvement_surcharge#671, total_amount#672, payment_type#673L, trip_type#674L, congestion_surcharge#675]\n                                                      :  +- Relation [VendorID#656,lpep_pickup_datetime#657,lpep_dropoff_datetime#658,store_and_fwd_flag#659,RatecodeID#660L,PULocationID#661,DOLocationID#662,passenger_count#663L,trip_distance#664,fare_amount#665,extra#666,mta_tax#667,tip_amount#668,tolls_amount#669,ehail_fee#670,improvement_surcharge#671,total_amount#672,payment_type#673L,trip_type#674L,congestion_surcharge#675] parquet\n                                                      :- Project [VendorID#696, lpep_pickup_datetime#697, lpep_dropoff_datetime#698, store_and_fwd_flag#699, RatecodeID#700L, PULocationID#701, DOLocationID#702, passenger_count#703L, trip_distance#704, fare_amount#705, extra#706, mta_tax#707, tip_amount#708, tolls_amount#709, ehail_fee#710, improvement_surcharge#711, total_amount#712, payment_type#713L, trip_type#714L, congestion_surcharge#715]\n                                                      :  +- Relation [VendorID#696,lpep_pickup_datetime#697,lpep_dropoff_datetime#698,store_and_fwd_flag#699,RatecodeID#700L,PULocationID#701,DOLocationID#702,passenger_count#703L,trip_distance#704,fare_amount#705,extra#706,mta_tax#707,tip_amount#708,tolls_amount#709,ehail_fee#710,improvement_surcharge#711,total_amount#712,payment_type#713L,trip_type#714L,congestion_surcharge#715] parquet\n                                                      :- Project [VendorID#736, lpep_pickup_datetime#737, lpep_dropoff_datetime#738, store_and_fwd_flag#739, RatecodeID#740L, PULocationID#741, DOLocationID#742, passenger_count#743L, trip_distance#744, fare_amount#745, extra#746, mta_tax#747, tip_amount#748, tolls_amount#749, ehail_fee#750, improvement_surcharge#751, total_amount#752, payment_type#753L, trip_type#754L, congestion_surcharge#755]\n                                                      :  +- Relation [VendorID#736,lpep_pickup_datetime#737,lpep_dropoff_datetime#738,store_and_fwd_flag#739,RatecodeID#740L,PULocationID#741,DOLocationID#742,passenger_count#743L,trip_distance#744,fare_amount#745,extra#746,mta_tax#747,tip_amount#748,tolls_amount#749,ehail_fee#750,improvement_surcharge#751,total_amount#752,payment_type#753L,trip_type#754L,congestion_surcharge#755] parquet\n                                                      :- Project [VendorID#776, lpep_pickup_datetime#777, lpep_dropoff_datetime#778, store_and_fwd_flag#779, RatecodeID#780L, PULocationID#781, DOLocationID#782, passenger_count#783L, trip_distance#784, fare_amount#785, extra#786, mta_tax#787, tip_amount#788, tolls_amount#789, ehail_fee#790, improvement_surcharge#791, total_amount#792, payment_type#793L, trip_type#794L, congestion_surcharge#795]\n                                                      :  +- Relation [VendorID#776,lpep_pickup_datetime#777,lpep_dropoff_datetime#778,store_and_fwd_flag#779,RatecodeID#780L,PULocationID#781,DOLocationID#782,passenger_count#783L,trip_distance#784,fare_amount#785,extra#786,mta_tax#787,tip_amount#788,tolls_amount#789,ehail_fee#790,improvement_surcharge#791,total_amount#792,payment_type#793L,trip_type#794L,congestion_surcharge#795] parquet\n                                                      :- Project [VendorID#816, lpep_pickup_datetime#817, lpep_dropoff_datetime#818, store_and_fwd_flag#819, RatecodeID#820L, PULocationID#821, DOLocationID#822, passenger_count#823L, trip_distance#824, fare_amount#825, extra#826, mta_tax#827, tip_amount#828, tolls_amount#829, ehail_fee#830, improvement_surcharge#831, total_amount#832, payment_type#833L, trip_type#834L, congestion_surcharge#835]\n                                                      :  +- Relation [VendorID#816,lpep_pickup_datetime#817,lpep_dropoff_datetime#818,store_and_fwd_flag#819,RatecodeID#820L,PULocationID#821,DOLocationID#822,passenger_count#823L,trip_distance#824,fare_amount#825,extra#826,mta_tax#827,tip_amount#828,tolls_amount#829,ehail_fee#830,improvement_surcharge#831,total_amount#832,payment_type#833L,trip_type#834L,congestion_surcharge#835] parquet\n                                                      :- Project [VendorID#856, lpep_pickup_datetime#857, lpep_dropoff_datetime#858, store_and_fwd_flag#859, RatecodeID#860L, PULocationID#861, DOLocationID#862, passenger_count#863L, trip_distance#864, fare_amount#865, extra#866, mta_tax#867, tip_amount#868, tolls_amount#869, ehail_fee#870, improvement_surcharge#871, total_amount#872, payment_type#873L, trip_type#874L, congestion_surcharge#875]\n                                                      :  +- Relation [VendorID#856,lpep_pickup_datetime#857,lpep_dropoff_datetime#858,store_and_fwd_flag#859,RatecodeID#860L,PULocationID#861,DOLocationID#862,passenger_count#863L,trip_distance#864,fare_amount#865,extra#866,mta_tax#867,tip_amount#868,tolls_amount#869,ehail_fee#870,improvement_surcharge#871,total_amount#872,payment_type#873L,trip_type#874L,congestion_surcharge#875] parquet\n                                                      :- Project [VendorID#896, lpep_pickup_datetime#897, lpep_dropoff_datetime#898, store_and_fwd_flag#899, RatecodeID#900L, PULocationID#901, DOLocationID#902, passenger_count#903L, trip_distance#904, fare_amount#905, extra#906, mta_tax#907, tip_amount#908, tolls_amount#909, ehail_fee#910, improvement_surcharge#911, total_amount#912, payment_type#913L, trip_type#914L, congestion_surcharge#915]\n                                                      :  +- Relation [VendorID#896,lpep_pickup_datetime#897,lpep_dropoff_datetime#898,store_and_fwd_flag#899,RatecodeID#900L,PULocationID#901,DOLocationID#902,passenger_count#903L,trip_distance#904,fare_amount#905,extra#906,mta_tax#907,tip_amount#908,tolls_amount#909,ehail_fee#910,improvement_surcharge#911,total_amount#912,payment_type#913L,trip_type#914L,congestion_surcharge#915] parquet\n                                                      +- Project [VendorID#936, lpep_pickup_datetime#937, lpep_dropoff_datetime#938, store_and_fwd_flag#939, RatecodeID#940L, PULocationID#941, DOLocationID#942, passenger_count#943L, trip_distance#944, fare_amount#945, extra#946, mta_tax#947, tip_amount#948, tolls_amount#949, ehail_fee#950, improvement_surcharge#951, total_amount#952, payment_type#953L, trip_type#954L, congestion_surcharge#955]\n                                                         +- Relation [VendorID#936,lpep_pickup_datetime#937,lpep_dropoff_datetime#938,store_and_fwd_flag#939,RatecodeID#940L,PULocationID#941,DOLocationID#942,passenger_count#943L,trip_distance#944,fare_amount#945,extra#946,mta_tax#947,tip_amount#948,tolls_amount#949,ehail_fee#950,improvement_surcharge#951,total_amount#952,payment_type#953L,trip_type#954L,congestion_surcharge#955] parquet\n",
     "output_type": "error",
     "traceback": [
      "\u001b[0;31m---------------------------------------------------------------------------\u001b[0m",
      "\u001b[0;31mAnalysisException\u001b[0m                         Traceback (most recent call last)",
      "Cell \u001b[0;32mIn[61], line 2\u001b[0m\n\u001b[1;32m      1\u001b[0m \u001b[38;5;66;03m# Add time duration column to the combined data in minutes\u001b[39;00m\n\u001b[0;32m----> 2\u001b[0m combined \u001b[38;5;241m=\u001b[39m \u001b[43mcombined\u001b[49m\u001b[38;5;241;43m.\u001b[39;49m\u001b[43mwithColumn\u001b[49m\u001b[43m(\u001b[49m\n\u001b[1;32m      3\u001b[0m \u001b[43m    \u001b[49m\u001b[38;5;124;43m\"\u001b[39;49m\u001b[38;5;124;43mduration\u001b[39;49m\u001b[38;5;124;43m\"\u001b[39;49m\u001b[43m,\u001b[49m\u001b[43m \u001b[49m\n\u001b[1;32m      4\u001b[0m \u001b[43m    \u001b[49m\u001b[43mF\u001b[49m\u001b[38;5;241;43m.\u001b[39;49m\u001b[43mround\u001b[49m\u001b[43m(\u001b[49m\u001b[43m(\u001b[49m\u001b[43mF\u001b[49m\u001b[38;5;241;43m.\u001b[39;49m\u001b[43mcol\u001b[49m\u001b[43m(\u001b[49m\u001b[38;5;124;43m\"\u001b[39;49m\u001b[38;5;124;43mdropoff_datetime\u001b[39;49m\u001b[38;5;124;43m\"\u001b[39;49m\u001b[43m)\u001b[49m\u001b[38;5;241;43m.\u001b[39;49m\u001b[43mcast\u001b[49m\u001b[43m(\u001b[49m\u001b[38;5;124;43m\"\u001b[39;49m\u001b[38;5;124;43mlong\u001b[39;49m\u001b[38;5;124;43m\"\u001b[39;49m\u001b[43m)\u001b[49m\u001b[43m \u001b[49m\u001b[38;5;241;43m-\u001b[39;49m\u001b[43m \u001b[49m\u001b[43mF\u001b[49m\u001b[38;5;241;43m.\u001b[39;49m\u001b[43mcol\u001b[49m\u001b[43m(\u001b[49m\u001b[38;5;124;43m\"\u001b[39;49m\u001b[38;5;124;43mpickup_datetime\u001b[39;49m\u001b[38;5;124;43m\"\u001b[39;49m\u001b[43m)\u001b[49m\u001b[38;5;241;43m.\u001b[39;49m\u001b[43mcast\u001b[49m\u001b[43m(\u001b[49m\u001b[38;5;124;43m\"\u001b[39;49m\u001b[38;5;124;43mlong\u001b[39;49m\u001b[38;5;124;43m\"\u001b[39;49m\u001b[43m)\u001b[49m\u001b[43m)\u001b[49m\u001b[43m \u001b[49m\u001b[38;5;241;43m/\u001b[39;49m\u001b[43m \u001b[49m\u001b[38;5;241;43m60\u001b[39;49m\u001b[43m)\u001b[49m\n\u001b[1;32m      5\u001b[0m \u001b[43m)\u001b[49m\n",
      "File \u001b[0;32m/Library/Frameworks/Python.framework/Versions/3.12/lib/python3.12/site-packages/pyspark/sql/dataframe.py:5174\u001b[0m, in \u001b[0;36mDataFrame.withColumn\u001b[0;34m(self, colName, col)\u001b[0m\n\u001b[1;32m   5169\u001b[0m \u001b[38;5;28;01mif\u001b[39;00m \u001b[38;5;129;01mnot\u001b[39;00m \u001b[38;5;28misinstance\u001b[39m(col, Column):\n\u001b[1;32m   5170\u001b[0m     \u001b[38;5;28;01mraise\u001b[39;00m PySparkTypeError(\n\u001b[1;32m   5171\u001b[0m         error_class\u001b[38;5;241m=\u001b[39m\u001b[38;5;124m\"\u001b[39m\u001b[38;5;124mNOT_COLUMN\u001b[39m\u001b[38;5;124m\"\u001b[39m,\n\u001b[1;32m   5172\u001b[0m         message_parameters\u001b[38;5;241m=\u001b[39m{\u001b[38;5;124m\"\u001b[39m\u001b[38;5;124marg_name\u001b[39m\u001b[38;5;124m\"\u001b[39m: \u001b[38;5;124m\"\u001b[39m\u001b[38;5;124mcol\u001b[39m\u001b[38;5;124m\"\u001b[39m, \u001b[38;5;124m\"\u001b[39m\u001b[38;5;124marg_type\u001b[39m\u001b[38;5;124m\"\u001b[39m: \u001b[38;5;28mtype\u001b[39m(col)\u001b[38;5;241m.\u001b[39m\u001b[38;5;18m__name__\u001b[39m},\n\u001b[1;32m   5173\u001b[0m     )\n\u001b[0;32m-> 5174\u001b[0m \u001b[38;5;28;01mreturn\u001b[39;00m DataFrame(\u001b[38;5;28;43mself\u001b[39;49m\u001b[38;5;241;43m.\u001b[39;49m\u001b[43m_jdf\u001b[49m\u001b[38;5;241;43m.\u001b[39;49m\u001b[43mwithColumn\u001b[49m\u001b[43m(\u001b[49m\u001b[43mcolName\u001b[49m\u001b[43m,\u001b[49m\u001b[43m \u001b[49m\u001b[43mcol\u001b[49m\u001b[38;5;241;43m.\u001b[39;49m\u001b[43m_jc\u001b[49m\u001b[43m)\u001b[49m, \u001b[38;5;28mself\u001b[39m\u001b[38;5;241m.\u001b[39msparkSession)\n",
      "File \u001b[0;32m/Library/Frameworks/Python.framework/Versions/3.12/lib/python3.12/site-packages/py4j/java_gateway.py:1322\u001b[0m, in \u001b[0;36mJavaMember.__call__\u001b[0;34m(self, *args)\u001b[0m\n\u001b[1;32m   1316\u001b[0m command \u001b[38;5;241m=\u001b[39m proto\u001b[38;5;241m.\u001b[39mCALL_COMMAND_NAME \u001b[38;5;241m+\u001b[39m\\\n\u001b[1;32m   1317\u001b[0m     \u001b[38;5;28mself\u001b[39m\u001b[38;5;241m.\u001b[39mcommand_header \u001b[38;5;241m+\u001b[39m\\\n\u001b[1;32m   1318\u001b[0m     args_command \u001b[38;5;241m+\u001b[39m\\\n\u001b[1;32m   1319\u001b[0m     proto\u001b[38;5;241m.\u001b[39mEND_COMMAND_PART\n\u001b[1;32m   1321\u001b[0m answer \u001b[38;5;241m=\u001b[39m \u001b[38;5;28mself\u001b[39m\u001b[38;5;241m.\u001b[39mgateway_client\u001b[38;5;241m.\u001b[39msend_command(command)\n\u001b[0;32m-> 1322\u001b[0m return_value \u001b[38;5;241m=\u001b[39m \u001b[43mget_return_value\u001b[49m\u001b[43m(\u001b[49m\n\u001b[1;32m   1323\u001b[0m \u001b[43m    \u001b[49m\u001b[43manswer\u001b[49m\u001b[43m,\u001b[49m\u001b[43m \u001b[49m\u001b[38;5;28;43mself\u001b[39;49m\u001b[38;5;241;43m.\u001b[39;49m\u001b[43mgateway_client\u001b[49m\u001b[43m,\u001b[49m\u001b[43m \u001b[49m\u001b[38;5;28;43mself\u001b[39;49m\u001b[38;5;241;43m.\u001b[39;49m\u001b[43mtarget_id\u001b[49m\u001b[43m,\u001b[49m\u001b[43m \u001b[49m\u001b[38;5;28;43mself\u001b[39;49m\u001b[38;5;241;43m.\u001b[39;49m\u001b[43mname\u001b[49m\u001b[43m)\u001b[49m\n\u001b[1;32m   1325\u001b[0m \u001b[38;5;28;01mfor\u001b[39;00m temp_arg \u001b[38;5;129;01min\u001b[39;00m temp_args:\n\u001b[1;32m   1326\u001b[0m     \u001b[38;5;28;01mif\u001b[39;00m \u001b[38;5;28mhasattr\u001b[39m(temp_arg, \u001b[38;5;124m\"\u001b[39m\u001b[38;5;124m_detach\u001b[39m\u001b[38;5;124m\"\u001b[39m):\n",
      "File \u001b[0;32m/Library/Frameworks/Python.framework/Versions/3.12/lib/python3.12/site-packages/pyspark/errors/exceptions/captured.py:185\u001b[0m, in \u001b[0;36mcapture_sql_exception.<locals>.deco\u001b[0;34m(*a, **kw)\u001b[0m\n\u001b[1;32m    181\u001b[0m converted \u001b[38;5;241m=\u001b[39m convert_exception(e\u001b[38;5;241m.\u001b[39mjava_exception)\n\u001b[1;32m    182\u001b[0m \u001b[38;5;28;01mif\u001b[39;00m \u001b[38;5;129;01mnot\u001b[39;00m \u001b[38;5;28misinstance\u001b[39m(converted, UnknownException):\n\u001b[1;32m    183\u001b[0m     \u001b[38;5;66;03m# Hide where the exception came from that shows a non-Pythonic\u001b[39;00m\n\u001b[1;32m    184\u001b[0m     \u001b[38;5;66;03m# JVM exception message.\u001b[39;00m\n\u001b[0;32m--> 185\u001b[0m     \u001b[38;5;28;01mraise\u001b[39;00m converted \u001b[38;5;28;01mfrom\u001b[39;00m \u001b[38;5;28;01mNone\u001b[39;00m\n\u001b[1;32m    186\u001b[0m \u001b[38;5;28;01melse\u001b[39;00m:\n\u001b[1;32m    187\u001b[0m     \u001b[38;5;28;01mraise\u001b[39;00m\n",
      "\u001b[0;31mAnalysisException\u001b[0m: [DATATYPE_MISMATCH.CAST_WITHOUT_SUGGESTION] Cannot resolve \"CAST(dropoff_datetime AS BIGINT)\" due to data type mismatch: cannot cast \"TIMESTAMP_NTZ\" to \"BIGINT\".;\n'Project [VendorID#40, pickup_datetime#2232, dropoff_datetime#2252, passenger_count#43L, RatecodeID#45L, store_and_fwd_flag#46, PULocationID#47, DOLocationID#48, payment_type#49L, fare_amount#50, extra#51, mta_tax#52, tip_amount#53, tolls_amount#54, improvement_surcharge#55, total_amount#56, congestion_surcharge#57, ehail_fee#2767, trip_distance_km#4032, round(((cast(dropoff_datetime#2252 as bigint) - cast(pickup_datetime#2232 as bigint)) / 60), 0) AS duration#4597]\n+- Project [VendorID#40, pickup_datetime#2232, dropoff_datetime#2252, passenger_count#43L, RatecodeID#45L, store_and_fwd_flag#46, PULocationID#47, DOLocationID#48, payment_type#49L, fare_amount#50, extra#51, mta_tax#52, tip_amount#53, tolls_amount#54, improvement_surcharge#55, total_amount#56, congestion_surcharge#57, ehail_fee#2767, trip_distance_km#4032]\n   +- Project [VendorID#40, pickup_datetime#2232, dropoff_datetime#2252, passenger_count#43L, trip_distance#44, RatecodeID#45L, store_and_fwd_flag#46, PULocationID#47, DOLocationID#48, payment_type#49L, fare_amount#50, extra#51, mta_tax#52, tip_amount#53, tolls_amount#54, improvement_surcharge#55, total_amount#56, congestion_surcharge#57, ehail_fee#2767, (trip_distance#44 * 1.60934) AS trip_distance_km#4032]\n      +- Project [VendorID#40, pickup_datetime#2232, dropoff_datetime#2252, passenger_count#43L, trip_distance#44, RatecodeID#45L, store_and_fwd_flag#46, PULocationID#47, DOLocationID#48, payment_type#49L, fare_amount#50, extra#51, mta_tax#52, tip_amount#53, tolls_amount#54, improvement_surcharge#55, total_amount#56, congestion_surcharge#57, ehail_fee#2767, (trip_distance#44 * 1.60934) AS trip_distance_km#3459]\n         +- Filter ((dropoff_datetime#2252 >= cast(2023-06-01 00:00:00 as timestamp_ntz)) AND (dropoff_datetime#2252 < cast(2024-06-01 00:00:00 as timestamp_ntz)))\n            +- Filter ((pickup_datetime#2232 >= cast(2023-06-01 00:00:00 as timestamp_ntz)) AND (pickup_datetime#2232 < cast(2024-06-01 00:00:00 as timestamp_ntz)))\n               +- Filter (isnotnull(dropoff_datetime#2252) AND isnotnull(pickup_datetime#2232))\n                  +- Filter (isnotnull(dropoff_datetime#2252) AND isnotnull(pickup_datetime#2232))\n                     +- Union false, false\n                        :- Project [VendorID#40, pickup_datetime#2232, dropoff_datetime#2252, passenger_count#43L, trip_distance#44, RatecodeID#45L, store_and_fwd_flag#46, PULocationID#47, DOLocationID#48, payment_type#49L, fare_amount#50, extra#51, mta_tax#52, tip_amount#53, tolls_amount#54, improvement_surcharge#55, total_amount#56, congestion_surcharge#57, cast(ehail_fee#2212 as double) AS ehail_fee#2767]\n                        :  +- Filter (passenger_count#43L >= cast(0 as bigint))\n                        :     +- Filter (passenger_count#43L <= cast(6 as bigint))\n                        :        +- Filter (total_amount#56 >= cast(3 as double))\n                        :           +- Project [VendorID#40, pickup_datetime#2232, tpep_dropoff_datetime#42 AS dropoff_datetime#2252, passenger_count#43L, trip_distance#44, RatecodeID#45L, store_and_fwd_flag#46, PULocationID#47, DOLocationID#48, payment_type#49L, fare_amount#50, extra#51, mta_tax#52, tip_amount#53, tolls_amount#54, improvement_surcharge#55, total_amount#56, congestion_surcharge#57, ehail_fee#2212]\n                        :              +- Project [VendorID#40, tpep_pickup_datetime#41 AS pickup_datetime#2232, tpep_dropoff_datetime#42, passenger_count#43L, trip_distance#44, RatecodeID#45L, store_and_fwd_flag#46, PULocationID#47, DOLocationID#48, payment_type#49L, fare_amount#50, extra#51, mta_tax#52, tip_amount#53, tolls_amount#54, improvement_surcharge#55, total_amount#56, congestion_surcharge#57, ehail_fee#2212]\n                        :                 +- Filter (passenger_count#43L <= cast(6 as bigint))\n                        :                    +- Filter (fare_amount#50 >= cast(3 as double))\n                        :                       +- Project [VendorID#40, tpep_pickup_datetime#41, tpep_dropoff_datetime#42, passenger_count#43L, trip_distance#44, RatecodeID#45L, store_and_fwd_flag#46, PULocationID#47, DOLocationID#48, payment_type#49L, fare_amount#50, extra#51, mta_tax#52, tip_amount#53, tolls_amount#54, improvement_surcharge#55, total_amount#56, congestion_surcharge#57, 0 AS ehail_fee#2212]\n                        :                          +- Project [VendorID#40, tpep_pickup_datetime#41, tpep_dropoff_datetime#42, passenger_count#43L, trip_distance#44, RatecodeID#45L, store_and_fwd_flag#46, PULocationID#47, DOLocationID#48, payment_type#49L, fare_amount#50, extra#51, mta_tax#52, tip_amount#53, tolls_amount#54, improvement_surcharge#55, total_amount#56, congestion_surcharge#57]\n                        :                             +- Union false, false\n                        :                                :- Relation [VendorID#40,tpep_pickup_datetime#41,tpep_dropoff_datetime#42,passenger_count#43L,trip_distance#44,RatecodeID#45L,store_and_fwd_flag#46,PULocationID#47,DOLocationID#48,payment_type#49L,fare_amount#50,extra#51,mta_tax#52,tip_amount#53,tolls_amount#54,improvement_surcharge#55,total_amount#56,congestion_surcharge#57,Airport_fee#58] parquet\n                        :                                :- Project [VendorID#78, tpep_pickup_datetime#79, tpep_dropoff_datetime#80, passenger_count#81L, trip_distance#82, RatecodeID#83L, store_and_fwd_flag#84, PULocationID#85, DOLocationID#86, payment_type#87L, fare_amount#88, extra#89, mta_tax#90, tip_amount#91, tolls_amount#92, improvement_surcharge#93, total_amount#94, congestion_surcharge#95, Airport_fee#96]\n                        :                                :  +- Relation [VendorID#78,tpep_pickup_datetime#79,tpep_dropoff_datetime#80,passenger_count#81L,trip_distance#82,RatecodeID#83L,store_and_fwd_flag#84,PULocationID#85,DOLocationID#86,payment_type#87L,fare_amount#88,extra#89,mta_tax#90,tip_amount#91,tolls_amount#92,improvement_surcharge#93,total_amount#94,congestion_surcharge#95,Airport_fee#96] parquet\n                        :                                :- Project [VendorID#116, tpep_pickup_datetime#117, tpep_dropoff_datetime#118, passenger_count#119L, trip_distance#120, RatecodeID#121L, store_and_fwd_flag#122, PULocationID#123, DOLocationID#124, payment_type#125L, fare_amount#126, extra#127, mta_tax#128, tip_amount#129, tolls_amount#130, improvement_surcharge#131, total_amount#132, congestion_surcharge#133, Airport_fee#134]\n                        :                                :  +- Relation [VendorID#116,tpep_pickup_datetime#117,tpep_dropoff_datetime#118,passenger_count#119L,trip_distance#120,RatecodeID#121L,store_and_fwd_flag#122,PULocationID#123,DOLocationID#124,payment_type#125L,fare_amount#126,extra#127,mta_tax#128,tip_amount#129,tolls_amount#130,improvement_surcharge#131,total_amount#132,congestion_surcharge#133,Airport_fee#134] parquet\n                        :                                :- Project [VendorID#154, tpep_pickup_datetime#155, tpep_dropoff_datetime#156, passenger_count#157L, trip_distance#158, RatecodeID#159L, store_and_fwd_flag#160, PULocationID#161, DOLocationID#162, payment_type#163L, fare_amount#164, extra#165, mta_tax#166, tip_amount#167, tolls_amount#168, improvement_surcharge#169, total_amount#170, congestion_surcharge#171, Airport_fee#172]\n                        :                                :  +- Relation [VendorID#154,tpep_pickup_datetime#155,tpep_dropoff_datetime#156,passenger_count#157L,trip_distance#158,RatecodeID#159L,store_and_fwd_flag#160,PULocationID#161,DOLocationID#162,payment_type#163L,fare_amount#164,extra#165,mta_tax#166,tip_amount#167,tolls_amount#168,improvement_surcharge#169,total_amount#170,congestion_surcharge#171,Airport_fee#172] parquet\n                        :                                :- Project [VendorID#192, tpep_pickup_datetime#193, tpep_dropoff_datetime#194, passenger_count#195L, trip_distance#196, RatecodeID#197L, store_and_fwd_flag#198, PULocationID#199, DOLocationID#200, payment_type#201L, fare_amount#202, extra#203, mta_tax#204, tip_amount#205, tolls_amount#206, improvement_surcharge#207, total_amount#208, congestion_surcharge#209, Airport_fee#210]\n                        :                                :  +- Relation [VendorID#192,tpep_pickup_datetime#193,tpep_dropoff_datetime#194,passenger_count#195L,trip_distance#196,RatecodeID#197L,store_and_fwd_flag#198,PULocationID#199,DOLocationID#200,payment_type#201L,fare_amount#202,extra#203,mta_tax#204,tip_amount#205,tolls_amount#206,improvement_surcharge#207,total_amount#208,congestion_surcharge#209,Airport_fee#210] parquet\n                        :                                :- Project [VendorID#230, tpep_pickup_datetime#231, tpep_dropoff_datetime#232, passenger_count#233L, trip_distance#234, RatecodeID#235L, store_and_fwd_flag#236, PULocationID#237, DOLocationID#238, payment_type#239L, fare_amount#240, extra#241, mta_tax#242, tip_amount#243, tolls_amount#244, improvement_surcharge#245, total_amount#246, congestion_surcharge#247, Airport_fee#248]\n                        :                                :  +- Relation [VendorID#230,tpep_pickup_datetime#231,tpep_dropoff_datetime#232,passenger_count#233L,trip_distance#234,RatecodeID#235L,store_and_fwd_flag#236,PULocationID#237,DOLocationID#238,payment_type#239L,fare_amount#240,extra#241,mta_tax#242,tip_amount#243,tolls_amount#244,improvement_surcharge#245,total_amount#246,congestion_surcharge#247,Airport_fee#248] parquet\n                        :                                :- Project [VendorID#268, tpep_pickup_datetime#269, tpep_dropoff_datetime#270, passenger_count#271L, trip_distance#272, RatecodeID#273L, store_and_fwd_flag#274, PULocationID#275, DOLocationID#276, payment_type#277L, fare_amount#278, extra#279, mta_tax#280, tip_amount#281, tolls_amount#282, improvement_surcharge#283, total_amount#284, congestion_surcharge#285, Airport_fee#286]\n                        :                                :  +- Relation [VendorID#268,tpep_pickup_datetime#269,tpep_dropoff_datetime#270,passenger_count#271L,trip_distance#272,RatecodeID#273L,store_and_fwd_flag#274,PULocationID#275,DOLocationID#276,payment_type#277L,fare_amount#278,extra#279,mta_tax#280,tip_amount#281,tolls_amount#282,improvement_surcharge#283,total_amount#284,congestion_surcharge#285,Airport_fee#286] parquet\n                        :                                :- Project [VendorID#306, tpep_pickup_datetime#307, tpep_dropoff_datetime#308, passenger_count#309L, trip_distance#310, RatecodeID#311L, store_and_fwd_flag#312, PULocationID#313, DOLocationID#314, payment_type#315L, fare_amount#316, extra#317, mta_tax#318, tip_amount#319, tolls_amount#320, improvement_surcharge#321, total_amount#322, congestion_surcharge#323, Airport_fee#324]\n                        :                                :  +- Relation [VendorID#306,tpep_pickup_datetime#307,tpep_dropoff_datetime#308,passenger_count#309L,trip_distance#310,RatecodeID#311L,store_and_fwd_flag#312,PULocationID#313,DOLocationID#314,payment_type#315L,fare_amount#316,extra#317,mta_tax#318,tip_amount#319,tolls_amount#320,improvement_surcharge#321,total_amount#322,congestion_surcharge#323,Airport_fee#324] parquet\n                        :                                :- Project [VendorID#344, tpep_pickup_datetime#345, tpep_dropoff_datetime#346, passenger_count#347L, trip_distance#348, RatecodeID#349L, store_and_fwd_flag#350, PULocationID#351, DOLocationID#352, payment_type#353L, fare_amount#354, extra#355, mta_tax#356, tip_amount#357, tolls_amount#358, improvement_surcharge#359, total_amount#360, congestion_surcharge#361, Airport_fee#362]\n                        :                                :  +- Relation [VendorID#344,tpep_pickup_datetime#345,tpep_dropoff_datetime#346,passenger_count#347L,trip_distance#348,RatecodeID#349L,store_and_fwd_flag#350,PULocationID#351,DOLocationID#352,payment_type#353L,fare_amount#354,extra#355,mta_tax#356,tip_amount#357,tolls_amount#358,improvement_surcharge#359,total_amount#360,congestion_surcharge#361,Airport_fee#362] parquet\n                        :                                :- Project [VendorID#382, tpep_pickup_datetime#383, tpep_dropoff_datetime#384, passenger_count#385L, trip_distance#386, RatecodeID#387L, store_and_fwd_flag#388, PULocationID#389, DOLocationID#390, payment_type#391L, fare_amount#392, extra#393, mta_tax#394, tip_amount#395, tolls_amount#396, improvement_surcharge#397, total_amount#398, congestion_surcharge#399, Airport_fee#400]\n                        :                                :  +- Relation [VendorID#382,tpep_pickup_datetime#383,tpep_dropoff_datetime#384,passenger_count#385L,trip_distance#386,RatecodeID#387L,store_and_fwd_flag#388,PULocationID#389,DOLocationID#390,payment_type#391L,fare_amount#392,extra#393,mta_tax#394,tip_amount#395,tolls_amount#396,improvement_surcharge#397,total_amount#398,congestion_surcharge#399,Airport_fee#400] parquet\n                        :                                :- Project [VendorID#420, tpep_pickup_datetime#421, tpep_dropoff_datetime#422, passenger_count#423L, trip_distance#424, RatecodeID#425L, store_and_fwd_flag#426, PULocationID#427, DOLocationID#428, payment_type#429L, fare_amount#430, extra#431, mta_tax#432, tip_amount#433, tolls_amount#434, improvement_surcharge#435, total_amount#436, congestion_surcharge#437, Airport_fee#438]\n                        :                                :  +- Relation [VendorID#420,tpep_pickup_datetime#421,tpep_dropoff_datetime#422,passenger_count#423L,trip_distance#424,RatecodeID#425L,store_and_fwd_flag#426,PULocationID#427,DOLocationID#428,payment_type#429L,fare_amount#430,extra#431,mta_tax#432,tip_amount#433,tolls_amount#434,improvement_surcharge#435,total_amount#436,congestion_surcharge#437,Airport_fee#438] parquet\n                        :                                +- Project [VendorID#458, tpep_pickup_datetime#459, tpep_dropoff_datetime#460, passenger_count#461L, trip_distance#462, RatecodeID#463L, store_and_fwd_flag#464, PULocationID#465, DOLocationID#466, payment_type#467L, fare_amount#468, extra#469, mta_tax#470, tip_amount#471, tolls_amount#472, improvement_surcharge#473, total_amount#474, congestion_surcharge#475, Airport_fee#476]\n                        :                                   +- Relation [VendorID#458,tpep_pickup_datetime#459,tpep_dropoff_datetime#460,passenger_count#461L,trip_distance#462,RatecodeID#463L,store_and_fwd_flag#464,PULocationID#465,DOLocationID#466,payment_type#467L,fare_amount#468,extra#469,mta_tax#470,tip_amount#471,tolls_amount#472,improvement_surcharge#473,total_amount#474,congestion_surcharge#475,Airport_fee#476] parquet\n                        +- Project [VendorID#496, pickup_datetime#2272, dropoff_datetime#2292, passenger_count#503L, trip_distance#504, RatecodeID#500L, store_and_fwd_flag#499, PULocationID#501, DOLocationID#502, payment_type#513L, fare_amount#505, extra#506, mta_tax#507, tip_amount#508, tolls_amount#509, improvement_surcharge#511, total_amount#512, congestion_surcharge#515, ehail_fee#510]\n                           +- Filter (passenger_count#503L >= cast(0 as bigint))\n                              +- Filter (passenger_count#503L <= cast(6 as bigint))\n                                 +- Filter (total_amount#512 >= cast(3 as double))\n                                    +- Project [VendorID#496, pickup_datetime#2272, lpep_dropoff_datetime#498 AS dropoff_datetime#2292, store_and_fwd_flag#499, RatecodeID#500L, PULocationID#501, DOLocationID#502, passenger_count#503L, trip_distance#504, fare_amount#505, extra#506, mta_tax#507, tip_amount#508, tolls_amount#509, ehail_fee#510, improvement_surcharge#511, total_amount#512, payment_type#513L, congestion_surcharge#515]\n                                       +- Project [VendorID#496, lpep_pickup_datetime#497 AS pickup_datetime#2272, lpep_dropoff_datetime#498, store_and_fwd_flag#499, RatecodeID#500L, PULocationID#501, DOLocationID#502, passenger_count#503L, trip_distance#504, fare_amount#505, extra#506, mta_tax#507, tip_amount#508, tolls_amount#509, ehail_fee#510, improvement_surcharge#511, total_amount#512, payment_type#513L, congestion_surcharge#515]\n                                          +- Filter (passenger_count#503L <= cast(6 as bigint))\n                                             +- Filter (fare_amount#505 >= cast(3 as double))\n                                                +- Project [VendorID#496, lpep_pickup_datetime#497, lpep_dropoff_datetime#498, store_and_fwd_flag#499, RatecodeID#500L, PULocationID#501, DOLocationID#502, passenger_count#503L, trip_distance#504, fare_amount#505, extra#506, mta_tax#507, tip_amount#508, tolls_amount#509, ehail_fee#510, improvement_surcharge#511, total_amount#512, payment_type#513L, congestion_surcharge#515]\n                                                   +- Union false, false\n                                                      :- Relation [VendorID#496,lpep_pickup_datetime#497,lpep_dropoff_datetime#498,store_and_fwd_flag#499,RatecodeID#500L,PULocationID#501,DOLocationID#502,passenger_count#503L,trip_distance#504,fare_amount#505,extra#506,mta_tax#507,tip_amount#508,tolls_amount#509,ehail_fee#510,improvement_surcharge#511,total_amount#512,payment_type#513L,trip_type#514L,congestion_surcharge#515] parquet\n                                                      :- Project [VendorID#536, lpep_pickup_datetime#537, lpep_dropoff_datetime#538, store_and_fwd_flag#539, RatecodeID#540L, PULocationID#541, DOLocationID#542, passenger_count#543L, trip_distance#544, fare_amount#545, extra#546, mta_tax#547, tip_amount#548, tolls_amount#549, ehail_fee#550, improvement_surcharge#551, total_amount#552, payment_type#553L, trip_type#554L, congestion_surcharge#555]\n                                                      :  +- Relation [VendorID#536,lpep_pickup_datetime#537,lpep_dropoff_datetime#538,store_and_fwd_flag#539,RatecodeID#540L,PULocationID#541,DOLocationID#542,passenger_count#543L,trip_distance#544,fare_amount#545,extra#546,mta_tax#547,tip_amount#548,tolls_amount#549,ehail_fee#550,improvement_surcharge#551,total_amount#552,payment_type#553L,trip_type#554L,congestion_surcharge#555] parquet\n                                                      :- Project [VendorID#576, lpep_pickup_datetime#577, lpep_dropoff_datetime#578, store_and_fwd_flag#579, RatecodeID#580L, PULocationID#581, DOLocationID#582, passenger_count#583L, trip_distance#584, fare_amount#585, extra#586, mta_tax#587, tip_amount#588, tolls_amount#589, ehail_fee#590, improvement_surcharge#591, total_amount#592, payment_type#593L, trip_type#594L, congestion_surcharge#595]\n                                                      :  +- Relation [VendorID#576,lpep_pickup_datetime#577,lpep_dropoff_datetime#578,store_and_fwd_flag#579,RatecodeID#580L,PULocationID#581,DOLocationID#582,passenger_count#583L,trip_distance#584,fare_amount#585,extra#586,mta_tax#587,tip_amount#588,tolls_amount#589,ehail_fee#590,improvement_surcharge#591,total_amount#592,payment_type#593L,trip_type#594L,congestion_surcharge#595] parquet\n                                                      :- Project [VendorID#616, lpep_pickup_datetime#617, lpep_dropoff_datetime#618, store_and_fwd_flag#619, RatecodeID#620L, PULocationID#621, DOLocationID#622, passenger_count#623L, trip_distance#624, fare_amount#625, extra#626, mta_tax#627, tip_amount#628, tolls_amount#629, ehail_fee#630, improvement_surcharge#631, total_amount#632, payment_type#633L, trip_type#634L, congestion_surcharge#635]\n                                                      :  +- Relation [VendorID#616,lpep_pickup_datetime#617,lpep_dropoff_datetime#618,store_and_fwd_flag#619,RatecodeID#620L,PULocationID#621,DOLocationID#622,passenger_count#623L,trip_distance#624,fare_amount#625,extra#626,mta_tax#627,tip_amount#628,tolls_amount#629,ehail_fee#630,improvement_surcharge#631,total_amount#632,payment_type#633L,trip_type#634L,congestion_surcharge#635] parquet\n                                                      :- Project [VendorID#656, lpep_pickup_datetime#657, lpep_dropoff_datetime#658, store_and_fwd_flag#659, RatecodeID#660L, PULocationID#661, DOLocationID#662, passenger_count#663L, trip_distance#664, fare_amount#665, extra#666, mta_tax#667, tip_amount#668, tolls_amount#669, ehail_fee#670, improvement_surcharge#671, total_amount#672, payment_type#673L, trip_type#674L, congestion_surcharge#675]\n                                                      :  +- Relation [VendorID#656,lpep_pickup_datetime#657,lpep_dropoff_datetime#658,store_and_fwd_flag#659,RatecodeID#660L,PULocationID#661,DOLocationID#662,passenger_count#663L,trip_distance#664,fare_amount#665,extra#666,mta_tax#667,tip_amount#668,tolls_amount#669,ehail_fee#670,improvement_surcharge#671,total_amount#672,payment_type#673L,trip_type#674L,congestion_surcharge#675] parquet\n                                                      :- Project [VendorID#696, lpep_pickup_datetime#697, lpep_dropoff_datetime#698, store_and_fwd_flag#699, RatecodeID#700L, PULocationID#701, DOLocationID#702, passenger_count#703L, trip_distance#704, fare_amount#705, extra#706, mta_tax#707, tip_amount#708, tolls_amount#709, ehail_fee#710, improvement_surcharge#711, total_amount#712, payment_type#713L, trip_type#714L, congestion_surcharge#715]\n                                                      :  +- Relation [VendorID#696,lpep_pickup_datetime#697,lpep_dropoff_datetime#698,store_and_fwd_flag#699,RatecodeID#700L,PULocationID#701,DOLocationID#702,passenger_count#703L,trip_distance#704,fare_amount#705,extra#706,mta_tax#707,tip_amount#708,tolls_amount#709,ehail_fee#710,improvement_surcharge#711,total_amount#712,payment_type#713L,trip_type#714L,congestion_surcharge#715] parquet\n                                                      :- Project [VendorID#736, lpep_pickup_datetime#737, lpep_dropoff_datetime#738, store_and_fwd_flag#739, RatecodeID#740L, PULocationID#741, DOLocationID#742, passenger_count#743L, trip_distance#744, fare_amount#745, extra#746, mta_tax#747, tip_amount#748, tolls_amount#749, ehail_fee#750, improvement_surcharge#751, total_amount#752, payment_type#753L, trip_type#754L, congestion_surcharge#755]\n                                                      :  +- Relation [VendorID#736,lpep_pickup_datetime#737,lpep_dropoff_datetime#738,store_and_fwd_flag#739,RatecodeID#740L,PULocationID#741,DOLocationID#742,passenger_count#743L,trip_distance#744,fare_amount#745,extra#746,mta_tax#747,tip_amount#748,tolls_amount#749,ehail_fee#750,improvement_surcharge#751,total_amount#752,payment_type#753L,trip_type#754L,congestion_surcharge#755] parquet\n                                                      :- Project [VendorID#776, lpep_pickup_datetime#777, lpep_dropoff_datetime#778, store_and_fwd_flag#779, RatecodeID#780L, PULocationID#781, DOLocationID#782, passenger_count#783L, trip_distance#784, fare_amount#785, extra#786, mta_tax#787, tip_amount#788, tolls_amount#789, ehail_fee#790, improvement_surcharge#791, total_amount#792, payment_type#793L, trip_type#794L, congestion_surcharge#795]\n                                                      :  +- Relation [VendorID#776,lpep_pickup_datetime#777,lpep_dropoff_datetime#778,store_and_fwd_flag#779,RatecodeID#780L,PULocationID#781,DOLocationID#782,passenger_count#783L,trip_distance#784,fare_amount#785,extra#786,mta_tax#787,tip_amount#788,tolls_amount#789,ehail_fee#790,improvement_surcharge#791,total_amount#792,payment_type#793L,trip_type#794L,congestion_surcharge#795] parquet\n                                                      :- Project [VendorID#816, lpep_pickup_datetime#817, lpep_dropoff_datetime#818, store_and_fwd_flag#819, RatecodeID#820L, PULocationID#821, DOLocationID#822, passenger_count#823L, trip_distance#824, fare_amount#825, extra#826, mta_tax#827, tip_amount#828, tolls_amount#829, ehail_fee#830, improvement_surcharge#831, total_amount#832, payment_type#833L, trip_type#834L, congestion_surcharge#835]\n                                                      :  +- Relation [VendorID#816,lpep_pickup_datetime#817,lpep_dropoff_datetime#818,store_and_fwd_flag#819,RatecodeID#820L,PULocationID#821,DOLocationID#822,passenger_count#823L,trip_distance#824,fare_amount#825,extra#826,mta_tax#827,tip_amount#828,tolls_amount#829,ehail_fee#830,improvement_surcharge#831,total_amount#832,payment_type#833L,trip_type#834L,congestion_surcharge#835] parquet\n                                                      :- Project [VendorID#856, lpep_pickup_datetime#857, lpep_dropoff_datetime#858, store_and_fwd_flag#859, RatecodeID#860L, PULocationID#861, DOLocationID#862, passenger_count#863L, trip_distance#864, fare_amount#865, extra#866, mta_tax#867, tip_amount#868, tolls_amount#869, ehail_fee#870, improvement_surcharge#871, total_amount#872, payment_type#873L, trip_type#874L, congestion_surcharge#875]\n                                                      :  +- Relation [VendorID#856,lpep_pickup_datetime#857,lpep_dropoff_datetime#858,store_and_fwd_flag#859,RatecodeID#860L,PULocationID#861,DOLocationID#862,passenger_count#863L,trip_distance#864,fare_amount#865,extra#866,mta_tax#867,tip_amount#868,tolls_amount#869,ehail_fee#870,improvement_surcharge#871,total_amount#872,payment_type#873L,trip_type#874L,congestion_surcharge#875] parquet\n                                                      :- Project [VendorID#896, lpep_pickup_datetime#897, lpep_dropoff_datetime#898, store_and_fwd_flag#899, RatecodeID#900L, PULocationID#901, DOLocationID#902, passenger_count#903L, trip_distance#904, fare_amount#905, extra#906, mta_tax#907, tip_amount#908, tolls_amount#909, ehail_fee#910, improvement_surcharge#911, total_amount#912, payment_type#913L, trip_type#914L, congestion_surcharge#915]\n                                                      :  +- Relation [VendorID#896,lpep_pickup_datetime#897,lpep_dropoff_datetime#898,store_and_fwd_flag#899,RatecodeID#900L,PULocationID#901,DOLocationID#902,passenger_count#903L,trip_distance#904,fare_amount#905,extra#906,mta_tax#907,tip_amount#908,tolls_amount#909,ehail_fee#910,improvement_surcharge#911,total_amount#912,payment_type#913L,trip_type#914L,congestion_surcharge#915] parquet\n                                                      +- Project [VendorID#936, lpep_pickup_datetime#937, lpep_dropoff_datetime#938, store_and_fwd_flag#939, RatecodeID#940L, PULocationID#941, DOLocationID#942, passenger_count#943L, trip_distance#944, fare_amount#945, extra#946, mta_tax#947, tip_amount#948, tolls_amount#949, ehail_fee#950, improvement_surcharge#951, total_amount#952, payment_type#953L, trip_type#954L, congestion_surcharge#955]\n                                                         +- Relation [VendorID#936,lpep_pickup_datetime#937,lpep_dropoff_datetime#938,store_and_fwd_flag#939,RatecodeID#940L,PULocationID#941,DOLocationID#942,passenger_count#943L,trip_distance#944,fare_amount#945,extra#946,mta_tax#947,tip_amount#948,tolls_amount#949,ehail_fee#950,improvement_surcharge#951,total_amount#952,payment_type#953L,trip_type#954L,congestion_surcharge#955] parquet\n"
     ]
    }
   ],
   "source": [
    "# Add time duration column to the combined data in minutes\n",
    "combined = combined.withColumn(\n",
    "    \"duration\", \n",
    "    F.round((F.col(\"dropoff_datetime\").cast(\"long\") - F.col(\"pickup_datetime\").cast(\"long\")) / 60)\n",
    ")"
   ]
  },
  {
   "cell_type": "code",
   "execution_count": 59,
   "metadata": {},
   "outputs": [],
   "source": [
    "# Convert to kilometers for the trip distance\n",
    "combined = combined.withColumn(\"trip_distance_km\", F.col(\"trip_distance\") * 1.60934)\n",
    "# drop the trip_distance column\n",
    "combined = combined.drop(\"trip_distance\")"
   ]
  },
  {
   "cell_type": "code",
   "execution_count": 60,
   "metadata": {},
   "outputs": [
    {
     "name": "stdout",
     "output_type": "stream",
     "text": [
      "+--------+-------------------+-------------------+---------------+----------+------------------+------------+------------+------------+-----------+-----+-------+----------+------------+---------------------+------------+--------------------+---------+------------------+\n",
      "|VendorID|    pickup_datetime|   dropoff_datetime|passenger_count|RatecodeID|store_and_fwd_flag|PULocationID|DOLocationID|payment_type|fare_amount|extra|mta_tax|tip_amount|tolls_amount|improvement_surcharge|total_amount|congestion_surcharge|ehail_fee|  trip_distance_km|\n",
      "+--------+-------------------+-------------------+---------------+----------+------------------+------------+------------+------------+-----------+-----+-------+----------+------------+---------------------+------------+--------------------+---------+------------------+\n",
      "|       1|2023-06-01 00:08:48|2023-06-01 00:29:41|              1|         1|                 N|         140|         238|           1|       21.9|  3.5|    0.5|       6.7|         0.0|                  1.0|        33.6|                 2.5|      0.0|          5.471756|\n",
      "|       1|2023-06-01 00:15:04|2023-06-01 00:25:18|              0|         1|                 N|          50|         151|           1|       15.6|  3.5|    0.5|       3.0|         0.0|                  1.0|        23.6|                 2.5|      0.0|          5.471756|\n",
      "|       1|2023-06-01 00:48:24|2023-06-01 01:07:07|              1|         1|                 N|         138|          97|           1|       40.8| 7.75|    0.5|      10.0|         0.0|                  1.0|       60.05|                 0.0|      0.0|16.415267999999998|\n",
      "|       2|2023-06-01 00:54:03|2023-06-01 01:17:29|              3|         1|                 N|         100|         244|           1|       39.4|  1.0|    0.5|      8.88|         0.0|                  1.0|       53.28|                 2.5|      0.0|        15.8198122|\n",
      "|       2|2023-06-01 00:18:44|2023-06-01 00:27:18|              1|         1|                 N|         137|         234|           1|        9.3|  1.0|    0.5|      0.72|         0.0|                  1.0|       15.02|                 2.5|      0.0|1.8829277999999998|\n",
      "+--------+-------------------+-------------------+---------------+----------+------------------+------------+------------+------------+-----------+-----+-------+----------+------------+---------------------+------------+--------------------+---------+------------------+\n",
      "only showing top 5 rows\n",
      "\n"
     ]
    }
   ],
   "source": [
    "# Show the first 5 rows of the combined data\n",
    "combined.show(5)"
   ]
  },
  {
   "cell_type": "markdown",
   "metadata": {},
   "source": [
    "## Add new column ##"
   ]
  },
  {
   "cell_type": "markdown",
   "metadata": {},
   "source": [
    "## Sampling Data"
   ]
  },
  {
   "cell_type": "markdown",
   "metadata": {},
   "source": [
    "## Handling missing data "
   ]
  },
  {
   "cell_type": "markdown",
   "metadata": {},
   "source": [
    " ## Datatype Conversion"
   ]
  },
  {
   "cell_type": "markdown",
   "metadata": {},
   "source": [
    "## Handling duplicates"
   ]
  },
  {
   "cell_type": "markdown",
   "metadata": {},
   "source": [
    "## Anomaly "
   ]
  },
  {
   "cell_type": "markdown",
   "metadata": {},
   "source": [
    "## Standardization "
   ]
  },
  {
   "cell_type": "code",
   "execution_count": null,
   "metadata": {},
   "outputs": [],
   "source": []
  }
 ],
 "metadata": {
  "kernelspec": {
   "display_name": "Python 3 (ipykernel)",
   "language": "python",
   "name": "python3"
  },
  "language_info": {
   "codemirror_mode": {
    "name": "ipython",
    "version": 3
   },
   "file_extension": ".py",
   "mimetype": "text/x-python",
   "name": "python",
   "nbconvert_exporter": "python",
   "pygments_lexer": "ipython3",
   "version": "3.12.1"
  }
 },
 "nbformat": 4,
 "nbformat_minor": 4
}
