{
 "cells": [
  {
   "cell_type": "markdown",
   "metadata": {},
   "source": [
    "# Exploratary Data Analysis 3"
   ]
  },
  {
   "cell_type": "code",
   "execution_count": 6,
   "metadata": {},
   "outputs": [],
   "source": [
    "import matplotlib.pyplot as plt\n",
    "import pandas as pd\n",
    "import numpy as np\n",
    "import seaborn as sbs\n",
    "import geopandas as gpd\n",
    "import folium \n",
    "from folium.plugins import HeatMap"
   ]
  },
  {
   "cell_type": "code",
   "execution_count": 7,
   "metadata": {},
   "outputs": [],
   "source": [
    "# Load the Parquet file into a Pandas DataFrame\n",
    "clean_df = pd.read_parquet(\"../data/curated/tlc_data/tdf.parquet/\")"
   ]
  },
  {
   "cell_type": "code",
   "execution_count": 8,
   "metadata": {},
   "outputs": [
    {
     "name": "stdout",
     "output_type": "stream",
     "text": [
      "        PULocationID  DOLocationID  trip_duration   pickup_hour  dropoff_hour pickup_date dropoff_date\n",
      "count   1.666073e+07  1.666073e+07   1.666073e+07  1.666073e+07  1.666073e+07    16660730     16660730\n",
      "unique           NaN           NaN            NaN           NaN           NaN         187          187\n",
      "top              NaN           NaN            NaN           NaN           NaN  2023-12-14   2023-12-14\n",
      "freq             NaN           NaN            NaN           NaN           NaN      123379       122906\n",
      "mean    1.646533e+02  1.636566e+02   1.750681e+01  1.430633e+01  1.435736e+01         NaN          NaN\n",
      "std     6.342481e+01  6.985936e+01   1.357135e+01  5.807085e+00  5.929726e+00         NaN          NaN\n",
      "min     1.000000e+00  1.000000e+00   1.000000e+00  0.000000e+00  0.000000e+00         NaN          NaN\n",
      "25%     1.320000e+02  1.130000e+02   8.000000e+00  1.100000e+01  1.100000e+01         NaN          NaN\n",
      "50%     1.610000e+02  1.620000e+02   1.400000e+01  1.500000e+01  1.500000e+01         NaN          NaN\n",
      "75%     2.330000e+02  2.340000e+02   2.200000e+01  1.900000e+01  1.900000e+01         NaN          NaN\n",
      "max     2.650000e+02  2.650000e+02   1.200000e+02  2.300000e+01  2.300000e+01         NaN          NaN\n"
     ]
    }
   ],
   "source": [
    "# Set display options to show all columns\n",
    "pd.set_option('display.max_columns', None)  # Show all columns\n",
    "pd.set_option('display.expand_frame_repr', False)  # Prevent line breaks in the output\n",
    "\n",
    "# Get summary statistics for all columns, including non-numerical ones\n",
    "summary_stats = clean_df.describe(include='all')\n",
    "\n",
    "# Display the summary statistics\n",
    "print(summary_stats)"
   ]
  },
  {
   "cell_type": "code",
   "execution_count": null,
   "metadata": {},
   "outputs": [],
   "source": [
    "# "
   ]
  }
 ],
 "metadata": {
  "kernelspec": {
   "display_name": "Python 3",
   "language": "python",
   "name": "python3"
  },
  "language_info": {
   "codemirror_mode": {
    "name": "ipython",
    "version": 3
   },
   "file_extension": ".py",
   "mimetype": "text/x-python",
   "name": "python",
   "nbconvert_exporter": "python",
   "pygments_lexer": "ipython3",
   "version": "3.12.1"
  }
 },
 "nbformat": 4,
 "nbformat_minor": 2
}
