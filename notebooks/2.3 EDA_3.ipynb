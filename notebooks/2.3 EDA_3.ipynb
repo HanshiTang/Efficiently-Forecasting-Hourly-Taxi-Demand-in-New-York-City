{
 "cells": [
  {
   "cell_type": "markdown",
   "metadata": {},
   "source": [
    "# Exploratary Data Analysis 3"
   ]
  },
  {
   "cell_type": "code",
   "execution_count": 3,
   "metadata": {},
   "outputs": [],
   "source": [
    "import matplotlib.pyplot as plt\n",
    "import pandas as pd\n",
    "import numpy as np\n",
    "import seaborn as sbs\n",
    "import geopandas as gpd\n",
    "import folium \n",
    "from folium.plugins import HeatMap"
   ]
  },
  {
   "cell_type": "code",
   "execution_count": 4,
   "metadata": {},
   "outputs": [],
   "source": [
    "# Load the Parquet file into a Pandas DataFrame\n",
    "clean_df = pd.read_parquet(\"../data/curated/merged_data/first_cleaned.parquet/\")"
   ]
  },
  {
   "cell_type": "code",
   "execution_count": 5,
   "metadata": {},
   "outputs": [
    {
     "name": "stdout",
     "output_type": "stream",
     "text": [
      "                             datetime PUBorough pickup_date   pickup_hour  hourly_trip_count  Number of Events           CIG           WND          VIS           TMP           DEW           SLP\n",
      "count                           38461     38461       38461  38461.000000       38461.000000      38461.000000  38461.000000  38461.000000  38461.00000  38461.000000  38461.000000  38461.000000\n",
      "unique                            NaN         6         182           NaN                NaN               NaN           NaN           NaN          NaN           NaN           NaN           NaN\n",
      "top                               NaN    Queens  2023-09-11           NaN                NaN               NaN           NaN           NaN          NaN           NaN           NaN           NaN\n",
      "freq                              NaN     10175         459           NaN                NaN               NaN           NaN           NaN          NaN           NaN           NaN           NaN\n",
      "mean    2023-09-28 00:54:42.504355072       NaN         NaN      5.157562         819.367541          6.167156  12946.894140      2.575489   1354.87079     17.368588     10.957971   1016.246413\n",
      "min               2023-07-01 00:00:00       NaN         NaN      0.000000           1.000000          0.000000     61.000000      1.500000     40.20000     -3.900000    -15.600000    983.600000\n",
      "25%               2023-08-13 00:00:00       NaN         NaN      0.000000           8.000000          0.000000   1036.000000      2.100000   1287.50000     10.600000      5.600000   1012.400000\n",
      "50%               2023-09-27 18:00:00       NaN         NaN      0.000000         136.000000          1.000000  22000.000000      2.631967   1609.30000     18.900000     12.800000   1016.097624\n",
      "75%               2023-11-13 00:00:00       NaN         NaN     10.000000         700.000000          5.000000  22000.000000      2.631967   1609.30000     23.900000     18.300000   1019.200000\n",
      "max               2023-12-30 23:00:00       NaN         NaN     23.000000        8715.000000        143.000000  22000.000000     12.400000   1609.30000     33.900000     24.400000   1039.100000\n",
      "std                               NaN       NaN         NaN      7.330844        1479.934228         12.246460  10283.342239      0.859517    445.93616      7.711765      8.814546      6.738929\n"
     ]
    }
   ],
   "source": [
    "# Set display options to show all columns\n",
    "pd.set_option('display.max_columns', None)  # Show all columns\n",
    "pd.set_option('display.expand_frame_repr', False)  # Prevent line breaks in the output\n",
    "\n",
    "# Get summary statistics for all columns, including non-numerical ones\n",
    "summary_stats = clean_df.describe(include='all')\n",
    "\n",
    "# Display the summary statistics\n",
    "print(summary_stats)"
   ]
  }
 ],
 "metadata": {
  "kernelspec": {
   "display_name": "Python 3",
   "language": "python",
   "name": "python3"
  },
  "language_info": {
   "codemirror_mode": {
    "name": "ipython",
    "version": 3
   },
   "file_extension": ".py",
   "mimetype": "text/x-python",
   "name": "python",
   "nbconvert_exporter": "python",
   "pygments_lexer": "ipython3",
   "version": "3.12.1"
  }
 },
 "nbformat": 4,
 "nbformat_minor": 2
}
