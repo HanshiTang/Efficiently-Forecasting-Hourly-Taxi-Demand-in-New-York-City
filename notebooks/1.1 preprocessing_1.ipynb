{
 "cells": [
  {
   "cell_type": "markdown",
   "metadata": {},
   "source": [
    "# Preprocessing TLC data"
   ]
  },
  {
   "cell_type": "markdown",
   "metadata": {},
   "source": [
    "This notebook cleans the following datasets: \n",
    "1. Yellow taxi data from 2023-12 to 2024-05\n",
    "2. Green taxi data from 2023-12 to 2024-05\n"
   ]
  },
  {
   "cell_type": "code",
   "execution_count": 31,
   "metadata": {},
   "outputs": [],
   "source": [
    "from pyspark.sql import functions as F\n",
    "from pyspark.sql import SparkSession\n",
    "from pyspark.sql.functions import *\n",
    "import matplotlib.pyplot as plt\n",
    "import pandas as pd\n",
    "import numpy as np\n",
    "import seaborn as sbs\n",
    "import geopandas as gpd\n",
    "import folium"
   ]
  },
  {
   "cell_type": "code",
   "execution_count": 32,
   "metadata": {},
   "outputs": [],
   "source": [
    "from pyspark.sql import SparkSession\n",
    "\n",
    "# Create a spark session with increased memory allocation\n",
    "spark = (\n",
    "    SparkSession.builder.appName(\"ADS Project1\")\n",
    "    .config(\"spark.sql.repl.eagerEval.enabled\", True) \n",
    "    .config(\"spark.sql.parquet.cacheMetadata\", \"true\")\n",
    "    .config(\"spark.sql.session.timeZone\", \"Etc/UTC\")\n",
    "    .config(\"spark.driver.memory\", \"8g\")  # Set the driver memory to 8GB\n",
    "    .config(\"spark.executor.memory\", \"8g\")  # Set the executor memory to 8GB\n",
    "    .getOrCreate()\n",
    ")\n"
   ]
  },
  {
   "cell_type": "code",
   "execution_count": 33,
   "metadata": {},
   "outputs": [],
   "source": [
    "spark.conf.set(\"spark.sql.parquet.compression.codec\",\"gzip\")"
   ]
  },
  {
   "cell_type": "code",
   "execution_count": 34,
   "metadata": {},
   "outputs": [],
   "source": [
    "# Read 2023-2024 TLC data\n",
    "df = spark.read.parquet('../data/landing/tlc_data/*.parquet')\n"
   ]
  },
  {
   "cell_type": "code",
   "execution_count": 35,
   "metadata": {},
   "outputs": [],
   "source": [
    "# Read 2023-6 to 2024-5 yellow data\n",
    "path = \"../data/landing/tlc_data\"\n",
    "ydf_2023_12 = spark.read.parquet(path + \"/Y-2023-12.parquet\")\n",
    "ydf_2024_1 = spark.read.parquet(path + \"/Y-2024-01.parquet\")\n",
    "ydf_2024_2 = spark.read.parquet(path + \"/Y-2024-02.parquet\")\n",
    "ydf_2024_3 = spark.read.parquet(path + \"/Y-2024-03.parquet\")\n",
    "ydf_2024_4 = spark.read.parquet(path + \"/Y-2024-04.parquet\")\n",
    "ydf_2024_5 = spark.read.parquet(path + \"/Y-2024-05.parquet\")"
   ]
  },
  {
   "cell_type": "code",
   "execution_count": 36,
   "metadata": {},
   "outputs": [],
   "source": [
    "# Read 2023-12 to 2024-5 green data\n",
    "path = \"../data/landing/tlc_data\"\n",
    "gdf_2023_12 = spark.read.parquet(path + \"/G-2023-12.parquet\")\n",
    "gdf_2024_1 = spark.read.parquet(path + \"/G-2024-01.parquet\")\n",
    "gdf_2024_2 = spark.read.parquet(path + \"/G-2024-02.parquet\")\n",
    "gdf_2024_3 = spark.read.parquet(path + \"/G-2024-03.parquet\")\n",
    "gdf_2024_4 = spark.read.parquet(path + \"/G-2024-04.parquet\")\n",
    "gdf_2024_5 = spark.read.parquet(path + \"/G-2024-05.parquet\")"
   ]
  },
  {
   "cell_type": "markdown",
   "metadata": {},
   "source": [
    "## TLC datasets inspection"
   ]
  },
  {
   "cell_type": "code",
   "execution_count": 37,
   "metadata": {},
   "outputs": [
    {
     "name": "stdout",
     "output_type": "stream",
     "text": [
      "The total green count is 349274.\n",
      "The total yellow count is 20169467.\n",
      "The total count is 20518741.\n"
     ]
    }
   ],
   "source": [
    "# Calculate the total row count for yellow taxi data from 2023-6 to 2024-5\n",
    "yellow_count = (\n",
    "    ydf_2023_12.count() + \n",
    "    ydf_2024_1.count() + \n",
    "    ydf_2024_2.count() + \n",
    "    ydf_2024_3.count() + \n",
    "    ydf_2024_4.count() + \n",
    "    ydf_2024_5.count()\n",
    ")\n",
    "\n",
    "# Calculate the total row count for green taxi data from 2023-6 to 2024-5\n",
    "green_count = (\n",
    "    gdf_2023_12.count() + \n",
    "    gdf_2024_1.count() + \n",
    "    gdf_2024_2.count() + \n",
    "    gdf_2024_3.count() + \n",
    "    gdf_2024_4.count() + \n",
    "    gdf_2024_5.count()\n",
    ")\n",
    "\n",
    "# Display the green count\n",
    "print(f\"The total green count is {green_count}.\")\n",
    "\n",
    "# Display the yellow count\n",
    "print(f\"The total yellow count is {yellow_count}.\")\n",
    "\n",
    "# Calculate the total row count for all taxi data from 2023-6 to 2024-5\n",
    "total_count = yellow_count + green_count\n",
    "# Display the total count\n",
    "print(f\"The total count is {total_count}.\")"
   ]
  },
  {
   "cell_type": "code",
   "execution_count": 38,
   "metadata": {},
   "outputs": [
    {
     "name": "stdout",
     "output_type": "stream",
     "text": [
      "Columns only in yellowDF: {'tpep_pickup_datetime', 'tpep_dropoff_datetime', 'Airport_fee'}\n",
      "Columns only in greenDF: {'ehail_fee', 'lpep_dropoff_datetime', 'trip_type', 'lpep_pickup_datetime'}\n"
     ]
    }
   ],
   "source": [
    "# Get columns of each DataFrame\n",
    "columns_ydf = set(ydf_2024_5.columns)\n",
    "columns_gdf = set(gdf_2024_5.columns)\n",
    "\n",
    "# Find differences in columns\n",
    "columns_only_in_df1 = columns_ydf - columns_gdf\n",
    "columns_only_in_df2 = columns_gdf - columns_ydf\n",
    "\n",
    "print(f\"Columns only in yellowDF: {columns_only_in_df1}\")\n",
    "print(f\"Columns only in greenDF: {columns_only_in_df2}\")\n"
   ]
  },
  {
   "cell_type": "code",
   "execution_count": 39,
   "metadata": {},
   "outputs": [
    {
     "name": "stdout",
     "output_type": "stream",
     "text": [
      "Number of features in yellowDF: 19\n",
      "Number of features in greenDF: 20\n"
     ]
    }
   ],
   "source": [
    "# Report number of features in each DataFrame\n",
    "print(f\"Number of features in yellowDF: {len(ydf_2024_5.columns)}\")\n",
    "print(f\"Number of features in greenDF: {len(gdf_2024_5.columns)}\")"
   ]
  },
  {
   "cell_type": "markdown",
   "metadata": {},
   "source": [
    "## Data Cleaning"
   ]
  },
  {
   "cell_type": "code",
   "execution_count": 40,
   "metadata": {},
   "outputs": [],
   "source": [
    "# combine the datasets \n",
    "ydfs = [ydf_2023_12, \n",
    "       ydf_2024_1, ydf_2024_2, ydf_2024_3, ydf_2024_4, ydf_2024_5]\n",
    "gdfs = [gdf_2023_12, \n",
    "       gdf_2024_1, gdf_2024_2, gdf_2024_3, gdf_2024_4, gdf_2024_5]\n"
   ]
  },
  {
   "cell_type": "code",
   "execution_count": 41,
   "metadata": {},
   "outputs": [],
   "source": [
    "from pyspark.sql import DataFrame\n",
    "from functools import reduce\n",
    "\n",
    "# Function to union two DataFrames\n",
    "def union_dfs(df1, df2):\n",
    "    return df1.unionByName(df2)\n",
    "\n",
    "# Combine all yellow taxi data\n",
    "yellow_combined = reduce(union_dfs, ydfs)\n",
    "\n",
    "# Combine all green taxi data\n",
    "green_combined = reduce(union_dfs, gdfs) "
   ]
  },
  {
   "cell_type": "markdown",
   "metadata": {},
   "source": [
    "### Unify the columns of the two dataframes"
   ]
  },
  {
   "cell_type": "code",
   "execution_count": 42,
   "metadata": {},
   "outputs": [],
   "source": [
    "# Drop Airport_fee and trip_type columns from the combined data\n",
    "yellow_combined = yellow_combined.drop(\"Airport_fee\")\n",
    "green_combined = green_combined.drop(\"trip_type\")\n",
    "\n",
    "# Set ehail_fee to 0 for yellow taxi data\n",
    "yellow_combined = yellow_combined.withColumn(\"ehail_fee\", lit(0))"
   ]
  },
  {
   "cell_type": "markdown",
   "metadata": {},
   "source": [
    "tpep: Taxicab Passenger Enhancement Program for yellow taxi <br> \n",
    "lpep: Livery Passenger Enhancement Program for green taxi"
   ]
  },
  {
   "cell_type": "code",
   "execution_count": 43,
   "metadata": {},
   "outputs": [],
   "source": [
    "# Rename datetime columns to be consistent\n",
    "from pyspark.sql.functions import col\n",
    "\n",
    "yellow_combined = yellow_combined.withColumnRenamed('tpep_pickup_datetime', 'pickup_datetime') \\\n",
    "                               .withColumnRenamed('tpep_dropoff_datetime', 'dropoff_datetime')\n",
    "\n",
    "green_combined = green_combined.withColumnRenamed('lpep_pickup_datetime', 'pickup_datetime') \\\n",
    "                             .withColumnRenamed('lpep_dropoff_datetime', 'dropoff_datetime')\n"
   ]
  },
  {
   "cell_type": "markdown",
   "metadata": {},
   "source": [
    "### Combine yellow and green taxi data"
   ]
  },
  {
   "cell_type": "code",
   "execution_count": 44,
   "metadata": {},
   "outputs": [],
   "source": [
    "# Combine yellow and green taxi data\n",
    "combined = yellow_combined.unionByName(green_combined)"
   ]
  },
  {
   "cell_type": "markdown",
   "metadata": {},
   "source": [
    "### Anomaly handling 1\n",
    "Filter out anomaly with business logic"
   ]
  },
  {
   "cell_type": "code",
   "execution_count": 45,
   "metadata": {},
   "outputs": [
    {
     "name": "stdout",
     "output_type": "stream",
     "text": [
      "root\n",
      " |-- VendorID: integer (nullable = true)\n",
      " |-- pickup_datetime: timestamp_ntz (nullable = true)\n",
      " |-- dropoff_datetime: timestamp_ntz (nullable = true)\n",
      " |-- passenger_count: long (nullable = true)\n",
      " |-- trip_distance: double (nullable = true)\n",
      " |-- RatecodeID: long (nullable = true)\n",
      " |-- store_and_fwd_flag: string (nullable = true)\n",
      " |-- PULocationID: integer (nullable = true)\n",
      " |-- DOLocationID: integer (nullable = true)\n",
      " |-- payment_type: long (nullable = true)\n",
      " |-- fare_amount: double (nullable = true)\n",
      " |-- extra: double (nullable = true)\n",
      " |-- mta_tax: double (nullable = true)\n",
      " |-- tip_amount: double (nullable = true)\n",
      " |-- tolls_amount: double (nullable = true)\n",
      " |-- improvement_surcharge: double (nullable = true)\n",
      " |-- total_amount: double (nullable = true)\n",
      " |-- congestion_surcharge: double (nullable = true)\n",
      " |-- ehail_fee: double (nullable = true)\n",
      "\n"
     ]
    }
   ],
   "source": [
    "# print the schema of the combined data\n",
    "combined.printSchema()"
   ]
  },
  {
   "cell_type": "code",
   "execution_count": 46,
   "metadata": {},
   "outputs": [
    {
     "name": "stdout",
     "output_type": "stream",
     "text": [
      "passenger_count: Min = 0, Max = 9\n",
      "trip_distance: Min = 0.0, Max = 345729.44\n",
      "fare_amount: Min = -1087.3, Max = 386983.63\n",
      "extra: Min = -39.17, Max = 10002.5\n",
      "mta_tax: Min = -0.5, Max = 52.09\n",
      "tip_amount: Min = -330.88, Max = 4174.0\n",
      "tolls_amount: Min = -91.3, Max = 1702.88\n",
      "improvement_surcharge: Min = -1.0, Max = 1.0\n",
      "total_amount: Min = -1094.05, Max = 386987.63\n",
      "congestion_surcharge: Min = -2.75, Max = 2.75\n",
      "ehail_fee: Min = None, Max = None\n"
     ]
    }
   ],
   "source": [
    "from pyspark.sql.functions import min, max\n",
    "\n",
    "columns_to_check = [\n",
    "    'passenger_count', \n",
    "    'trip_distance', \n",
    "    'fare_amount', \n",
    "    'extra', \n",
    "    'mta_tax', \n",
    "    'tip_amount', \n",
    "    'tolls_amount', \n",
    "    'improvement_surcharge',\n",
    "    'total_amount',\n",
    "    'congestion_surcharge',\n",
    "    'ehail_fee'\n",
    "]\n",
    "\n",
    "# Create a dictionary to store min and max for each column\n",
    "min_max_dict = {col: df.agg(min(col).alias(f\"min_{col}\"), max(col).alias(f\"max_{col}\")).collect()[0] for col in columns_to_check}\n",
    "\n",
    "# Print the results\n",
    "for col, values in min_max_dict.items():\n",
    "    print(f\"{col}: Min = {values[f'min_{col}']}, Max = {values[f'max_{col}']}\")\n"
   ]
  },
  {
   "cell_type": "code",
   "execution_count": 47,
   "metadata": {},
   "outputs": [],
   "source": [
    "from pyspark.sql.functions import col\n",
    "\n",
    "# Apply all filters in a single chain\n",
    "combined = combined.filter(\n",
    "    # Filter out rows with passenger count greater than 6 or less than 1\n",
    "    (col(\"passenger_count\").between(1, 6)) &\n",
    "    # Filter out rows with fare amount less than 3\n",
    "    (col(\"fare_amount\") >= 3) &\n",
    "    # Filter out rows with trip distance less than 0.5 miles \n",
    "    (col(\"trip_distance\") >= 0.5) &\n",
    "    # Filter out rows with tip amount less than 0 \n",
    "    (col(\"tip_amount\") >= 0) &\n",
    "    # Filter out rows with tolls amount less than 0\n",
    "    (col(\"tolls_amount\") >= 0) &\n",
    "    # Filter out rows with extra amount less than 0\n",
    "    (col(\"extra\") >= 0) &\n",
    "    # Filter out mtax_tax less than 0\n",
    "    (col(\"mta_tax\") >= 0) &\n",
    "    # Filter out rows with improvement surcharge less than 0\n",
    "    (col(\"improvement_surcharge\") >= 0) &\n",
    "    # Filter out rows with total amount less than 3\n",
    "    (col(\"total_amount\") >= 3) &\n",
    "    # Filter out rows with congestion surcharge less than 0\n",
    "    (col(\"congestion_surcharge\") >= 0) &\n",
    "    # Filter the pick up datetime to between 2023-06 to 2024-05\n",
    "    (col(\"pickup_datetime\").between(\"2023-06-01 00:00:00\", \"2024-05-31 00:00:00\")) &\n",
    "    # Filter the drop off datetime to between 2023-06 to 2024-05\n",
    "    (col(\"dropoff_datetime\").between(\"2023-06-01 00:00:00\", \"2024-05-31 00:00:00\"))\n",
    "\n",
    ")\n"
   ]
  },
  {
   "cell_type": "markdown",
   "metadata": {},
   "source": [
    "### Data type conversion"
   ]
  },
  {
   "cell_type": "code",
   "execution_count": 48,
   "metadata": {},
   "outputs": [],
   "source": [
    "# Convert 'store_and_fwd_flag' to boolean\n",
    "combined = combined.withColumn(\"store_and_fwd_flag\", when(col(\"store_and_fwd_flag\") == \"Y\", True).otherwise(False))"
   ]
  },
  {
   "cell_type": "code",
   "execution_count": 49,
   "metadata": {},
   "outputs": [
    {
     "name": "stdout",
     "output_type": "stream",
     "text": [
      "+--------+-------------------+-------------------+---------------+-------------+----------+------------------+------------+------------+------------+-----------+-----+-------+----------+------------+---------------------+------------+--------------------+---------+-------------+\n",
      "|VendorID|    pickup_datetime|   dropoff_datetime|passenger_count|trip_distance|RatecodeID|store_and_fwd_flag|PULocationID|DOLocationID|payment_type|fare_amount|extra|mta_tax|tip_amount|tolls_amount|improvement_surcharge|total_amount|congestion_surcharge|ehail_fee|trip_duration|\n",
      "+--------+-------------------+-------------------+---------------+-------------+----------+------------------+------------+------------+------------+-----------+-----+-------+----------+------------+---------------------+------------+--------------------+---------+-------------+\n",
      "|       1|2023-12-01 00:59:44|2023-12-01 01:13:22|              2|          2.2|         1|             false|         114|         186|           1|       13.5|  3.5|    0.5|       3.0|         0.0|                  1.0|        21.5|                 2.5|      0.0|         14.0|\n",
      "|       2|2023-12-01 00:22:17|2023-12-01 00:30:59|              1|         0.66|         1|             false|          79|          79|           2|        7.2|  1.0|    0.5|       0.0|         0.0|                  1.0|        12.2|                 2.5|      0.0|          9.0|\n",
      "|       2|2023-12-01 00:18:16|2023-12-01 00:25:32|              2|          2.2|         1|             false|         229|         263|           1|       11.4|  1.0|    0.5|       2.0|         0.0|                  1.0|        18.4|                 2.5|      0.0|          7.0|\n",
      "|       2|2023-12-01 00:17:09|2023-12-01 00:33:31|              1|         5.33|         1|             false|          45|         162|           1|       24.7|  1.0|    0.5|       3.0|         0.0|                  1.0|        32.7|                 2.5|      0.0|         16.0|\n",
      "|       2|2023-12-01 00:40:49|2023-12-01 00:44:10|              1|         0.76|         1|             false|         170|         107|           1|        5.8|  1.0|    0.5|       1.0|         0.0|                  1.0|        11.8|                 2.5|      0.0|          3.0|\n",
      "+--------+-------------------+-------------------+---------------+-------------+----------+------------------+------------+------------+------------+-----------+-----+-------+----------+------------+---------------------+------------+--------------------+---------+-------------+\n",
      "only showing top 5 rows\n",
      "\n"
     ]
    }
   ],
   "source": [
    "# Step 1: Convert pickup and dropoff timestamps to string format\n",
    "combined = combined.withColumn(\"pickup_str\", F.col(\"pickup_datetime\").cast(\"string\"))\n",
    "combined = combined.withColumn(\"dropoff_str\", F.col(\"dropoff_datetime\").cast(\"string\"))\n",
    "\n",
    "# Step 2: Convert the strings back to timestamps\n",
    "combined = combined.withColumn(\"pickup_ts\", F.to_timestamp(\"pickup_str\"))\n",
    "combined = combined.withColumn(\"dropoff_ts\", F.to_timestamp(\"dropoff_str\"))\n",
    "\n",
    "# Step 3: Convert the timestamps to long (Unix epoch seconds)\n",
    "combined = combined.withColumn(\"pickup_long\", F.col(\"pickup_ts\").cast(\"long\"))\n",
    "combined = combined.withColumn(\"dropoff_long\", F.col(\"dropoff_ts\").cast(\"long\"))\n",
    "\n",
    "# Step 4: Calculate the trip duration in minutes\n",
    "combined = combined.withColumn(\"trip_duration\", F.round((F.col(\"dropoff_long\") - F.col(\"pickup_long\")) / 60))\n",
    "\n",
    "# Drop intermediate columns if no longer needed\n",
    "combined = combined.drop(\"pickup_str\", \"dropoff_str\", \"pickup_ts\", \"dropoff_ts\", \"pickup_long\", \"dropoff_long\")\n",
    "\n",
    "# Show the result\n",
    "combined.show(5)\n"
   ]
  },
  {
   "cell_type": "code",
   "execution_count": 50,
   "metadata": {},
   "outputs": [
    {
     "name": "stdout",
     "output_type": "stream",
     "text": [
      "root\n",
      " |-- VendorID: integer (nullable = true)\n",
      " |-- pickup_datetime: timestamp_ntz (nullable = true)\n",
      " |-- dropoff_datetime: timestamp_ntz (nullable = true)\n",
      " |-- passenger_count: long (nullable = true)\n",
      " |-- trip_distance: double (nullable = true)\n",
      " |-- RatecodeID: long (nullable = true)\n",
      " |-- store_and_fwd_flag: boolean (nullable = false)\n",
      " |-- PULocationID: integer (nullable = true)\n",
      " |-- DOLocationID: integer (nullable = true)\n",
      " |-- payment_type: long (nullable = true)\n",
      " |-- fare_amount: double (nullable = true)\n",
      " |-- extra: double (nullable = true)\n",
      " |-- mta_tax: double (nullable = true)\n",
      " |-- tip_amount: double (nullable = true)\n",
      " |-- tolls_amount: double (nullable = true)\n",
      " |-- improvement_surcharge: double (nullable = true)\n",
      " |-- total_amount: double (nullable = true)\n",
      " |-- congestion_surcharge: double (nullable = true)\n",
      " |-- ehail_fee: double (nullable = true)\n",
      " |-- trip_duration: double (nullable = true)\n",
      "\n"
     ]
    }
   ],
   "source": [
    "# check datatypes\n",
    "combined.printSchema()"
   ]
  },
  {
   "cell_type": "markdown",
   "metadata": {},
   "source": [
    "From Northern end of bronx to southern end of staten island is below 50 miles </br>\n",
    "2 hours should be sufficient for travel "
   ]
  },
  {
   "cell_type": "code",
   "execution_count": 51,
   "metadata": {},
   "outputs": [],
   "source": [
    "from pyspark.sql.functions import col as pyspark_col\n",
    "\n",
    "# Filter out rows with trip duration greater than 120 minutes\n",
    "combined = combined.filter(\n",
    "    (pyspark_col(\"trip_duration\") <= 120)\n",
    ")\n",
    "\n",
    "# Filter out rows with trip distance greater than 50 miles \n",
    "combined = combined.filter(\n",
    "    pyspark_col(\"trip_distance\") <= 50\n",
    ") "
   ]
  },
  {
   "cell_type": "markdown",
   "metadata": {},
   "source": [
    "### Handling missing values & duplicates"
   ]
  },
  {
   "cell_type": "code",
   "execution_count": 52,
   "metadata": {},
   "outputs": [],
   "source": [
    "# Drop dulicate rows\n",
    "combined = combined.dropDuplicates()"
   ]
  },
  {
   "cell_type": "code",
   "execution_count": 53,
   "metadata": {},
   "outputs": [],
   "source": [
    "# Drop rows with missing values\n",
    "combined = combined.dropna() "
   ]
  },
  {
   "cell_type": "markdown",
   "metadata": {},
   "source": [
    "### Anomaly handling by statistics"
   ]
  },
  {
   "cell_type": "code",
   "execution_count": 54,
   "metadata": {},
   "outputs": [
    {
     "name": "stderr",
     "output_type": "stream",
     "text": [
      "[Stage 184:===============>                                       (15 + 8) / 54]\r"
     ]
    }
   ],
   "source": [
    "# keep 99% quantile of total_amount\n",
    "total_amount_quantile = combined.approxQuantile(\"total_amount\", [0.99], 0.01)[0]\n",
    "combined = combined.filter(pyspark_col(\"total_amount\") <= total_amount_quantile)"
   ]
  },
  {
   "cell_type": "markdown",
   "metadata": {},
   "source": [
    "## Data cleaning outcomes"
   ]
  },
  {
   "cell_type": "code",
   "execution_count": null,
   "metadata": {},
   "outputs": [
    {
     "name": "stderr",
     "output_type": "stream",
     "text": [
      "[Stage 90:================================>                        (9 + 7) / 16]\r"
     ]
    },
    {
     "name": "stdout",
     "output_type": "stream",
     "text": [
      "Percentage of rows remaining after filtering: 82.31%\n"
     ]
    },
    {
     "name": "stderr",
     "output_type": "stream",
     "text": [
      "                                                                                \r"
     ]
    }
   ],
   "source": [
    "# check the percentage of rows that remain after filtering\n",
    "original_count = total_count\n",
    "filtered_count = combined.count()\n",
    "percentage_remaining = (filtered_count / original_count) * 100\n",
    "print(f\"Percentage of rows remaining after filtering: {percentage_remaining:.2f}%\")"
   ]
  },
  {
   "cell_type": "markdown",
   "metadata": {},
   "source": [
    "## Feature Engineering"
   ]
  },
  {
   "cell_type": "code",
   "execution_count": null,
   "metadata": {},
   "outputs": [],
   "source": [
    "# round time to hour \n",
    "combined = combined.withColumn(\"pickup_hour\", F.hour(\"pickup_datetime\"))"
   ]
  },
  {
   "cell_type": "code",
   "execution_count": 30,
   "metadata": {},
   "outputs": [
    {
     "name": "stderr",
     "output_type": "stream",
     "text": [
      "24/08/27 16:28:56 WARN SparkStringUtils: Truncated the string representation of a plan since it was too large. This behavior can be adjusted by setting 'spark.sql.debug.maxToStringFields'.\n"
     ]
    },
    {
     "ename": "AnalysisException",
     "evalue": "[UNRESOLVED_COLUMN.WITH_SUGGESTION] A column or function parameter with name `pickup_datetime` cannot be resolved. Did you mean one of the following? [`pickup_time`, `pickup_day`, `pickup_hour`, `dropoff_time`, `trip_duration`].;\n'Project [VendorID#40, passenger_count#43L, trip_distance#44, RatecodeID#45L, store_and_fwd_flag#1539, PULocationID#47, DOLocationID#48, payment_type#49L, fare_amount#50, extra#51, mta_tax#52, tip_amount#53, tolls_amount#54, improvement_surcharge#55, total_amount#56, congestion_surcharge#57, ehail_fee#1144, trip_duration#1700, pickup_hour#2236, pickup_day#2390, dropoff_day#2413, pickup_time#2437, dropoff_time#2462, to_date('pickup_datetime, None, Some(Etc/UTC), false) AS pickup_date#2651]\n+- Project [VendorID#40, passenger_count#43L, trip_distance#44, RatecodeID#45L, store_and_fwd_flag#1539, PULocationID#47, DOLocationID#48, payment_type#49L, fare_amount#50, extra#51, mta_tax#52, tip_amount#53, tolls_amount#54, improvement_surcharge#55, total_amount#56, congestion_surcharge#57, ehail_fee#1144, trip_duration#1700, pickup_hour#2236, pickup_day#2390, dropoff_day#2413, pickup_time#2437, dropoff_time#2462]\n   +- Project [VendorID#40, pickup_datetime#1064, dropoff_datetime#1084, passenger_count#43L, trip_distance#44, RatecodeID#45L, store_and_fwd_flag#1539, PULocationID#47, DOLocationID#48, payment_type#49L, fare_amount#50, extra#51, mta_tax#52, tip_amount#53, tolls_amount#54, improvement_surcharge#55, total_amount#56, congestion_surcharge#57, ehail_fee#1144, trip_duration#1700, pickup_hour#2236, pickup_day#2390, dropoff_day#2413, pickup_time#2437, date_format(cast(dropoff_datetime#1084 as timestamp), HH:mm:ss, Some(Etc/UTC)) AS dropoff_time#2462]\n      +- Project [VendorID#40, pickup_datetime#1064, dropoff_datetime#1084, passenger_count#43L, trip_distance#44, RatecodeID#45L, store_and_fwd_flag#1539, PULocationID#47, DOLocationID#48, payment_type#49L, fare_amount#50, extra#51, mta_tax#52, tip_amount#53, tolls_amount#54, improvement_surcharge#55, total_amount#56, congestion_surcharge#57, ehail_fee#1144, trip_duration#1700, pickup_hour#2236, pickup_day#2390, dropoff_day#2413, date_format(cast(pickup_datetime#1064 as timestamp), HH:mm:ss, Some(Etc/UTC)) AS pickup_time#2437]\n         +- Project [VendorID#40, pickup_datetime#1064, dropoff_datetime#1084, passenger_count#43L, trip_distance#44, RatecodeID#45L, store_and_fwd_flag#1539, PULocationID#47, DOLocationID#48, payment_type#49L, fare_amount#50, extra#51, mta_tax#52, tip_amount#53, tolls_amount#54, improvement_surcharge#55, total_amount#56, congestion_surcharge#57, ehail_fee#1144, trip_duration#1700, pickup_hour#2236, pickup_day#2390, dayofweek(cast(dropoff_datetime#1084 as date)) AS dropoff_day#2413]\n            +- Project [VendorID#40, pickup_datetime#1064, dropoff_datetime#1084, passenger_count#43L, trip_distance#44, RatecodeID#45L, store_and_fwd_flag#1539, PULocationID#47, DOLocationID#48, payment_type#49L, fare_amount#50, extra#51, mta_tax#52, tip_amount#53, tolls_amount#54, improvement_surcharge#55, total_amount#56, congestion_surcharge#57, ehail_fee#1144, trip_duration#1700, pickup_hour#2236, dayofweek(cast(pickup_datetime#1064 as date)) AS pickup_day#2390]\n               +- Project [VendorID#40, pickup_datetime#1064, dropoff_datetime#1084, passenger_count#43L, trip_distance#44, RatecodeID#45L, store_and_fwd_flag#1539, PULocationID#47, DOLocationID#48, payment_type#49L, fare_amount#50, extra#51, mta_tax#52, tip_amount#53, tolls_amount#54, improvement_surcharge#55, total_amount#56, congestion_surcharge#57, ehail_fee#1144, trip_duration#1700, hour(pickup_datetime#1064, Some(Etc/UTC)) AS pickup_hour#2236]\n                  +- Filter (total_amount#56 <= 2372.79)\n                     +- Filter atleastnnonnulls(20, VendorID#40, pickup_datetime#1064, dropoff_datetime#1084, passenger_count#43L, trip_distance#44, RatecodeID#45L, store_and_fwd_flag#1539, PULocationID#47, DOLocationID#48, payment_type#49L, fare_amount#50, extra#51, mta_tax#52, tip_amount#53, tolls_amount#54, improvement_surcharge#55, total_amount#56, congestion_surcharge#57, ehail_fee#1144, trip_duration#1700)\n                        +- Deduplicate [DOLocationID#48, improvement_surcharge#55, PULocationID#47, trip_distance#44, tolls_amount#54, RatecodeID#45L, VendorID#40, tip_amount#53, payment_type#49L, fare_amount#50, passenger_count#43L, store_and_fwd_flag#1539, extra#51, dropoff_datetime#1084, ehail_fee#1144, congestion_surcharge#57, trip_duration#1700, total_amount#56, pickup_datetime#1064, mta_tax#52]\n                           +- Filter (trip_distance#44 <= cast(50 as double))\n                              +- Filter (trip_duration#1700 <= cast(120 as double))\n                                 +- Project [VendorID#40, pickup_datetime#1064, dropoff_datetime#1084, passenger_count#43L, trip_distance#44, RatecodeID#45L, store_and_fwd_flag#1539, PULocationID#47, DOLocationID#48, payment_type#49L, fare_amount#50, extra#51, mta_tax#52, tip_amount#53, tolls_amount#54, improvement_surcharge#55, total_amount#56, congestion_surcharge#57, ehail_fee#1144, trip_duration#1700]\n                                    +- Project [VendorID#40, pickup_datetime#1064, dropoff_datetime#1084, passenger_count#43L, trip_distance#44, RatecodeID#45L, store_and_fwd_flag#1539, PULocationID#47, DOLocationID#48, payment_type#49L, fare_amount#50, extra#51, mta_tax#52, tip_amount#53, tolls_amount#54, improvement_surcharge#55, total_amount#56, congestion_surcharge#57, ehail_fee#1144, pickup_str#1559, dropoff_str#1580, pickup_ts#1602, dropoff_ts#1625, pickup_long#1649L, ... 2 more fields]\n                                       +- Project [VendorID#40, pickup_datetime#1064, dropoff_datetime#1084, passenger_count#43L, trip_distance#44, RatecodeID#45L, store_and_fwd_flag#1539, PULocationID#47, DOLocationID#48, payment_type#49L, fare_amount#50, extra#51, mta_tax#52, tip_amount#53, tolls_amount#54, improvement_surcharge#55, total_amount#56, congestion_surcharge#57, ehail_fee#1144, pickup_str#1559, dropoff_str#1580, pickup_ts#1602, dropoff_ts#1625, pickup_long#1649L, cast(dropoff_ts#1625 as bigint) AS dropoff_long#1674L]\n                                          +- Project [VendorID#40, pickup_datetime#1064, dropoff_datetime#1084, passenger_count#43L, trip_distance#44, RatecodeID#45L, store_and_fwd_flag#1539, PULocationID#47, DOLocationID#48, payment_type#49L, fare_amount#50, extra#51, mta_tax#52, tip_amount#53, tolls_amount#54, improvement_surcharge#55, total_amount#56, congestion_surcharge#57, ehail_fee#1144, pickup_str#1559, dropoff_str#1580, pickup_ts#1602, dropoff_ts#1625, cast(pickup_ts#1602 as bigint) AS pickup_long#1649L]\n                                             +- Project [VendorID#40, pickup_datetime#1064, dropoff_datetime#1084, passenger_count#43L, trip_distance#44, RatecodeID#45L, store_and_fwd_flag#1539, PULocationID#47, DOLocationID#48, payment_type#49L, fare_amount#50, extra#51, mta_tax#52, tip_amount#53, tolls_amount#54, improvement_surcharge#55, total_amount#56, congestion_surcharge#57, ehail_fee#1144, pickup_str#1559, dropoff_str#1580, pickup_ts#1602, to_timestamp(dropoff_str#1580, None, TimestampType, Some(Etc/UTC), false) AS dropoff_ts#1625]\n                                                +- Project [VendorID#40, pickup_datetime#1064, dropoff_datetime#1084, passenger_count#43L, trip_distance#44, RatecodeID#45L, store_and_fwd_flag#1539, PULocationID#47, DOLocationID#48, payment_type#49L, fare_amount#50, extra#51, mta_tax#52, tip_amount#53, tolls_amount#54, improvement_surcharge#55, total_amount#56, congestion_surcharge#57, ehail_fee#1144, pickup_str#1559, dropoff_str#1580, to_timestamp(pickup_str#1559, None, TimestampType, Some(Etc/UTC), false) AS pickup_ts#1602]\n                                                   +- Project [VendorID#40, pickup_datetime#1064, dropoff_datetime#1084, passenger_count#43L, trip_distance#44, RatecodeID#45L, store_and_fwd_flag#1539, PULocationID#47, DOLocationID#48, payment_type#49L, fare_amount#50, extra#51, mta_tax#52, tip_amount#53, tolls_amount#54, improvement_surcharge#55, total_amount#56, congestion_surcharge#57, ehail_fee#1144, pickup_str#1559, cast(dropoff_datetime#1084 as string) AS dropoff_str#1580]\n                                                      +- Project [VendorID#40, pickup_datetime#1064, dropoff_datetime#1084, passenger_count#43L, trip_distance#44, RatecodeID#45L, store_and_fwd_flag#1539, PULocationID#47, DOLocationID#48, payment_type#49L, fare_amount#50, extra#51, mta_tax#52, tip_amount#53, tolls_amount#54, improvement_surcharge#55, total_amount#56, congestion_surcharge#57, ehail_fee#1144, cast(pickup_datetime#1064 as string) AS pickup_str#1559]\n                                                         +- Project [VendorID#40, pickup_datetime#1064, dropoff_datetime#1084, passenger_count#43L, trip_distance#44, RatecodeID#45L, CASE WHEN (store_and_fwd_flag#46 = Y) THEN true ELSE false END AS store_and_fwd_flag#1539, PULocationID#47, DOLocationID#48, payment_type#49L, fare_amount#50, extra#51, mta_tax#52, tip_amount#53, tolls_amount#54, improvement_surcharge#55, total_amount#56, congestion_surcharge#57, ehail_fee#1144]\n                                                            +- Filter (((((((((((((passenger_count#43L >= cast(1 as bigint)) AND (passenger_count#43L <= cast(6 as bigint))) AND (fare_amount#50 >= cast(3 as double))) AND (trip_distance#44 >= 0.5)) AND (tip_amount#53 >= cast(0 as double))) AND (tolls_amount#54 >= cast(0 as double))) AND (extra#51 >= cast(0 as double))) AND (mta_tax#52 >= cast(0 as double))) AND (improvement_surcharge#55 >= cast(0 as double))) AND (total_amount#56 >= cast(3 as double))) AND (congestion_surcharge#57 >= cast(0 as double))) AND ((pickup_datetime#1064 >= cast(2023-06-01 00:00:00 as timestamp_ntz)) AND (pickup_datetime#1064 <= cast(2024-05-31 00:00:00 as timestamp_ntz)))) AND ((dropoff_datetime#1084 >= cast(2023-06-01 00:00:00 as timestamp_ntz)) AND (dropoff_datetime#1084 <= cast(2024-05-31 00:00:00 as timestamp_ntz))))\n                                                               +- Union false, false\n                                                                  :- Project [VendorID#40, pickup_datetime#1064, dropoff_datetime#1084, passenger_count#43L, trip_distance#44, RatecodeID#45L, store_and_fwd_flag#46, PULocationID#47, DOLocationID#48, payment_type#49L, fare_amount#50, extra#51, mta_tax#52, tip_amount#53, tolls_amount#54, improvement_surcharge#55, total_amount#56, congestion_surcharge#57, cast(ehail_fee#1044 as double) AS ehail_fee#1144]\n                                                                  :  +- Project [VendorID#40, pickup_datetime#1064, tpep_dropoff_datetime#42 AS dropoff_datetime#1084, passenger_count#43L, trip_distance#44, RatecodeID#45L, store_and_fwd_flag#46, PULocationID#47, DOLocationID#48, payment_type#49L, fare_amount#50, extra#51, mta_tax#52, tip_amount#53, tolls_amount#54, improvement_surcharge#55, total_amount#56, congestion_surcharge#57, ehail_fee#1044]\n                                                                  :     +- Project [VendorID#40, tpep_pickup_datetime#41 AS pickup_datetime#1064, tpep_dropoff_datetime#42, passenger_count#43L, trip_distance#44, RatecodeID#45L, store_and_fwd_flag#46, PULocationID#47, DOLocationID#48, payment_type#49L, fare_amount#50, extra#51, mta_tax#52, tip_amount#53, tolls_amount#54, improvement_surcharge#55, total_amount#56, congestion_surcharge#57, ehail_fee#1044]\n                                                                  :        +- Project [VendorID#40, tpep_pickup_datetime#41, tpep_dropoff_datetime#42, passenger_count#43L, trip_distance#44, RatecodeID#45L, store_and_fwd_flag#46, PULocationID#47, DOLocationID#48, payment_type#49L, fare_amount#50, extra#51, mta_tax#52, tip_amount#53, tolls_amount#54, improvement_surcharge#55, total_amount#56, congestion_surcharge#57, 0 AS ehail_fee#1044]\n                                                                  :           +- Project [VendorID#40, tpep_pickup_datetime#41, tpep_dropoff_datetime#42, passenger_count#43L, trip_distance#44, RatecodeID#45L, store_and_fwd_flag#46, PULocationID#47, DOLocationID#48, payment_type#49L, fare_amount#50, extra#51, mta_tax#52, tip_amount#53, tolls_amount#54, improvement_surcharge#55, total_amount#56, congestion_surcharge#57]\n                                                                  :              +- Union false, false\n                                                                  :                 :- Relation [VendorID#40,tpep_pickup_datetime#41,tpep_dropoff_datetime#42,passenger_count#43L,trip_distance#44,RatecodeID#45L,store_and_fwd_flag#46,PULocationID#47,DOLocationID#48,payment_type#49L,fare_amount#50,extra#51,mta_tax#52,tip_amount#53,tolls_amount#54,improvement_surcharge#55,total_amount#56,congestion_surcharge#57,Airport_fee#58] parquet\n                                                                  :                 :- Project [VendorID#78, tpep_pickup_datetime#79, tpep_dropoff_datetime#80, passenger_count#81L, trip_distance#82, RatecodeID#83L, store_and_fwd_flag#84, PULocationID#85, DOLocationID#86, payment_type#87L, fare_amount#88, extra#89, mta_tax#90, tip_amount#91, tolls_amount#92, improvement_surcharge#93, total_amount#94, congestion_surcharge#95, Airport_fee#96]\n                                                                  :                 :  +- Relation [VendorID#78,tpep_pickup_datetime#79,tpep_dropoff_datetime#80,passenger_count#81L,trip_distance#82,RatecodeID#83L,store_and_fwd_flag#84,PULocationID#85,DOLocationID#86,payment_type#87L,fare_amount#88,extra#89,mta_tax#90,tip_amount#91,tolls_amount#92,improvement_surcharge#93,total_amount#94,congestion_surcharge#95,Airport_fee#96] parquet\n                                                                  :                 :- Project [VendorID#116, tpep_pickup_datetime#117, tpep_dropoff_datetime#118, passenger_count#119L, trip_distance#120, RatecodeID#121L, store_and_fwd_flag#122, PULocationID#123, DOLocationID#124, payment_type#125L, fare_amount#126, extra#127, mta_tax#128, tip_amount#129, tolls_amount#130, improvement_surcharge#131, total_amount#132, congestion_surcharge#133, Airport_fee#134]\n                                                                  :                 :  +- Relation [VendorID#116,tpep_pickup_datetime#117,tpep_dropoff_datetime#118,passenger_count#119L,trip_distance#120,RatecodeID#121L,store_and_fwd_flag#122,PULocationID#123,DOLocationID#124,payment_type#125L,fare_amount#126,extra#127,mta_tax#128,tip_amount#129,tolls_amount#130,improvement_surcharge#131,total_amount#132,congestion_surcharge#133,Airport_fee#134] parquet\n                                                                  :                 :- Project [VendorID#154, tpep_pickup_datetime#155, tpep_dropoff_datetime#156, passenger_count#157L, trip_distance#158, RatecodeID#159L, store_and_fwd_flag#160, PULocationID#161, DOLocationID#162, payment_type#163L, fare_amount#164, extra#165, mta_tax#166, tip_amount#167, tolls_amount#168, improvement_surcharge#169, total_amount#170, congestion_surcharge#171, Airport_fee#172]\n                                                                  :                 :  +- Relation [VendorID#154,tpep_pickup_datetime#155,tpep_dropoff_datetime#156,passenger_count#157L,trip_distance#158,RatecodeID#159L,store_and_fwd_flag#160,PULocationID#161,DOLocationID#162,payment_type#163L,fare_amount#164,extra#165,mta_tax#166,tip_amount#167,tolls_amount#168,improvement_surcharge#169,total_amount#170,congestion_surcharge#171,Airport_fee#172] parquet\n                                                                  :                 :- Project [VendorID#192, tpep_pickup_datetime#193, tpep_dropoff_datetime#194, passenger_count#195L, trip_distance#196, RatecodeID#197L, store_and_fwd_flag#198, PULocationID#199, DOLocationID#200, payment_type#201L, fare_amount#202, extra#203, mta_tax#204, tip_amount#205, tolls_amount#206, improvement_surcharge#207, total_amount#208, congestion_surcharge#209, Airport_fee#210]\n                                                                  :                 :  +- Relation [VendorID#192,tpep_pickup_datetime#193,tpep_dropoff_datetime#194,passenger_count#195L,trip_distance#196,RatecodeID#197L,store_and_fwd_flag#198,PULocationID#199,DOLocationID#200,payment_type#201L,fare_amount#202,extra#203,mta_tax#204,tip_amount#205,tolls_amount#206,improvement_surcharge#207,total_amount#208,congestion_surcharge#209,Airport_fee#210] parquet\n                                                                  :                 +- Project [VendorID#230, tpep_pickup_datetime#231, tpep_dropoff_datetime#232, passenger_count#233L, trip_distance#234, RatecodeID#235L, store_and_fwd_flag#236, PULocationID#237, DOLocationID#238, payment_type#239L, fare_amount#240, extra#241, mta_tax#242, tip_amount#243, tolls_amount#244, improvement_surcharge#245, total_amount#246, congestion_surcharge#247, Airport_fee#248]\n                                                                  :                    +- Relation [VendorID#230,tpep_pickup_datetime#231,tpep_dropoff_datetime#232,passenger_count#233L,trip_distance#234,RatecodeID#235L,store_and_fwd_flag#236,PULocationID#237,DOLocationID#238,payment_type#239L,fare_amount#240,extra#241,mta_tax#242,tip_amount#243,tolls_amount#244,improvement_surcharge#245,total_amount#246,congestion_surcharge#247,Airport_fee#248] parquet\n                                                                  +- Project [VendorID#268, pickup_datetime#1104, dropoff_datetime#1124, passenger_count#275L, trip_distance#276, RatecodeID#272L, store_and_fwd_flag#271, PULocationID#273, DOLocationID#274, payment_type#285L, fare_amount#277, extra#278, mta_tax#279, tip_amount#280, tolls_amount#281, improvement_surcharge#283, total_amount#284, congestion_surcharge#287, ehail_fee#282]\n                                                                     +- Project [VendorID#268, pickup_datetime#1104, lpep_dropoff_datetime#270 AS dropoff_datetime#1124, store_and_fwd_flag#271, RatecodeID#272L, PULocationID#273, DOLocationID#274, passenger_count#275L, trip_distance#276, fare_amount#277, extra#278, mta_tax#279, tip_amount#280, tolls_amount#281, ehail_fee#282, improvement_surcharge#283, total_amount#284, payment_type#285L, congestion_surcharge#287]\n                                                                        +- Project [VendorID#268, lpep_pickup_datetime#269 AS pickup_datetime#1104, lpep_dropoff_datetime#270, store_and_fwd_flag#271, RatecodeID#272L, PULocationID#273, DOLocationID#274, passenger_count#275L, trip_distance#276, fare_amount#277, extra#278, mta_tax#279, tip_amount#280, tolls_amount#281, ehail_fee#282, improvement_surcharge#283, total_amount#284, payment_type#285L, congestion_surcharge#287]\n                                                                           +- Project [VendorID#268, lpep_pickup_datetime#269, lpep_dropoff_datetime#270, store_and_fwd_flag#271, RatecodeID#272L, PULocationID#273, DOLocationID#274, passenger_count#275L, trip_distance#276, fare_amount#277, extra#278, mta_tax#279, tip_amount#280, tolls_amount#281, ehail_fee#282, improvement_surcharge#283, total_amount#284, payment_type#285L, congestion_surcharge#287]\n                                                                              +- Union false, false\n                                                                                 :- Relation [VendorID#268,lpep_pickup_datetime#269,lpep_dropoff_datetime#270,store_and_fwd_flag#271,RatecodeID#272L,PULocationID#273,DOLocationID#274,passenger_count#275L,trip_distance#276,fare_amount#277,extra#278,mta_tax#279,tip_amount#280,tolls_amount#281,ehail_fee#282,improvement_surcharge#283,total_amount#284,payment_type#285L,trip_type#286L,congestion_surcharge#287] parquet\n                                                                                 :- Project [VendorID#308, lpep_pickup_datetime#309, lpep_dropoff_datetime#310, store_and_fwd_flag#311, RatecodeID#312L, PULocationID#313, DOLocationID#314, passenger_count#315L, trip_distance#316, fare_amount#317, extra#318, mta_tax#319, tip_amount#320, tolls_amount#321, ehail_fee#322, improvement_surcharge#323, total_amount#324, payment_type#325L, trip_type#326L, congestion_surcharge#327]\n                                                                                 :  +- Relation [VendorID#308,lpep_pickup_datetime#309,lpep_dropoff_datetime#310,store_and_fwd_flag#311,RatecodeID#312L,PULocationID#313,DOLocationID#314,passenger_count#315L,trip_distance#316,fare_amount#317,extra#318,mta_tax#319,tip_amount#320,tolls_amount#321,ehail_fee#322,improvement_surcharge#323,total_amount#324,payment_type#325L,trip_type#326L,congestion_surcharge#327] parquet\n                                                                                 :- Project [VendorID#348, lpep_pickup_datetime#349, lpep_dropoff_datetime#350, store_and_fwd_flag#351, RatecodeID#352L, PULocationID#353, DOLocationID#354, passenger_count#355L, trip_distance#356, fare_amount#357, extra#358, mta_tax#359, tip_amount#360, tolls_amount#361, ehail_fee#362, improvement_surcharge#363, total_amount#364, payment_type#365L, trip_type#366L, congestion_surcharge#367]\n                                                                                 :  +- Relation [VendorID#348,lpep_pickup_datetime#349,lpep_dropoff_datetime#350,store_and_fwd_flag#351,RatecodeID#352L,PULocationID#353,DOLocationID#354,passenger_count#355L,trip_distance#356,fare_amount#357,extra#358,mta_tax#359,tip_amount#360,tolls_amount#361,ehail_fee#362,improvement_surcharge#363,total_amount#364,payment_type#365L,trip_type#366L,congestion_surcharge#367] parquet\n                                                                                 :- Project [VendorID#388, lpep_pickup_datetime#389, lpep_dropoff_datetime#390, store_and_fwd_flag#391, RatecodeID#392L, PULocationID#393, DOLocationID#394, passenger_count#395L, trip_distance#396, fare_amount#397, extra#398, mta_tax#399, tip_amount#400, tolls_amount#401, ehail_fee#402, improvement_surcharge#403, total_amount#404, payment_type#405L, trip_type#406L, congestion_surcharge#407]\n                                                                                 :  +- Relation [VendorID#388,lpep_pickup_datetime#389,lpep_dropoff_datetime#390,store_and_fwd_flag#391,RatecodeID#392L,PULocationID#393,DOLocationID#394,passenger_count#395L,trip_distance#396,fare_amount#397,extra#398,mta_tax#399,tip_amount#400,tolls_amount#401,ehail_fee#402,improvement_surcharge#403,total_amount#404,payment_type#405L,trip_type#406L,congestion_surcharge#407] parquet\n                                                                                 :- Project [VendorID#428, lpep_pickup_datetime#429, lpep_dropoff_datetime#430, store_and_fwd_flag#431, RatecodeID#432L, PULocationID#433, DOLocationID#434, passenger_count#435L, trip_distance#436, fare_amount#437, extra#438, mta_tax#439, tip_amount#440, tolls_amount#441, ehail_fee#442, improvement_surcharge#443, total_amount#444, payment_type#445L, trip_type#446L, congestion_surcharge#447]\n                                                                                 :  +- Relation [VendorID#428,lpep_pickup_datetime#429,lpep_dropoff_datetime#430,store_and_fwd_flag#431,RatecodeID#432L,PULocationID#433,DOLocationID#434,passenger_count#435L,trip_distance#436,fare_amount#437,extra#438,mta_tax#439,tip_amount#440,tolls_amount#441,ehail_fee#442,improvement_surcharge#443,total_amount#444,payment_type#445L,trip_type#446L,congestion_surcharge#447] parquet\n                                                                                 +- Project [VendorID#468, lpep_pickup_datetime#469, lpep_dropoff_datetime#470, store_and_fwd_flag#471, RatecodeID#472L, PULocationID#473, DOLocationID#474, passenger_count#475L, trip_distance#476, fare_amount#477, extra#478, mta_tax#479, tip_amount#480, tolls_amount#481, ehail_fee#482, improvement_surcharge#483, total_amount#484, payment_type#485L, trip_type#486L, congestion_surcharge#487]\n                                                                                    +- Relation [VendorID#468,lpep_pickup_datetime#469,lpep_dropoff_datetime#470,store_and_fwd_flag#471,RatecodeID#472L,PULocationID#473,DOLocationID#474,passenger_count#475L,trip_distance#476,fare_amount#477,extra#478,mta_tax#479,tip_amount#480,tolls_amount#481,ehail_fee#482,improvement_surcharge#483,total_amount#484,payment_type#485L,trip_type#486L,congestion_surcharge#487] parquet\n",
     "output_type": "error",
     "traceback": [
      "\u001b[0;31m---------------------------------------------------------------------------\u001b[0m",
      "\u001b[0;31mAnalysisException\u001b[0m                         Traceback (most recent call last)",
      "Cell \u001b[0;32mIn[30], line 2\u001b[0m\n\u001b[1;32m      1\u001b[0m \u001b[38;5;66;03m# extract date from pickup_datetime and dropoff_datetime\u001b[39;00m\n\u001b[0;32m----> 2\u001b[0m combined \u001b[38;5;241m=\u001b[39m \u001b[43mcombined\u001b[49m\u001b[38;5;241;43m.\u001b[39;49m\u001b[43mwithColumn\u001b[49m\u001b[43m(\u001b[49m\u001b[38;5;124;43m\"\u001b[39;49m\u001b[38;5;124;43mpickup_date\u001b[39;49m\u001b[38;5;124;43m\"\u001b[39;49m\u001b[43m,\u001b[49m\u001b[43m \u001b[49m\u001b[43mF\u001b[49m\u001b[38;5;241;43m.\u001b[39;49m\u001b[43mto_date\u001b[49m\u001b[43m(\u001b[49m\u001b[38;5;124;43m\"\u001b[39;49m\u001b[38;5;124;43mpickup_datetime\u001b[39;49m\u001b[38;5;124;43m\"\u001b[39;49m\u001b[43m)\u001b[49m\u001b[43m)\u001b[49m\n\u001b[1;32m      3\u001b[0m combined \u001b[38;5;241m=\u001b[39m combined\u001b[38;5;241m.\u001b[39mwithColumn(\u001b[38;5;124m\"\u001b[39m\u001b[38;5;124mdropoff_date\u001b[39m\u001b[38;5;124m\"\u001b[39m, F\u001b[38;5;241m.\u001b[39mto_date(\u001b[38;5;124m\"\u001b[39m\u001b[38;5;124mdropoff_datetime\u001b[39m\u001b[38;5;124m\"\u001b[39m))\n\u001b[1;32m      5\u001b[0m \u001b[38;5;66;03m# extract time from pickup_datetime and dropoff_datetime\u001b[39;00m\n",
      "File \u001b[0;32m/Library/Frameworks/Python.framework/Versions/3.12/lib/python3.12/site-packages/pyspark/sql/dataframe.py:5174\u001b[0m, in \u001b[0;36mDataFrame.withColumn\u001b[0;34m(self, colName, col)\u001b[0m\n\u001b[1;32m   5169\u001b[0m \u001b[38;5;28;01mif\u001b[39;00m \u001b[38;5;129;01mnot\u001b[39;00m \u001b[38;5;28misinstance\u001b[39m(col, Column):\n\u001b[1;32m   5170\u001b[0m     \u001b[38;5;28;01mraise\u001b[39;00m PySparkTypeError(\n\u001b[1;32m   5171\u001b[0m         error_class\u001b[38;5;241m=\u001b[39m\u001b[38;5;124m\"\u001b[39m\u001b[38;5;124mNOT_COLUMN\u001b[39m\u001b[38;5;124m\"\u001b[39m,\n\u001b[1;32m   5172\u001b[0m         message_parameters\u001b[38;5;241m=\u001b[39m{\u001b[38;5;124m\"\u001b[39m\u001b[38;5;124marg_name\u001b[39m\u001b[38;5;124m\"\u001b[39m: \u001b[38;5;124m\"\u001b[39m\u001b[38;5;124mcol\u001b[39m\u001b[38;5;124m\"\u001b[39m, \u001b[38;5;124m\"\u001b[39m\u001b[38;5;124marg_type\u001b[39m\u001b[38;5;124m\"\u001b[39m: \u001b[38;5;28mtype\u001b[39m(col)\u001b[38;5;241m.\u001b[39m\u001b[38;5;18m__name__\u001b[39m},\n\u001b[1;32m   5173\u001b[0m     )\n\u001b[0;32m-> 5174\u001b[0m \u001b[38;5;28;01mreturn\u001b[39;00m DataFrame(\u001b[38;5;28;43mself\u001b[39;49m\u001b[38;5;241;43m.\u001b[39;49m\u001b[43m_jdf\u001b[49m\u001b[38;5;241;43m.\u001b[39;49m\u001b[43mwithColumn\u001b[49m\u001b[43m(\u001b[49m\u001b[43mcolName\u001b[49m\u001b[43m,\u001b[49m\u001b[43m \u001b[49m\u001b[43mcol\u001b[49m\u001b[38;5;241;43m.\u001b[39;49m\u001b[43m_jc\u001b[49m\u001b[43m)\u001b[49m, \u001b[38;5;28mself\u001b[39m\u001b[38;5;241m.\u001b[39msparkSession)\n",
      "File \u001b[0;32m/Library/Frameworks/Python.framework/Versions/3.12/lib/python3.12/site-packages/py4j/java_gateway.py:1322\u001b[0m, in \u001b[0;36mJavaMember.__call__\u001b[0;34m(self, *args)\u001b[0m\n\u001b[1;32m   1316\u001b[0m command \u001b[38;5;241m=\u001b[39m proto\u001b[38;5;241m.\u001b[39mCALL_COMMAND_NAME \u001b[38;5;241m+\u001b[39m\\\n\u001b[1;32m   1317\u001b[0m     \u001b[38;5;28mself\u001b[39m\u001b[38;5;241m.\u001b[39mcommand_header \u001b[38;5;241m+\u001b[39m\\\n\u001b[1;32m   1318\u001b[0m     args_command \u001b[38;5;241m+\u001b[39m\\\n\u001b[1;32m   1319\u001b[0m     proto\u001b[38;5;241m.\u001b[39mEND_COMMAND_PART\n\u001b[1;32m   1321\u001b[0m answer \u001b[38;5;241m=\u001b[39m \u001b[38;5;28mself\u001b[39m\u001b[38;5;241m.\u001b[39mgateway_client\u001b[38;5;241m.\u001b[39msend_command(command)\n\u001b[0;32m-> 1322\u001b[0m return_value \u001b[38;5;241m=\u001b[39m \u001b[43mget_return_value\u001b[49m\u001b[43m(\u001b[49m\n\u001b[1;32m   1323\u001b[0m \u001b[43m    \u001b[49m\u001b[43manswer\u001b[49m\u001b[43m,\u001b[49m\u001b[43m \u001b[49m\u001b[38;5;28;43mself\u001b[39;49m\u001b[38;5;241;43m.\u001b[39;49m\u001b[43mgateway_client\u001b[49m\u001b[43m,\u001b[49m\u001b[43m \u001b[49m\u001b[38;5;28;43mself\u001b[39;49m\u001b[38;5;241;43m.\u001b[39;49m\u001b[43mtarget_id\u001b[49m\u001b[43m,\u001b[49m\u001b[43m \u001b[49m\u001b[38;5;28;43mself\u001b[39;49m\u001b[38;5;241;43m.\u001b[39;49m\u001b[43mname\u001b[49m\u001b[43m)\u001b[49m\n\u001b[1;32m   1325\u001b[0m \u001b[38;5;28;01mfor\u001b[39;00m temp_arg \u001b[38;5;129;01min\u001b[39;00m temp_args:\n\u001b[1;32m   1326\u001b[0m     \u001b[38;5;28;01mif\u001b[39;00m \u001b[38;5;28mhasattr\u001b[39m(temp_arg, \u001b[38;5;124m\"\u001b[39m\u001b[38;5;124m_detach\u001b[39m\u001b[38;5;124m\"\u001b[39m):\n",
      "File \u001b[0;32m/Library/Frameworks/Python.framework/Versions/3.12/lib/python3.12/site-packages/pyspark/errors/exceptions/captured.py:185\u001b[0m, in \u001b[0;36mcapture_sql_exception.<locals>.deco\u001b[0;34m(*a, **kw)\u001b[0m\n\u001b[1;32m    181\u001b[0m converted \u001b[38;5;241m=\u001b[39m convert_exception(e\u001b[38;5;241m.\u001b[39mjava_exception)\n\u001b[1;32m    182\u001b[0m \u001b[38;5;28;01mif\u001b[39;00m \u001b[38;5;129;01mnot\u001b[39;00m \u001b[38;5;28misinstance\u001b[39m(converted, UnknownException):\n\u001b[1;32m    183\u001b[0m     \u001b[38;5;66;03m# Hide where the exception came from that shows a non-Pythonic\u001b[39;00m\n\u001b[1;32m    184\u001b[0m     \u001b[38;5;66;03m# JVM exception message.\u001b[39;00m\n\u001b[0;32m--> 185\u001b[0m     \u001b[38;5;28;01mraise\u001b[39;00m converted \u001b[38;5;28;01mfrom\u001b[39;00m \u001b[38;5;28;01mNone\u001b[39;00m\n\u001b[1;32m    186\u001b[0m \u001b[38;5;28;01melse\u001b[39;00m:\n\u001b[1;32m    187\u001b[0m     \u001b[38;5;28;01mraise\u001b[39;00m\n",
      "\u001b[0;31mAnalysisException\u001b[0m: [UNRESOLVED_COLUMN.WITH_SUGGESTION] A column or function parameter with name `pickup_datetime` cannot be resolved. Did you mean one of the following? [`pickup_time`, `pickup_day`, `pickup_hour`, `dropoff_time`, `trip_duration`].;\n'Project [VendorID#40, passenger_count#43L, trip_distance#44, RatecodeID#45L, store_and_fwd_flag#1539, PULocationID#47, DOLocationID#48, payment_type#49L, fare_amount#50, extra#51, mta_tax#52, tip_amount#53, tolls_amount#54, improvement_surcharge#55, total_amount#56, congestion_surcharge#57, ehail_fee#1144, trip_duration#1700, pickup_hour#2236, pickup_day#2390, dropoff_day#2413, pickup_time#2437, dropoff_time#2462, to_date('pickup_datetime, None, Some(Etc/UTC), false) AS pickup_date#2651]\n+- Project [VendorID#40, passenger_count#43L, trip_distance#44, RatecodeID#45L, store_and_fwd_flag#1539, PULocationID#47, DOLocationID#48, payment_type#49L, fare_amount#50, extra#51, mta_tax#52, tip_amount#53, tolls_amount#54, improvement_surcharge#55, total_amount#56, congestion_surcharge#57, ehail_fee#1144, trip_duration#1700, pickup_hour#2236, pickup_day#2390, dropoff_day#2413, pickup_time#2437, dropoff_time#2462]\n   +- Project [VendorID#40, pickup_datetime#1064, dropoff_datetime#1084, passenger_count#43L, trip_distance#44, RatecodeID#45L, store_and_fwd_flag#1539, PULocationID#47, DOLocationID#48, payment_type#49L, fare_amount#50, extra#51, mta_tax#52, tip_amount#53, tolls_amount#54, improvement_surcharge#55, total_amount#56, congestion_surcharge#57, ehail_fee#1144, trip_duration#1700, pickup_hour#2236, pickup_day#2390, dropoff_day#2413, pickup_time#2437, date_format(cast(dropoff_datetime#1084 as timestamp), HH:mm:ss, Some(Etc/UTC)) AS dropoff_time#2462]\n      +- Project [VendorID#40, pickup_datetime#1064, dropoff_datetime#1084, passenger_count#43L, trip_distance#44, RatecodeID#45L, store_and_fwd_flag#1539, PULocationID#47, DOLocationID#48, payment_type#49L, fare_amount#50, extra#51, mta_tax#52, tip_amount#53, tolls_amount#54, improvement_surcharge#55, total_amount#56, congestion_surcharge#57, ehail_fee#1144, trip_duration#1700, pickup_hour#2236, pickup_day#2390, dropoff_day#2413, date_format(cast(pickup_datetime#1064 as timestamp), HH:mm:ss, Some(Etc/UTC)) AS pickup_time#2437]\n         +- Project [VendorID#40, pickup_datetime#1064, dropoff_datetime#1084, passenger_count#43L, trip_distance#44, RatecodeID#45L, store_and_fwd_flag#1539, PULocationID#47, DOLocationID#48, payment_type#49L, fare_amount#50, extra#51, mta_tax#52, tip_amount#53, tolls_amount#54, improvement_surcharge#55, total_amount#56, congestion_surcharge#57, ehail_fee#1144, trip_duration#1700, pickup_hour#2236, pickup_day#2390, dayofweek(cast(dropoff_datetime#1084 as date)) AS dropoff_day#2413]\n            +- Project [VendorID#40, pickup_datetime#1064, dropoff_datetime#1084, passenger_count#43L, trip_distance#44, RatecodeID#45L, store_and_fwd_flag#1539, PULocationID#47, DOLocationID#48, payment_type#49L, fare_amount#50, extra#51, mta_tax#52, tip_amount#53, tolls_amount#54, improvement_surcharge#55, total_amount#56, congestion_surcharge#57, ehail_fee#1144, trip_duration#1700, pickup_hour#2236, dayofweek(cast(pickup_datetime#1064 as date)) AS pickup_day#2390]\n               +- Project [VendorID#40, pickup_datetime#1064, dropoff_datetime#1084, passenger_count#43L, trip_distance#44, RatecodeID#45L, store_and_fwd_flag#1539, PULocationID#47, DOLocationID#48, payment_type#49L, fare_amount#50, extra#51, mta_tax#52, tip_amount#53, tolls_amount#54, improvement_surcharge#55, total_amount#56, congestion_surcharge#57, ehail_fee#1144, trip_duration#1700, hour(pickup_datetime#1064, Some(Etc/UTC)) AS pickup_hour#2236]\n                  +- Filter (total_amount#56 <= 2372.79)\n                     +- Filter atleastnnonnulls(20, VendorID#40, pickup_datetime#1064, dropoff_datetime#1084, passenger_count#43L, trip_distance#44, RatecodeID#45L, store_and_fwd_flag#1539, PULocationID#47, DOLocationID#48, payment_type#49L, fare_amount#50, extra#51, mta_tax#52, tip_amount#53, tolls_amount#54, improvement_surcharge#55, total_amount#56, congestion_surcharge#57, ehail_fee#1144, trip_duration#1700)\n                        +- Deduplicate [DOLocationID#48, improvement_surcharge#55, PULocationID#47, trip_distance#44, tolls_amount#54, RatecodeID#45L, VendorID#40, tip_amount#53, payment_type#49L, fare_amount#50, passenger_count#43L, store_and_fwd_flag#1539, extra#51, dropoff_datetime#1084, ehail_fee#1144, congestion_surcharge#57, trip_duration#1700, total_amount#56, pickup_datetime#1064, mta_tax#52]\n                           +- Filter (trip_distance#44 <= cast(50 as double))\n                              +- Filter (trip_duration#1700 <= cast(120 as double))\n                                 +- Project [VendorID#40, pickup_datetime#1064, dropoff_datetime#1084, passenger_count#43L, trip_distance#44, RatecodeID#45L, store_and_fwd_flag#1539, PULocationID#47, DOLocationID#48, payment_type#49L, fare_amount#50, extra#51, mta_tax#52, tip_amount#53, tolls_amount#54, improvement_surcharge#55, total_amount#56, congestion_surcharge#57, ehail_fee#1144, trip_duration#1700]\n                                    +- Project [VendorID#40, pickup_datetime#1064, dropoff_datetime#1084, passenger_count#43L, trip_distance#44, RatecodeID#45L, store_and_fwd_flag#1539, PULocationID#47, DOLocationID#48, payment_type#49L, fare_amount#50, extra#51, mta_tax#52, tip_amount#53, tolls_amount#54, improvement_surcharge#55, total_amount#56, congestion_surcharge#57, ehail_fee#1144, pickup_str#1559, dropoff_str#1580, pickup_ts#1602, dropoff_ts#1625, pickup_long#1649L, ... 2 more fields]\n                                       +- Project [VendorID#40, pickup_datetime#1064, dropoff_datetime#1084, passenger_count#43L, trip_distance#44, RatecodeID#45L, store_and_fwd_flag#1539, PULocationID#47, DOLocationID#48, payment_type#49L, fare_amount#50, extra#51, mta_tax#52, tip_amount#53, tolls_amount#54, improvement_surcharge#55, total_amount#56, congestion_surcharge#57, ehail_fee#1144, pickup_str#1559, dropoff_str#1580, pickup_ts#1602, dropoff_ts#1625, pickup_long#1649L, cast(dropoff_ts#1625 as bigint) AS dropoff_long#1674L]\n                                          +- Project [VendorID#40, pickup_datetime#1064, dropoff_datetime#1084, passenger_count#43L, trip_distance#44, RatecodeID#45L, store_and_fwd_flag#1539, PULocationID#47, DOLocationID#48, payment_type#49L, fare_amount#50, extra#51, mta_tax#52, tip_amount#53, tolls_amount#54, improvement_surcharge#55, total_amount#56, congestion_surcharge#57, ehail_fee#1144, pickup_str#1559, dropoff_str#1580, pickup_ts#1602, dropoff_ts#1625, cast(pickup_ts#1602 as bigint) AS pickup_long#1649L]\n                                             +- Project [VendorID#40, pickup_datetime#1064, dropoff_datetime#1084, passenger_count#43L, trip_distance#44, RatecodeID#45L, store_and_fwd_flag#1539, PULocationID#47, DOLocationID#48, payment_type#49L, fare_amount#50, extra#51, mta_tax#52, tip_amount#53, tolls_amount#54, improvement_surcharge#55, total_amount#56, congestion_surcharge#57, ehail_fee#1144, pickup_str#1559, dropoff_str#1580, pickup_ts#1602, to_timestamp(dropoff_str#1580, None, TimestampType, Some(Etc/UTC), false) AS dropoff_ts#1625]\n                                                +- Project [VendorID#40, pickup_datetime#1064, dropoff_datetime#1084, passenger_count#43L, trip_distance#44, RatecodeID#45L, store_and_fwd_flag#1539, PULocationID#47, DOLocationID#48, payment_type#49L, fare_amount#50, extra#51, mta_tax#52, tip_amount#53, tolls_amount#54, improvement_surcharge#55, total_amount#56, congestion_surcharge#57, ehail_fee#1144, pickup_str#1559, dropoff_str#1580, to_timestamp(pickup_str#1559, None, TimestampType, Some(Etc/UTC), false) AS pickup_ts#1602]\n                                                   +- Project [VendorID#40, pickup_datetime#1064, dropoff_datetime#1084, passenger_count#43L, trip_distance#44, RatecodeID#45L, store_and_fwd_flag#1539, PULocationID#47, DOLocationID#48, payment_type#49L, fare_amount#50, extra#51, mta_tax#52, tip_amount#53, tolls_amount#54, improvement_surcharge#55, total_amount#56, congestion_surcharge#57, ehail_fee#1144, pickup_str#1559, cast(dropoff_datetime#1084 as string) AS dropoff_str#1580]\n                                                      +- Project [VendorID#40, pickup_datetime#1064, dropoff_datetime#1084, passenger_count#43L, trip_distance#44, RatecodeID#45L, store_and_fwd_flag#1539, PULocationID#47, DOLocationID#48, payment_type#49L, fare_amount#50, extra#51, mta_tax#52, tip_amount#53, tolls_amount#54, improvement_surcharge#55, total_amount#56, congestion_surcharge#57, ehail_fee#1144, cast(pickup_datetime#1064 as string) AS pickup_str#1559]\n                                                         +- Project [VendorID#40, pickup_datetime#1064, dropoff_datetime#1084, passenger_count#43L, trip_distance#44, RatecodeID#45L, CASE WHEN (store_and_fwd_flag#46 = Y) THEN true ELSE false END AS store_and_fwd_flag#1539, PULocationID#47, DOLocationID#48, payment_type#49L, fare_amount#50, extra#51, mta_tax#52, tip_amount#53, tolls_amount#54, improvement_surcharge#55, total_amount#56, congestion_surcharge#57, ehail_fee#1144]\n                                                            +- Filter (((((((((((((passenger_count#43L >= cast(1 as bigint)) AND (passenger_count#43L <= cast(6 as bigint))) AND (fare_amount#50 >= cast(3 as double))) AND (trip_distance#44 >= 0.5)) AND (tip_amount#53 >= cast(0 as double))) AND (tolls_amount#54 >= cast(0 as double))) AND (extra#51 >= cast(0 as double))) AND (mta_tax#52 >= cast(0 as double))) AND (improvement_surcharge#55 >= cast(0 as double))) AND (total_amount#56 >= cast(3 as double))) AND (congestion_surcharge#57 >= cast(0 as double))) AND ((pickup_datetime#1064 >= cast(2023-06-01 00:00:00 as timestamp_ntz)) AND (pickup_datetime#1064 <= cast(2024-05-31 00:00:00 as timestamp_ntz)))) AND ((dropoff_datetime#1084 >= cast(2023-06-01 00:00:00 as timestamp_ntz)) AND (dropoff_datetime#1084 <= cast(2024-05-31 00:00:00 as timestamp_ntz))))\n                                                               +- Union false, false\n                                                                  :- Project [VendorID#40, pickup_datetime#1064, dropoff_datetime#1084, passenger_count#43L, trip_distance#44, RatecodeID#45L, store_and_fwd_flag#46, PULocationID#47, DOLocationID#48, payment_type#49L, fare_amount#50, extra#51, mta_tax#52, tip_amount#53, tolls_amount#54, improvement_surcharge#55, total_amount#56, congestion_surcharge#57, cast(ehail_fee#1044 as double) AS ehail_fee#1144]\n                                                                  :  +- Project [VendorID#40, pickup_datetime#1064, tpep_dropoff_datetime#42 AS dropoff_datetime#1084, passenger_count#43L, trip_distance#44, RatecodeID#45L, store_and_fwd_flag#46, PULocationID#47, DOLocationID#48, payment_type#49L, fare_amount#50, extra#51, mta_tax#52, tip_amount#53, tolls_amount#54, improvement_surcharge#55, total_amount#56, congestion_surcharge#57, ehail_fee#1044]\n                                                                  :     +- Project [VendorID#40, tpep_pickup_datetime#41 AS pickup_datetime#1064, tpep_dropoff_datetime#42, passenger_count#43L, trip_distance#44, RatecodeID#45L, store_and_fwd_flag#46, PULocationID#47, DOLocationID#48, payment_type#49L, fare_amount#50, extra#51, mta_tax#52, tip_amount#53, tolls_amount#54, improvement_surcharge#55, total_amount#56, congestion_surcharge#57, ehail_fee#1044]\n                                                                  :        +- Project [VendorID#40, tpep_pickup_datetime#41, tpep_dropoff_datetime#42, passenger_count#43L, trip_distance#44, RatecodeID#45L, store_and_fwd_flag#46, PULocationID#47, DOLocationID#48, payment_type#49L, fare_amount#50, extra#51, mta_tax#52, tip_amount#53, tolls_amount#54, improvement_surcharge#55, total_amount#56, congestion_surcharge#57, 0 AS ehail_fee#1044]\n                                                                  :           +- Project [VendorID#40, tpep_pickup_datetime#41, tpep_dropoff_datetime#42, passenger_count#43L, trip_distance#44, RatecodeID#45L, store_and_fwd_flag#46, PULocationID#47, DOLocationID#48, payment_type#49L, fare_amount#50, extra#51, mta_tax#52, tip_amount#53, tolls_amount#54, improvement_surcharge#55, total_amount#56, congestion_surcharge#57]\n                                                                  :              +- Union false, false\n                                                                  :                 :- Relation [VendorID#40,tpep_pickup_datetime#41,tpep_dropoff_datetime#42,passenger_count#43L,trip_distance#44,RatecodeID#45L,store_and_fwd_flag#46,PULocationID#47,DOLocationID#48,payment_type#49L,fare_amount#50,extra#51,mta_tax#52,tip_amount#53,tolls_amount#54,improvement_surcharge#55,total_amount#56,congestion_surcharge#57,Airport_fee#58] parquet\n                                                                  :                 :- Project [VendorID#78, tpep_pickup_datetime#79, tpep_dropoff_datetime#80, passenger_count#81L, trip_distance#82, RatecodeID#83L, store_and_fwd_flag#84, PULocationID#85, DOLocationID#86, payment_type#87L, fare_amount#88, extra#89, mta_tax#90, tip_amount#91, tolls_amount#92, improvement_surcharge#93, total_amount#94, congestion_surcharge#95, Airport_fee#96]\n                                                                  :                 :  +- Relation [VendorID#78,tpep_pickup_datetime#79,tpep_dropoff_datetime#80,passenger_count#81L,trip_distance#82,RatecodeID#83L,store_and_fwd_flag#84,PULocationID#85,DOLocationID#86,payment_type#87L,fare_amount#88,extra#89,mta_tax#90,tip_amount#91,tolls_amount#92,improvement_surcharge#93,total_amount#94,congestion_surcharge#95,Airport_fee#96] parquet\n                                                                  :                 :- Project [VendorID#116, tpep_pickup_datetime#117, tpep_dropoff_datetime#118, passenger_count#119L, trip_distance#120, RatecodeID#121L, store_and_fwd_flag#122, PULocationID#123, DOLocationID#124, payment_type#125L, fare_amount#126, extra#127, mta_tax#128, tip_amount#129, tolls_amount#130, improvement_surcharge#131, total_amount#132, congestion_surcharge#133, Airport_fee#134]\n                                                                  :                 :  +- Relation [VendorID#116,tpep_pickup_datetime#117,tpep_dropoff_datetime#118,passenger_count#119L,trip_distance#120,RatecodeID#121L,store_and_fwd_flag#122,PULocationID#123,DOLocationID#124,payment_type#125L,fare_amount#126,extra#127,mta_tax#128,tip_amount#129,tolls_amount#130,improvement_surcharge#131,total_amount#132,congestion_surcharge#133,Airport_fee#134] parquet\n                                                                  :                 :- Project [VendorID#154, tpep_pickup_datetime#155, tpep_dropoff_datetime#156, passenger_count#157L, trip_distance#158, RatecodeID#159L, store_and_fwd_flag#160, PULocationID#161, DOLocationID#162, payment_type#163L, fare_amount#164, extra#165, mta_tax#166, tip_amount#167, tolls_amount#168, improvement_surcharge#169, total_amount#170, congestion_surcharge#171, Airport_fee#172]\n                                                                  :                 :  +- Relation [VendorID#154,tpep_pickup_datetime#155,tpep_dropoff_datetime#156,passenger_count#157L,trip_distance#158,RatecodeID#159L,store_and_fwd_flag#160,PULocationID#161,DOLocationID#162,payment_type#163L,fare_amount#164,extra#165,mta_tax#166,tip_amount#167,tolls_amount#168,improvement_surcharge#169,total_amount#170,congestion_surcharge#171,Airport_fee#172] parquet\n                                                                  :                 :- Project [VendorID#192, tpep_pickup_datetime#193, tpep_dropoff_datetime#194, passenger_count#195L, trip_distance#196, RatecodeID#197L, store_and_fwd_flag#198, PULocationID#199, DOLocationID#200, payment_type#201L, fare_amount#202, extra#203, mta_tax#204, tip_amount#205, tolls_amount#206, improvement_surcharge#207, total_amount#208, congestion_surcharge#209, Airport_fee#210]\n                                                                  :                 :  +- Relation [VendorID#192,tpep_pickup_datetime#193,tpep_dropoff_datetime#194,passenger_count#195L,trip_distance#196,RatecodeID#197L,store_and_fwd_flag#198,PULocationID#199,DOLocationID#200,payment_type#201L,fare_amount#202,extra#203,mta_tax#204,tip_amount#205,tolls_amount#206,improvement_surcharge#207,total_amount#208,congestion_surcharge#209,Airport_fee#210] parquet\n                                                                  :                 +- Project [VendorID#230, tpep_pickup_datetime#231, tpep_dropoff_datetime#232, passenger_count#233L, trip_distance#234, RatecodeID#235L, store_and_fwd_flag#236, PULocationID#237, DOLocationID#238, payment_type#239L, fare_amount#240, extra#241, mta_tax#242, tip_amount#243, tolls_amount#244, improvement_surcharge#245, total_amount#246, congestion_surcharge#247, Airport_fee#248]\n                                                                  :                    +- Relation [VendorID#230,tpep_pickup_datetime#231,tpep_dropoff_datetime#232,passenger_count#233L,trip_distance#234,RatecodeID#235L,store_and_fwd_flag#236,PULocationID#237,DOLocationID#238,payment_type#239L,fare_amount#240,extra#241,mta_tax#242,tip_amount#243,tolls_amount#244,improvement_surcharge#245,total_amount#246,congestion_surcharge#247,Airport_fee#248] parquet\n                                                                  +- Project [VendorID#268, pickup_datetime#1104, dropoff_datetime#1124, passenger_count#275L, trip_distance#276, RatecodeID#272L, store_and_fwd_flag#271, PULocationID#273, DOLocationID#274, payment_type#285L, fare_amount#277, extra#278, mta_tax#279, tip_amount#280, tolls_amount#281, improvement_surcharge#283, total_amount#284, congestion_surcharge#287, ehail_fee#282]\n                                                                     +- Project [VendorID#268, pickup_datetime#1104, lpep_dropoff_datetime#270 AS dropoff_datetime#1124, store_and_fwd_flag#271, RatecodeID#272L, PULocationID#273, DOLocationID#274, passenger_count#275L, trip_distance#276, fare_amount#277, extra#278, mta_tax#279, tip_amount#280, tolls_amount#281, ehail_fee#282, improvement_surcharge#283, total_amount#284, payment_type#285L, congestion_surcharge#287]\n                                                                        +- Project [VendorID#268, lpep_pickup_datetime#269 AS pickup_datetime#1104, lpep_dropoff_datetime#270, store_and_fwd_flag#271, RatecodeID#272L, PULocationID#273, DOLocationID#274, passenger_count#275L, trip_distance#276, fare_amount#277, extra#278, mta_tax#279, tip_amount#280, tolls_amount#281, ehail_fee#282, improvement_surcharge#283, total_amount#284, payment_type#285L, congestion_surcharge#287]\n                                                                           +- Project [VendorID#268, lpep_pickup_datetime#269, lpep_dropoff_datetime#270, store_and_fwd_flag#271, RatecodeID#272L, PULocationID#273, DOLocationID#274, passenger_count#275L, trip_distance#276, fare_amount#277, extra#278, mta_tax#279, tip_amount#280, tolls_amount#281, ehail_fee#282, improvement_surcharge#283, total_amount#284, payment_type#285L, congestion_surcharge#287]\n                                                                              +- Union false, false\n                                                                                 :- Relation [VendorID#268,lpep_pickup_datetime#269,lpep_dropoff_datetime#270,store_and_fwd_flag#271,RatecodeID#272L,PULocationID#273,DOLocationID#274,passenger_count#275L,trip_distance#276,fare_amount#277,extra#278,mta_tax#279,tip_amount#280,tolls_amount#281,ehail_fee#282,improvement_surcharge#283,total_amount#284,payment_type#285L,trip_type#286L,congestion_surcharge#287] parquet\n                                                                                 :- Project [VendorID#308, lpep_pickup_datetime#309, lpep_dropoff_datetime#310, store_and_fwd_flag#311, RatecodeID#312L, PULocationID#313, DOLocationID#314, passenger_count#315L, trip_distance#316, fare_amount#317, extra#318, mta_tax#319, tip_amount#320, tolls_amount#321, ehail_fee#322, improvement_surcharge#323, total_amount#324, payment_type#325L, trip_type#326L, congestion_surcharge#327]\n                                                                                 :  +- Relation [VendorID#308,lpep_pickup_datetime#309,lpep_dropoff_datetime#310,store_and_fwd_flag#311,RatecodeID#312L,PULocationID#313,DOLocationID#314,passenger_count#315L,trip_distance#316,fare_amount#317,extra#318,mta_tax#319,tip_amount#320,tolls_amount#321,ehail_fee#322,improvement_surcharge#323,total_amount#324,payment_type#325L,trip_type#326L,congestion_surcharge#327] parquet\n                                                                                 :- Project [VendorID#348, lpep_pickup_datetime#349, lpep_dropoff_datetime#350, store_and_fwd_flag#351, RatecodeID#352L, PULocationID#353, DOLocationID#354, passenger_count#355L, trip_distance#356, fare_amount#357, extra#358, mta_tax#359, tip_amount#360, tolls_amount#361, ehail_fee#362, improvement_surcharge#363, total_amount#364, payment_type#365L, trip_type#366L, congestion_surcharge#367]\n                                                                                 :  +- Relation [VendorID#348,lpep_pickup_datetime#349,lpep_dropoff_datetime#350,store_and_fwd_flag#351,RatecodeID#352L,PULocationID#353,DOLocationID#354,passenger_count#355L,trip_distance#356,fare_amount#357,extra#358,mta_tax#359,tip_amount#360,tolls_amount#361,ehail_fee#362,improvement_surcharge#363,total_amount#364,payment_type#365L,trip_type#366L,congestion_surcharge#367] parquet\n                                                                                 :- Project [VendorID#388, lpep_pickup_datetime#389, lpep_dropoff_datetime#390, store_and_fwd_flag#391, RatecodeID#392L, PULocationID#393, DOLocationID#394, passenger_count#395L, trip_distance#396, fare_amount#397, extra#398, mta_tax#399, tip_amount#400, tolls_amount#401, ehail_fee#402, improvement_surcharge#403, total_amount#404, payment_type#405L, trip_type#406L, congestion_surcharge#407]\n                                                                                 :  +- Relation [VendorID#388,lpep_pickup_datetime#389,lpep_dropoff_datetime#390,store_and_fwd_flag#391,RatecodeID#392L,PULocationID#393,DOLocationID#394,passenger_count#395L,trip_distance#396,fare_amount#397,extra#398,mta_tax#399,tip_amount#400,tolls_amount#401,ehail_fee#402,improvement_surcharge#403,total_amount#404,payment_type#405L,trip_type#406L,congestion_surcharge#407] parquet\n                                                                                 :- Project [VendorID#428, lpep_pickup_datetime#429, lpep_dropoff_datetime#430, store_and_fwd_flag#431, RatecodeID#432L, PULocationID#433, DOLocationID#434, passenger_count#435L, trip_distance#436, fare_amount#437, extra#438, mta_tax#439, tip_amount#440, tolls_amount#441, ehail_fee#442, improvement_surcharge#443, total_amount#444, payment_type#445L, trip_type#446L, congestion_surcharge#447]\n                                                                                 :  +- Relation [VendorID#428,lpep_pickup_datetime#429,lpep_dropoff_datetime#430,store_and_fwd_flag#431,RatecodeID#432L,PULocationID#433,DOLocationID#434,passenger_count#435L,trip_distance#436,fare_amount#437,extra#438,mta_tax#439,tip_amount#440,tolls_amount#441,ehail_fee#442,improvement_surcharge#443,total_amount#444,payment_type#445L,trip_type#446L,congestion_surcharge#447] parquet\n                                                                                 +- Project [VendorID#468, lpep_pickup_datetime#469, lpep_dropoff_datetime#470, store_and_fwd_flag#471, RatecodeID#472L, PULocationID#473, DOLocationID#474, passenger_count#475L, trip_distance#476, fare_amount#477, extra#478, mta_tax#479, tip_amount#480, tolls_amount#481, ehail_fee#482, improvement_surcharge#483, total_amount#484, payment_type#485L, trip_type#486L, congestion_surcharge#487]\n                                                                                    +- Relation [VendorID#468,lpep_pickup_datetime#469,lpep_dropoff_datetime#470,store_and_fwd_flag#471,RatecodeID#472L,PULocationID#473,DOLocationID#474,passenger_count#475L,trip_distance#476,fare_amount#477,extra#478,mta_tax#479,tip_amount#480,tolls_amount#481,ehail_fee#482,improvement_surcharge#483,total_amount#484,payment_type#485L,trip_type#486L,congestion_surcharge#487] parquet\n"
     ]
    }
   ],
   "source": [
    "# extract date from pickup_datetime and dropoff_datetime\n",
    "combined = combined.withColumn(\"pickup_date\", F.to_date(\"pickup_datetime\"))\n",
    "combined = combined.withColumn(\"dropoff_date\", F.to_date(\"dropoff_datetime\"))\n",
    "\n",
    "# extract time from pickup_datetime and dropoff_datetime\n",
    "combined = combined.withColumn(\"pickup_time\", F.date_format(\"pickup_datetime\", \"HH:mm:ss\"))\n",
    "combined = combined.withColumn(\"dropoff_time\", F.date_format(\"dropoff_datetime\", \"HH:mm:ss\"))\n",
    "\n",
    "# drop pickup_datetime and dropoff_datetime\n",
    "combined = combined.drop(\"pickup_datetime\", \"dropoff_datetime\")"
   ]
  },
  {
   "cell_type": "code",
   "execution_count": 29,
   "metadata": {},
   "outputs": [
    {
     "name": "stderr",
     "output_type": "stream",
     "text": [
      "[Stage 99:>                                                         (0 + 1) / 1]\r"
     ]
    },
    {
     "name": "stdout",
     "output_type": "stream",
     "text": [
      "+--------+---------------+-------------+----------+------------------+------------+------------+------------+-----------+-----+-------+----------+------------+---------------------+------------+--------------------+---------+-------------+-----------+----------+-----------+-----------+------------+\n",
      "|VendorID|passenger_count|trip_distance|RatecodeID|store_and_fwd_flag|PULocationID|DOLocationID|payment_type|fare_amount|extra|mta_tax|tip_amount|tolls_amount|improvement_surcharge|total_amount|congestion_surcharge|ehail_fee|trip_duration|pickup_hour|pickup_day|dropoff_day|pickup_time|dropoff_time|\n",
      "+--------+---------------+-------------+----------+------------------+------------+------------+------------+-----------+-----+-------+----------+------------+---------------------+------------+--------------------+---------+-------------+-----------+----------+-----------+-----------+------------+\n",
      "|       2|              2|         3.04|         1|             false|         137|         263|           1|       14.2|  1.0|    0.5|      10.0|         0.0|                  1.0|        29.2|                 2.5|      0.0|          9.0|          0|         6|          6|   00:23:55|    00:33:24|\n",
      "|       2|              1|         1.22|         1|             false|         158|          79|           1|       10.0|  1.0|    0.5|       1.0|         0.0|                  1.0|        16.0|                 2.5|      0.0|          9.0|          0|         6|          6|   00:32:49|    00:41:21|\n",
      "|       2|              1|         5.21|         1|             false|         141|         129|           1|       26.1|  1.0|    0.5|       4.0|         0.0|                  1.0|        35.1|                 2.5|      0.0|         21.0|          0|         6|          6|   00:53:04|    01:13:53|\n",
      "|       2|              1|         0.92|         1|             false|         144|         211|           1|        7.9|  1.0|    0.5|      2.58|         0.0|                  1.0|       15.48|                 2.5|      0.0|          6.0|          0|         6|          6|   00:31:11|    00:37:12|\n",
      "|       2|              2|         7.76|         1|             false|         138|         145|           1|       31.7|  6.0|    0.5|      7.84|         0.0|                  1.0|       48.79|                 0.0|      0.0|         17.0|          0|         6|          6|   00:06:36|    00:23:15|\n",
      "+--------+---------------+-------------+----------+------------------+------------+------------+------------+-----------+-----+-------+----------+------------+---------------------+------------+--------------------+---------+-------------+-----------+----------+-----------+-----------+------------+\n",
      "only showing top 5 rows\n",
      "\n"
     ]
    },
    {
     "name": "stderr",
     "output_type": "stream",
     "text": [
      "                                                                                \r"
     ]
    }
   ],
   "source": [
    "# show the result\n",
    "combined.show(5)"
   ]
  },
  {
   "cell_type": "code",
   "execution_count": null,
   "metadata": {},
   "outputs": [],
   "source": []
  },
  {
   "cell_type": "markdown",
   "metadata": {},
   "source": [
    "## Export file to raw folder"
   ]
  },
  {
   "cell_type": "code",
   "execution_count": 27,
   "metadata": {},
   "outputs": [
    {
     "name": "stderr",
     "output_type": "stream",
     "text": [
      "                                                                                \r"
     ]
    }
   ],
   "source": [
    "# export the combined data to parquet\n",
    "combined.write.mode(\"overwrite\").parquet(\"../data/raw/tlc_data/combined.parquet\")"
   ]
  }
 ],
 "metadata": {
  "kernelspec": {
   "display_name": "Python 3 (ipykernel)",
   "language": "python",
   "name": "python3"
  },
  "language_info": {
   "codemirror_mode": {
    "name": "ipython",
    "version": 3
   },
   "file_extension": ".py",
   "mimetype": "text/x-python",
   "name": "python",
   "nbconvert_exporter": "python",
   "pygments_lexer": "ipython3",
   "version": "3.12.1"
  }
 },
 "nbformat": 4,
 "nbformat_minor": 4
}
