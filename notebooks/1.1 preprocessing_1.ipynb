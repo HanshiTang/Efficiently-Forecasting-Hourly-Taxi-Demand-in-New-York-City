{
 "cells": [
  {
   "cell_type": "markdown",
   "metadata": {},
   "source": [
    "# Preprocessing TLC data"
   ]
  },
  {
   "cell_type": "markdown",
   "metadata": {},
   "source": [
    "This notebook cleans the following datasets: \n",
    "1. Yellow taxi data from 2023-12 to 2024-05\n",
    "2. Green taxi data from 2023-12 to 2024-05\n"
   ]
  },
  {
   "cell_type": "code",
   "execution_count": 10,
   "metadata": {},
   "outputs": [],
   "source": [
    "from pyspark.sql import functions as F\n",
    "from pyspark.sql import SparkSession\n",
    "from pyspark.sql.functions import *\n",
    "import matplotlib.pyplot as plt\n",
    "import pandas as pd\n",
    "import numpy as np\n",
    "import seaborn as sbs\n",
    "import geopandas as gpd\n",
    "import folium"
   ]
  },
  {
   "cell_type": "code",
   "execution_count": 11,
   "metadata": {},
   "outputs": [],
   "source": [
    "from pyspark.sql import SparkSession\n",
    "\n",
    "# Create a spark session\n",
    "spark = (\n",
    "    SparkSession.builder.appName(\"ADS Project1\")\n",
    "    .config(\"spark.sql.repl.eagerEval.enabled\", True) \n",
    "    .config(\"spark.sql.parquet.cacheMetadata\", \"true\")\n",
    "    .config(\"spark.sql.session.timeZone\", \"Etc/UTC\")\n",
    "    .getOrCreate()\n",
    ")\n"
   ]
  },
  {
   "cell_type": "code",
   "execution_count": 12,
   "metadata": {},
   "outputs": [],
   "source": [
    "spark.conf.set(\"spark.sql.parquet.compression.codec\",\"gzip\")"
   ]
  },
  {
   "cell_type": "code",
   "execution_count": 13,
   "metadata": {},
   "outputs": [],
   "source": [
    "# Read 2023-2024 TLC data\n",
    "df = spark.read.parquet('../data/landing/tlc_data/*.parquet')\n"
   ]
  },
  {
   "cell_type": "code",
   "execution_count": 14,
   "metadata": {},
   "outputs": [],
   "source": [
    "# Read 2023-6 to 2024-5 yellow data\n",
    "path = \"../data/landing/tlc_data\"\n",
    "ydf_2023_12 = spark.read.parquet(path + \"/Y-2023-12.parquet\")\n",
    "ydf_2024_1 = spark.read.parquet(path + \"/Y-2024-01.parquet\")\n",
    "ydf_2024_2 = spark.read.parquet(path + \"/Y-2024-02.parquet\")\n",
    "ydf_2024_3 = spark.read.parquet(path + \"/Y-2024-03.parquet\")\n",
    "ydf_2024_4 = spark.read.parquet(path + \"/Y-2024-04.parquet\")\n",
    "ydf_2024_5 = spark.read.parquet(path + \"/Y-2024-05.parquet\")"
   ]
  },
  {
   "cell_type": "code",
   "execution_count": 15,
   "metadata": {},
   "outputs": [],
   "source": [
    "# Read 2023-12 to 2024-5 green data\n",
    "path = \"../data/landing/tlc_data\"\n",
    "gdf_2023_12 = spark.read.parquet(path + \"/G-2023-12.parquet\")\n",
    "gdf_2024_1 = spark.read.parquet(path + \"/G-2024-01.parquet\")\n",
    "gdf_2024_2 = spark.read.parquet(path + \"/G-2024-02.parquet\")\n",
    "gdf_2024_3 = spark.read.parquet(path + \"/G-2024-03.parquet\")\n",
    "gdf_2024_4 = spark.read.parquet(path + \"/G-2024-04.parquet\")\n",
    "gdf_2024_5 = spark.read.parquet(path + \"/G-2024-05.parquet\")"
   ]
  },
  {
   "cell_type": "markdown",
   "metadata": {},
   "source": [
    "## TLC datasets inspection"
   ]
  },
  {
   "cell_type": "code",
   "execution_count": 16,
   "metadata": {},
   "outputs": [
    {
     "name": "stdout",
     "output_type": "stream",
     "text": [
      "The total green count is 349274.\n",
      "The total yellow count is 20169467.\n",
      "The total count is 20518741.\n"
     ]
    }
   ],
   "source": [
    "# Calculate the total row count for yellow taxi data from 2023-6 to 2024-5\n",
    "yellow_count = (\n",
    "    ydf_2023_12.count() + \n",
    "    ydf_2024_1.count() + \n",
    "    ydf_2024_2.count() + \n",
    "    ydf_2024_3.count() + \n",
    "    ydf_2024_4.count() + \n",
    "    ydf_2024_5.count()\n",
    ")\n",
    "\n",
    "# Calculate the total row count for green taxi data from 2023-6 to 2024-5\n",
    "green_count = (\n",
    "    gdf_2023_12.count() + \n",
    "    gdf_2024_1.count() + \n",
    "    gdf_2024_2.count() + \n",
    "    gdf_2024_3.count() + \n",
    "    gdf_2024_4.count() + \n",
    "    gdf_2024_5.count()\n",
    ")\n",
    "\n",
    "# Display the green count\n",
    "print(f\"The total green count is {green_count}.\")\n",
    "\n",
    "# Display the yellow count\n",
    "print(f\"The total yellow count is {yellow_count}.\")\n",
    "\n",
    "# Calculate the total row count for all taxi data from 2023-6 to 2024-5\n",
    "total_count = yellow_count + green_count\n",
    "# Display the total count\n",
    "print(f\"The total count is {total_count}.\")"
   ]
  },
  {
   "cell_type": "code",
   "execution_count": 17,
   "metadata": {},
   "outputs": [
    {
     "name": "stdout",
     "output_type": "stream",
     "text": [
      "Columns only in yellowDF: {'tpep_pickup_datetime', 'tpep_dropoff_datetime', 'Airport_fee'}\n",
      "Columns only in greenDF: {'lpep_pickup_datetime', 'lpep_dropoff_datetime', 'ehail_fee', 'trip_type'}\n"
     ]
    }
   ],
   "source": [
    "# Get columns of each DataFrame\n",
    "columns_ydf = set(ydf_2024_5.columns)\n",
    "columns_gdf = set(gdf_2024_5.columns)\n",
    "\n",
    "# Find differences in columns\n",
    "columns_only_in_df1 = columns_ydf - columns_gdf\n",
    "columns_only_in_df2 = columns_gdf - columns_ydf\n",
    "\n",
    "print(f\"Columns only in yellowDF: {columns_only_in_df1}\")\n",
    "print(f\"Columns only in greenDF: {columns_only_in_df2}\")\n"
   ]
  },
  {
   "cell_type": "code",
   "execution_count": 18,
   "metadata": {},
   "outputs": [
    {
     "name": "stdout",
     "output_type": "stream",
     "text": [
      "Number of features in yellowDF: 19\n",
      "Number of features in greenDF: 20\n"
     ]
    }
   ],
   "source": [
    "# Report number of features in each DataFrame\n",
    "print(f\"Number of features in yellowDF: {len(ydf_2024_5.columns)}\")\n",
    "print(f\"Number of features in greenDF: {len(gdf_2024_5.columns)}\")"
   ]
  },
  {
   "cell_type": "markdown",
   "metadata": {},
   "source": [
    "## Data Cleaning"
   ]
  },
  {
   "cell_type": "code",
   "execution_count": 19,
   "metadata": {},
   "outputs": [],
   "source": [
    "# combine the datasets \n",
    "ydfs = [ydf_2023_12, \n",
    "       ydf_2024_1, ydf_2024_2, ydf_2024_3, ydf_2024_4, ydf_2024_5]\n",
    "gdfs = [gdf_2023_12, \n",
    "       gdf_2024_1, gdf_2024_2, gdf_2024_3, gdf_2024_4, gdf_2024_5]\n"
   ]
  },
  {
   "cell_type": "code",
   "execution_count": 20,
   "metadata": {},
   "outputs": [],
   "source": [
    "from pyspark.sql import DataFrame\n",
    "from functools import reduce\n",
    "\n",
    "# Function to union two DataFrames\n",
    "def union_dfs(df1, df2):\n",
    "    return df1.unionByName(df2)\n",
    "\n",
    "# Combine all yellow taxi data\n",
    "yellow_combined = reduce(union_dfs, ydfs)\n",
    "\n",
    "# Combine all green taxi data\n",
    "green_combined = reduce(union_dfs, gdfs) "
   ]
  },
  {
   "cell_type": "code",
   "execution_count": 21,
   "metadata": {},
   "outputs": [
    {
     "name": "stderr",
     "output_type": "stream",
     "text": [
      "24/08/26 04:10:33 WARN SparkStringUtils: Truncated the string representation of a plan since it was too large. This behavior can be adjusted by setting 'spark.sql.debug.maxToStringFields'.\n",
      "Java HotSpot(TM) 64-Bit Server VM warning: CodeCache is full. Compiler has been disabled.\n",
      "Java HotSpot(TM) 64-Bit Server VM warning: Try increasing the code cache size using -XX:ReservedCodeCacheSize=\n"
     ]
    },
    {
     "name": "stdout",
     "output_type": "stream",
     "text": [
      "CodeCache: size=131072Kb used=32806Kb max_used=32823Kb free=98265Kb\n",
      " bounds [0x00000001069e8000, 0x0000000108a28000, 0x000000010e9e8000]\n",
      " total_blobs=12399 nmethods=11424 adapters=885\n",
      " compilation: disabled (not enough contiguous free space left)\n"
     ]
    },
    {
     "name": "stderr",
     "output_type": "stream",
     "text": [
      "                                                                                \r"
     ]
    },
    {
     "name": "stdout",
     "output_type": "stream",
     "text": [
      "+-------+------------------+------------------+------------------+------------------+------------------+-----------------+------------------+------------------+------------------+------------------+-------------------+-----------------+------------------+---------------------+------------------+--------------------+------------------+\n",
      "|summary|          VendorID|   passenger_count|     trip_distance|        RatecodeID|store_and_fwd_flag|     PULocationID|      DOLocationID|      payment_type|       fare_amount|             extra|            mta_tax|       tip_amount|      tolls_amount|improvement_surcharge|      total_amount|congestion_surcharge|       Airport_fee|\n",
      "+-------+------------------+------------------+------------------+------------------+------------------+-----------------+------------------+------------------+------------------+------------------+-------------------+-----------------+------------------+---------------------+------------------+--------------------+------------------+\n",
      "|  count|          20169467|          18424260|          20169467|          18424260|          18424260|         20169467|          20169467|          20169467|          20169467|          20169467|           20169467|         20169467|          20169467|             20169467|          20169467|            18424260|          18424260|\n",
      "|   mean| 1.755963853680417| 1.345161379615789|4.4419246299368575|  2.14835173841446|              NULL|165.0144507041262|164.05317031927518| 1.116443582767953|18.923641255370146| 1.425470399391317| 0.4827778255121962|3.314537397542376|0.5487428249835903|   0.9730040065015128|27.534102558613313|   2.255080868919566|0.1413617833226409|\n",
      "| stddev|0.4314227537640277|0.8468752313876045| 329.4550808157759|10.184426981393703|              NULL|64.26102582991281| 69.52784232979914|0.6215272703714428| 77.51609966736711|1.8180557045974526|0.12025254846125369|4.120977997746433| 2.214184062732435|  0.22551814193364778| 78.78275531024954|  0.8310231933657249|0.4891901661106339|\n",
      "|    min|                 1|                 0|               0.0|                 1|                 N|                1|                 1|                 0|           -1087.3|            -39.17|               -0.5|           -300.0|             -84.3|                 -1.0|          -1094.05|                -2.5|             -1.75|\n",
      "|    max|                 6|                 9|          312722.3|                99|                 Y|              265|               265|                 5|         334076.32|             65.99|              42.17|           4174.0|           1702.88|                  1.0|          334145.3|                 2.5|              1.75|\n",
      "+-------+------------------+------------------+------------------+------------------+------------------+-----------------+------------------+------------------+------------------+------------------+-------------------+-----------------+------------------+---------------------+------------------+--------------------+------------------+\n",
      "\n"
     ]
    },
    {
     "name": "stderr",
     "output_type": "stream",
     "text": [
      "[Stage 101:============================>                            (3 + 3) / 6]\r"
     ]
    },
    {
     "name": "stdout",
     "output_type": "stream",
     "text": [
      "+-------+-------------------+------------------+------------------+------------------+------------------+------------------+-----------------+-----------------+------------------+------------------+------------------+-------------------+---------+---------------------+------------------+------------------+------------------+--------------------+\n",
      "|summary|           VendorID|store_and_fwd_flag|        RatecodeID|      PULocationID|      DOLocationID|   passenger_count|    trip_distance|      fare_amount|             extra|           mta_tax|        tip_amount|       tolls_amount|ehail_fee|improvement_surcharge|      total_amount|      payment_type|         trip_type|congestion_surcharge|\n",
      "+-------+-------------------+------------------+------------------+------------------+------------------+------------------+-----------------+-----------------+------------------+------------------+------------------+-------------------+---------+---------------------+------------------+------------------+------------------+--------------------+\n",
      "|  count|             349274|            332042|            332042|            349274|            349274|            332042|           349274|           349274|            349274|            349274|            349274|             349274|        0|               349274|            349274|            332042|            332003|              332042|\n",
      "|   mean|   1.87639789964326|              NULL|1.1801127568199203| 96.22464597994697|140.23362460417894|1.3076297576812572|19.14557264497217|17.72832684368141|0.9174071073140285|0.5727065283989075|2.4015336956087188|0.21388812221923348|     NULL|   0.9821589926533436| 23.39691236679498|1.3157160841098414|1.0377466468676488|  0.7823942453063166|\n",
      "| stddev|0.32912753043048754|              NULL|1.3254339239458395|57.614188941822015| 76.45348780590808|0.9617393381784125|996.8827311833935| 17.0950010531631|1.3809067867394842|0.3726674909902974|3.1985266114375035| 1.2724000690028325|     NULL|  0.14782356094033072|18.881757150283146|0.4964089837882132| 0.190583175858636|  1.2399192471636027|\n",
      "|    min|                  1|                 N|                 1|                 1|                 1|                 0|              0.0|           -450.0|              -6.0|              -0.5|             -65.0|              -6.94|     NULL|                 -1.0|            -451.0|                 1|                 1|               -2.75|\n",
      "|    max|                  2|                 Y|                99|               265|               265|                 9|        201421.68|           1618.6|              12.0|              4.25|            343.24|              46.76|     NULL|                  1.0|            1622.6|                 5|                 2|                2.75|\n",
      "+-------+-------------------+------------------+------------------+------------------+------------------+------------------+-----------------+-----------------+------------------+------------------+------------------+-------------------+---------+---------------------+------------------+------------------+------------------+--------------------+\n",
      "\n"
     ]
    },
    {
     "name": "stderr",
     "output_type": "stream",
     "text": [
      "                                                                                \r"
     ]
    }
   ],
   "source": [
    "# Show descriptive statistics for taxi data\n",
    "yellow_combined.describe().show()\n",
    "green_combined.describe().show()"
   ]
  },
  {
   "cell_type": "markdown",
   "metadata": {},
   "source": [
    "### Unify the columns of the two dataframes"
   ]
  },
  {
   "cell_type": "code",
   "execution_count": 22,
   "metadata": {},
   "outputs": [],
   "source": [
    "# Drop Airport_fee and trip_type columns from the combined data\n",
    "yellow_combined = yellow_combined.drop(\"Airport_fee\")\n",
    "green_combined = green_combined.drop(\"trip_type\")\n",
    "\n",
    "# Set ehail_fee to 0 for yellow taxi data\n",
    "yellow_combined = yellow_combined.withColumn(\"ehail_fee\", lit(0))"
   ]
  },
  {
   "cell_type": "markdown",
   "metadata": {},
   "source": [
    "tpep: Taxicab Passenger Enhancement Program for yellow taxi <br> \n",
    "lpep: Livery Passenger Enhancement Program for green taxi"
   ]
  },
  {
   "cell_type": "code",
   "execution_count": 23,
   "metadata": {},
   "outputs": [],
   "source": [
    "# Rename datetime columns to be consistent\n",
    "from pyspark.sql.functions import col\n",
    "\n",
    "yellow_combined = yellow_combined.withColumnRenamed('tpep_pickup_datetime', 'pickup_datetime') \\\n",
    "                               .withColumnRenamed('tpep_dropoff_datetime', 'dropoff_datetime')\n",
    "\n",
    "green_combined = green_combined.withColumnRenamed('lpep_pickup_datetime', 'pickup_datetime') \\\n",
    "                             .withColumnRenamed('lpep_dropoff_datetime', 'dropoff_datetime')\n"
   ]
  },
  {
   "cell_type": "markdown",
   "metadata": {},
   "source": [
    "### Combine yellow and green taxi data"
   ]
  },
  {
   "cell_type": "code",
   "execution_count": 24,
   "metadata": {},
   "outputs": [],
   "source": [
    "# Combine yellow and green taxi data\n",
    "combined = yellow_combined.unionByName(green_combined)"
   ]
  },
  {
   "cell_type": "markdown",
   "metadata": {},
   "source": [
    "### Anomaly handling\n",
    "Filter out anomaly with business logic"
   ]
  },
  {
   "cell_type": "code",
   "execution_count": 25,
   "metadata": {},
   "outputs": [
    {
     "name": "stdout",
     "output_type": "stream",
     "text": [
      "root\n",
      " |-- VendorID: integer (nullable = true)\n",
      " |-- pickup_datetime: timestamp_ntz (nullable = true)\n",
      " |-- dropoff_datetime: timestamp_ntz (nullable = true)\n",
      " |-- passenger_count: long (nullable = true)\n",
      " |-- trip_distance: double (nullable = true)\n",
      " |-- RatecodeID: long (nullable = true)\n",
      " |-- store_and_fwd_flag: string (nullable = true)\n",
      " |-- PULocationID: integer (nullable = true)\n",
      " |-- DOLocationID: integer (nullable = true)\n",
      " |-- payment_type: long (nullable = true)\n",
      " |-- fare_amount: double (nullable = true)\n",
      " |-- extra: double (nullable = true)\n",
      " |-- mta_tax: double (nullable = true)\n",
      " |-- tip_amount: double (nullable = true)\n",
      " |-- tolls_amount: double (nullable = true)\n",
      " |-- improvement_surcharge: double (nullable = true)\n",
      " |-- total_amount: double (nullable = true)\n",
      " |-- congestion_surcharge: double (nullable = true)\n",
      " |-- ehail_fee: double (nullable = true)\n",
      "\n"
     ]
    }
   ],
   "source": [
    "# print the schema of the combined data\n",
    "combined.printSchema()"
   ]
  },
  {
   "cell_type": "code",
   "execution_count": 26,
   "metadata": {},
   "outputs": [
    {
     "name": "stdout",
     "output_type": "stream",
     "text": [
      "passenger_count: Min = 0, Max = 9\n",
      "trip_distance: Min = 0.0, Max = 345729.44\n",
      "fare_amount: Min = -1087.3, Max = 386983.63\n",
      "extra: Min = -39.17, Max = 10002.5\n",
      "mta_tax: Min = -0.5, Max = 52.09\n",
      "tip_amount: Min = -330.88, Max = 4174.0\n",
      "tolls_amount: Min = -91.3, Max = 1702.88\n",
      "improvement_surcharge: Min = -1.0, Max = 1.0\n",
      "total_amount: Min = -1094.05, Max = 386987.63\n",
      "congestion_surcharge: Min = -2.75, Max = 2.75\n",
      "ehail_fee: Min = None, Max = None\n"
     ]
    }
   ],
   "source": [
    "from pyspark.sql.functions import min, max\n",
    "\n",
    "columns_to_check = [\n",
    "    'passenger_count', \n",
    "    'trip_distance', \n",
    "    'fare_amount', \n",
    "    'extra', \n",
    "    'mta_tax', \n",
    "    'tip_amount', \n",
    "    'tolls_amount', \n",
    "    'improvement_surcharge',\n",
    "    'total_amount',\n",
    "    'congestion_surcharge',\n",
    "    'ehail_fee'\n",
    "]\n",
    "\n",
    "# Create a dictionary to store min and max for each column\n",
    "min_max_dict = {col: df.agg(min(col).alias(f\"min_{col}\"), max(col).alias(f\"max_{col}\")).collect()[0] for col in columns_to_check}\n",
    "\n",
    "# Print the results\n",
    "for col, values in min_max_dict.items():\n",
    "    print(f\"{col}: Min = {values[f'min_{col}']}, Max = {values[f'max_{col}']}\")\n"
   ]
  },
  {
   "cell_type": "code",
   "execution_count": 27,
   "metadata": {},
   "outputs": [],
   "source": [
    "from pyspark.sql.functions import col\n",
    "\n",
    "# Apply all filters in a single chain\n",
    "combined = combined.filter(\n",
    "    # Filter out rows with passenger count greater than 6 or less than 1\n",
    "    (col(\"passenger_count\").between(1, 6)) &\n",
    "    # Filter out rows with fare amount less than 3\n",
    "    (col(\"fare_amount\") >= 3) &\n",
    "    # Filter out rows with trip distance less than 0.5\n",
    "    (col(\"trip_distance\") >= 0.5) &\n",
    "    # Filter out rows with tip amount less than 0 \n",
    "    (col(\"tip_amount\") >= 0) &\n",
    "    # Filter out rows with tolls amount less than 0\n",
    "    (col(\"tolls_amount\") >= 0) &\n",
    "    # Filter out rows with extra amount less than 0\n",
    "    (col(\"extra\") >= 0) &\n",
    "    # Filter out mtax_tax less than 0\n",
    "    (col(\"mta_tax\") >= 0) &\n",
    "    # Filter out rows with improvement surcharge less than 0\n",
    "    (col(\"improvement_surcharge\") >= 0) &\n",
    "    # Filter out rows with total amount less than 3\n",
    "    (col(\"total_amount\") >= 3) &\n",
    "    # Filter out rows with congestion surcharge less than 0\n",
    "    (col(\"congestion_surcharge\") >= 0) &\n",
    "    # Filter the pick up datetime to between 2023-06 to 2024-05\n",
    "    (col(\"pickup_datetime\").between(\"2023-06-01 00:00:00\", \"2024-05-31 00:00:00\")) &\n",
    "    # Filter the drop off datetime to between 2023-06 to 2024-05\n",
    "    (col(\"dropoff_datetime\").between(\"2023-06-01 00:00:00\", \"2024-05-31 00:00:00\"))\n",
    "\n",
    ")\n"
   ]
  },
  {
   "cell_type": "code",
   "execution_count": 28,
   "metadata": {},
   "outputs": [
    {
     "name": "stderr",
     "output_type": "stream",
     "text": [
      "[Stage 137:=====================================================> (53 + 1) / 54]\r"
     ]
    },
    {
     "name": "stdout",
     "output_type": "stream",
     "text": [
      "+-------+-------------------+------------------+-----------------+------------------+------------------+------------------+-----------------+-------------------+------------------+------------------+-------------------+------------------+------------------+---------------------+------------------+--------------------+---------+\n",
      "|summary|           VendorID|   passenger_count|    trip_distance|        RatecodeID|store_and_fwd_flag|      PULocationID|     DOLocationID|       payment_type|       fare_amount|             extra|            mta_tax|        tip_amount|      tolls_amount|improvement_surcharge|      total_amount|congestion_surcharge|ehail_fee|\n",
      "+-------+-------------------+------------------+-----------------+------------------+------------------+------------------+-----------------+-------------------+------------------+------------------+-------------------+------------------+------------------+---------------------+------------------+--------------------+---------+\n",
      "|  count|           17206387|          17206387|         17206387|          17206387|          17206387|          17206387|         17206387|           17206387|          17206387|          17206387|           17206387|          17206387|          17206387|             17206387|          17206387|            17206387| 16908732|\n",
      "|   mean| 1.7654224562076861|1.3626587034221653|3.598899258746351|2.1237581137748442|              NULL|164.14228507123548|164.0507406929764| 1.1808497623585938|19.694312028434908|1.5763306584932673| 0.4983085437982999|3.6617070963239526|0.6102989151641137|   0.9977438901031359|28.937723876052882|  2.3007278924971293|      0.0|\n",
      "| stddev|0.42373450434890436|0.8435597597767445| 89.3606851840288|10.149176604281056|              NULL|63.902889730884056|69.68660911242951|0.44847542365078896|17.697540844397682|1.8278900012165353|0.06006268051252007| 4.014252175945369| 2.271850001138832|  0.04670798510934922|22.482209366617187|  0.6797659506387704|      0.0|\n",
      "|    min|                  1|                 1|              0.5|                 1|                 N|                 1|                1|                  1|               3.0|               0.0|                0.0|               0.0|               0.0|                  0.0|               3.0|                 0.0|      0.0|\n",
      "|    max|                  2|                 6|         161726.1|                99|                 Y|               265|              265|                  5|           2320.11|             51.68|              35.84|            999.99|           1702.88|                  1.0|           2372.79|                2.75|      0.0|\n",
      "+-------+-------------------+------------------+-----------------+------------------+------------------+------------------+-----------------+-------------------+------------------+------------------+-------------------+------------------+------------------+---------------------+------------------+--------------------+---------+\n",
      "\n"
     ]
    },
    {
     "name": "stderr",
     "output_type": "stream",
     "text": [
      "                                                                                \r"
     ]
    }
   ],
   "source": [
    "combined.describe().show()"
   ]
  },
  {
   "cell_type": "code",
   "execution_count": 29,
   "metadata": {},
   "outputs": [
    {
     "name": "stderr",
     "output_type": "stream",
     "text": [
      "[Stage 140:==========================================>            (42 + 8) / 54]\r"
     ]
    },
    {
     "name": "stdout",
     "output_type": "stream",
     "text": [
      "+-------------------+-------------------+--------------------+--------------------+\n",
      "|min_pickup_datetime|max_pickup_datetime|min_dropoff_datetime|max_dropoff_datetime|\n",
      "+-------------------+-------------------+--------------------+--------------------+\n",
      "|2023-11-24 21:03:34|2024-05-30 23:56:52| 2023-11-24 21:22:29| 2024-05-31 00:00:00|\n",
      "+-------------------+-------------------+--------------------+--------------------+\n",
      "\n"
     ]
    },
    {
     "name": "stderr",
     "output_type": "stream",
     "text": [
      "                                                                                \r"
     ]
    }
   ],
   "source": [
    "# show range for pickup_datetime and dropoff_datetime\n",
    "combined.select(\n",
    "    min(\"pickup_datetime\").alias(\"min_pickup_datetime\"), \n",
    "    max(\"pickup_datetime\").alias(\"max_pickup_datetime\"),\n",
    "    min(\"dropoff_datetime\").alias(\"min_dropoff_datetime\"), \n",
    "    max(\"dropoff_datetime\").alias(\"max_dropoff_datetime\")\n",
    ").show()"
   ]
  },
  {
   "cell_type": "code",
   "execution_count": 31,
   "metadata": {},
   "outputs": [
    {
     "name": "stdout",
     "output_type": "stream",
     "text": [
      "+--------+-------------------+-------------------+---------------+-------------+----------+------------------+------------+------------+------------+-----------+-----+-------+----------+------------+---------------------+------------+--------------------+---------+-------------+\n",
      "|VendorID|    pickup_datetime|   dropoff_datetime|passenger_count|trip_distance|RatecodeID|store_and_fwd_flag|PULocationID|DOLocationID|payment_type|fare_amount|extra|mta_tax|tip_amount|tolls_amount|improvement_surcharge|total_amount|congestion_surcharge|ehail_fee|trip_duration|\n",
      "+--------+-------------------+-------------------+---------------+-------------+----------+------------------+------------+------------+------------+-----------+-----+-------+----------+------------+---------------------+------------+--------------------+---------+-------------+\n",
      "|       1|2023-12-01 00:59:44|2023-12-01 01:13:22|              2|          2.2|         1|                 N|         114|         186|           1|       13.5|  3.5|    0.5|       3.0|         0.0|                  1.0|        21.5|                 2.5|      0.0|         14.0|\n",
      "|       2|2023-12-01 00:22:17|2023-12-01 00:30:59|              1|         0.66|         1|                 N|          79|          79|           2|        7.2|  1.0|    0.5|       0.0|         0.0|                  1.0|        12.2|                 2.5|      0.0|          9.0|\n",
      "|       2|2023-12-01 00:18:16|2023-12-01 00:25:32|              2|          2.2|         1|                 N|         229|         263|           1|       11.4|  1.0|    0.5|       2.0|         0.0|                  1.0|        18.4|                 2.5|      0.0|          7.0|\n",
      "|       2|2023-12-01 00:17:09|2023-12-01 00:33:31|              1|         5.33|         1|                 N|          45|         162|           1|       24.7|  1.0|    0.5|       3.0|         0.0|                  1.0|        32.7|                 2.5|      0.0|         16.0|\n",
      "|       2|2023-12-01 00:40:49|2023-12-01 00:44:10|              1|         0.76|         1|                 N|         170|         107|           1|        5.8|  1.0|    0.5|       1.0|         0.0|                  1.0|        11.8|                 2.5|      0.0|          3.0|\n",
      "+--------+-------------------+-------------------+---------------+-------------+----------+------------------+------------+------------+------------+-----------+-----+-------+----------+------------+---------------------+------------+--------------------+---------+-------------+\n",
      "only showing top 5 rows\n",
      "\n"
     ]
    }
   ],
   "source": [
    "# Step 1: Convert pickup and dropoff timestamps to string format\n",
    "combined = combined.withColumn(\"pickup_str\", F.col(\"pickup_datetime\").cast(\"string\"))\n",
    "combined = combined.withColumn(\"dropoff_str\", F.col(\"dropoff_datetime\").cast(\"string\"))\n",
    "\n",
    "# Step 2: Convert the strings back to timestamps\n",
    "combined = combined.withColumn(\"pickup_ts\", F.to_timestamp(\"pickup_str\"))\n",
    "combined = combined.withColumn(\"dropoff_ts\", F.to_timestamp(\"dropoff_str\"))\n",
    "\n",
    "# Step 3: Convert the timestamps to long (Unix epoch seconds)\n",
    "combined = combined.withColumn(\"pickup_long\", F.col(\"pickup_ts\").cast(\"long\"))\n",
    "combined = combined.withColumn(\"dropoff_long\", F.col(\"dropoff_ts\").cast(\"long\"))\n",
    "\n",
    "# Step 4: Calculate the trip duration in minutes\n",
    "combined = combined.withColumn(\"trip_duration\", F.round((F.col(\"dropoff_long\") - F.col(\"pickup_long\")) / 60))\n",
    "\n",
    "# Drop intermediate columns if no longer needed\n",
    "combined = combined.drop(\"pickup_str\", \"dropoff_str\", \"pickup_ts\", \"dropoff_ts\", \"pickup_long\", \"dropoff_long\")\n",
    "\n",
    "# Show the result\n",
    "combined.show(5)\n"
   ]
  },
  {
   "cell_type": "code",
   "execution_count": 32,
   "metadata": {},
   "outputs": [],
   "source": [
    "from pyspark.sql.functions import col as pyspark_col\n",
    "\n",
    "# Filter out rows with trip duration less than 1 minute or greater than 180 minutes\n",
    "combined = combined.filter(\n",
    "    (pyspark_col(\"trip_duration\") >= 1) & (pyspark_col(\"trip_duration\") <= 180)\n",
    ")"
   ]
  },
  {
   "cell_type": "code",
   "execution_count": 34,
   "metadata": {},
   "outputs": [
    {
     "name": "stderr",
     "output_type": "stream",
     "text": [
      "24/08/26 04:14:44 WARN MemoryManager: Total allocation exceeds 95.00% (928,409,179 bytes) of heap memory\n",
      "Scaling row group sizes to 98.82% for 7 writers\n",
      "24/08/26 04:14:44 WARN BasicWriteTaskStatsTracker: Expected 1 files, but only saw 0. This could be due to the output format not writing empty files, or files being not immediately visible in the filesystem.\n",
      "24/08/26 04:14:44 WARN MemoryManager: Total allocation exceeds 95.00% (928,409,179 bytes) of heap memory\n",
      "Scaling row group sizes to 86.46% for 8 writers\n",
      "24/08/26 04:15:22 WARN MemoryManager: Total allocation exceeds 95.00% (928,409,179 bytes) of heap memory\n",
      "Scaling row group sizes to 98.82% for 7 writers\n",
      "24/08/26 04:15:22 WARN BasicWriteTaskStatsTracker: Expected 1 files, but only saw 0. This could be due to the output format not writing empty files, or files being not immediately visible in the filesystem.\n",
      "24/08/26 04:15:22 WARN MemoryManager: Total allocation exceeds 95.00% (928,409,179 bytes) of heap memory\n",
      "Scaling row group sizes to 86.46% for 8 writers\n",
      "24/08/26 04:15:23 WARN MemoryManager: Total allocation exceeds 95.00% (928,409,179 bytes) of heap memory\n",
      "Scaling row group sizes to 98.82% for 7 writers\n",
      "24/08/26 04:15:23 WARN BasicWriteTaskStatsTracker: Expected 1 files, but only saw 0. This could be due to the output format not writing empty files, or files being not immediately visible in the filesystem.\n",
      "24/08/26 04:15:23 WARN MemoryManager: Total allocation exceeds 95.00% (928,409,179 bytes) of heap memory\n",
      "Scaling row group sizes to 86.46% for 8 writers\n",
      "24/08/26 04:15:24 WARN MemoryManager: Total allocation exceeds 95.00% (928,409,179 bytes) of heap memory\n",
      "Scaling row group sizes to 98.82% for 7 writers\n",
      "24/08/26 04:15:24 WARN BasicWriteTaskStatsTracker: Expected 1 files, but only saw 0. This could be due to the output format not writing empty files, or files being not immediately visible in the filesystem.\n",
      "24/08/26 04:15:24 WARN MemoryManager: Total allocation exceeds 95.00% (928,409,179 bytes) of heap memory\n",
      "Scaling row group sizes to 86.46% for 8 writers\n",
      "24/08/26 04:15:24 WARN MemoryManager: Total allocation exceeds 95.00% (928,409,179 bytes) of heap memory\n",
      "Scaling row group sizes to 98.82% for 7 writers\n",
      "24/08/26 04:15:24 WARN BasicWriteTaskStatsTracker: Expected 1 files, but only saw 0. This could be due to the output format not writing empty files, or files being not immediately visible in the filesystem.\n",
      "24/08/26 04:15:24 WARN MemoryManager: Total allocation exceeds 95.00% (928,409,179 bytes) of heap memory\n",
      "Scaling row group sizes to 86.46% for 8 writers\n",
      "24/08/26 04:15:25 WARN MemoryManager: Total allocation exceeds 95.00% (928,409,179 bytes) of heap memory\n",
      "Scaling row group sizes to 98.82% for 7 writers\n",
      "24/08/26 04:15:25 WARN MemoryManager: Total allocation exceeds 95.00% (928,409,179 bytes) of heap memory\n",
      "Scaling row group sizes to 86.46% for 8 writers\n",
      "24/08/26 04:15:27 WARN MemoryManager: Total allocation exceeds 95.00% (928,409,179 bytes) of heap memory\n",
      "Scaling row group sizes to 98.82% for 7 writers\n",
      "24/08/26 04:15:27 WARN BasicWriteTaskStatsTracker: Expected 1 files, but only saw 0. This could be due to the output format not writing empty files, or files being not immediately visible in the filesystem.\n",
      "24/08/26 04:15:27 WARN MemoryManager: Total allocation exceeds 95.00% (928,409,179 bytes) of heap memory\n",
      "Scaling row group sizes to 86.46% for 8 writers\n",
      "24/08/26 04:15:27 WARN MemoryManager: Total allocation exceeds 95.00% (928,409,179 bytes) of heap memory\n",
      "Scaling row group sizes to 98.82% for 7 writers\n",
      "24/08/26 04:15:27 WARN BasicWriteTaskStatsTracker: Expected 1 files, but only saw 0. This could be due to the output format not writing empty files, or files being not immediately visible in the filesystem.\n",
      "24/08/26 04:15:27 WARN MemoryManager: Total allocation exceeds 95.00% (928,409,179 bytes) of heap memory\n",
      "Scaling row group sizes to 86.46% for 8 writers\n",
      "24/08/26 04:15:32 WARN MemoryManager: Total allocation exceeds 95.00% (928,409,179 bytes) of heap memory\n",
      "Scaling row group sizes to 98.82% for 7 writers\n",
      "24/08/26 04:15:32 WARN BasicWriteTaskStatsTracker: Expected 1 files, but only saw 0. This could be due to the output format not writing empty files, or files being not immediately visible in the filesystem.\n",
      "24/08/26 04:15:32 WARN MemoryManager: Total allocation exceeds 95.00% (928,409,179 bytes) of heap memory\n",
      "Scaling row group sizes to 86.46% for 8 writers\n",
      "24/08/26 04:16:13 WARN MemoryManager: Total allocation exceeds 95.00% (928,409,179 bytes) of heap memory\n",
      "Scaling row group sizes to 98.82% for 7 writers\n",
      "24/08/26 04:16:13 WARN MemoryManager: Total allocation exceeds 95.00% (928,409,179 bytes) of heap memory\n",
      "Scaling row group sizes to 86.46% for 8 writers\n",
      "24/08/26 04:17:32 WARN MemoryManager: Total allocation exceeds 95.00% (928,409,179 bytes) of heap memory\n",
      "Scaling row group sizes to 98.82% for 7 writers\n",
      "24/08/26 04:17:32 WARN MemoryManager: Total allocation exceeds 95.00% (928,409,179 bytes) of heap memory\n",
      "Scaling row group sizes to 86.46% for 8 writers\n",
      "24/08/26 04:17:35 WARN MemoryManager: Total allocation exceeds 95.00% (928,409,179 bytes) of heap memory\n",
      "Scaling row group sizes to 98.82% for 7 writers\n",
      "24/08/26 04:17:35 WARN MemoryManager: Total allocation exceeds 95.00% (928,409,179 bytes) of heap memory\n",
      "Scaling row group sizes to 86.46% for 8 writers\n",
      "24/08/26 04:17:35 WARN MemoryManager: Total allocation exceeds 95.00% (928,409,179 bytes) of heap memory\n",
      "Scaling row group sizes to 98.82% for 7 writers\n",
      "24/08/26 04:17:35 WARN MemoryManager: Total allocation exceeds 95.00% (928,409,179 bytes) of heap memory\n",
      "Scaling row group sizes to 86.46% for 8 writers\n",
      "24/08/26 04:17:36 WARN MemoryManager: Total allocation exceeds 95.00% (928,409,179 bytes) of heap memory\n",
      "Scaling row group sizes to 98.82% for 7 writers\n",
      "24/08/26 04:17:36 WARN MemoryManager: Total allocation exceeds 95.00% (928,409,179 bytes) of heap memory\n",
      "Scaling row group sizes to 86.46% for 8 writers\n",
      "24/08/26 04:17:37 WARN MemoryManager: Total allocation exceeds 95.00% (928,409,179 bytes) of heap memory\n",
      "Scaling row group sizes to 98.82% for 7 writers\n",
      "24/08/26 04:17:37 WARN MemoryManager: Total allocation exceeds 95.00% (928,409,179 bytes) of heap memory\n",
      "Scaling row group sizes to 86.46% for 8 writers\n",
      "24/08/26 04:17:40 WARN MemoryManager: Total allocation exceeds 95.00% (928,409,179 bytes) of heap memory\n",
      "Scaling row group sizes to 98.82% for 7 writers\n",
      "24/08/26 04:17:40 WARN MemoryManager: Total allocation exceeds 95.00% (928,409,179 bytes) of heap memory\n",
      "Scaling row group sizes to 86.46% for 8 writers\n",
      "24/08/26 04:17:44 WARN MemoryManager: Total allocation exceeds 95.00% (928,409,179 bytes) of heap memory\n",
      "Scaling row group sizes to 98.82% for 7 writers\n",
      "24/08/26 04:17:44 WARN MemoryManager: Total allocation exceeds 95.00% (928,409,179 bytes) of heap memory\n",
      "Scaling row group sizes to 86.46% for 8 writers\n",
      "24/08/26 04:17:44 WARN MemoryManager: Total allocation exceeds 95.00% (928,409,179 bytes) of heap memory\n",
      "Scaling row group sizes to 98.82% for 7 writers\n",
      "24/08/26 04:17:44 WARN MemoryManager: Total allocation exceeds 95.00% (928,409,179 bytes) of heap memory\n",
      "Scaling row group sizes to 86.46% for 8 writers\n",
      "24/08/26 04:17:44 WARN MemoryManager: Total allocation exceeds 95.00% (928,409,179 bytes) of heap memory\n",
      "Scaling row group sizes to 98.82% for 7 writers\n",
      "24/08/26 04:17:45 WARN MemoryManager: Total allocation exceeds 95.00% (928,409,179 bytes) of heap memory\n",
      "Scaling row group sizes to 86.46% for 8 writers\n",
      "24/08/26 04:17:45 WARN MemoryManager: Total allocation exceeds 95.00% (928,409,179 bytes) of heap memory\n",
      "Scaling row group sizes to 98.82% for 7 writers\n",
      "24/08/26 04:17:45 WARN MemoryManager: Total allocation exceeds 95.00% (928,409,179 bytes) of heap memory\n",
      "Scaling row group sizes to 86.46% for 8 writers\n",
      "24/08/26 04:17:45 WARN MemoryManager: Total allocation exceeds 95.00% (928,409,179 bytes) of heap memory\n",
      "Scaling row group sizes to 98.82% for 7 writers\n",
      "24/08/26 04:17:45 WARN MemoryManager: Total allocation exceeds 95.00% (928,409,179 bytes) of heap memory\n",
      "Scaling row group sizes to 86.46% for 8 writers\n",
      "24/08/26 04:17:47 WARN MemoryManager: Total allocation exceeds 95.00% (928,409,179 bytes) of heap memory\n",
      "Scaling row group sizes to 98.82% for 7 writers\n",
      "24/08/26 04:17:47 WARN MemoryManager: Total allocation exceeds 95.00% (928,409,179 bytes) of heap memory\n",
      "Scaling row group sizes to 86.46% for 8 writers\n",
      "24/08/26 04:17:47 WARN MemoryManager: Total allocation exceeds 95.00% (928,409,179 bytes) of heap memory\n",
      "Scaling row group sizes to 98.82% for 7 writers\n",
      "24/08/26 04:17:48 WARN MemoryManager: Total allocation exceeds 95.00% (928,409,179 bytes) of heap memory\n",
      "Scaling row group sizes to 86.46% for 8 writers\n",
      "24/08/26 04:17:51 WARN MemoryManager: Total allocation exceeds 95.00% (928,409,179 bytes) of heap memory\n",
      "Scaling row group sizes to 98.82% for 7 writers\n",
      "24/08/26 04:17:51 WARN MemoryManager: Total allocation exceeds 95.00% (928,409,179 bytes) of heap memory\n",
      "Scaling row group sizes to 86.46% for 8 writers\n",
      "24/08/26 04:17:52 WARN MemoryManager: Total allocation exceeds 95.00% (928,409,179 bytes) of heap memory\n",
      "Scaling row group sizes to 98.82% for 7 writers\n",
      "24/08/26 04:17:52 WARN MemoryManager: Total allocation exceeds 95.00% (928,409,179 bytes) of heap memory\n",
      "Scaling row group sizes to 86.46% for 8 writers\n",
      "24/08/26 04:17:54 WARN MemoryManager: Total allocation exceeds 95.00% (928,409,179 bytes) of heap memory\n",
      "Scaling row group sizes to 98.82% for 7 writers\n",
      "24/08/26 04:17:54 WARN MemoryManager: Total allocation exceeds 95.00% (928,409,179 bytes) of heap memory\n",
      "Scaling row group sizes to 86.46% for 8 writers\n",
      "24/08/26 04:18:24 WARN MemoryManager: Total allocation exceeds 95.00% (928,409,179 bytes) of heap memory\n",
      "Scaling row group sizes to 98.82% for 7 writers\n",
      "24/08/26 04:18:24 WARN MemoryManager: Total allocation exceeds 95.00% (928,409,179 bytes) of heap memory\n",
      "Scaling row group sizes to 86.46% for 8 writers\n",
      "24/08/26 04:19:26 WARN MemoryManager: Total allocation exceeds 95.00% (928,409,179 bytes) of heap memory\n",
      "Scaling row group sizes to 98.82% for 7 writers\n",
      "24/08/26 04:19:26 WARN MemoryManager: Total allocation exceeds 95.00% (928,409,179 bytes) of heap memory\n",
      "Scaling row group sizes to 86.46% for 8 writers\n",
      "24/08/26 04:19:44 WARN MemoryManager: Total allocation exceeds 95.00% (928,409,179 bytes) of heap memory\n",
      "Scaling row group sizes to 98.82% for 7 writers\n",
      "24/08/26 04:19:44 ERROR FileFormatWriter: Aborting job 52169a06-6ca2-46fc-a42e-68a0e271b13c.\n",
      "java.io.FileNotFoundException: File file:/Users/hanshitang/Documents/ADS/Proj1/project-1-individual-HanshiTang/data/raw/tlc_data/_temporary/0/.DS_Store does not exist\n",
      "\tat org.apache.hadoop.fs.RawLocalFileSystem.deprecatedGetFileStatus(RawLocalFileSystem.java:779)\n",
      "\tat org.apache.hadoop.fs.RawLocalFileSystem.getFileLinkStatusInternal(RawLocalFileSystem.java:1100)\n",
      "\tat org.apache.hadoop.fs.RawLocalFileSystem.getFileStatus(RawLocalFileSystem.java:769)\n",
      "\tat org.apache.hadoop.fs.FileUtil.copy(FileUtil.java:390)\n",
      "\tat org.apache.hadoop.fs.FileUtil.copy(FileUtil.java:341)\n",
      "\tat org.apache.hadoop.fs.RawLocalFileSystem.rename(RawLocalFileSystem.java:505)\n",
      "\tat org.apache.hadoop.fs.ChecksumFileSystem.rename(ChecksumFileSystem.java:700)\n",
      "\tat org.apache.hadoop.hive.ql.io.ProxyLocalFileSystem.rename(ProxyLocalFileSystem.java:34)\n",
      "\tat org.apache.hadoop.mapreduce.lib.output.FileOutputCommitter.mergePaths(FileOutputCommitter.java:476)\n",
      "\tat org.apache.hadoop.mapreduce.lib.output.FileOutputCommitter.commitJobInternal(FileOutputCommitter.java:405)\n",
      "\tat org.apache.hadoop.mapreduce.lib.output.FileOutputCommitter.commitJob(FileOutputCommitter.java:377)\n",
      "\tat org.apache.parquet.hadoop.ParquetOutputCommitter.commitJob(ParquetOutputCommitter.java:48)\n",
      "\tat org.apache.spark.internal.io.HadoopMapReduceCommitProtocol.commitJob(HadoopMapReduceCommitProtocol.scala:192)\n",
      "\tat org.apache.spark.sql.execution.datasources.FileFormatWriter$.$anonfun$writeAndCommit$3(FileFormatWriter.scala:275)\n",
      "\tat scala.runtime.java8.JFunction0$mcV$sp.apply(JFunction0$mcV$sp.java:23)\n",
      "\tat org.apache.spark.util.Utils$.timeTakenMs(Utils.scala:552)\n",
      "\tat org.apache.spark.sql.execution.datasources.FileFormatWriter$.writeAndCommit(FileFormatWriter.scala:275)\n",
      "\tat org.apache.spark.sql.execution.datasources.FileFormatWriter$.executeWrite(FileFormatWriter.scala:304)\n",
      "\tat org.apache.spark.sql.execution.datasources.FileFormatWriter$.write(FileFormatWriter.scala:190)\n",
      "\tat org.apache.spark.sql.execution.datasources.InsertIntoHadoopFsRelationCommand.run(InsertIntoHadoopFsRelationCommand.scala:190)\n",
      "\tat org.apache.spark.sql.execution.command.DataWritingCommandExec.sideEffectResult$lzycompute(commands.scala:113)\n",
      "\tat org.apache.spark.sql.execution.command.DataWritingCommandExec.sideEffectResult(commands.scala:111)\n",
      "\tat org.apache.spark.sql.execution.command.DataWritingCommandExec.executeCollect(commands.scala:125)\n",
      "\tat org.apache.spark.sql.execution.QueryExecution$$anonfun$eagerlyExecuteCommands$1.$anonfun$applyOrElse$1(QueryExecution.scala:107)\n",
      "\tat org.apache.spark.sql.execution.SQLExecution$.$anonfun$withNewExecutionId$6(SQLExecution.scala:125)\n",
      "\tat org.apache.spark.sql.execution.SQLExecution$.withSQLConfPropagated(SQLExecution.scala:201)\n",
      "\tat org.apache.spark.sql.execution.SQLExecution$.$anonfun$withNewExecutionId$1(SQLExecution.scala:108)\n",
      "\tat org.apache.spark.sql.SparkSession.withActive(SparkSession.scala:900)\n",
      "\tat org.apache.spark.sql.execution.SQLExecution$.withNewExecutionId(SQLExecution.scala:66)\n",
      "\tat org.apache.spark.sql.execution.QueryExecution$$anonfun$eagerlyExecuteCommands$1.applyOrElse(QueryExecution.scala:107)\n",
      "\tat org.apache.spark.sql.execution.QueryExecution$$anonfun$eagerlyExecuteCommands$1.applyOrElse(QueryExecution.scala:98)\n",
      "\tat org.apache.spark.sql.catalyst.trees.TreeNode.$anonfun$transformDownWithPruning$1(TreeNode.scala:461)\n",
      "\tat org.apache.spark.sql.catalyst.trees.CurrentOrigin$.withOrigin(origin.scala:76)\n",
      "\tat org.apache.spark.sql.catalyst.trees.TreeNode.transformDownWithPruning(TreeNode.scala:461)\n",
      "\tat org.apache.spark.sql.catalyst.plans.logical.LogicalPlan.org$apache$spark$sql$catalyst$plans$logical$AnalysisHelper$$super$transformDownWithPruning(LogicalPlan.scala:32)\n",
      "\tat org.apache.spark.sql.catalyst.plans.logical.AnalysisHelper.transformDownWithPruning(AnalysisHelper.scala:267)\n",
      "\tat org.apache.spark.sql.catalyst.plans.logical.AnalysisHelper.transformDownWithPruning$(AnalysisHelper.scala:263)\n",
      "\tat org.apache.spark.sql.catalyst.plans.logical.LogicalPlan.transformDownWithPruning(LogicalPlan.scala:32)\n",
      "\tat org.apache.spark.sql.catalyst.plans.logical.LogicalPlan.transformDownWithPruning(LogicalPlan.scala:32)\n",
      "\tat org.apache.spark.sql.catalyst.trees.TreeNode.transformDown(TreeNode.scala:437)\n",
      "\tat org.apache.spark.sql.execution.QueryExecution.eagerlyExecuteCommands(QueryExecution.scala:98)\n",
      "\tat org.apache.spark.sql.execution.QueryExecution.commandExecuted$lzycompute(QueryExecution.scala:85)\n",
      "\tat org.apache.spark.sql.execution.QueryExecution.commandExecuted(QueryExecution.scala:83)\n",
      "\tat org.apache.spark.sql.execution.QueryExecution.assertCommandExecuted(QueryExecution.scala:142)\n",
      "\tat org.apache.spark.sql.DataFrameWriter.runCommand(DataFrameWriter.scala:859)\n",
      "\tat org.apache.spark.sql.DataFrameWriter.saveToV1Source(DataFrameWriter.scala:388)\n",
      "\tat org.apache.spark.sql.DataFrameWriter.saveInternal(DataFrameWriter.scala:361)\n",
      "\tat org.apache.spark.sql.DataFrameWriter.save(DataFrameWriter.scala:240)\n",
      "\tat org.apache.spark.sql.DataFrameWriter.parquet(DataFrameWriter.scala:792)\n",
      "\tat sun.reflect.NativeMethodAccessorImpl.invoke0(Native Method)\n",
      "\tat sun.reflect.NativeMethodAccessorImpl.invoke(NativeMethodAccessorImpl.java:62)\n",
      "\tat sun.reflect.DelegatingMethodAccessorImpl.invoke(DelegatingMethodAccessorImpl.java:43)\n",
      "\tat java.lang.reflect.Method.invoke(Method.java:498)\n",
      "\tat py4j.reflection.MethodInvoker.invoke(MethodInvoker.java:244)\n",
      "\tat py4j.reflection.ReflectionEngine.invoke(ReflectionEngine.java:374)\n",
      "\tat py4j.Gateway.invoke(Gateway.java:282)\n",
      "\tat py4j.commands.AbstractCommand.invokeMethod(AbstractCommand.java:132)\n",
      "\tat py4j.commands.CallCommand.execute(CallCommand.java:79)\n",
      "\tat py4j.ClientServerConnection.waitForCommands(ClientServerConnection.java:182)\n",
      "\tat py4j.ClientServerConnection.run(ClientServerConnection.java:106)\n",
      "\tat java.lang.Thread.run(Thread.java:750)\n",
      "24/08/26 04:19:44 WARN MemoryManager: Total allocation exceeds 95.00% (928,409,179 bytes) of heap memory\n",
      "Scaling row group sizes to 86.46% for 8 writers\n",
      "24/08/26 04:19:56 WARN MemoryManager: Total allocation exceeds 95.00% (928,409,179 bytes) of heap memory\n",
      "Scaling row group sizes to 98.82% for 7 writers\n",
      "24/08/26 04:19:56 WARN BasicWriteTaskStatsTracker: Expected 1 files, but only saw 0. This could be due to the output format not writing empty files, or files being not immediately visible in the filesystem.\n",
      "24/08/26 04:19:56 WARN MemoryManager: Total allocation exceeds 95.00% (928,409,179 bytes) of heap memory\n",
      "Scaling row group sizes to 86.46% for 8 writers\n",
      "24/08/26 04:19:56 WARN MemoryManager: Total allocation exceeds 95.00% (928,409,179 bytes) of heap memory\n",
      "Scaling row group sizes to 98.82% for 7 writers\n",
      "24/08/26 04:19:56 WARN BasicWriteTaskStatsTracker: Expected 1 files, but only saw 0. This could be due to the output format not writing empty files, or files being not immediately visible in the filesystem.\n",
      "24/08/26 04:19:56 WARN MemoryManager: Total allocation exceeds 95.00% (928,409,179 bytes) of heap memory\n",
      "Scaling row group sizes to 86.46% for 8 writers\n",
      "24/08/26 04:19:59 WARN MemoryManager: Total allocation exceeds 95.00% (928,409,179 bytes) of heap memory\n",
      "Scaling row group sizes to 98.82% for 7 writers\n",
      "24/08/26 04:19:59 WARN BasicWriteTaskStatsTracker: Expected 1 files, but only saw 0. This could be due to the output format not writing empty files, or files being not immediately visible in the filesystem.\n",
      "24/08/26 04:19:59 WARN MemoryManager: Total allocation exceeds 95.00% (928,409,179 bytes) of heap memory\n",
      "Scaling row group sizes to 86.46% for 8 writers\n",
      "24/08/26 04:20:04 WARN MemoryManager: Total allocation exceeds 95.00% (928,409,179 bytes) of heap memory\n",
      "Scaling row group sizes to 98.82% for 7 writers\n",
      "24/08/26 04:20:04 WARN BasicWriteTaskStatsTracker: Expected 1 files, but only saw 0. This could be due to the output format not writing empty files, or files being not immediately visible in the filesystem.\n",
      "24/08/26 04:20:04 WARN MemoryManager: Total allocation exceeds 95.00% (928,409,179 bytes) of heap memory\n",
      "Scaling row group sizes to 86.46% for 8 writers\n",
      "24/08/26 04:20:05 WARN MemoryManager: Total allocation exceeds 95.00% (928,409,179 bytes) of heap memory\n",
      "Scaling row group sizes to 98.82% for 7 writers\n",
      "24/08/26 04:20:06 WARN MemoryManager: Total allocation exceeds 95.00% (928,409,179 bytes) of heap memory\n",
      "Scaling row group sizes to 86.46% for 8 writers\n",
      "24/08/26 04:20:07 WARN MemoryManager: Total allocation exceeds 95.00% (928,409,179 bytes) of heap memory\n",
      "Scaling row group sizes to 98.82% for 7 writers\n",
      "24/08/26 04:20:07 WARN BasicWriteTaskStatsTracker: Expected 1 files, but only saw 0. This could be due to the output format not writing empty files, or files being not immediately visible in the filesystem.\n",
      "24/08/26 04:20:07 WARN MemoryManager: Total allocation exceeds 95.00% (928,409,179 bytes) of heap memory\n",
      "Scaling row group sizes to 86.46% for 8 writers\n",
      "24/08/26 04:20:34 WARN MemoryManager: Total allocation exceeds 95.00% (928,409,179 bytes) of heap memory\n",
      "Scaling row group sizes to 98.82% for 7 writers\n",
      "24/08/26 04:20:34 WARN BasicWriteTaskStatsTracker: Expected 1 files, but only saw 0. This could be due to the output format not writing empty files, or files being not immediately visible in the filesystem.\n",
      "24/08/26 04:20:34 WARN MemoryManager: Total allocation exceeds 95.00% (928,409,179 bytes) of heap memory\n",
      "Scaling row group sizes to 86.46% for 8 writers\n",
      "24/08/26 04:21:16 WARN MemoryManager: Total allocation exceeds 95.00% (928,409,179 bytes) of heap memory\n",
      "Scaling row group sizes to 98.82% for 7 writers\n",
      "24/08/26 04:21:16 WARN MemoryManager: Total allocation exceeds 95.00% (928,409,179 bytes) of heap memory\n",
      "Scaling row group sizes to 86.46% for 8 writers\n",
      "24/08/26 04:21:40 WARN MemoryManager: Total allocation exceeds 95.00% (928,409,179 bytes) of heap memory\n",
      "Scaling row group sizes to 98.82% for 7 writers\n",
      "24/08/26 04:21:40 WARN BasicWriteTaskStatsTracker: Expected 1 files, but only saw 0. This could be due to the output format not writing empty files, or files being not immediately visible in the filesystem.\n",
      "24/08/26 04:21:40 WARN MemoryManager: Total allocation exceeds 95.00% (928,409,179 bytes) of heap memory\n",
      "Scaling row group sizes to 86.46% for 8 writers\n",
      "24/08/26 04:22:07 WARN MemoryManager: Total allocation exceeds 95.00% (928,409,179 bytes) of heap memory\n",
      "Scaling row group sizes to 98.82% for 7 writers\n",
      "24/08/26 04:22:08 WARN MemoryManager: Total allocation exceeds 95.00% (928,409,179 bytes) of heap memory\n",
      "Scaling row group sizes to 86.46% for 8 writers\n",
      "24/08/26 04:22:09 WARN MemoryManager: Total allocation exceeds 95.00% (928,409,179 bytes) of heap memory\n",
      "Scaling row group sizes to 98.82% for 7 writers\n",
      "24/08/26 04:22:09 WARN MemoryManager: Total allocation exceeds 95.00% (928,409,179 bytes) of heap memory\n",
      "Scaling row group sizes to 86.46% for 8 writers\n",
      "24/08/26 04:22:10 WARN MemoryManager: Total allocation exceeds 95.00% (928,409,179 bytes) of heap memory\n",
      "Scaling row group sizes to 98.82% for 7 writers\n",
      "24/08/26 04:22:10 WARN MemoryManager: Total allocation exceeds 95.00% (928,409,179 bytes) of heap memory\n",
      "Scaling row group sizes to 86.46% for 8 writers\n",
      "24/08/26 04:22:17 WARN MemoryManager: Total allocation exceeds 95.00% (928,409,179 bytes) of heap memory\n",
      "Scaling row group sizes to 98.82% for 7 writers\n",
      "24/08/26 04:22:17 WARN MemoryManager: Total allocation exceeds 95.00% (928,409,179 bytes) of heap memory\n",
      "Scaling row group sizes to 86.46% for 8 writers\n",
      "24/08/26 04:22:18 WARN MemoryManager: Total allocation exceeds 95.00% (928,409,179 bytes) of heap memory\n",
      "Scaling row group sizes to 98.82% for 7 writers\n",
      "24/08/26 04:22:18 WARN MemoryManager: Total allocation exceeds 95.00% (928,409,179 bytes) of heap memory\n",
      "Scaling row group sizes to 86.46% for 8 writers\n",
      "24/08/26 04:22:18 WARN MemoryManager: Total allocation exceeds 95.00% (928,409,179 bytes) of heap memory\n",
      "Scaling row group sizes to 98.82% for 7 writers\n",
      "24/08/26 04:22:18 WARN MemoryManager: Total allocation exceeds 95.00% (928,409,179 bytes) of heap memory\n",
      "Scaling row group sizes to 86.46% for 8 writers\n",
      "24/08/26 04:22:20 WARN MemoryManager: Total allocation exceeds 95.00% (928,409,179 bytes) of heap memory\n",
      "Scaling row group sizes to 98.82% for 7 writers\n",
      "24/08/26 04:22:20 WARN MemoryManager: Total allocation exceeds 95.00% (928,409,179 bytes) of heap memory\n",
      "Scaling row group sizes to 86.46% for 8 writers\n",
      "24/08/26 04:22:24 WARN MemoryManager: Total allocation exceeds 95.00% (928,409,179 bytes) of heap memory\n",
      "Scaling row group sizes to 98.82% for 7 writers\n",
      "24/08/26 04:22:24 WARN MemoryManager: Total allocation exceeds 95.00% (928,409,179 bytes) of heap memory\n",
      "Scaling row group sizes to 98.82% for 7 writers\n",
      "                                                                                \r"
     ]
    }
   ],
   "source": [
    "# export the cleaned data to raw folder\n",
    "combined.write.mode('overwrite').parquet(\"../data/raw/tlc_data\")"
   ]
  },
  {
   "cell_type": "markdown",
   "metadata": {},
   "source": [
    " ## Datatype Conversion"
   ]
  },
  {
   "cell_type": "markdown",
   "metadata": {},
   "source": [
    "## Handling duplicates"
   ]
  },
  {
   "cell_type": "markdown",
   "metadata": {},
   "source": [
    "## Standardization "
   ]
  }
 ],
 "metadata": {
  "kernelspec": {
   "display_name": "Python 3 (ipykernel)",
   "language": "python",
   "name": "python3"
  },
  "language_info": {
   "codemirror_mode": {
    "name": "ipython",
    "version": 3
   },
   "file_extension": ".py",
   "mimetype": "text/x-python",
   "name": "python",
   "nbconvert_exporter": "python",
   "pygments_lexer": "ipython3",
   "version": "3.12.1"
  }
 },
 "nbformat": 4,
 "nbformat_minor": 4
}
