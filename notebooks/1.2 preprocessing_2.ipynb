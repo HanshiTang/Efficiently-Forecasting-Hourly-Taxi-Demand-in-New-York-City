{
 "cells": [
  {
   "cell_type": "markdown",
   "metadata": {},
   "source": [
    "# Preprocess Weather Data \n",
    "This notebook performs preprocessing for NYC weather dataset captured at Central Park"
   ]
  },
  {
   "cell_type": "code",
   "execution_count": 1,
   "metadata": {},
   "outputs": [],
   "source": [
    "import matplotlib.pyplot as plt\n",
    "import pandas as pd\n",
    "import numpy as np\n",
    "import seaborn as sbs\n",
    "import geopandas as gpd\n",
    "import folium"
   ]
  },
  {
   "cell_type": "code",
   "execution_count": 2,
   "metadata": {},
   "outputs": [
    {
     "name": "stderr",
     "output_type": "stream",
     "text": [
      "/var/folders/gf/ml3nsztn0cb376sq34z0ll1r0000gn/T/ipykernel_38619/3092046501.py:2: DtypeWarning: Columns (36,42,43,48,52,88) have mixed types. Specify dtype option on import or set low_memory=False.\n",
      "  wdata = pd.read_csv('../data/landing/external/NYC_weather_2023.csv')\n"
     ]
    }
   ],
   "source": [
    "# Read NYC weather data \n",
    "wdata = pd.read_csv('../data/landing/external/NYC_weather_2023.csv')"
   ]
  },
  {
   "cell_type": "code",
   "execution_count": 3,
   "metadata": {},
   "outputs": [
    {
     "data": {
      "text/html": [
       "<div>\n",
       "<style scoped>\n",
       "    .dataframe tbody tr th:only-of-type {\n",
       "        vertical-align: middle;\n",
       "    }\n",
       "\n",
       "    .dataframe tbody tr th {\n",
       "        vertical-align: top;\n",
       "    }\n",
       "\n",
       "    .dataframe thead th {\n",
       "        text-align: right;\n",
       "    }\n",
       "</style>\n",
       "<table border=\"1\" class=\"dataframe\">\n",
       "  <thead>\n",
       "    <tr style=\"text-align: right;\">\n",
       "      <th></th>\n",
       "      <th>STATION</th>\n",
       "      <th>DATE</th>\n",
       "      <th>SOURCE</th>\n",
       "      <th>LATITUDE</th>\n",
       "      <th>LONGITUDE</th>\n",
       "      <th>ELEVATION</th>\n",
       "      <th>NAME</th>\n",
       "      <th>REPORT_TYPE</th>\n",
       "      <th>CALL_SIGN</th>\n",
       "      <th>QUALITY_CONTROL</th>\n",
       "      <th>...</th>\n",
       "      <th>OD1</th>\n",
       "      <th>OE1</th>\n",
       "      <th>OE2</th>\n",
       "      <th>OE3</th>\n",
       "      <th>RH1</th>\n",
       "      <th>RH2</th>\n",
       "      <th>RH3</th>\n",
       "      <th>WA1</th>\n",
       "      <th>REM</th>\n",
       "      <th>EQD</th>\n",
       "    </tr>\n",
       "  </thead>\n",
       "  <tbody>\n",
       "    <tr>\n",
       "      <th>0</th>\n",
       "      <td>72505394728</td>\n",
       "      <td>2023-01-01T00:06:00</td>\n",
       "      <td>7</td>\n",
       "      <td>40.77898</td>\n",
       "      <td>-73.96925</td>\n",
       "      <td>42.7</td>\n",
       "      <td>NY CITY CENTRAL PARK, NY US</td>\n",
       "      <td>FM-16</td>\n",
       "      <td>KNYC</td>\n",
       "      <td>V030</td>\n",
       "      <td>...</td>\n",
       "      <td>NaN</td>\n",
       "      <td>NaN</td>\n",
       "      <td>NaN</td>\n",
       "      <td>NaN</td>\n",
       "      <td>NaN</td>\n",
       "      <td>NaN</td>\n",
       "      <td>NaN</td>\n",
       "      <td>NaN</td>\n",
       "      <td>MET11812/31/22 19:06:03 SPECI KNYC 010006Z 000...</td>\n",
       "      <td>NaN</td>\n",
       "    </tr>\n",
       "    <tr>\n",
       "      <th>1</th>\n",
       "      <td>72505394728</td>\n",
       "      <td>2023-01-01T00:18:00</td>\n",
       "      <td>7</td>\n",
       "      <td>40.77898</td>\n",
       "      <td>-73.96925</td>\n",
       "      <td>42.7</td>\n",
       "      <td>NY CITY CENTRAL PARK, NY US</td>\n",
       "      <td>FM-16</td>\n",
       "      <td>KNYC</td>\n",
       "      <td>V030</td>\n",
       "      <td>...</td>\n",
       "      <td>NaN</td>\n",
       "      <td>NaN</td>\n",
       "      <td>NaN</td>\n",
       "      <td>NaN</td>\n",
       "      <td>NaN</td>\n",
       "      <td>NaN</td>\n",
       "      <td>NaN</td>\n",
       "      <td>NaN</td>\n",
       "      <td>MET10612/31/22 19:18:03 SPECI KNYC 010018Z 030...</td>\n",
       "      <td>NaN</td>\n",
       "    </tr>\n",
       "    <tr>\n",
       "      <th>2</th>\n",
       "      <td>72505394728</td>\n",
       "      <td>2023-01-01T00:31:00</td>\n",
       "      <td>7</td>\n",
       "      <td>40.77898</td>\n",
       "      <td>-73.96925</td>\n",
       "      <td>42.7</td>\n",
       "      <td>NY CITY CENTRAL PARK, NY US</td>\n",
       "      <td>FM-16</td>\n",
       "      <td>KNYC</td>\n",
       "      <td>V030</td>\n",
       "      <td>...</td>\n",
       "      <td>NaN</td>\n",
       "      <td>NaN</td>\n",
       "      <td>NaN</td>\n",
       "      <td>NaN</td>\n",
       "      <td>NaN</td>\n",
       "      <td>NaN</td>\n",
       "      <td>NaN</td>\n",
       "      <td>NaN</td>\n",
       "      <td>MET11112/31/22 19:31:03 SPECI KNYC 010031Z 000...</td>\n",
       "      <td>NaN</td>\n",
       "    </tr>\n",
       "    <tr>\n",
       "      <th>3</th>\n",
       "      <td>72505394728</td>\n",
       "      <td>2023-01-01T00:44:00</td>\n",
       "      <td>7</td>\n",
       "      <td>40.77898</td>\n",
       "      <td>-73.96925</td>\n",
       "      <td>42.7</td>\n",
       "      <td>NY CITY CENTRAL PARK, NY US</td>\n",
       "      <td>FM-16</td>\n",
       "      <td>KNYC</td>\n",
       "      <td>V030</td>\n",
       "      <td>...</td>\n",
       "      <td>NaN</td>\n",
       "      <td>NaN</td>\n",
       "      <td>NaN</td>\n",
       "      <td>NaN</td>\n",
       "      <td>NaN</td>\n",
       "      <td>NaN</td>\n",
       "      <td>NaN</td>\n",
       "      <td>NaN</td>\n",
       "      <td>MET10212/31/22 19:44:03 SPECI KNYC 010044Z 000...</td>\n",
       "      <td>NaN</td>\n",
       "    </tr>\n",
       "    <tr>\n",
       "      <th>4</th>\n",
       "      <td>72505394728</td>\n",
       "      <td>2023-01-01T00:49:00</td>\n",
       "      <td>6</td>\n",
       "      <td>40.77898</td>\n",
       "      <td>-73.96925</td>\n",
       "      <td>42.7</td>\n",
       "      <td>NY CITY CENTRAL PARK, NY US</td>\n",
       "      <td>FM-16</td>\n",
       "      <td>KNYC</td>\n",
       "      <td>V030</td>\n",
       "      <td>...</td>\n",
       "      <td>NaN</td>\n",
       "      <td>NaN</td>\n",
       "      <td>NaN</td>\n",
       "      <td>NaN</td>\n",
       "      <td>NaN</td>\n",
       "      <td>NaN</td>\n",
       "      <td>NaN</td>\n",
       "      <td>NaN</td>\n",
       "      <td>MET09712/31/22 19:49:03 SPECI KNYC 010049Z 000...</td>\n",
       "      <td>NaN</td>\n",
       "    </tr>\n",
       "  </tbody>\n",
       "</table>\n",
       "<p>5 rows × 91 columns</p>\n",
       "</div>"
      ],
      "text/plain": [
       "       STATION                 DATE  SOURCE  LATITUDE  LONGITUDE  ELEVATION  \\\n",
       "0  72505394728  2023-01-01T00:06:00       7  40.77898  -73.96925       42.7   \n",
       "1  72505394728  2023-01-01T00:18:00       7  40.77898  -73.96925       42.7   \n",
       "2  72505394728  2023-01-01T00:31:00       7  40.77898  -73.96925       42.7   \n",
       "3  72505394728  2023-01-01T00:44:00       7  40.77898  -73.96925       42.7   \n",
       "4  72505394728  2023-01-01T00:49:00       6  40.77898  -73.96925       42.7   \n",
       "\n",
       "                          NAME REPORT_TYPE CALL_SIGN QUALITY_CONTROL  ...  \\\n",
       "0  NY CITY CENTRAL PARK, NY US       FM-16     KNYC             V030  ...   \n",
       "1  NY CITY CENTRAL PARK, NY US       FM-16     KNYC             V030  ...   \n",
       "2  NY CITY CENTRAL PARK, NY US       FM-16     KNYC             V030  ...   \n",
       "3  NY CITY CENTRAL PARK, NY US       FM-16     KNYC             V030  ...   \n",
       "4  NY CITY CENTRAL PARK, NY US       FM-16     KNYC             V030  ...   \n",
       "\n",
       "   OD1  OE1  OE2  OE3  RH1  RH2  RH3  WA1  \\\n",
       "0  NaN  NaN  NaN  NaN  NaN  NaN  NaN  NaN   \n",
       "1  NaN  NaN  NaN  NaN  NaN  NaN  NaN  NaN   \n",
       "2  NaN  NaN  NaN  NaN  NaN  NaN  NaN  NaN   \n",
       "3  NaN  NaN  NaN  NaN  NaN  NaN  NaN  NaN   \n",
       "4  NaN  NaN  NaN  NaN  NaN  NaN  NaN  NaN   \n",
       "\n",
       "                                                 REM  EQD  \n",
       "0  MET11812/31/22 19:06:03 SPECI KNYC 010006Z 000...  NaN  \n",
       "1  MET10612/31/22 19:18:03 SPECI KNYC 010018Z 030...  NaN  \n",
       "2  MET11112/31/22 19:31:03 SPECI KNYC 010031Z 000...  NaN  \n",
       "3  MET10212/31/22 19:44:03 SPECI KNYC 010044Z 000...  NaN  \n",
       "4  MET09712/31/22 19:49:03 SPECI KNYC 010049Z 000...  NaN  \n",
       "\n",
       "[5 rows x 91 columns]"
      ]
     },
     "execution_count": 3,
     "metadata": {},
     "output_type": "execute_result"
    }
   ],
   "source": [
    "wdata.head(5)"
   ]
  },
  {
   "cell_type": "code",
   "execution_count": 4,
   "metadata": {},
   "outputs": [],
   "source": [
    "# count the number of total entries\n",
    "total = wdata.shape[0]"
   ]
  },
  {
   "cell_type": "markdown",
   "metadata": {},
   "source": [
    "## Data Cleaning"
   ]
  },
  {
   "cell_type": "code",
   "execution_count": 5,
   "metadata": {},
   "outputs": [],
   "source": [
    "# Convert the 'Date' column to datetime format\n",
    "wdata['DATE'] = pd.to_datetime(wdata['DATE'])\n",
    "# Filter the data between 2023-07-01 and 2023-12-31\n",
    "wdata = wdata[(wdata['DATE'] >= '2023-07-01') & (wdata['DATE'] <= '2023-12-31')]"
   ]
  },
  {
   "cell_type": "code",
   "execution_count": 6,
   "metadata": {},
   "outputs": [
    {
     "name": "stdout",
     "output_type": "stream",
     "text": [
      "Index(['STATION', 'DATE', 'SOURCE', 'LATITUDE', 'LONGITUDE', 'ELEVATION',\n",
      "       'NAME', 'REPORT_TYPE', 'CALL_SIGN', 'QUALITY_CONTROL', 'WND', 'CIG',\n",
      "       'VIS', 'TMP', 'DEW', 'SLP', 'AA1', 'AA2', 'AA3', 'AB1', 'AD1', 'AE1',\n",
      "       'AH1', 'AH2', 'AH3', 'AH4', 'AH5', 'AH6', 'AI1', 'AI2', 'AI3', 'AI4',\n",
      "       'AI5', 'AI6', 'AJ1', 'AK1', 'AL1', 'AM1', 'AN1', 'AT1', 'AT2', 'AT3',\n",
      "       'AT4', 'AT5', 'AU1', 'AU2', 'AW1', 'AW2', 'AW3', 'AX1', 'AX2', 'AX3',\n",
      "       'AX4', 'GA1', 'GA2', 'GA3', 'GD1', 'GD2', 'GD3', 'GE1', 'GF1', 'KA1',\n",
      "       'KA2', 'KB1', 'KB2', 'KB3', 'KC1', 'KC2', 'KD1', 'KD2', 'KE1', 'KG1',\n",
      "       'KG2', 'MA1', 'MD1', 'MF1', 'MG1', 'MH1', 'MK1', 'MW1', 'OC1', 'OD1',\n",
      "       'OE1', 'OE2', 'OE3', 'RH1', 'RH2', 'RH3', 'WA1', 'REM', 'EQD'],\n",
      "      dtype='object')\n"
     ]
    }
   ],
   "source": [
    "# Check columns\n",
    "print(wdata.columns) "
   ]
  },
  {
   "cell_type": "code",
   "execution_count": 7,
   "metadata": {},
   "outputs": [
    {
     "data": {
      "text/html": [
       "<div>\n",
       "<style scoped>\n",
       "    .dataframe tbody tr th:only-of-type {\n",
       "        vertical-align: middle;\n",
       "    }\n",
       "\n",
       "    .dataframe tbody tr th {\n",
       "        vertical-align: top;\n",
       "    }\n",
       "\n",
       "    .dataframe thead th {\n",
       "        text-align: right;\n",
       "    }\n",
       "</style>\n",
       "<table border=\"1\" class=\"dataframe\">\n",
       "  <thead>\n",
       "    <tr style=\"text-align: right;\">\n",
       "      <th></th>\n",
       "      <th>DATE</th>\n",
       "      <th>CIG</th>\n",
       "      <th>WND</th>\n",
       "      <th>VIS</th>\n",
       "      <th>TMP</th>\n",
       "      <th>DEW</th>\n",
       "      <th>SLP</th>\n",
       "    </tr>\n",
       "  </thead>\n",
       "  <tbody>\n",
       "    <tr>\n",
       "      <th>5700</th>\n",
       "      <td>2023-07-01 00:51:00</td>\n",
       "      <td>22000,5,9,N</td>\n",
       "      <td>999,9,N,9999,9</td>\n",
       "      <td>009656,5,N,5</td>\n",
       "      <td>+0239,5</td>\n",
       "      <td>+0133,5</td>\n",
       "      <td>10171,5</td>\n",
       "    </tr>\n",
       "    <tr>\n",
       "      <th>5701</th>\n",
       "      <td>2023-07-01 01:51:00</td>\n",
       "      <td>22000,5,9,N</td>\n",
       "      <td>999,9,C,0000,5</td>\n",
       "      <td>009656,5,N,5</td>\n",
       "      <td>+0233,5</td>\n",
       "      <td>+0133,5</td>\n",
       "      <td>10176,5</td>\n",
       "    </tr>\n",
       "    <tr>\n",
       "      <th>5702</th>\n",
       "      <td>2023-07-01 02:51:00</td>\n",
       "      <td>22000,5,9,N</td>\n",
       "      <td>999,9,C,0000,5</td>\n",
       "      <td>009656,5,N,5</td>\n",
       "      <td>+0233,5</td>\n",
       "      <td>+0128,5</td>\n",
       "      <td>10178,5</td>\n",
       "    </tr>\n",
       "    <tr>\n",
       "      <th>5703</th>\n",
       "      <td>2023-07-01 03:51:00</td>\n",
       "      <td>22000,5,9,N</td>\n",
       "      <td>230,5,N,0031,5</td>\n",
       "      <td>009656,5,N,5</td>\n",
       "      <td>+0228,5</td>\n",
       "      <td>+0128,5</td>\n",
       "      <td>10177,5</td>\n",
       "    </tr>\n",
       "    <tr>\n",
       "      <th>5704</th>\n",
       "      <td>2023-07-01 04:51:00</td>\n",
       "      <td>22000,5,9,N</td>\n",
       "      <td>210,5,N,0015,5</td>\n",
       "      <td>009656,5,N,5</td>\n",
       "      <td>+0228,5</td>\n",
       "      <td>+0117,5</td>\n",
       "      <td>10174,5</td>\n",
       "    </tr>\n",
       "  </tbody>\n",
       "</table>\n",
       "</div>"
      ],
      "text/plain": [
       "                    DATE          CIG             WND           VIS      TMP  \\\n",
       "5700 2023-07-01 00:51:00  22000,5,9,N  999,9,N,9999,9  009656,5,N,5  +0239,5   \n",
       "5701 2023-07-01 01:51:00  22000,5,9,N  999,9,C,0000,5  009656,5,N,5  +0233,5   \n",
       "5702 2023-07-01 02:51:00  22000,5,9,N  999,9,C,0000,5  009656,5,N,5  +0233,5   \n",
       "5703 2023-07-01 03:51:00  22000,5,9,N  230,5,N,0031,5  009656,5,N,5  +0228,5   \n",
       "5704 2023-07-01 04:51:00  22000,5,9,N  210,5,N,0015,5  009656,5,N,5  +0228,5   \n",
       "\n",
       "          DEW      SLP  \n",
       "5700  +0133,5  10171,5  \n",
       "5701  +0133,5  10176,5  \n",
       "5702  +0128,5  10178,5  \n",
       "5703  +0128,5  10177,5  \n",
       "5704  +0117,5  10174,5  "
      ]
     },
     "execution_count": 7,
     "metadata": {},
     "output_type": "execute_result"
    }
   ],
   "source": [
    "# Preserve only the columns we need \n",
    "wdata = wdata[['DATE', 'CIG', 'WND', 'VIS', 'TMP', 'DEW', 'SLP']]\n",
    "wdata.head(5)"
   ]
  },
  {
   "cell_type": "code",
   "execution_count": 8,
   "metadata": {},
   "outputs": [
    {
     "name": "stdout",
     "output_type": "stream",
     "text": [
      "DATE    datetime64[ns]\n",
      "CIG             object\n",
      "WND             object\n",
      "VIS             object\n",
      "TMP             object\n",
      "DEW             object\n",
      "SLP             object\n",
      "dtype: object\n"
     ]
    }
   ],
   "source": [
    "# check data types\n",
    "print(wdata.dtypes)"
   ]
  },
  {
   "cell_type": "markdown",
   "metadata": {},
   "source": [
    "### Missing Data and duplicates"
   ]
  },
  {
   "cell_type": "code",
   "execution_count": 11,
   "metadata": {},
   "outputs": [
    {
     "name": "stdout",
     "output_type": "stream",
     "text": [
      "6110\n"
     ]
    }
   ],
   "source": [
    "# check number of entries now \n",
    "print(wdata.shape[0])\n",
    "# record this as total\n",
    "total = wdata.shape[0]"
   ]
  },
  {
   "cell_type": "code",
   "execution_count": 14,
   "metadata": {},
   "outputs": [
    {
     "name": "stdout",
     "output_type": "stream",
     "text": [
      "DATE    0\n",
      "CIG     0\n",
      "WND     0\n",
      "VIS     0\n",
      "TMP     0\n",
      "DEW     0\n",
      "SLP     0\n",
      "dtype: int64\n"
     ]
    }
   ],
   "source": [
    "# check for missing values\n",
    "print(wdata.isnull().sum())"
   ]
  },
  {
   "cell_type": "code",
   "execution_count": 13,
   "metadata": {},
   "outputs": [
    {
     "name": "stdout",
     "output_type": "stream",
     "text": [
      "100.0% of the data remains\n"
     ]
    }
   ],
   "source": [
    "# Check percetage of data left\n",
    "remaining = wdata.shape[0]\n",
    "percentage = (remaining/total)*100\n",
    "print(f'{percentage}% of the data remains')"
   ]
  },
  {
   "cell_type": "code",
   "execution_count": 11,
   "metadata": {},
   "outputs": [],
   "source": [
    "import pandas as pd\n",
    "\n",
    "# Function to convert string values to float, ignoring quality codes\n",
    "def convert_to_float(value):\n",
    "    try:\n",
    "        # Split the string by commas and take the relevant part\n",
    "        main_value = value.split(',')[0]\n",
    "        \n",
    "        # Check if the main value is not empty\n",
    "        if main_value:\n",
    "            # Handle positive/negative signs and leading zeros\n",
    "            if main_value.startswith('+') or main_value.startswith('-'):\n",
    "                return float(main_value) / 10\n",
    "            else:\n",
    "                return float(main_value.lstrip('0')) / 10\n",
    "        else:\n",
    "            return None  # Handle empty strings or invalid values\n",
    "    except ValueError:\n",
    "        return None  # Handle cases where conversion to float fails\n",
    "\n",
    "# Function to extract the ceiling height from the CIG column\n",
    "def extract_ceiling_height(cig_value):\n",
    "    parts = cig_value.split(',')\n",
    "    if len(parts) > 0 and parts[0]:\n",
    "        return float(parts[0].lstrip('0'))  # Convert the first part to float (ceiling height)\n",
    "    else:\n",
    "        return None  # or return a default value like 0.0 if you prefer\n",
    "\n",
    "# Safe function to extract wind speed and handle any possible format issues\n",
    "def extract_wind_speed(wnd_value):\n",
    "    parts = wnd_value.split(',')\n",
    "    if len(parts) > 3 and parts[3]:\n",
    "        return convert_to_float(parts[3])  # Wind speed is the 4th part\n",
    "    else:\n",
    "        return None  # or return a default value like 0.0 if you prefer\n",
    "\n",
    "# Apply conversion to the relevant columns in your wdata DataFrame\n",
    "wdata['CIG'] = wdata['CIG'].apply(extract_ceiling_height)  \n",
    "wdata['WND'] = wdata['WND'].apply(extract_wind_speed)\n",
    "wdata['VIS'] = wdata['VIS'].apply(convert_to_float)\n",
    "wdata['TMP'] = wdata['TMP'].apply(convert_to_float)\n",
    "wdata['DEW'] = wdata['DEW'].apply(convert_to_float)\n",
    "wdata['SLP'] = wdata['SLP'].apply(convert_to_float)\n"
   ]
  },
  {
   "cell_type": "code",
   "execution_count": 12,
   "metadata": {},
   "outputs": [
    {
     "name": "stdout",
     "output_type": "stream",
     "text": [
      "DATE     0.000000\n",
      "CIG      3.191489\n",
      "WND      7.135843\n",
      "VIS      3.126023\n",
      "TMP      2.995090\n",
      "DEW      2.995090\n",
      "SLP     28.363339\n",
      "dtype: float64\n"
     ]
    }
   ],
   "source": [
    "# List of weather columns\n",
    "weather_columns = ['CIG', 'VIS', 'TMP', 'DEW', 'SLP']\n",
    "\n",
    "# Define the missing value conditions\n",
    "missing_values = [99999.0, 99999.9, 99999.9, 9999.9, 9999.9, 999.9] \n",
    "\n",
    "# Calculate the percentage of missing values for each column\n",
    "missing_percentage = wdata.apply(lambda col: (col.isin(missing_values).sum() / len(col)) * 100)\n",
    "\n",
    "# Show the result\n",
    "print(missing_percentage)"
   ]
  },
  {
   "cell_type": "markdown",
   "metadata": {},
   "source": [
    "## Imputation"
   ]
  },
  {
   "cell_type": "code",
   "execution_count": 13,
   "metadata": {},
   "outputs": [],
   "source": [
    "# Replace specific values with NaN\n",
    "replace_vals = [99999.0, 99999.9, 99999.9, 9999.9, 9999.9, 999.9] \n",
    "wdata.replace(replace_vals, np.nan, inplace=True)\n",
    "\n",
    "# Impute missing values with the mean of each column\n",
    "wdata['CIG'] = wdata['CIG'].fillna(wdata['CIG'].mean())\n",
    "wdata['VIS'] = wdata['VIS'].fillna(wdata['VIS'].mean())\n",
    "wdata['TMP'] = wdata['TMP'].fillna(wdata['TMP'].mean())\n",
    "wdata['DEW'] = wdata['DEW'].fillna(wdata['DEW'].mean())\n",
    "wdata['SLP'] = wdata['SLP'].fillna(wdata['SLP'].mean())\n",
    "wdata['WND'] = wdata['WND'].fillna(wdata['WND'].mean())\n"
   ]
  },
  {
   "cell_type": "code",
   "execution_count": 14,
   "metadata": {},
   "outputs": [
    {
     "name": "stdout",
     "output_type": "stream",
     "text": [
      "DATE    0.0\n",
      "CIG     0.0\n",
      "WND     0.0\n",
      "VIS     0.0\n",
      "TMP     0.0\n",
      "DEW     0.0\n",
      "SLP     0.0\n",
      "dtype: float64\n"
     ]
    }
   ],
   "source": [
    "# check for 99999.0, 99999.9, 99999.9, 9999.9, 9999.9, 999.9\n",
    "missing_percentage = wdata.apply(lambda col: (col.isin(missing_values).sum() / len(col)) * 100)\n",
    "print(missing_percentage) "
   ]
  },
  {
   "cell_type": "markdown",
   "metadata": {},
   "source": [
    "## Feature Engineering"
   ]
  },
  {
   "cell_type": "markdown",
   "metadata": {},
   "source": [
    "### Temporal Features"
   ]
  },
  {
   "cell_type": "code",
   "execution_count": 15,
   "metadata": {},
   "outputs": [],
   "source": [
    "# Extract hour and date from the 'DATE' column\n",
    "wdata['HOUR'] = wdata['DATE'].dt.hour\n",
    "wdata['DATE'] = wdata['DATE'].dt.date"
   ]
  },
  {
   "cell_type": "code",
   "execution_count": 16,
   "metadata": {},
   "outputs": [
    {
     "data": {
      "text/html": [
       "<div>\n",
       "<style scoped>\n",
       "    .dataframe tbody tr th:only-of-type {\n",
       "        vertical-align: middle;\n",
       "    }\n",
       "\n",
       "    .dataframe tbody tr th {\n",
       "        vertical-align: top;\n",
       "    }\n",
       "\n",
       "    .dataframe thead th {\n",
       "        text-align: right;\n",
       "    }\n",
       "</style>\n",
       "<table border=\"1\" class=\"dataframe\">\n",
       "  <thead>\n",
       "    <tr style=\"text-align: right;\">\n",
       "      <th></th>\n",
       "      <th>DATE</th>\n",
       "      <th>HOUR</th>\n",
       "      <th>CIG</th>\n",
       "      <th>WND</th>\n",
       "      <th>VIS</th>\n",
       "      <th>TMP</th>\n",
       "      <th>DEW</th>\n",
       "      <th>SLP</th>\n",
       "    </tr>\n",
       "  </thead>\n",
       "  <tbody>\n",
       "    <tr>\n",
       "      <th>5700</th>\n",
       "      <td>2023-07-01</td>\n",
       "      <td>0</td>\n",
       "      <td>22000.0</td>\n",
       "      <td>2.631967</td>\n",
       "      <td>965.6</td>\n",
       "      <td>23.9</td>\n",
       "      <td>13.3</td>\n",
       "      <td>1017.1</td>\n",
       "    </tr>\n",
       "    <tr>\n",
       "      <th>5701</th>\n",
       "      <td>2023-07-01</td>\n",
       "      <td>1</td>\n",
       "      <td>22000.0</td>\n",
       "      <td>2.631967</td>\n",
       "      <td>965.6</td>\n",
       "      <td>23.3</td>\n",
       "      <td>13.3</td>\n",
       "      <td>1017.6</td>\n",
       "    </tr>\n",
       "    <tr>\n",
       "      <th>5702</th>\n",
       "      <td>2023-07-01</td>\n",
       "      <td>2</td>\n",
       "      <td>22000.0</td>\n",
       "      <td>2.631967</td>\n",
       "      <td>965.6</td>\n",
       "      <td>23.3</td>\n",
       "      <td>12.8</td>\n",
       "      <td>1017.8</td>\n",
       "    </tr>\n",
       "    <tr>\n",
       "      <th>5703</th>\n",
       "      <td>2023-07-01</td>\n",
       "      <td>3</td>\n",
       "      <td>22000.0</td>\n",
       "      <td>3.100000</td>\n",
       "      <td>965.6</td>\n",
       "      <td>22.8</td>\n",
       "      <td>12.8</td>\n",
       "      <td>1017.7</td>\n",
       "    </tr>\n",
       "    <tr>\n",
       "      <th>5704</th>\n",
       "      <td>2023-07-01</td>\n",
       "      <td>4</td>\n",
       "      <td>22000.0</td>\n",
       "      <td>1.500000</td>\n",
       "      <td>965.6</td>\n",
       "      <td>22.8</td>\n",
       "      <td>11.7</td>\n",
       "      <td>1017.4</td>\n",
       "    </tr>\n",
       "  </tbody>\n",
       "</table>\n",
       "</div>"
      ],
      "text/plain": [
       "            DATE  HOUR      CIG       WND    VIS   TMP   DEW     SLP\n",
       "5700  2023-07-01     0  22000.0  2.631967  965.6  23.9  13.3  1017.1\n",
       "5701  2023-07-01     1  22000.0  2.631967  965.6  23.3  13.3  1017.6\n",
       "5702  2023-07-01     2  22000.0  2.631967  965.6  23.3  12.8  1017.8\n",
       "5703  2023-07-01     3  22000.0  3.100000  965.6  22.8  12.8  1017.7\n",
       "5704  2023-07-01     4  22000.0  1.500000  965.6  22.8  11.7  1017.4"
      ]
     },
     "execution_count": 16,
     "metadata": {},
     "output_type": "execute_result"
    }
   ],
   "source": [
    "# rearrange columns\n",
    "wdata = wdata[['DATE', 'HOUR', 'CIG', 'WND', 'VIS', 'TMP', 'DEW', 'SLP']]\n",
    "wdata.head(5)"
   ]
  },
  {
   "cell_type": "code",
   "execution_count": 17,
   "metadata": {},
   "outputs": [
    {
     "data": {
      "text/html": [
       "<div>\n",
       "<style scoped>\n",
       "    .dataframe tbody tr th:only-of-type {\n",
       "        vertical-align: middle;\n",
       "    }\n",
       "\n",
       "    .dataframe tbody tr th {\n",
       "        vertical-align: top;\n",
       "    }\n",
       "\n",
       "    .dataframe thead th {\n",
       "        text-align: right;\n",
       "    }\n",
       "</style>\n",
       "<table border=\"1\" class=\"dataframe\">\n",
       "  <thead>\n",
       "    <tr style=\"text-align: right;\">\n",
       "      <th></th>\n",
       "      <th>HOUR</th>\n",
       "      <th>CIG</th>\n",
       "      <th>WND</th>\n",
       "      <th>VIS</th>\n",
       "      <th>TMP</th>\n",
       "      <th>DEW</th>\n",
       "      <th>SLP</th>\n",
       "    </tr>\n",
       "  </thead>\n",
       "  <tbody>\n",
       "    <tr>\n",
       "      <th>count</th>\n",
       "      <td>6110.000000</td>\n",
       "      <td>6110.000000</td>\n",
       "      <td>6110.000000</td>\n",
       "      <td>6110.000000</td>\n",
       "      <td>6110.000000</td>\n",
       "      <td>6110.000000</td>\n",
       "      <td>6110.000000</td>\n",
       "    </tr>\n",
       "    <tr>\n",
       "      <th>mean</th>\n",
       "      <td>11.297381</td>\n",
       "      <td>11279.596788</td>\n",
       "      <td>2.631967</td>\n",
       "      <td>1265.523822</td>\n",
       "      <td>17.229661</td>\n",
       "      <td>11.535499</td>\n",
       "      <td>1016.097624</td>\n",
       "    </tr>\n",
       "    <tr>\n",
       "      <th>std</th>\n",
       "      <td>6.812248</td>\n",
       "      <td>10371.788003</td>\n",
       "      <td>0.949606</td>\n",
       "      <td>502.053348</td>\n",
       "      <td>7.522985</td>\n",
       "      <td>8.571824</td>\n",
       "      <td>6.599489</td>\n",
       "    </tr>\n",
       "    <tr>\n",
       "      <th>min</th>\n",
       "      <td>0.000000</td>\n",
       "      <td>61.000000</td>\n",
       "      <td>1.500000</td>\n",
       "      <td>40.200000</td>\n",
       "      <td>-3.900000</td>\n",
       "      <td>-15.600000</td>\n",
       "      <td>983.600000</td>\n",
       "    </tr>\n",
       "    <tr>\n",
       "      <th>25%</th>\n",
       "      <td>5.000000</td>\n",
       "      <td>579.000000</td>\n",
       "      <td>2.100000</td>\n",
       "      <td>965.600000</td>\n",
       "      <td>11.100000</td>\n",
       "      <td>6.700000</td>\n",
       "      <td>1012.800000</td>\n",
       "    </tr>\n",
       "    <tr>\n",
       "      <th>50%</th>\n",
       "      <td>11.000000</td>\n",
       "      <td>11279.596788</td>\n",
       "      <td>2.631967</td>\n",
       "      <td>1609.300000</td>\n",
       "      <td>17.800000</td>\n",
       "      <td>12.800000</td>\n",
       "      <td>1016.097624</td>\n",
       "    </tr>\n",
       "    <tr>\n",
       "      <th>75%</th>\n",
       "      <td>17.000000</td>\n",
       "      <td>22000.000000</td>\n",
       "      <td>2.631967</td>\n",
       "      <td>1609.300000</td>\n",
       "      <td>23.300000</td>\n",
       "      <td>18.900000</td>\n",
       "      <td>1018.500000</td>\n",
       "    </tr>\n",
       "    <tr>\n",
       "      <th>max</th>\n",
       "      <td>23.000000</td>\n",
       "      <td>22000.000000</td>\n",
       "      <td>12.400000</td>\n",
       "      <td>1609.300000</td>\n",
       "      <td>33.900000</td>\n",
       "      <td>24.400000</td>\n",
       "      <td>1039.100000</td>\n",
       "    </tr>\n",
       "  </tbody>\n",
       "</table>\n",
       "</div>"
      ],
      "text/plain": [
       "              HOUR           CIG          WND          VIS          TMP  \\\n",
       "count  6110.000000   6110.000000  6110.000000  6110.000000  6110.000000   \n",
       "mean     11.297381  11279.596788     2.631967  1265.523822    17.229661   \n",
       "std       6.812248  10371.788003     0.949606   502.053348     7.522985   \n",
       "min       0.000000     61.000000     1.500000    40.200000    -3.900000   \n",
       "25%       5.000000    579.000000     2.100000   965.600000    11.100000   \n",
       "50%      11.000000  11279.596788     2.631967  1609.300000    17.800000   \n",
       "75%      17.000000  22000.000000     2.631967  1609.300000    23.300000   \n",
       "max      23.000000  22000.000000    12.400000  1609.300000    33.900000   \n",
       "\n",
       "               DEW          SLP  \n",
       "count  6110.000000  6110.000000  \n",
       "mean     11.535499  1016.097624  \n",
       "std       8.571824     6.599489  \n",
       "min     -15.600000   983.600000  \n",
       "25%       6.700000  1012.800000  \n",
       "50%      12.800000  1016.097624  \n",
       "75%      18.900000  1018.500000  \n",
       "max      24.400000  1039.100000  "
      ]
     },
     "execution_count": 17,
     "metadata": {},
     "output_type": "execute_result"
    }
   ],
   "source": [
    "# check outliers\n",
    "wdata.describe()"
   ]
  },
  {
   "cell_type": "markdown",
   "metadata": {},
   "source": [
    "## Export to raw data"
   ]
  },
  {
   "cell_type": "code",
   "execution_count": 24,
   "metadata": {},
   "outputs": [],
   "source": [
    "# Export the cleaned data\n",
    "wdata.to_csv('../data/raw/NYC_weather_raw.csv', index=False)"
   ]
  }
 ],
 "metadata": {
  "kernelspec": {
   "display_name": "Python 3",
   "language": "python",
   "name": "python3"
  },
  "language_info": {
   "codemirror_mode": {
    "name": "ipython",
    "version": 3
   },
   "file_extension": ".py",
   "mimetype": "text/x-python",
   "name": "python",
   "nbconvert_exporter": "python",
   "pygments_lexer": "ipython3",
   "version": "3.12.1"
  }
 },
 "nbformat": 4,
 "nbformat_minor": 2
}
