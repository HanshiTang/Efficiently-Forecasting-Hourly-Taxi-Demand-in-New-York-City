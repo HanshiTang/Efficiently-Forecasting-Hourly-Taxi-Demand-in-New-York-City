{
 "cells": [
  {
   "cell_type": "markdown",
   "metadata": {},
   "source": [
    "# Exploratary data analysis "
   ]
  },
  {
   "cell_type": "code",
   "execution_count": 23,
   "metadata": {},
   "outputs": [],
   "source": [
    "from pyspark.sql import functions as F\n",
    "from pyspark.sql import SparkSession\n",
    "from pyspark.sql.functions import *\n",
    "import matplotlib.pyplot as plt\n",
    "import pandas as pd\n",
    "import numpy as np\n",
    "import seaborn as sbs\n",
    "import geopandas as gpd\n",
    "import folium \n",
    "from folium.plugins import HeatMap\n",
    "\n"
   ]
  },
  {
   "cell_type": "code",
   "execution_count": 3,
   "metadata": {},
   "outputs": [
    {
     "name": "stderr",
     "output_type": "stream",
     "text": [
      "24/08/28 14:59:40 WARN Utils: Your hostname, Hanshis-Laptop.local resolves to a loopback address: 127.0.0.1; using 100.94.176.147 instead (on interface en0)\n",
      "24/08/28 14:59:40 WARN Utils: Set SPARK_LOCAL_IP if you need to bind to another address\n",
      "Setting default log level to \"WARN\".\n",
      "To adjust logging level use sc.setLogLevel(newLevel). For SparkR, use setLogLevel(newLevel).\n",
      "24/08/28 14:59:41 WARN NativeCodeLoader: Unable to load native-hadoop library for your platform... using builtin-java classes where applicable\n",
      "24/08/28 14:59:41 WARN Utils: Service 'SparkUI' could not bind on port 4040. Attempting port 4041.\n",
      "24/08/28 14:59:41 WARN Utils: Service 'SparkUI' could not bind on port 4041. Attempting port 4042.\n",
      "24/08/28 14:59:41 WARN Utils: Service 'SparkUI' could not bind on port 4042. Attempting port 4043.\n"
     ]
    }
   ],
   "source": [
    "from pyspark.sql import SparkSession\n",
    "\n",
    "# Create a spark session with increased memory allocation\n",
    "spark = (\n",
    "    SparkSession.builder.appName(\"ADS Project1\")\n",
    "    .config(\"spark.sql.repl.eagerEval.enabled\", True) \n",
    "    .config(\"spark.sql.parquet.cacheMetadata\", \"true\")\n",
    "    .config(\"spark.sql.session.timeZone\", \"Etc/UTC\")\n",
    "    .config(\"spark.driver.memory\", \"8g\")  # Set the driver memory to 8GB\n",
    "    .config(\"spark.executor.memory\", \"8g\")  # Set the executor memory to 8GB\n",
    "    .getOrCreate()\n",
    ")"
   ]
  },
  {
   "cell_type": "code",
   "execution_count": 4,
   "metadata": {},
   "outputs": [],
   "source": [
    "spark.conf.set(\"spark.sql.parquet.compression.codec\",\"gzip\")"
   ]
  },
  {
   "cell_type": "code",
   "execution_count": 7,
   "metadata": {},
   "outputs": [
    {
     "name": "stderr",
     "output_type": "stream",
     "text": [
      "                                                                                \r"
     ]
    }
   ],
   "source": [
    "# Load the data\n",
    "df = spark.read.parquet(\"../data/curated/tlc_data/first_cleaned.parquet/\")"
   ]
  },
  {
   "cell_type": "markdown",
   "metadata": {},
   "source": [
    "## Summary Statistics "
   ]
  },
  {
   "cell_type": "code",
   "execution_count": 8,
   "metadata": {},
   "outputs": [
    {
     "name": "stderr",
     "output_type": "stream",
     "text": [
      "24/08/28 15:00:02 WARN SparkStringUtils: Truncated the string representation of a plan since it was too large. This behavior can be adjusted by setting 'spark.sql.debug.maxToStringFields'.\n",
      "[Stage 1:====================================================>      (8 + 1) / 9]\r"
     ]
    },
    {
     "name": "stdout",
     "output_type": "stream",
     "text": [
      "Remaining rows after dropping missing values: 21959390 out of 22294112\n",
      "Percentage of rows remaining: 98.50%\n"
     ]
    },
    {
     "name": "stderr",
     "output_type": "stream",
     "text": [
      "                                                                                \r"
     ]
    }
   ],
   "source": [
    "# Drop rows with any missing values\n",
    "clean_df = df.dropna()\n",
    "\n",
    "# Check the number of remaining rows\n",
    "remaining_rows = clean_df.count()\n",
    "total_rows = df.count()\n",
    "\n",
    "print(f\"Remaining rows after dropping missing values: {remaining_rows} out of {total_rows}\")\n",
    "# print percentage of rows remaining\n",
    "print(f\"Percentage of rows remaining: {remaining_rows/total_rows*100:.2f}%\")\n"
   ]
  },
  {
   "cell_type": "code",
   "execution_count": 9,
   "metadata": {},
   "outputs": [
    {
     "name": "stdout",
     "output_type": "stream",
     "text": [
      "root\n",
      " |-- DOLocationID: integer (nullable = true)\n",
      " |-- PULocationID: integer (nullable = true)\n",
      " |-- pickup_date: date (nullable = true)\n",
      " |-- pickup_hour: integer (nullable = true)\n",
      " |-- dropoff_date: date (nullable = true)\n",
      " |-- dropoff_hour: integer (nullable = true)\n",
      " |-- VendorID: integer (nullable = true)\n",
      " |-- passenger_count: long (nullable = true)\n",
      " |-- trip_distance: double (nullable = true)\n",
      " |-- trip_duration: double (nullable = true)\n",
      " |-- RatecodeID: long (nullable = true)\n",
      " |-- store_and_fwd_flag: boolean (nullable = true)\n",
      " |-- PUBorough: string (nullable = true)\n",
      " |-- DOBorough: string (nullable = true)\n",
      " |-- payment_type: long (nullable = true)\n",
      " |-- fare_amount: double (nullable = true)\n",
      " |-- extra: double (nullable = true)\n",
      " |-- mta_tax: double (nullable = true)\n",
      " |-- tip_amount: double (nullable = true)\n",
      " |-- tolls_amount: double (nullable = true)\n",
      " |-- improvement_surcharge: double (nullable = true)\n",
      " |-- total_amount: double (nullable = true)\n",
      " |-- congestion_surcharge: double (nullable = true)\n",
      " |-- ehail_fee: double (nullable = true)\n",
      " |-- hourly_trip_count: long (nullable = true)\n",
      " |-- daily_trip_count: long (nullable = true)\n",
      " |-- CIG: double (nullable = true)\n",
      " |-- WND: double (nullable = true)\n",
      " |-- VIS: double (nullable = true)\n",
      " |-- TMP: double (nullable = true)\n",
      " |-- DEW: double (nullable = true)\n",
      " |-- SLP: double (nullable = true)\n",
      " |-- Number of Events: long (nullable = true)\n",
      "\n"
     ]
    }
   ],
   "source": [
    "# print the schema\n",
    "clean_df.printSchema()"
   ]
  },
  {
   "cell_type": "code",
   "execution_count": 30,
   "metadata": {},
   "outputs": [
    {
     "name": "stderr",
     "output_type": "stream",
     "text": [
      "[Stage 56:>                                                         (0 + 1) / 1]\r"
     ]
    },
    {
     "name": "stdout",
     "output_type": "stream",
     "text": [
      "+-------+------------------+------------------+------------------+------------------+-------------------+------------------+-----------------+------------------+------------------+-------------+-------------+-------------------+------------------+------------------+-------------------+-----------------+------------------+---------------------+------------------+--------------------+---------+-----------------+------------------+------------------+------------------+------------------+------------------+------------------+------------------+-----------------+\n",
      "|summary|      DOLocationID|      PULocationID|       pickup_hour|      dropoff_hour|           VendorID|   passenger_count|    trip_distance|     trip_duration|        RatecodeID|    PUBorough|    DOBorough|       payment_type|       fare_amount|             extra|            mta_tax|       tip_amount|      tolls_amount|improvement_surcharge|      total_amount|congestion_surcharge|ehail_fee|hourly_trip_count|  daily_trip_count|               CIG|               WND|               VIS|               TMP|               DEW|               SLP| Number of Events|\n",
      "+-------+------------------+------------------+------------------+------------------+-------------------+------------------+-----------------+------------------+------------------+-------------+-------------+-------------------+------------------+------------------+-------------------+-----------------+------------------+---------------------+------------------+--------------------+---------+-----------------+------------------+------------------+------------------+------------------+------------------+------------------+------------------+-----------------+\n",
      "|  count|          21959390|          21959390|          21959390|          21959390|           21959390|          21959390|         21959390|          21959390|          21959390|     21959390|     21959390|           21959390|          21959390|          21959390|           21959390|         21959390|          21959390|             21959390|          21959390|            21959390| 21959390|         21959390|          21959390|          21959390|          21959390|          21959390|          21959390|          21959390|          21959390|         21959390|\n",
      "|   mean|164.05979988515165|165.79646561220508|14.303698964315494|14.382316084372107|  1.773399352167797|1.3637651136939597| 3.36473631280149|16.406419895998933|1.0516514347620767|         NULL|         NULL| 1.1802521836899842|19.255887005058277|1.5779145431635415| 0.4973826977889641|3.692912617337628|0.5908316137170194|     0.99990068940895|28.566489811405525|    2.36114210139717|      0.0|  5118.5741827528| 94374.34673586107| 9874.957886216329|109.98273459605441|1623.1892101778967|12.731451620484474|11.970915225815274|3275.7357104199477|2.268360459921701|\n",
      "| stddev| 68.88358820115424| 62.90992324271366| 5.595791591404132|5.6997231993572335|0.41863206066305736|0.8429311386111916|4.277067031768089|12.617173227052241| 0.281152283896952|         NULL|         NULL|0.44889602898371134|16.306918783047543|1.8362747307960003|0.03718604013819404|3.906192160265185|2.1752056944106295| 0.008502618249416396|21.224516769951638|  0.5725929684412006|      0.0|1586.527851375122|13220.054645121774|11875.131876995543| 308.5107322800287| 5817.352872026445| 58.53447608381071| 98.82077788046726|3898.2901630926813|4.912465603862915|\n",
      "|    min|                 1|                 1|                 0|                 0|                  1|                 1|              0.5|               1.0|                 1|        Bronx|        Bronx|                  1|               3.0|               0.0|                0.0|              0.0|               0.0|                  0.0|               4.0|                 0.0|      0.0|              108|             38951|              61.0|               1.5|              40.2|              -8.3|             -19.4|             982.1|                0|\n",
      "|    25%|               114|               132|                11|                11|                  2|                 1|              1.1|               8.0|                 1|         NULL|         NULL|                  1|               9.3|               0.0|                0.5|              1.5|               0.0|                  1.0|              16.3|                 2.5|      0.0|             4416|             87202|             396.0|               2.1|             965.6|               5.0|              -3.9|            1012.2|                0|\n",
      "|    50%|               162|               162|                15|                15|                  2|                 1|             1.76|              13.0|                 1|         NULL|         NULL|                  1|              13.5|               1.0|                0.5|              3.0|               0.0|                  1.0|              21.0|                 2.5|      0.0|             5315|             95606|            1829.0|               3.1|            1609.3|               8.9|               3.3|            1019.1|                1|\n",
      "|    75%|               234|               234|                19|                19|                  2|                 1|             3.24|              20.0|                 1|         NULL|         NULL|                  1|              21.2|               2.5|                0.5|             4.54|               0.0|                  1.0|             30.24|                 2.5|      0.0|             6147|            103305|           22000.0|               4.6|            1609.3|              13.9|               7.8|            9999.9|                2|\n",
      "|    max|               263|               263|                23|                23|                  2|                 6|             49.4|             120.0|                 6|Staten Island|Staten Island|                  4|           2320.11|             51.68|              35.84|           999.99|           1702.88|                  1.0|           2372.79|                 2.5|      0.0|             9376|            123379|           99999.0|             999.9|           99999.9|             999.9|             999.9|            9999.9|               53|\n",
      "+-------+------------------+------------------+------------------+------------------+-------------------+------------------+-----------------+------------------+------------------+-------------+-------------+-------------------+------------------+------------------+-------------------+-----------------+------------------+---------------------+------------------+--------------------+---------+-----------------+------------------+------------------+------------------+------------------+------------------+------------------+------------------+-----------------+\n",
      "\n"
     ]
    },
    {
     "name": "stderr",
     "output_type": "stream",
     "text": [
      "                                                                                \r"
     ]
    }
   ],
   "source": [
    "# summary statistics\n",
    "clean_df.summary().show()"
   ]
  },
  {
   "cell_type": "code",
   "execution_count": 29,
   "metadata": {},
   "outputs": [
    {
     "name": "stderr",
     "output_type": "stream",
     "text": [
      "                                                                                \r"
     ]
    },
    {
     "data": {
      "image/png": "[encoded data removed]",
      "text/plain": [
       "<Figure size 1000x600 with 1 Axes>"
      ]
     },
     "metadata": {},
     "output_type": "display_data"
    }
   ],
   "source": [
    "# Generate percentiles\n",
    "percentiles = np.arange(0, 1.01, 0.01).tolist()  # Convert NumPy array to list\n",
    "\n",
    "# Calculate approximate quantiles for trip_distance\n",
    "percentile_trip_distance = clean_df.approxQuantile(\"trip_distance\", percentiles, 0.01)\n",
    "\n",
    "# Plotting the results\n",
    "plt.figure(figsize=(10, 6))\n",
    "plt.plot(percentiles, percentile_trip_distance, marker='o')\n",
    "plt.xlabel('Percentile')\n",
    "plt.ylabel('Trip Distance')\n",
    "plt.title('Percentile Distribution of Trip Distance')\n",
    "plt.grid(True)\n",
    "plt.show()\n"
   ]
  },
  {
   "cell_type": "code",
   "execution_count": 11,
   "metadata": {},
   "outputs": [
    {
     "name": "stderr",
     "output_type": "stream",
     "text": [
      "Java HotSpot(TM) 64-Bit Server VM warning: CodeCache is full. Compiler has been disabled.\n",
      "Java HotSpot(TM) 64-Bit Server VM warning: Try increasing the code cache size using -XX:ReservedCodeCacheSize=\n"
     ]
    },
    {
     "name": "stdout",
     "output_type": "stream",
     "text": [
      "CodeCache: size=131072Kb used=27089Kb max_used=27089Kb free=103982Kb\n",
      " bounds [0x000000010a9e8000, 0x000000010c488000, 0x00000001129e8000]\n",
      " total_blobs=10149 nmethods=9158 adapters=904\n",
      " compilation: disabled (not enough contiguous free space left)\n"
     ]
    },
    {
     "name": "stderr",
     "output_type": "stream",
     "text": [
      "                                                                                \r"
     ]
    },
    {
     "name": "stdout",
     "output_type": "stream",
     "text": [
      "+-----------+-------------+------------------+------------------+------------------+------------+\n",
      "|pickup_hour|    PUBorough|total_hourly_trips|   avg_temperature|    avg_visibility|total_events|\n",
      "+-----------+-------------+------------------+------------------+------------------+------------+\n",
      "|         17|       Queens|         785521638| 10.93664068833268|1330.5261158513363|       80038|\n",
      "|          8|        Bronx|            999449| 8.145149253731342| 1274.835074626866|        1184|\n",
      "|          4|       Queens|           4795238| 414.1079073005803| 41605.33510045694|          94|\n",
      "|          2|     Brooklyn|           3559773| 8.414424410540903|1453.8959084604678|         164|\n",
      "|          9|       Queens|         312004036| 7.568226049374633|1271.1091022199291|      271834|\n",
      "|         21|    Manhattan|        6310800097|10.048079213548753| 1308.768446728925|      184699|\n",
      "|         12|       Queens|         531505543| 8.363961545969284|1187.6475590475527|      132791|\n",
      "|         14|Staten Island|             15783| 8.333333333333334|            1609.3|           0|\n",
      "|          4|     Brooklyn|           1300152|445.17146596858623| 44808.21839005239|          38|\n",
      "|          6|       Queens|          45576684|  7.60228458111494|1272.3410219492982|        1754|\n",
      "|         19|          EWR|             18405|             7.225|            1609.3|           0|\n",
      "|          7|    Manhattan|        1677709264| 7.767569998402731| 1233.950694142048|      616536|\n",
      "|         17|     Brooklyn|          21730024|10.960035419126319|1361.9466056670562|        1105|\n",
      "|         10|     Brooklyn|          10072066| 7.607961921246216|1300.5704456945004|        8524|\n",
      "|         18|     Brooklyn|          24126809| 12.02776859504132|1329.3792837465537|        8187|\n",
      "|          6|        Bronx|            160611|  9.05820895522388|1245.4126865671642|           0|\n",
      "|         17|    Manhattan|        8679574860|10.558887374492024| 1327.270470561035|     1656763|\n",
      "|         15|    Manhattan|        7497207548| 9.725378059923772|1275.5840523307152|     4315426|\n",
      "|         10|Staten Island|             28533| 7.533333333333334|1367.9333333333332|           1|\n",
      "|         16|       Queens|         880639419| 10.49059669685712|1261.5218227227278|      389130|\n",
      "+-----------+-------------+------------------+------------------+------------------+------------+\n",
      "only showing top 20 rows\n",
      "\n"
     ]
    }
   ],
   "source": [
    "# Group by pickup_hour and PUBorough to get the sum of trips, and average weather data\n",
    "hourly_demand = clean_df.groupBy('pickup_hour', 'PUBorough').agg(\n",
    "    F.sum('hourly_trip_count').alias('total_hourly_trips'),\n",
    "    F.mean('TMP').alias('avg_temperature'),\n",
    "    F.mean('VIS').alias('avg_visibility'),\n",
    "    F.sum('Number of Events').alias('total_events')\n",
    ")\n",
    "\n",
    "# Show the aggregated result\n",
    "hourly_demand.show()"
   ]
  },
  {
   "cell_type": "code",
   "execution_count": 12,
   "metadata": {},
   "outputs": [
    {
     "name": "stderr",
     "output_type": "stream",
     "text": [
      "[Stage 10:===================================================>      (8 + 1) / 9]\r"
     ]
    },
    {
     "name": "stdout",
     "output_type": "stream",
     "text": [
      "+-----------+-------------+-----------------+-------------------+------------------+------------+\n",
      "|pickup_date|    PUBorough|total_daily_trips|    avg_temperature|    avg_visibility|total_events|\n",
      "+-----------+-------------+-----------------+-------------------+------------------+------------+\n",
      "| 2024-03-01|        Bronx|          3199776|  34.11249999999999| 4684.006249999998|          56|\n",
      "| 2024-02-20|     Brooklyn|         16177744| 0.3828877005347596|1609.2999999999943|         399|\n",
      "| 2023-12-04|    Manhattan|       7744398945| 12.350321848693522|1826.1677649722944|      304222|\n",
      "| 2023-12-04|     Brooklyn|         20439627| 13.952488687782832| 1965.485972850669|         474|\n",
      "| 2024-01-03|          EWR|            74255|                1.7|            1609.3|           0|\n",
      "| 2023-12-25|    Manhattan|       2197615420|  10.43478376463068| 1135.818261255422|      100031|\n",
      "| 2024-03-07|     Brooklyn|         42887936|  12.85336538461535|1668.4495192307766|         647|\n",
      "| 2024-02-18|       Queens|        553814064|  4.414371845205374|1926.6000280428825|       14575|\n",
      "| 2024-01-03|     Brooklyn|         17078650| 7.3386956521739135|2037.0852173912938|         508|\n",
      "| 2024-04-17|     Brooklyn|         29449532| 23.868592057761855| 2663.284837545142|          14|\n",
      "| 2024-03-03|    Manhattan|       9420713265|  19.40233205165712|1865.2260586727152|      717438|\n",
      "| 2024-02-28|       Queens|       1541676396| 14.463461538458617|1043.6436270848208|       24078|\n",
      "| 2024-03-01|    Manhattan|       8966872275|  7.513312517423379|1986.7336927812137|      348289|\n",
      "| 2024-04-28|          EWR|           247644|               13.9|1502.0333333333335|           0|\n",
      "| 2024-02-03|    Manhattan|       8832603732|  11.68768031743445| 2408.478263258712|      417844|\n",
      "| 2024-03-26|Staten Island|            92946|                3.9|            1609.3|           0|\n",
      "| 2024-03-24|       Queens|        912164862| 10.408583728694563| 2119.319803198663|        1450|\n",
      "| 2023-12-16|       Queens|        752245857| 12.124534866131667|1773.0114808653495|       16901|\n",
      "| 2024-03-11|Staten Island|            84727|                3.9|            1609.3|           0|\n",
      "| 2024-01-16|    Manhattan|      22522552200|-1.3591926999502384| 557.9554961526438|      594101|\n",
      "+-----------+-------------+-----------------+-------------------+------------------+------------+\n",
      "only showing top 20 rows\n",
      "\n"
     ]
    },
    {
     "name": "stderr",
     "output_type": "stream",
     "text": [
      "                                                                                \r"
     ]
    }
   ],
   "source": [
    "# Group by pickup_date and PUBorough to get the sum of trips and average weather data\n",
    "daily_demand = clean_df.groupBy('pickup_date', 'PUBorough').agg(\n",
    "    F.sum('daily_trip_count').alias('total_daily_trips'),\n",
    "    F.mean('TMP').alias('avg_temperature'),\n",
    "    F.mean('VIS').alias('avg_visibility'),\n",
    "    F.sum('Number of Events').alias('total_events')\n",
    ")\n",
    "\n",
    "# Show the aggregated result\n",
    "daily_demand.show()"
   ]
  },
  {
   "cell_type": "code",
   "execution_count": 21,
   "metadata": {},
   "outputs": [
    {
     "data": {
      "text/html": [
       "<div>\n",
       "<style scoped>\n",
       "    .dataframe tbody tr th:only-of-type {\n",
       "        vertical-align: middle;\n",
       "    }\n",
       "\n",
       "    .dataframe tbody tr th {\n",
       "        vertical-align: top;\n",
       "    }\n",
       "\n",
       "    .dataframe thead th {\n",
       "        text-align: right;\n",
       "    }\n",
       "</style>\n",
       "<table border=\"1\" class=\"dataframe\">\n",
       "  <thead>\n",
       "    <tr style=\"text-align: right;\">\n",
       "      <th></th>\n",
       "      <th>borough</th>\n",
       "      <th>location_i</th>\n",
       "      <th>objectid</th>\n",
       "      <th>shape_area</th>\n",
       "      <th>shape_leng</th>\n",
       "      <th>zone</th>\n",
       "      <th>geometry</th>\n",
       "    </tr>\n",
       "  </thead>\n",
       "  <tbody>\n",
       "    <tr>\n",
       "      <th>0</th>\n",
       "      <td>EWR</td>\n",
       "      <td>1.0</td>\n",
       "      <td>1.0</td>\n",
       "      <td>0.000782</td>\n",
       "      <td>0.116357</td>\n",
       "      <td>Newark Airport</td>\n",
       "      <td>POLYGON ((-74.18445 40.695, -74.18449 40.69509...</td>\n",
       "    </tr>\n",
       "    <tr>\n",
       "      <th>1</th>\n",
       "      <td>Queens</td>\n",
       "      <td>2.0</td>\n",
       "      <td>2.0</td>\n",
       "      <td>0.004866</td>\n",
       "      <td>0.433470</td>\n",
       "      <td>Jamaica Bay</td>\n",
       "      <td>MULTIPOLYGON (((-73.82338 40.63899, -73.82277 ...</td>\n",
       "    </tr>\n",
       "    <tr>\n",
       "      <th>2</th>\n",
       "      <td>Bronx</td>\n",
       "      <td>3.0</td>\n",
       "      <td>3.0</td>\n",
       "      <td>0.000314</td>\n",
       "      <td>0.084341</td>\n",
       "      <td>Allerton/Pelham Gardens</td>\n",
       "      <td>POLYGON ((-73.84793 40.87134, -73.84725 40.870...</td>\n",
       "    </tr>\n",
       "    <tr>\n",
       "      <th>3</th>\n",
       "      <td>Manhattan</td>\n",
       "      <td>4.0</td>\n",
       "      <td>4.0</td>\n",
       "      <td>0.000112</td>\n",
       "      <td>0.043567</td>\n",
       "      <td>Alphabet City</td>\n",
       "      <td>POLYGON ((-73.97177 40.72582, -73.97179 40.725...</td>\n",
       "    </tr>\n",
       "    <tr>\n",
       "      <th>4</th>\n",
       "      <td>Staten Island</td>\n",
       "      <td>5.0</td>\n",
       "      <td>5.0</td>\n",
       "      <td>0.000498</td>\n",
       "      <td>0.092146</td>\n",
       "      <td>Arden Heights</td>\n",
       "      <td>POLYGON ((-74.17422 40.56257, -74.17349 40.562...</td>\n",
       "    </tr>\n",
       "  </tbody>\n",
       "</table>\n",
       "</div>"
      ],
      "text/plain": [
       "         borough  location_i  objectid  shape_area  shape_leng  \\\n",
       "0            EWR         1.0       1.0    0.000782    0.116357   \n",
       "1         Queens         2.0       2.0    0.004866    0.433470   \n",
       "2          Bronx         3.0       3.0    0.000314    0.084341   \n",
       "3      Manhattan         4.0       4.0    0.000112    0.043567   \n",
       "4  Staten Island         5.0       5.0    0.000498    0.092146   \n",
       "\n",
       "                      zone                                           geometry  \n",
       "0           Newark Airport  POLYGON ((-74.18445 40.695, -74.18449 40.69509...  \n",
       "1              Jamaica Bay  MULTIPOLYGON (((-73.82338 40.63899, -73.82277 ...  \n",
       "2  Allerton/Pelham Gardens  POLYGON ((-73.84793 40.87134, -73.84725 40.870...  \n",
       "3            Alphabet City  POLYGON ((-73.97177 40.72582, -73.97179 40.725...  \n",
       "4            Arden Heights  POLYGON ((-74.17422 40.56257, -74.17349 40.562...  "
      ]
     },
     "execution_count": 21,
     "metadata": {},
     "output_type": "execute_result"
    }
   ],
   "source": [
    "# Load a shapefile of NYC boroughs (replace with your shapefile path)\n",
    "nyc_boroughs = gpd.read_file(\"../data/landing/external/geo_export_f16e615f-62c7-40bb-856c-2cccde28f16b.shp\")\n",
    "# check the first 5 rows\n",
    "nyc_boroughs.head(5)"
   ]
  },
  {
   "cell_type": "code",
   "execution_count": null,
   "metadata": {},
   "outputs": [],
   "source": [
    "# Example data extraction for Folium (needs latitude and longitude)\n",
    "# Replace with actual latitude and longitude values for each borough\n",
    "location_data = clean_df.select('PUBorough', 'hourly_trip_count').rdd.map(lambda row: [latitude, longitude, row['hourly_trip_count']]).collect()\n",
    "\n",
    "# Create a map centered on NYC\n",
    "m = folium.Map(location=[40.7128, -74.0060], zoom_start=12)\n",
    "\n",
    "# Add heatmap\n",
    "HeatMap(location_data).add_to(m)\n",
    "\n",
    "# Display the map\n",
    "m\n"
   ]
  },
  {
   "cell_type": "code",
   "execution_count": 22,
   "metadata": {},
   "outputs": [
    {
     "data": {
      "image/png": "[encoded data removed]",
      "text/plain": [
       "<Figure size 640x480 with 2 Axes>"
      ]
     },
     "metadata": {},
     "output_type": "display_data"
    }
   ],
   "source": [
    "# Merge with the aggregated demand data\n",
    "borough_demand = nyc_boroughs.merge(hourly_demand.toPandas(), left_on='borough', right_on='PUBorough')\n",
    "\n",
    "# Plotting the choropleth\n",
    "borough_demand.plot(column='total_hourly_trips', cmap='OrRd', legend=True)\n",
    "plt.title('Hourly Taxi Demand by Borough')\n",
    "plt.show()"
   ]
  },
  {
   "cell_type": "markdown",
   "metadata": {},
   "source": [
    "## Distribution Analysis "
   ]
  },
  {
   "cell_type": "markdown",
   "metadata": {},
   "source": []
  },
  {
   "cell_type": "markdown",
   "metadata": {},
   "source": [
    "## Categorical Data Analysis"
   ]
  },
  {
   "cell_type": "code",
   "execution_count": null,
   "metadata": {},
   "outputs": [],
   "source": []
  },
  {
   "cell_type": "markdown",
   "metadata": {},
   "source": [
    "## Correlation Analysis "
   ]
  },
  {
   "cell_type": "code",
   "execution_count": 31,
   "metadata": {},
   "outputs": [
    {
     "name": "stderr",
     "output_type": "stream",
     "text": [
      "                                                                                \r"
     ]
    }
   ],
   "source": [
    "# Calculate correlation values\n",
    "temp_corr_value = clean_df.stat.corr('TMP', 'hourly_trip_count')\n",
    "vis_corr_value = clean_df.stat.corr('VIS', 'hourly_trip_count')\n",
    "events_corr_value = clean_df.stat.corr('Number of Events', 'hourly_trip_count')"
   ]
  },
  {
   "cell_type": "code",
   "execution_count": 25,
   "metadata": {},
   "outputs": [
    {
     "name": "stderr",
     "output_type": "stream",
     "text": [
      "[Stage 19:===================================================>      (8 + 1) / 9]\r"
     ]
    },
    {
     "name": "stdout",
     "output_type": "stream",
     "text": [
      "+--------------------+--------------------+--------------------+\n",
      "|           temp_corr|            vis_corr|         events_corr|\n",
      "+--------------------+--------------------+--------------------+\n",
      "|-0.14284978763651862|-0.15753141366696694|-0.10885282012569461|\n",
      "+--------------------+--------------------+--------------------+\n",
      "\n"
     ]
    },
    {
     "name": "stderr",
     "output_type": "stream",
     "text": [
      "                                                                                \r"
     ]
    }
   ],
   "source": [
    "# Calculate correlation between weather variables and hourly demand\n",
    "correlations = clean_df.select(\n",
    "    F.corr('TMP', 'hourly_trip_count').alias('temp_corr'),\n",
    "    F.corr('VIS', 'hourly_trip_count').alias('vis_corr'),\n",
    "    F.corr('Number of Events', 'hourly_trip_count').alias('events_corr')\n",
    ")\n",
    "\n",
    "# Show correlation results\n",
    "correlations.show()"
   ]
  },
  {
   "cell_type": "code",
   "execution_count": 32,
   "metadata": {},
   "outputs": [
    {
     "data": {
      "image/png": "[encoded data removed]",
      "text/plain": [
       "<Figure size 640x480 with 1 Axes>"
      ]
     },
     "metadata": {},
     "output_type": "display_data"
    }
   ],
   "source": [
    "# Example correlation values (replace with actual values from the previous step)\n",
    "correlations = {\n",
    "    'Temperature': temp_corr_value,\n",
    "    'Visibility': vis_corr_value,\n",
    "    'Events': events_corr_value\n",
    "}\n",
    "\n",
    "plt.bar(correlations.keys(), correlations.values())\n",
    "plt.title('Correlation of Weather and Events with Taxi Demand')\n",
    "plt.xlabel('Factors')\n",
    "plt.ylabel('Correlation')\n",
    "plt.show()"
   ]
  },
  {
   "cell_type": "markdown",
   "metadata": {},
   "source": [
    "## Bivariate Analysis"
   ]
  },
  {
   "cell_type": "code",
   "execution_count": null,
   "metadata": {},
   "outputs": [],
   "source": []
  }
 ],
 "metadata": {
  "kernelspec": {
   "display_name": "Python 3",
   "language": "python",
   "name": "python3"
  },
  "language_info": {
   "codemirror_mode": {
    "name": "ipython",
    "version": 3
   },
   "file_extension": ".py",
   "mimetype": "text/x-python",
   "name": "python",
   "nbconvert_exporter": "python",
   "pygments_lexer": "ipython3",
   "version": "3.12.1"
  }
 },
 "nbformat": 4,
 "nbformat_minor": 2
}
