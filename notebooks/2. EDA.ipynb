{
 "cells": [
  {
   "cell_type": "markdown",
   "metadata": {},
   "source": [
    "# Exploratary data analysis "
   ]
  },
  {
   "cell_type": "code",
   "execution_count": 2,
   "metadata": {},
   "outputs": [],
   "source": [
    "from pyspark.sql import functions as F\n",
    "from pyspark.sql import SparkSession\n",
    "from pyspark.sql.functions import *\n",
    "import matplotlib.pyplot as plt\n",
    "import pandas as pd\n",
    "import numpy as np\n",
    "import seaborn as sbs\n",
    "import geopandas as gpd\n",
    "import folium "
   ]
  },
  {
   "cell_type": "code",
   "execution_count": 3,
   "metadata": {},
   "outputs": [
    {
     "name": "stderr",
     "output_type": "stream",
     "text": [
      "24/08/28 14:59:40 WARN Utils: Your hostname, Hanshis-Laptop.local resolves to a loopback address: 127.0.0.1; using 100.94.176.147 instead (on interface en0)\n",
      "24/08/28 14:59:40 WARN Utils: Set SPARK_LOCAL_IP if you need to bind to another address\n",
      "Setting default log level to \"WARN\".\n",
      "To adjust logging level use sc.setLogLevel(newLevel). For SparkR, use setLogLevel(newLevel).\n",
      "24/08/28 14:59:41 WARN NativeCodeLoader: Unable to load native-hadoop library for your platform... using builtin-java classes where applicable\n",
      "24/08/28 14:59:41 WARN Utils: Service 'SparkUI' could not bind on port 4040. Attempting port 4041.\n",
      "24/08/28 14:59:41 WARN Utils: Service 'SparkUI' could not bind on port 4041. Attempting port 4042.\n",
      "24/08/28 14:59:41 WARN Utils: Service 'SparkUI' could not bind on port 4042. Attempting port 4043.\n"
     ]
    }
   ],
   "source": [
    "from pyspark.sql import SparkSession\n",
    "\n",
    "# Create a spark session with increased memory allocation\n",
    "spark = (\n",
    "    SparkSession.builder.appName(\"ADS Project1\")\n",
    "    .config(\"spark.sql.repl.eagerEval.enabled\", True) \n",
    "    .config(\"spark.sql.parquet.cacheMetadata\", \"true\")\n",
    "    .config(\"spark.sql.session.timeZone\", \"Etc/UTC\")\n",
    "    .config(\"spark.driver.memory\", \"8g\")  # Set the driver memory to 8GB\n",
    "    .config(\"spark.executor.memory\", \"8g\")  # Set the executor memory to 8GB\n",
    "    .getOrCreate()\n",
    ")"
   ]
  },
  {
   "cell_type": "code",
   "execution_count": 4,
   "metadata": {},
   "outputs": [],
   "source": [
    "spark.conf.set(\"spark.sql.parquet.compression.codec\",\"gzip\")"
   ]
  },
  {
   "cell_type": "code",
   "execution_count": 7,
   "metadata": {},
   "outputs": [
    {
     "name": "stderr",
     "output_type": "stream",
     "text": [
      "                                                                                \r"
     ]
    }
   ],
   "source": [
    "# Load the data\n",
    "df = spark.read.parquet(\"../data/curated/tlc_data/first_cleaned.parquet/\")"
   ]
  },
  {
   "cell_type": "markdown",
   "metadata": {},
   "source": [
    "## Summary Statistics "
   ]
  },
  {
   "cell_type": "code",
   "execution_count": 8,
   "metadata": {},
   "outputs": [
    {
     "name": "stderr",
     "output_type": "stream",
     "text": [
      "24/08/28 15:00:02 WARN SparkStringUtils: Truncated the string representation of a plan since it was too large. This behavior can be adjusted by setting 'spark.sql.debug.maxToStringFields'.\n",
      "[Stage 1:====================================================>      (8 + 1) / 9]\r"
     ]
    },
    {
     "name": "stdout",
     "output_type": "stream",
     "text": [
      "Remaining rows after dropping missing values: 21959390 out of 22294112\n",
      "Percentage of rows remaining: 98.50%\n"
     ]
    },
    {
     "name": "stderr",
     "output_type": "stream",
     "text": [
      "                                                                                \r"
     ]
    }
   ],
   "source": [
    "# Drop rows with any missing values\n",
    "clean_df = df.dropna()\n",
    "\n",
    "# Check the number of remaining rows\n",
    "remaining_rows = clean_df.count()\n",
    "total_rows = df.count()\n",
    "\n",
    "print(f\"Remaining rows after dropping missing values: {remaining_rows} out of {total_rows}\")\n",
    "# print percentage of rows remaining\n",
    "print(f\"Percentage of rows remaining: {remaining_rows/total_rows*100:.2f}%\")\n"
   ]
  },
  {
   "cell_type": "code",
   "execution_count": 9,
   "metadata": {},
   "outputs": [
    {
     "name": "stdout",
     "output_type": "stream",
     "text": [
      "root\n",
      " |-- DOLocationID: integer (nullable = true)\n",
      " |-- PULocationID: integer (nullable = true)\n",
      " |-- pickup_date: date (nullable = true)\n",
      " |-- pickup_hour: integer (nullable = true)\n",
      " |-- dropoff_date: date (nullable = true)\n",
      " |-- dropoff_hour: integer (nullable = true)\n",
      " |-- VendorID: integer (nullable = true)\n",
      " |-- passenger_count: long (nullable = true)\n",
      " |-- trip_distance: double (nullable = true)\n",
      " |-- trip_duration: double (nullable = true)\n",
      " |-- RatecodeID: long (nullable = true)\n",
      " |-- store_and_fwd_flag: boolean (nullable = true)\n",
      " |-- PUBorough: string (nullable = true)\n",
      " |-- DOBorough: string (nullable = true)\n",
      " |-- payment_type: long (nullable = true)\n",
      " |-- fare_amount: double (nullable = true)\n",
      " |-- extra: double (nullable = true)\n",
      " |-- mta_tax: double (nullable = true)\n",
      " |-- tip_amount: double (nullable = true)\n",
      " |-- tolls_amount: double (nullable = true)\n",
      " |-- improvement_surcharge: double (nullable = true)\n",
      " |-- total_amount: double (nullable = true)\n",
      " |-- congestion_surcharge: double (nullable = true)\n",
      " |-- ehail_fee: double (nullable = true)\n",
      " |-- hourly_trip_count: long (nullable = true)\n",
      " |-- daily_trip_count: long (nullable = true)\n",
      " |-- CIG: double (nullable = true)\n",
      " |-- WND: double (nullable = true)\n",
      " |-- VIS: double (nullable = true)\n",
      " |-- TMP: double (nullable = true)\n",
      " |-- DEW: double (nullable = true)\n",
      " |-- SLP: double (nullable = true)\n",
      " |-- Number of Events: long (nullable = true)\n",
      "\n"
     ]
    }
   ],
   "source": [
    "# print the schema\n",
    "clean_df.printSchema()"
   ]
  },
  {
   "cell_type": "code",
   "execution_count": 30,
   "metadata": {},
   "outputs": [
    {
     "name": "stderr",
     "output_type": "stream",
     "text": [
      "[Stage 56:>                                                         (0 + 1) / 1]\r"
     ]
    },
    {
     "name": "stdout",
     "output_type": "stream",
     "text": [
      "+-------+------------------+------------------+------------------+------------------+-------------------+------------------+-----------------+------------------+------------------+-------------+-------------+-------------------+------------------+------------------+-------------------+-----------------+------------------+---------------------+------------------+--------------------+---------+-----------------+------------------+------------------+------------------+------------------+------------------+------------------+------------------+-----------------+\n",
      "|summary|      DOLocationID|      PULocationID|       pickup_hour|      dropoff_hour|           VendorID|   passenger_count|    trip_distance|     trip_duration|        RatecodeID|    PUBorough|    DOBorough|       payment_type|       fare_amount|             extra|            mta_tax|       tip_amount|      tolls_amount|improvement_surcharge|      total_amount|congestion_surcharge|ehail_fee|hourly_trip_count|  daily_trip_count|               CIG|               WND|               VIS|               TMP|               DEW|               SLP| Number of Events|\n",
      "+-------+------------------+------------------+------------------+------------------+-------------------+------------------+-----------------+------------------+------------------+-------------+-------------+-------------------+------------------+------------------+-------------------+-----------------+------------------+---------------------+------------------+--------------------+---------+-----------------+------------------+------------------+------------------+------------------+------------------+------------------+------------------+-----------------+\n",
      "|  count|          21959390|          21959390|          21959390|          21959390|           21959390|          21959390|         21959390|          21959390|          21959390|     21959390|     21959390|           21959390|          21959390|          21959390|           21959390|         21959390|          21959390|             21959390|          21959390|            21959390| 21959390|         21959390|          21959390|          21959390|          21959390|          21959390|          21959390|          21959390|          21959390|         21959390|\n",
      "|   mean|164.05979988515165|165.79646561220508|14.303698964315494|14.382316084372107|  1.773399352167797|1.3637651136939597| 3.36473631280149|16.406419895998933|1.0516514347620767|         NULL|         NULL| 1.1802521836899842|19.255887005058277|1.5779145431635415| 0.4973826977889641|3.692912617337628|0.5908316137170194|     0.99990068940895|28.566489811405525|    2.36114210139717|      0.0|  5118.5741827528| 94374.34673586107| 9874.957886216329|109.98273459605441|1623.1892101778967|12.731451620484474|11.970915225815274|3275.7357104199477|2.268360459921701|\n",
      "| stddev| 68.88358820115424| 62.90992324271366| 5.595791591404132|5.6997231993572335|0.41863206066305736|0.8429311386111916|4.277067031768089|12.617173227052241| 0.281152283896952|         NULL|         NULL|0.44889602898371134|16.306918783047543|1.8362747307960003|0.03718604013819404|3.906192160265185|2.1752056944106295| 0.008502618249416396|21.224516769951638|  0.5725929684412006|      0.0|1586.527851375122|13220.054645121774|11875.131876995543| 308.5107322800287| 5817.352872026445| 58.53447608381071| 98.82077788046726|3898.2901630926813|4.912465603862915|\n",
      "|    min|                 1|                 1|                 0|                 0|                  1|                 1|              0.5|               1.0|                 1|        Bronx|        Bronx|                  1|               3.0|               0.0|                0.0|              0.0|               0.0|                  0.0|               4.0|                 0.0|      0.0|              108|             38951|              61.0|               1.5|              40.2|              -8.3|             -19.4|             982.1|                0|\n",
      "|    25%|               114|               132|                11|                11|                  2|                 1|              1.1|               8.0|                 1|         NULL|         NULL|                  1|               9.3|               0.0|                0.5|              1.5|               0.0|                  1.0|              16.3|                 2.5|      0.0|             4416|             87202|             396.0|               2.1|             965.6|               5.0|              -3.9|            1012.2|                0|\n",
      "|    50%|               162|               162|                15|                15|                  2|                 1|             1.76|              13.0|                 1|         NULL|         NULL|                  1|              13.5|               1.0|                0.5|              3.0|               0.0|                  1.0|              21.0|                 2.5|      0.0|             5315|             95606|            1829.0|               3.1|            1609.3|               8.9|               3.3|            1019.1|                1|\n",
      "|    75%|               234|               234|                19|                19|                  2|                 1|             3.24|              20.0|                 1|         NULL|         NULL|                  1|              21.2|               2.5|                0.5|             4.54|               0.0|                  1.0|             30.24|                 2.5|      0.0|             6147|            103305|           22000.0|               4.6|            1609.3|              13.9|               7.8|            9999.9|                2|\n",
      "|    max|               263|               263|                23|                23|                  2|                 6|             49.4|             120.0|                 6|Staten Island|Staten Island|                  4|           2320.11|             51.68|              35.84|           999.99|           1702.88|                  1.0|           2372.79|                 2.5|      0.0|             9376|            123379|           99999.0|             999.9|           99999.9|             999.9|             999.9|            9999.9|               53|\n",
      "+-------+------------------+------------------+------------------+------------------+-------------------+------------------+-----------------+------------------+------------------+-------------+-------------+-------------------+------------------+------------------+-------------------+-----------------+------------------+---------------------+------------------+--------------------+---------+-----------------+------------------+------------------+------------------+------------------+------------------+------------------+------------------+-----------------+\n",
      "\n"
     ]
    },
    {
     "name": "stderr",
     "output_type": "stream",
     "text": [
      "                                                                                \r"
     ]
    }
   ],
   "source": [
    "# summary statistics\n",
    "clean_df.summary().show()"
   ]
  },
  {
   "cell_type": "code",
   "execution_count": 29,
   "metadata": {},
   "outputs": [
    {
     "name": "stderr",
     "output_type": "stream",
     "text": [
      "                                                                                \r"
     ]
    },
    {
     "data": {
      "image/png": "[encoded data removed]",
      "text/plain": [
       "<Figure size 1000x600 with 1 Axes>"
      ]
     },
     "metadata": {},
     "output_type": "display_data"
    }
   ],
   "source": [
    "# Generate percentiles\n",
    "percentiles = np.arange(0, 1.01, 0.01).tolist()  # Convert NumPy array to list\n",
    "\n",
    "# Calculate approximate quantiles for trip_distance\n",
    "percentile_trip_distance = clean_df.approxQuantile(\"trip_distance\", percentiles, 0.01)\n",
    "\n",
    "# Plotting the results\n",
    "plt.figure(figsize=(10, 6))\n",
    "plt.plot(percentiles, percentile_trip_distance, marker='o')\n",
    "plt.xlabel('Percentile')\n",
    "plt.ylabel('Trip Distance')\n",
    "plt.title('Percentile Distribution of Trip Distance')\n",
    "plt.grid(True)\n",
    "plt.show()\n"
   ]
  },
  {
   "cell_type": "code",
   "execution_count": null,
   "metadata": {},
   "outputs": [],
   "source": []
  },
  {
   "cell_type": "markdown",
   "metadata": {},
   "source": [
    "## Distribution Analysis "
   ]
  },
  {
   "cell_type": "markdown",
   "metadata": {},
   "source": []
  },
  {
   "cell_type": "markdown",
   "metadata": {},
   "source": [
    "## Categorical Data Analysis"
   ]
  },
  {
   "cell_type": "code",
   "execution_count": null,
   "metadata": {},
   "outputs": [],
   "source": []
  },
  {
   "cell_type": "markdown",
   "metadata": {},
   "source": [
    "## Correlation Analysis "
   ]
  },
  {
   "cell_type": "markdown",
   "metadata": {},
   "source": []
  },
  {
   "cell_type": "markdown",
   "metadata": {},
   "source": [
    "## Bivariate Analysis"
   ]
  },
  {
   "cell_type": "code",
   "execution_count": null,
   "metadata": {},
   "outputs": [],
   "source": []
  }
 ],
 "metadata": {
  "kernelspec": {
   "display_name": "Python 3",
   "language": "python",
   "name": "python3"
  },
  "language_info": {
   "codemirror_mode": {
    "name": "ipython",
    "version": 3
   },
   "file_extension": ".py",
   "mimetype": "text/x-python",
   "name": "python",
   "nbconvert_exporter": "python",
   "pygments_lexer": "ipython3",
   "version": "3.12.1"
  }
 },
 "nbformat": 4,
 "nbformat_minor": 2
}
